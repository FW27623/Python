{
 "cells": [
  {
   "cell_type": "markdown",
   "metadata": {},
   "source": [
    "实验1 数据类型与字符串"
   ]
  },
  {
   "cell_type": "markdown",
   "metadata": {},
   "source": [
    "2.1 请思考 a + b 的值是多少，将计算结果打印出来？"
   ]
  },
  {
   "cell_type": "code",
   "execution_count": 85,
   "metadata": {},
   "outputs": [
    {
     "name": "stdout",
     "output_type": "stream",
     "text": [
      "20.0\n"
     ]
    }
   ],
   "source": [
    "a=10\n",
    "b=10.0\n",
    "print(a+b)"
   ]
  },
  {
   "cell_type": "markdown",
   "metadata": {},
   "source": [
    "2.2 请将浮点数变量 a 转换为整数，并打印输出"
   ]
  },
  {
   "cell_type": "code",
   "execution_count": 86,
   "metadata": {},
   "outputs": [
    {
     "name": "stdout",
     "output_type": "stream",
     "text": [
      "10\n"
     ]
    }
   ],
   "source": [
    "a=10.0\n",
    "print(int(a))"
   ]
  },
  {
   "cell_type": "markdown",
   "metadata": {},
   "source": [
    "2.3 程序输出 5 和 10 的加减乘除的结果。 另外编写 5.0 和 10.0 的加减乘除\n",
    "结果，观测两者结果有什么不同。"
   ]
  },
  {
   "cell_type": "code",
   "execution_count": 5,
   "metadata": {},
   "outputs": [
    {
     "name": "stdout",
     "output_type": "stream",
     "text": [
      "15.0 -5.0 50.0 0.5\n"
     ]
    }
   ],
   "source": [
    "a=5.0\n",
    "b=10.0\n",
    "print(a+b,a-b,a*b,a/b)"
   ]
  },
  {
   "cell_type": "markdown",
   "metadata": {},
   "source": [
    "2.4 计算比较 50-10*2 和(50-10)*2 的不同"
   ]
  },
  {
   "cell_type": "code",
   "execution_count": 87,
   "metadata": {},
   "outputs": [
    {
     "name": "stdout",
     "output_type": "stream",
     "text": [
      "30\n",
      "80\n"
     ]
    }
   ],
   "source": [
    "print(50-10*2)\n",
    "print((50-10)*2)"
   ]
  },
  {
   "cell_type": "markdown",
   "metadata": {},
   "source": [
    "2.5 计算比较 11/2、11%2 和 11//2 的不同"
   ]
  },
  {
   "cell_type": "code",
   "execution_count": 6,
   "metadata": {},
   "outputs": [
    {
     "name": "stdout",
     "output_type": "stream",
     "text": [
      "5.5 1 5\n"
     ]
    }
   ],
   "source": [
    "a=11\n",
    "b=2\n",
    "print(a/b,a%b,a//b)"
   ]
  },
  {
   "cell_type": "markdown",
   "metadata": {},
   "source": [
    "2.6 小明语文 98、 数学 99、 英语 97、 科学 99，请定义 4 个变量记录 4 门课程的成绩，打印输出小明各科的成绩（小明考试语文 xx、 数学 xx、 英语\n",
    "xx、 科学 xx），计算总成绩、平均成绩分别赋值给新的变量，打印输出（小明考\n",
    "试总成绩 xxx、 平均成绩 xx.xx）。"
   ]
  },
  {
   "cell_type": "code",
   "execution_count": 26,
   "metadata": {},
   "outputs": [
    {
     "name": "stdout",
     "output_type": "stream",
     "text": [
      "小明考试语文 98 ,数学 99 ,英语 97 ,科学 99\n",
      "小明考试语文98, 数学99, 英语97, 科学99\n",
      "小明考试总成绩393,平均成绩98.25\n"
     ]
    }
   ],
   "source": [
    "chin=98\n",
    "mat=99\n",
    "eng=97\n",
    "sin=99\n",
    "print('小明考试语文',chin,',数学',mat,',英语',eng,',科学',sin)\n",
    "print('小明考试语文%d, 数学%d, 英语%d, 科学%d'%(chin,mat,eng,sin))\n",
    "total_=chin+mat+eng+sin\n",
    "avar=total_/4\n",
    "print('小明考试总成绩%d,平均成绩%.2f'%(total_,avar))"
   ]
  },
  {
   "cell_type": "markdown",
   "metadata": {},
   "source": [
    "字符串"
   ]
  },
  {
   "cell_type": "markdown",
   "metadata": {},
   "source": [
    "2.7 请定义两个变量，值分别为：电商开设'Python 电商数据分析课程'、Python\n",
    "是\"智能时代\"的必备语言，并打印查看变量值。"
   ]
  },
  {
   "cell_type": "code",
   "execution_count": 14,
   "metadata": {},
   "outputs": [
    {
     "name": "stdout",
     "output_type": "stream",
     "text": [
      "电商开设'Python 电商数据分析课程' Python是\"智能时代\"的必备语言\n"
     ]
    }
   ],
   "source": [
    "a=\"电商开设'Python 电商数据分析课程'\"\n",
    "b='Python是\"智能时代\"的必备语言'\n",
    "print(a,b)"
   ]
  },
  {
   "cell_type": "markdown",
   "metadata": {},
   "source": [
    "2.8 请定义两个变量，值分别为：'疫情'让伦敦进入\"战时状态\"、’化学\\物理\n",
    "任选一门课’，并打印查看变量值。"
   ]
  },
  {
   "cell_type": "code",
   "execution_count": 17,
   "metadata": {},
   "outputs": [
    {
     "name": "stdout",
     "output_type": "stream",
     "text": [
      "'疫情'让伦敦进入\"战时状态\" '化学\\物理任选一门课' '疫情'让伦敦进入\"战时状态\"\n"
     ]
    }
   ],
   "source": [
    "a=''''疫情'让伦敦进入\"战时状态\"'''\n",
    "c='\\'疫情\\'让伦敦进入\"战时状态\"'\n",
    "b=\"'化学\\物理任选一门课'\"\n",
    "print(a,b,c)"
   ]
  },
  {
   "cell_type": "markdown",
   "metadata": {},
   "source": []
  },
  {
   "cell_type": "code",
   "execution_count": 21,
   "metadata": {},
   "outputs": [
    {
     "name": "stdout",
     "output_type": "stream",
     "text": [
      "她说了一串数字：1234567890\n"
     ]
    }
   ],
   "source": [
    "a='1234567890'\n",
    "print('她说了一串数字：%9s'%a)"
   ]
  },
  {
   "cell_type": "markdown",
   "metadata": {},
   "source": [
    "2.9 定义三个变量 name 值为小明、year 值为 2019、rank 值为 15，请输出 2019\n",
    "年小明成绩在全班排第 15 名。将 year 值改为 2020、rank 值改为 10，重新输出。"
   ]
  },
  {
   "cell_type": "code",
   "execution_count": 23,
   "metadata": {},
   "outputs": [
    {
     "name": "stdout",
     "output_type": "stream",
     "text": [
      "2019年小明成绩在全班排名第15名。\n",
      "2020年小明成绩在全班排名第10名。\n"
     ]
    }
   ],
   "source": [
    "name='小明'\n",
    "year=2019\n",
    "rank=15\n",
    "print('%d年%s成绩在全班排名第%d名。'%(year,name,rank))\n",
    "print('%d年%s成绩在全班排名第%d名。'%(year+1,name,rank-5))"
   ]
  },
  {
   "cell_type": "markdown",
   "metadata": {},
   "source": [
    "2.10 小明的成绩从去年的 72 分提升到了今年的 85 分，成绩提升了 xx.x%。\n",
    "请计算小明成绩提升的百分点，并用字符串格式化显示出’xx.x%’，只保留小数\n",
    "点后 1 位。"
   ]
  },
  {
   "cell_type": "code",
   "execution_count": 38,
   "metadata": {},
   "outputs": [
    {
     "name": "stdout",
     "output_type": "stream",
     "text": [
      "小明的成绩提升了15.3 %\n"
     ]
    }
   ],
   "source": [
    "lasty=72\n",
    "nows=85\n",
    "x=(nows-lasty)/nows\n",
    "x*=100\n",
    "print('小明的成绩提升了%2.1f'%x,'%')"
   ]
  },
  {
   "cell_type": "markdown",
   "metadata": {},
   "source": [
    "2.11str = 'abcdefghij'输出字符串第一个字符；输出字符串最后个字符；输出\n",
    "从第三个开始到第五个的字符；输出第一个到倒数第二个的所有字符；输出从前 五个字符；输出从第三个开始的后的所有字符；从索引 1 开始，每隔 2 个字符取出一个字符，直到索引 8 为止；每隔 3 个字符取出一个字符；将字符串倒序输出"
   ]
  },
  {
   "cell_type": "code",
   "execution_count": 47,
   "metadata": {},
   "outputs": [
    {
     "name": "stdout",
     "output_type": "stream",
     "text": [
      "a j cde abcdefghi abcde cdefghij beh aei jihgfedcba\n"
     ]
    }
   ],
   "source": [
    "str='abcdefghij'\n",
    "print(str[0],str[-1],str[2:5],str[0:-1],str[:5],str[2:],str[1:9:3],str[::4],str[::-1])"
   ]
  },
  {
   "cell_type": "markdown",
   "metadata": {},
   "source": [
    "2.12 小明为学校制作了横幅，“热烈欢迎各位同学选择电字商务专业学习”， 不小心把“子”印刷成“字”了，请找出错字位置重新打印。"
   ]
  },
  {
   "cell_type": "code",
   "execution_count": 53,
   "metadata": {},
   "outputs": [
    {
     "name": "stdout",
     "output_type": "stream",
     "text": [
      "“热烈欢迎各位同学选择电子商务专业学习”\n"
     ]
    }
   ],
   "source": [
    "str='“热烈欢迎各位同学选择电字商务专业学习”'\n",
    "print(str.replace('字','子'))"
   ]
  },
  {
   "cell_type": "markdown",
   "metadata": {},
   "source": [
    "2.13 小明写了一个绕口令“粉红墙上画凤凰 粉红墙上画凤凰，凤凰画在粉\n",
    "红墙。”，请帮他计算出“凤凰”在文中的位置。"
   ]
  },
  {
   "cell_type": "code",
   "execution_count": 56,
   "metadata": {},
   "outputs": [
    {
     "name": "stdout",
     "output_type": "stream",
     "text": [
      "6\n",
      "14\n",
      "17\n"
     ]
    }
   ],
   "source": [
    "str='“粉红墙上画凤凰 粉红墙上画凤凰，凤凰画在粉红墙。'\n",
    "index1=str.find('凤凰')\n",
    "print(index1)\n",
    "index2=str.find('凤凰',index1+1)\n",
    "print(index2)\n",
    "index3=str.find('凤凰',index2+1)\n",
    "print(index3)"
   ]
  },
  {
   "cell_type": "markdown",
   "metadata": {},
   "source": [
    "2.14 小明在显示屏打印了欢迎标语“热烈欢迎各位同学来电子商务专业学学 习”，不小心多打了一个“学”字，请帮他修改正确。"
   ]
  },
  {
   "cell_type": "code",
   "execution_count": 74,
   "metadata": {},
   "outputs": [
    {
     "name": "stdout",
     "output_type": "stream",
     "text": [
      "“热烈欢迎各位同学来电子商务专业学习”\n"
     ]
    }
   ],
   "source": [
    "str='“热烈欢迎各位同学来电子商务专业学学习”'\n",
    "index1=str.find('学')\n",
    "index2=str.find('学',index1+1)\n",
    "str2=str[0:index2]+'学'+str[index2+2:]\n",
    "print(str2)"
   ]
  },
  {
   "cell_type": "markdown",
   "metadata": {},
   "source": [
    "2.15 请将下面<p>语文</p><p>数学</p><p>英语</p>文本中课程名称提取出\n",
    "来。"
   ]
  },
  {
   "cell_type": "code",
   "execution_count": 84,
   "metadata": {},
   "outputs": [
    {
     "name": "stdout",
     "output_type": "stream",
     "text": [
      "语文</p>数学</p>英语</p>\n",
      "['语文', '数学', '英语', '']\n",
      "语文 数学 英语 \n"
     ]
    }
   ],
   "source": [
    "str='<p>语文</p><p>数学</p><p>英语</p>'\n",
    "list1=str.split('<p>')\n",
    "str2=''.join(list1)\n",
    "print(str2)\n",
    "list2=str2.split('</p>')\n",
    "print(list2)\n",
    "print(' '.join(list2))"
   ]
  },
  {
   "cell_type": "code",
   "execution_count": null,
   "metadata": {},
   "outputs": [],
   "source": []
  }
 ],
 "metadata": {
  "kernelspec": {
   "display_name": "Python 3",
   "language": "python",
   "name": "python3"
  },
  "language_info": {
   "codemirror_mode": {
    "name": "ipython",
    "version": 3
   },
   "file_extension": ".py",
   "mimetype": "text/x-python",
   "name": "python",
   "nbconvert_exporter": "python",
   "pygments_lexer": "ipython3",
   "version": "3.8.5"
  }
 },
 "nbformat": 4,
 "nbformat_minor": 4
}
