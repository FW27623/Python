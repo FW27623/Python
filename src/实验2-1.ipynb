{
 "cells": [
  {
   "cell_type": "markdown",
   "metadata": {
    "collapsed": true,
    "pycharm": {
     "is_executing": true
    }
   },
   "source": [
    "1.科学计算基础库NumPy基本使用\n",
    "（1）分别使用list和arange函数创建一维数组"
   ]
  },
  {
   "cell_type": "code",
   "execution_count": null,
   "metadata": {},
   "outputs": [],
   "source": []
  },
  {
   "cell_type": "markdown",
   "metadata": {},
   "source": [
    "（2）创建一个长度为13的一维数组，完成如下操作：\n",
    "     1）获取第6个元素\n",
    "     2）使用数组切片获取第3到第6个元素\n",
    "     3）使用数组切片获取前5个元素\n",
    "     4）使用数组切片实现数组倒序打印\n",
    "     5）使用数组切片修改第10到第13个元素的值\n",
    "     6）使用数组切片分别将数组中奇数位和偶数位的元素取出"
   ]
  },
  {
   "cell_type": "code",
   "execution_count": null,
   "metadata": {},
   "outputs": [],
   "source": []
  },
  {
   "cell_type": "markdown",
   "metadata": {},
   "source": [
    "（3）创建2个长度相同的一维数组，分别实现两个数组的加、减、乘、除操作"
   ]
  },
  {
   "cell_type": "code",
   "execution_count": null,
   "metadata": {},
   "outputs": [],
   "source": []
  },
  {
   "cell_type": "markdown",
   "metadata": {},
   "source": [
    "（4）创建长度为25的一维数组（元素均为数字型），使用reshape函数将该数组格式转为5行5列的二维数组，求此二维数组全部元素和、最大值、最小值、每行元素最大值、每行元素最小值、每行元素和、每列元素和、每行元素均值、每列元素均值、每行元素标准差、每列元素标准差"
   ]
  },
  {
   "cell_type": "code",
   "execution_count": null,
   "metadata": {},
   "outputs": [],
   "source": []
  },
  {
   "cell_type": "markdown",
   "metadata": {},
   "source": [
    "2.数据处理分析工具Pandas的使用\n",
    "（1）使用默认索引创建一个序列\n",
    "   1）修改序列索引为自定义索引\n",
    "   2）获取索引中全部的值\n",
    "   3）创建一个新的序列，并同时使用定义索引\n",
    "   4）读取任一个值，并修改其值"
   ]
  },
  {
   "cell_type": "code",
   "execution_count": null,
   "metadata": {},
   "outputs": [],
   "source": [
    "# (1)使用默认索引创建一个序列\n",
    "import pandas as pd\n",
    "import numpy as np\n",
    "s = pd.Series(np.random.randn(5))\n",
    "# 1）修改序列索引为自定义索引\n",
    "s.index = ['a', 'b', 'c', 'd', 'e']"
   ]
  },
  {
   "cell_type": "code",
   "execution_count": 36,
   "metadata": {},
   "outputs": [
    {
     "name": "stdout",
     "output_type": "stream",
     "text": [
      "Index(['a', 'b', 'c', 'd', 'e'], dtype='object')\n",
      "a   -0.012380\n",
      "b    0.168640\n",
      "c    1.340711\n",
      "d   -0.214500\n",
      "e    1.843992\n",
      "dtype: float64\n"
     ]
    }
   ],
   "source": [
    "# 2）获取索引中全部的值\n",
    "print(s.index)\n",
    "print(s)"
   ]
  },
  {
   "cell_type": "code",
   "execution_count": 30,
   "metadata": {},
   "outputs": [
    {
     "name": "stdout",
     "output_type": "stream",
     "text": [
      "a   -0.845825\n",
      "b    0.818769\n",
      "c   -0.823270\n",
      "d    1.221869\n",
      "dtype: float64\n"
     ]
    }
   ],
   "source": [
    "#3）创建一个新的序列，并同时使用定义索引\n",
    "s2 = pd.Series(np.random.randn(4), index=['a', 'b', 'c', 'd'])\n",
    "print(s2)"
   ]
  },
  {
   "cell_type": "code",
   "execution_count": 34,
   "metadata": {},
   "outputs": [
    {
     "name": "stdout",
     "output_type": "stream",
     "text": [
      "a    100.000000\n",
      "b      0.103865\n",
      "c     -0.555384\n",
      "d     -1.258830\n",
      "dtype: float64\n"
     ]
    }
   ],
   "source": [
    "# 4）读取任一个值，并修改其值\n",
    "s2['a'] = 100\n",
    "print(s2)"
   ]
  },
  {
   "cell_type": "markdown",
   "metadata": {},
   "source": [
    "（2）分别使用二维数组、字典和文件读取方式创建DataFrame\n",
    "    1）DataFrame至少10行，至少3列\n",
    "    2）分别查看DataFrame的索引、列名和值\n",
    "    3）查看DataFrame的描述性统计结果\n",
    "    4）按照索引排序（升序和降序）\n",
    "    5）按照某一列进行排序（升序和降序）\n",
    "    6）使用列名查看某列的值\n",
    "    7）使用列名同时查看1列以上的值\n",
    "    8）使用loc查看某个值\n",
    "    9）使用loc查看某行和某列的值\n",
    "    10）使用loc查看多行多列的值，如查看3行2列的值\n",
    "    11）使用iloc查看某个值\n",
    "    12）使用iloc查看某行和某列的值\n",
    "    13）使用iloc查看多行多列的值，如查看3行2列的值\n",
    "    14）为该DataFrame增加一个新列，且列值中存在小于0的数\n",
    "    15）获取新列中所有大于0的数\n",
    "    16）计算新列的和\n",
    "    17）计算新列的平均值"
   ]
  },
  {
   "cell_type": "code",
   "execution_count": 1,
   "metadata": {},
   "outputs": [
    {
     "name": "stdout",
     "output_type": "stream",
     "text": [
      "          A         B         C\n",
      "0 -0.962148 -0.369823  1.940239\n",
      "1 -0.517202 -1.482709  0.621732\n",
      "2 -0.691356 -0.173881 -0.247408\n",
      "3  0.930669 -0.426987  0.854816\n",
      "4 -1.346236 -0.162574 -0.489376\n",
      "5  0.779465  0.977747  0.877216\n",
      "6  1.491483 -0.166809  0.302721\n",
      "7  0.629073 -0.668528  1.301942\n",
      "8  0.461746  1.367629  0.776181\n",
      "9  1.282615  0.173763 -1.492417\n"
     ]
    }
   ],
   "source": [
    "# 1）DataFrame至少10行，至少3列\n",
    "import pandas as pd\n",
    "import numpy as np\n",
    "df = pd.DataFrame(np.random.randn(10,3),index=list(range(0,10)),columns=list('ABC'))\n",
    "print(df)"
   ]
  },
  {
   "cell_type": "code",
   "execution_count": 2,
   "metadata": {},
   "outputs": [
    {
     "name": "stdout",
     "output_type": "stream",
     "text": [
      "Int64Index([0, 1, 2, 3, 4, 5, 6, 7, 8, 9], dtype='int64')\n",
      "Index(['A', 'B', 'C'], dtype='object')\n"
     ]
    }
   ],
   "source": [
    "# 2)DataFrame至少10行，至少3列\n",
    "print(df.index)\n",
    "print(df.columns)"
   ]
  },
  {
   "cell_type": "code",
   "execution_count": 3,
   "metadata": {},
   "outputs": [
    {
     "name": "stdout",
     "output_type": "stream",
     "text": [
      "               A          B          C\n",
      "count  10.000000  10.000000  10.000000\n",
      "mean    0.205811  -0.093217   0.444565\n",
      "std     1.000680   0.804061   0.977075\n",
      "min    -1.346236  -1.482709  -1.492417\n",
      "25%    -0.647817  -0.412696  -0.109876\n",
      "50%     0.545410  -0.170345   0.698957\n",
      "75%     0.892868   0.089679   0.871616\n",
      "max     1.491483   1.367629   1.940239\n"
     ]
    }
   ],
   "source": [
    "# 3）查看DataFrame的描述性统计结果\n",
    "print(df.describe())"
   ]
  },
  {
   "cell_type": "code",
   "execution_count": 4,
   "metadata": {},
   "outputs": [
    {
     "name": "stdout",
     "output_type": "stream",
     "text": [
      "          A         B         C\n",
      "0 -0.962148 -0.369823  1.940239\n",
      "1 -0.517202 -1.482709  0.621732\n",
      "2 -0.691356 -0.173881 -0.247408\n",
      "3  0.930669 -0.426987  0.854816\n",
      "4 -1.346236 -0.162574 -0.489376\n",
      "5  0.779465  0.977747  0.877216\n",
      "6  1.491483 -0.166809  0.302721\n",
      "7  0.629073 -0.668528  1.301942\n",
      "8  0.461746  1.367629  0.776181\n",
      "9  1.282615  0.173763 -1.492417\n",
      "          C         B         A\n",
      "0  1.940239 -0.369823 -0.962148\n",
      "1  0.621732 -1.482709 -0.517202\n",
      "2 -0.247408 -0.173881 -0.691356\n",
      "3  0.854816 -0.426987  0.930669\n",
      "4 -0.489376 -0.162574 -1.346236\n",
      "5  0.877216  0.977747  0.779465\n",
      "6  0.302721 -0.166809  1.491483\n",
      "7  1.301942 -0.668528  0.629073\n",
      "8  0.776181  1.367629  0.461746\n",
      "9 -1.492417  0.173763  1.282615\n"
     ]
    }
   ],
   "source": [
    "# 4）按照索引排序（升序和降序）\n",
    "#按照索引排序（升序）\n",
    "print(df.sort_index())\n",
    "#按照索引排序（降序）\n",
    "print(df.sort_index(ascending=False))"
   ]
  },
  {
   "cell_type": "code",
   "execution_count": 5,
   "metadata": {},
   "outputs": [
    {
     "name": "stdout",
     "output_type": "stream",
     "text": [
      "          A         B         C\n",
      "4 -1.346236 -0.162574 -0.489376\n",
      "0 -0.962148 -0.369823  1.940239\n",
      "2 -0.691356 -0.173881 -0.247408\n",
      "1 -0.517202 -1.482709  0.621732\n",
      "8  0.461746  1.367629  0.776181\n",
      "7  0.629073 -0.668528  1.301942\n",
      "5  0.779465  0.977747  0.877216\n",
      "3  0.930669 -0.426987  0.854816\n",
      "9  1.282615  0.173763 -1.492417\n",
      "6  1.491483 -0.166809  0.302721\n",
      "          A         B         C\n",
      "6  1.491483 -0.166809  0.302721\n",
      "9  1.282615  0.173763 -1.492417\n",
      "3  0.930669 -0.426987  0.854816\n",
      "5  0.779465  0.977747  0.877216\n",
      "7  0.629073 -0.668528  1.301942\n",
      "8  0.461746  1.367629  0.776181\n",
      "1 -0.517202 -1.482709  0.621732\n",
      "2 -0.691356 -0.173881 -0.247408\n",
      "0 -0.962148 -0.369823  1.940239\n",
      "4 -1.346236 -0.162574 -0.489376\n"
     ]
    }
   ],
   "source": [
    "#5 )按照某一列进行排序（升序和降序）\n",
    "#按照A列排序（升序）\n",
    "print(df.sort_values(by='A'))\n",
    "#按照A列排序（降序）\n",
    "print(df.sort_values(by='A',ascending=False))"
   ]
  },
  {
   "cell_type": "code",
   "execution_count": 6,
   "metadata": {},
   "outputs": [
    {
     "name": "stdout",
     "output_type": "stream",
     "text": [
      "0   -0.962148\n",
      "1   -0.517202\n",
      "2   -0.691356\n",
      "3    0.930669\n",
      "4   -1.346236\n",
      "5    0.779465\n",
      "6    1.491483\n",
      "7    0.629073\n",
      "8    0.461746\n",
      "9    1.282615\n",
      "Name: A, dtype: float64\n"
     ]
    }
   ],
   "source": [
    "#6) 使用列名查看A列的值\n",
    "print(df.A)"
   ]
  },
  {
   "cell_type": "code",
   "execution_count": 8,
   "metadata": {},
   "outputs": [
    {
     "name": "stdout",
     "output_type": "stream",
     "text": [
      "0   -0.962148\n",
      "1   -0.517202\n",
      "2   -0.691356\n",
      "3    0.930669\n",
      "4   -1.346236\n",
      "5    0.779465\n",
      "6    1.491483\n",
      "7    0.629073\n",
      "8    0.461746\n",
      "9    1.282615\n",
      "Name: A, dtype: float64 0   -0.369823\n",
      "1   -1.482709\n",
      "2   -0.173881\n",
      "3   -0.426987\n",
      "4   -0.162574\n",
      "5    0.977747\n",
      "6   -0.166809\n",
      "7   -0.668528\n",
      "8    1.367629\n",
      "9    0.173763\n",
      "Name: B, dtype: float64\n"
     ]
    }
   ],
   "source": [
    "# 7）使用列名查看A列和B列的值\n",
    "print(df.A,df.B)"
   ]
  },
  {
   "cell_type": "code",
   "execution_count": 15,
   "metadata": {},
   "outputs": [
    {
     "name": "stdout",
     "output_type": "stream",
     "text": [
      "-0.9621478173492252\n"
     ]
    }
   ],
   "source": [
    "# 8）使用loc查看某个值\n",
    "print(df.loc[0,'A'])"
   ]
  },
  {
   "cell_type": "code",
   "execution_count": 16,
   "metadata": {},
   "outputs": [
    {
     "name": "stdout",
     "output_type": "stream",
     "text": [
      "A   -0.517202\n",
      "B   -1.482709\n",
      "C    0.621732\n",
      "Name: 1, dtype: float64\n",
      "0    1.940239\n",
      "1    0.621732\n",
      "2   -0.247408\n",
      "3    0.854816\n",
      "4   -0.489376\n",
      "5    0.877216\n",
      "6    0.302721\n",
      "7    1.301942\n",
      "8    0.776181\n",
      "9   -1.492417\n",
      "Name: C, dtype: float64\n"
     ]
    }
   ],
   "source": [
    "# 9）使用loc查看2行和3列的值\n",
    "#使用loc查看第2行的值\n",
    "print(df.loc[1])\n",
    "#使用loc查看第三列的值\n",
    "print(df.loc[:,'C'])"
   ]
  },
  {
   "cell_type": "code",
   "execution_count": 17,
   "metadata": {},
   "outputs": [
    {
     "name": "stdout",
     "output_type": "stream",
     "text": [
      "0.6217318755230786\n"
     ]
    }
   ],
   "source": [
    "# 10）使用loc查看多行多列的值，如查看3行2列的值\n",
    "print(df.loc[1,'C'])"
   ]
  },
  {
   "cell_type": "code",
   "execution_count": 18,
   "metadata": {},
   "outputs": [
    {
     "name": "stdout",
     "output_type": "stream",
     "text": [
      "-0.9621478173492252\n"
     ]
    }
   ],
   "source": [
    "# 11）使用iloc查看某个值\n",
    "print(df.iloc[0,0])"
   ]
  },
  {
   "cell_type": "code",
   "execution_count": 19,
   "metadata": {},
   "outputs": [
    {
     "name": "stdout",
     "output_type": "stream",
     "text": [
      "A   -0.691356\n",
      "B   -0.173881\n",
      "C   -0.247408\n",
      "Name: 2, dtype: float64\n",
      "0   -0.369823\n",
      "1   -1.482709\n",
      "2   -0.173881\n",
      "3   -0.426987\n",
      "4   -0.162574\n",
      "5    0.977747\n",
      "6   -0.166809\n",
      "7   -0.668528\n",
      "8    1.367629\n",
      "9    0.173763\n",
      "Name: B, dtype: float64\n"
     ]
    }
   ],
   "source": [
    "# 12）使用iloc查看第三行的值和第二列的值\n",
    "print(df.iloc[2])\n",
    "print(df.iloc[:,1])"
   ]
  },
  {
   "cell_type": "code",
   "execution_count": 20,
   "metadata": {},
   "outputs": [
    {
     "name": "stdout",
     "output_type": "stream",
     "text": [
      "-0.17388065195655997\n"
     ]
    }
   ],
   "source": [
    "# 13）使用iloc查看第3行第2列的值\n",
    "print(df.iloc[2,1])"
   ]
  },
  {
   "cell_type": "code",
   "execution_count": 22,
   "metadata": {},
   "outputs": [
    {
     "name": "stdout",
     "output_type": "stream",
     "text": [
      "          A         B         C         D\n",
      "0 -0.962148 -0.369823  1.940239  0.355824\n",
      "1 -0.517202 -1.482709  0.621732  0.766860\n",
      "2 -0.691356 -0.173881 -0.247408  0.120213\n",
      "3  0.930669 -0.426987  0.854816 -0.397383\n",
      "4 -1.346236 -0.162574 -0.489376  0.218864\n",
      "5  0.779465  0.977747  0.877216  0.762120\n",
      "6  1.491483 -0.166809  0.302721 -0.248793\n",
      "7  0.629073 -0.668528  1.301942 -0.420553\n",
      "8  0.461746  1.367629  0.776181  0.631498\n",
      "9  1.282615  0.173763 -1.492417  0.222871\n"
     ]
    }
   ],
   "source": [
    "# 14）为该DataFrame增加一个新列，且列值中存在小于0的数\n",
    "df['D'] = df['A']*df['B']\n",
    "print(df)"
   ]
  },
  {
   "cell_type": "code",
   "execution_count": 23,
   "metadata": {},
   "outputs": [
    {
     "name": "stdout",
     "output_type": "stream",
     "text": [
      "          A         B         C         D\n",
      "0 -0.962148 -0.369823  1.940239  0.355824\n",
      "1 -0.517202 -1.482709  0.621732  0.766860\n",
      "2 -0.691356 -0.173881 -0.247408  0.120213\n",
      "4 -1.346236 -0.162574 -0.489376  0.218864\n",
      "5  0.779465  0.977747  0.877216  0.762120\n",
      "8  0.461746  1.367629  0.776181  0.631498\n",
      "9  1.282615  0.173763 -1.492417  0.222871\n"
     ]
    }
   ],
   "source": [
    "# 15）获取新列中所有大于0的数\n",
    "print(df[df['D']>0])"
   ]
  },
  {
   "cell_type": "code",
   "execution_count": 24,
   "metadata": {},
   "outputs": [
    {
     "name": "stdout",
     "output_type": "stream",
     "text": [
      "2.0115206711252984\n"
     ]
    }
   ],
   "source": [
    "# 16）计算新列的和\n",
    "print(df['D'].sum())"
   ]
  },
  {
   "cell_type": "code",
   "execution_count": 25,
   "metadata": {},
   "outputs": [
    {
     "name": "stdout",
     "output_type": "stream",
     "text": [
      "0.20115206711252984\n"
     ]
    }
   ],
   "source": [
    "#16）计算新列的平均值\n",
    "print(df['D'].mean())"
   ]
  },
  {
   "cell_type": "markdown",
   "metadata": {},
   "source": [
    "（3）从“exp2_1.csv”读取数据并存入DataFrame df中\n",
    "   1）使用isnull函数查看是否有缺失值\n",
    "   2）将df值存入新的DataFrame df1中，分别使用固定值和列均值填充df1中的缺失值\n",
    "   3）删除df中的缺失值：行都为空时删除；行中只要有空值就删除该行\n",
    "   4）将df和df1使用concat方法拼接\n",
    "   5）使用merge函数分别将df和df1左合并、右合并、内关联、外关联"
   ]
  },
  {
   "cell_type": "code",
   "execution_count": 6,
   "metadata": {},
   "outputs": [],
   "source": [
    "# (3)从“exp2_1.csv”读取数据并存入DataFrame df中\n",
    "import pandas as pd\n",
    "import numpy as np\n",
    "df=pd.read_csv('exp2_1.csv')"
   ]
  },
  {
   "cell_type": "code",
   "execution_count": 9,
   "metadata": {},
   "outputs": [
    {
     "name": "stdout",
     "output_type": "stream",
     "text": [
      "   Unnamed: 0      A      B      C      D      F      E\n",
      "0       False  False  False  False  False   True  False\n",
      "1       False  False  False  False  False  False  False\n",
      "2       False  False  False  False  False  False   True\n",
      "3       False  False  False  False  False  False   True\n",
      "Unnamed: 0    0\n",
      "A             0\n",
      "B             0\n",
      "C             0\n",
      "D             0\n",
      "F             1\n",
      "E             2\n",
      "dtype: int64\n"
     ]
    }
   ],
   "source": [
    "# 1）使用isnull函数查看是否有缺失值\n",
    "print(df.isnull())\n",
    "print(df.isnull().sum())"
   ]
  },
  {
   "cell_type": "code",
   "execution_count": 17,
   "metadata": {},
   "outputs": [
    {
     "name": "stdout",
     "output_type": "stream",
     "text": [
      "   Unnamed: 0         A         B         C         D    F    E\n",
      "0  2013-01-01 -0.272512 -0.209595 -1.124105 -1.165750  NaN  1.0\n",
      "1  2013-01-02 -0.038412 -0.251537 -1.375393  0.400489  1.0  1.0\n",
      "2  2013-01-03  0.047367 -0.550628  1.044791  0.283603  2.0  NaN\n",
      "3  2013-01-04  0.468298 -1.900149  1.807120  0.952626  3.0  NaN\n",
      "   Unnamed: 0         A         B         C         D    F    E\n",
      "0  2013-01-01 -0.272512 -0.209595 -1.124105 -1.165750  2.0  1.0\n",
      "1  2013-01-02 -0.038412 -0.251537 -1.375393  0.400489  1.0  1.0\n",
      "2  2013-01-03  0.047367 -0.550628  1.044791  0.283603  2.0  1.0\n",
      "3  2013-01-04  0.468298 -1.900149  1.807120  0.952626  3.0  1.0\n"
     ]
    },
    {
     "name": "stderr",
     "output_type": "stream",
     "text": [
      "C:\\Users\\FangWei\\AppData\\Local\\Temp\\ipykernel_17076\\1242056659.py:2: FutureWarning: Dropping of nuisance columns in DataFrame reductions (with 'numeric_only=None') is deprecated; in a future version this will raise TypeError.  Select only valid columns before calling the reduction.\n",
      "  df1=df.fillna(df.mean())\n"
     ]
    }
   ],
   "source": [
    "# 2）将df值存入新的DataFrame df1中，分别使用固定值和列均值填充df1中的缺失值\n",
    "df1=df.fillna(df.mean())\n",
    "print(df)\n",
    "print(df1)"
   ]
  },
  {
   "cell_type": "code",
   "execution_count": 19,
   "metadata": {},
   "outputs": [
    {
     "name": "stdout",
     "output_type": "stream",
     "text": [
      "   Unnamed: 0         A         B         C         D    F    E\n",
      "1  2013-01-02 -0.038412 -0.251537 -1.375393  0.400489  1.0  1.0\n"
     ]
    }
   ],
   "source": [
    "# 3）删除df中的缺失值：行都为空时删除；行中只要有空值就删除该行\n",
    "df=df.dropna()\n",
    "print(df)"
   ]
  },
  {
   "cell_type": "markdown",
   "metadata": {},
   "source": [
    "3.可视化分析工具Matplotlib的使用\n",
    "  1）从“exp2_2.csv”读取数据并存入DataFrame data中\n",
    "  2）查看是否有缺失值\n",
    "  3）缺失值填充（任一方法均可）\n",
    "  4）检查并删除重复行\n",
    "  5）使用cut函数将平均得分（vote-average）进行分段，分成0-2、2-4、4-6、6-8、8-10等5段，并将分段后结果存入新列vote_ave_cut\n",
    "  6）按照每个电影平均分vote-average，绘制直方图，表示每个分数出现次数，即每个分数的电影部数\n",
    "  7）按照每个电影平均分vote_ave_cut，绘制直方图，表示每个分数段出现次数，即每个分数段的电影部数\n",
    "  8）找出投票次数（vote_count）排名前8的电影，以该8部电影的vote_cut为X轴，收益（revenue）为Y轴，分别绘制柱状图和线性图\n",
    "  9）绘制收益revenue和预算budget的散点图\n",
    "  10）分别绘制收益revenue和预算budget的箱线图\n",
    "  11）绘制评分（vote_average）和收益（revenue）的散点图\n",
    "  12）教材P120实训：综合性数据可视化\n"
   ]
  },
  {
   "cell_type": "code",
   "execution_count": null,
   "metadata": {},
   "outputs": [],
   "source": []
  }
 ],
 "metadata": {
  "kernelspec": {
   "display_name": "Python 3 (ipykernel)",
   "language": "python",
   "name": "python3"
  },
  "language_info": {
   "codemirror_mode": {
    "name": "ipython",
    "version": 3
   },
   "file_extension": ".py",
   "mimetype": "text/x-python",
   "name": "python",
   "nbconvert_exporter": "python",
   "pygments_lexer": "ipython3",
   "version": "3.10.1"
  }
 },
 "nbformat": 4,
 "nbformat_minor": 1
}