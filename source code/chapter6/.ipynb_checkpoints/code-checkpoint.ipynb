{
 "cells": [
  {
   "cell_type": "markdown",
   "metadata": {},
   "source": [
    "<div align=\"center\"><h1> 第6章&nbsp;&nbsp;基本数据统计分析</h1></div>"
   ]
  },
  {
   "cell_type": "markdown",
   "metadata": {},
   "source": [
    "# 一、说明"
   ]
  },
  {
   "cell_type": "markdown",
   "metadata": {},
   "source": [
    "- 描述：本章源代码。有关勘误和本书常见问题，请点击顶部“常见问题”和“勘误信息”中的访问网站\n",
    "- 作者：方伟（FangWei）\n",
    "- 程序开发环境：Windows DEV Channel , Build 22533.1001 64位\n",
    "- Python版本：64位 3.10.1"
   ]
  },
  {
   "cell_type": "markdown",
   "metadata": {},
   "source": [
    "# 二、程序"
   ]
  },
  {
   "cell_type": "code",
   "execution_count": 1,
   "metadata": {},
   "outputs": [],
   "source": [
    "# 导入库\n",
    "import pandas as pd\n",
    "import numpy as np"
   ]
  },
  {
   "cell_type": "code",
   "execution_count": 2,
   "metadata": {},
   "outputs": [
    {
     "name": "stdout",
     "output_type": "stream",
     "text": [
      "    DATETIME  PROVINCE  CATE  AMOUNT  VISITS  IS_PRO\n",
      "0 2019-04-29        28  南方大区   585.0    2485   False\n",
      "1 2019-02-02        28  北方大区   936.0    4647    True\n",
      "2 2019-09-23        28  北方大区   682.0    6402   False\n"
     ]
    }
   ],
   "source": [
    "# 获取原始数据\n",
    "raw_data = pd.read_excel('demo.xlsx')\n",
    "print(raw_data.head(3))"
   ]
  },
  {
   "cell_type": "markdown",
   "metadata": {},
   "source": [
    "## 6.1 描述性统计分析"
   ]
  },
  {
   "cell_type": "code",
   "execution_count": 3,
   "metadata": {},
   "outputs": [],
   "source": [
    "# 将PROVINCE转换为字符串型\n",
    "raw_data['PROVINCE'] = raw_data['PROVINCE'].astype(str)"
   ]
  },
  {
   "cell_type": "code",
   "execution_count": 4,
   "metadata": {},
   "outputs": [
    {
     "name": "stdout",
     "output_type": "stream",
     "text": [
      "Index(['count', 'unique', 'top', 'freq', 'first', 'last', 'mean', 'std', 'min',\n",
      "       '25%', '50%', '75%', 'max', 'polar_distance', 'IQR', 'days_int',\n",
      "       'dtype', 'all_count'],\n",
      "      dtype='object')\n"
     ]
    }
   ],
   "source": [
    "# 获得描述性统计信息\n",
    "desc_data = raw_data.describe(include='all').T\n",
    "desc_data['polar_distance'] = desc_data['max']- desc_data['min']\n",
    "desc_data['IQR'] = (desc_data['75%']-desc_data['25%'])/2\n",
    "desc_data['days_int'] = desc_data['last']-desc_data['first']\n",
    "desc_data['dtype'] = raw_data.dtypes\n",
    "desc_data['all_count'] = raw_data.shape[0]\n",
    "print(desc_data.columns)"
   ]
  },
  {
   "cell_type": "code",
   "execution_count": 5,
   "metadata": {},
   "outputs": [
    {
     "data": {
      "text/html": [
       "<div>\n",
       "<style scoped>\n",
       "    .dataframe tbody tr th:only-of-type {\n",
       "        vertical-align: middle;\n",
       "    }\n",
       "\n",
       "    .dataframe tbody tr th {\n",
       "        vertical-align: top;\n",
       "    }\n",
       "\n",
       "    .dataframe thead th {\n",
       "        text-align: right;\n",
       "    }\n",
       "</style>\n",
       "<table border=\"1\" class=\"dataframe\">\n",
       "  <thead>\n",
       "    <tr style=\"text-align: right;\">\n",
       "      <th></th>\n",
       "      <th>count</th>\n",
       "      <th>unique</th>\n",
       "      <th>top</th>\n",
       "      <th>freq</th>\n",
       "      <th>first</th>\n",
       "      <th>last</th>\n",
       "      <th>mean</th>\n",
       "      <th>std</th>\n",
       "      <th>min</th>\n",
       "      <th>25%</th>\n",
       "      <th>50%</th>\n",
       "      <th>75%</th>\n",
       "      <th>max</th>\n",
       "      <th>polar_distance</th>\n",
       "      <th>IQR</th>\n",
       "      <th>days_int</th>\n",
       "      <th>dtype</th>\n",
       "      <th>all_count</th>\n",
       "    </tr>\n",
       "  </thead>\n",
       "  <tbody>\n",
       "    <tr>\n",
       "      <th>DATETIME</th>\n",
       "      <td>2136</td>\n",
       "      <td>302</td>\n",
       "      <td>2019-05-01 00:00:00</td>\n",
       "      <td>26</td>\n",
       "      <td>2019-01-02 00:00:00</td>\n",
       "      <td>2019-11-01 00:00:00</td>\n",
       "      <td>NaN</td>\n",
       "      <td>NaN</td>\n",
       "      <td>NaN</td>\n",
       "      <td>NaN</td>\n",
       "      <td>NaN</td>\n",
       "      <td>NaN</td>\n",
       "      <td>NaN</td>\n",
       "      <td>NaN</td>\n",
       "      <td>NaN</td>\n",
       "      <td>303 days</td>\n",
       "      <td>datetime64[ns]</td>\n",
       "      <td>2136</td>\n",
       "    </tr>\n",
       "    <tr>\n",
       "      <th>PROVINCE</th>\n",
       "      <td>2136</td>\n",
       "      <td>23</td>\n",
       "      <td>23</td>\n",
       "      <td>502</td>\n",
       "      <td>NaN</td>\n",
       "      <td>NaN</td>\n",
       "      <td>NaN</td>\n",
       "      <td>NaN</td>\n",
       "      <td>NaN</td>\n",
       "      <td>NaN</td>\n",
       "      <td>NaN</td>\n",
       "      <td>NaN</td>\n",
       "      <td>NaN</td>\n",
       "      <td>NaN</td>\n",
       "      <td>NaN</td>\n",
       "      <td>NaT</td>\n",
       "      <td>object</td>\n",
       "      <td>2136</td>\n",
       "    </tr>\n",
       "    <tr>\n",
       "      <th>CATE</th>\n",
       "      <td>2136</td>\n",
       "      <td>5</td>\n",
       "      <td>北方大区</td>\n",
       "      <td>463</td>\n",
       "      <td>NaN</td>\n",
       "      <td>NaN</td>\n",
       "      <td>NaN</td>\n",
       "      <td>NaN</td>\n",
       "      <td>NaN</td>\n",
       "      <td>NaN</td>\n",
       "      <td>NaN</td>\n",
       "      <td>NaN</td>\n",
       "      <td>NaN</td>\n",
       "      <td>NaN</td>\n",
       "      <td>NaN</td>\n",
       "      <td>NaT</td>\n",
       "      <td>object</td>\n",
       "      <td>2136</td>\n",
       "    </tr>\n",
       "    <tr>\n",
       "      <th>AMOUNT</th>\n",
       "      <td>2136</td>\n",
       "      <td>NaN</td>\n",
       "      <td>NaN</td>\n",
       "      <td>NaN</td>\n",
       "      <td>NaN</td>\n",
       "      <td>NaN</td>\n",
       "      <td>1608.35</td>\n",
       "      <td>1239.32</td>\n",
       "      <td>357</td>\n",
       "      <td>800.35</td>\n",
       "      <td>1243.55</td>\n",
       "      <td>1993.42</td>\n",
       "      <td>14017.5</td>\n",
       "      <td>13660.5</td>\n",
       "      <td>596.538</td>\n",
       "      <td>NaT</td>\n",
       "      <td>float64</td>\n",
       "      <td>2136</td>\n",
       "    </tr>\n",
       "    <tr>\n",
       "      <th>VISITS</th>\n",
       "      <td>2136</td>\n",
       "      <td>NaN</td>\n",
       "      <td>NaN</td>\n",
       "      <td>NaN</td>\n",
       "      <td>NaN</td>\n",
       "      <td>NaN</td>\n",
       "      <td>3881.16</td>\n",
       "      <td>3301.2</td>\n",
       "      <td>557</td>\n",
       "      <td>1717.75</td>\n",
       "      <td>2893</td>\n",
       "      <td>4963.5</td>\n",
       "      <td>35374</td>\n",
       "      <td>34817</td>\n",
       "      <td>1622.88</td>\n",
       "      <td>NaT</td>\n",
       "      <td>int64</td>\n",
       "      <td>2136</td>\n",
       "    </tr>\n",
       "  </tbody>\n",
       "</table>\n",
       "</div>"
      ],
      "text/plain": [
       "         count unique                  top freq                first  \\\n",
       "DATETIME  2136    302  2019-05-01 00:00:00   26  2019-01-02 00:00:00   \n",
       "PROVINCE  2136     23                   23  502                  NaN   \n",
       "CATE      2136      5                 北方大区  463                  NaN   \n",
       "AMOUNT    2136    NaN                  NaN  NaN                  NaN   \n",
       "VISITS    2136    NaN                  NaN  NaN                  NaN   \n",
       "\n",
       "                         last     mean      std  min      25%      50%  \\\n",
       "DATETIME  2019-11-01 00:00:00      NaN      NaN  NaN      NaN      NaN   \n",
       "PROVINCE                  NaN      NaN      NaN  NaN      NaN      NaN   \n",
       "CATE                      NaN      NaN      NaN  NaN      NaN      NaN   \n",
       "AMOUNT                    NaN  1608.35  1239.32  357   800.35  1243.55   \n",
       "VISITS                    NaN  3881.16   3301.2  557  1717.75     2893   \n",
       "\n",
       "              75%      max polar_distance      IQR days_int           dtype  \\\n",
       "DATETIME      NaN      NaN            NaN      NaN 303 days  datetime64[ns]   \n",
       "PROVINCE      NaN      NaN            NaN      NaN      NaT          object   \n",
       "CATE          NaN      NaN            NaN      NaN      NaT          object   \n",
       "AMOUNT    1993.42  14017.5        13660.5  596.538      NaT         float64   \n",
       "VISITS     4963.5    35374          34817  1622.88      NaT           int64   \n",
       "\n",
       "          all_count  \n",
       "DATETIME       2136  \n",
       "PROVINCE       2136  \n",
       "CATE           2136  \n",
       "AMOUNT         2136  \n",
       "VISITS         2136  "
      ]
     },
     "execution_count": 5,
     "metadata": {},
     "output_type": "execute_result"
    }
   ],
   "source": [
    "desc_data.head()"
   ]
  },
  {
   "cell_type": "markdown",
   "metadata": {},
   "source": [
    "### 6.1.1. 通用信息"
   ]
  },
  {
   "cell_type": "code",
   "execution_count": 6,
   "metadata": {},
   "outputs": [
    {
     "name": "stdout",
     "output_type": "stream",
     "text": [
      "          all_count count           dtype\n",
      "DATETIME       2136  2136  datetime64[ns]\n",
      "PROVINCE       2136  2136          object\n",
      "CATE           2136  2136          object\n",
      "AMOUNT         2136  2136         float64\n",
      "VISITS         2136  2136           int64\n",
      "IS_PRO         2136  2136            bool\n"
     ]
    }
   ],
   "source": [
    "# 查看记录数量\n",
    "print(desc_data[['all_count','count','dtype']])"
   ]
  },
  {
   "cell_type": "markdown",
   "metadata": {},
   "source": [
    "### 6.1.2 集中性趋势"
   ]
  },
  {
   "cell_type": "markdown",
   "metadata": {},
   "source": [
    "1. 数值型字段的数值型字段的均值、中位数和四分位数"
   ]
  },
  {
   "cell_type": "code",
   "execution_count": 7,
   "metadata": {},
   "outputs": [
    {
     "name": "stdout",
     "output_type": "stream",
     "text": [
      "            25%      50%      75%     mean\n",
      "AMOUNT   800.35  1243.55  1993.42  1608.35\n",
      "VISITS  1717.75     2893   4963.5  3881.16\n"
     ]
    }
   ],
   "source": [
    "print(desc_data.loc[['AMOUNT','VISITS'],['25%', '50%', '75%','mean']])"
   ]
  },
  {
   "cell_type": "markdown",
   "metadata": {},
   "source": [
    "2. 非数值型字段的唯一值、众数和频数"
   ]
  },
  {
   "cell_type": "code",
   "execution_count": 8,
   "metadata": {},
   "outputs": [
    {
     "name": "stdout",
     "output_type": "stream",
     "text": [
      "         unique                  top  freq\n",
      "DATETIME    302  2019-05-01 00:00:00    26\n",
      "PROVINCE     23                   23   502\n",
      "CATE          5                 北方大区   463\n",
      "IS_PRO        2                 True  1102\n"
     ]
    }
   ],
   "source": [
    "print(desc_data.loc[['DATETIME','PROVINCE','CATE','IS_PRO'],['unique','top','freq']])"
   ]
  },
  {
   "cell_type": "markdown",
   "metadata": {},
   "source": [
    "### 6.1.3 离散性趋势"
   ]
  },
  {
   "cell_type": "markdown",
   "metadata": {},
   "source": [
    "1. 数值型字段的标准差、最小值、最大值、极差、四分位差"
   ]
  },
  {
   "cell_type": "code",
   "execution_count": 9,
   "metadata": {},
   "outputs": [
    {
     "name": "stdout",
     "output_type": "stream",
     "text": [
      "            std  min      max polar_distance      IQR\n",
      "AMOUNT  1239.32  357  14017.5        13660.5  596.538\n",
      "VISITS   3301.2  557    35374          34817  1622.88\n"
     ]
    }
   ],
   "source": [
    "print(desc_data.loc[['AMOUNT','VISITS'],['std','min','max','polar_distance','IQR']])"
   ]
  },
  {
   "cell_type": "markdown",
   "metadata": {},
   "source": [
    "2. 日期型字段的开始日期、结束日期和日期间隔"
   ]
  },
  {
   "cell_type": "code",
   "execution_count": 10,
   "metadata": {},
   "outputs": [
    {
     "name": "stdout",
     "output_type": "stream",
     "text": [
      "                        first                 last days_int\n",
      "DATETIME  2019-01-02 00:00:00  2019-11-01 00:00:00 303 days\n"
     ]
    }
   ],
   "source": [
    "print(desc_data.loc[['DATETIME'],['first','last','days_int']])"
   ]
  },
  {
   "cell_type": "markdown",
   "metadata": {},
   "source": [
    "## 6.2 交叉对比和趋势分析"
   ]
  },
  {
   "cell_type": "markdown",
   "metadata": {},
   "source": [
    "### 6.2.1 交叉对比分析"
   ]
  },
  {
   "cell_type": "code",
   "execution_count": 11,
   "metadata": {},
   "outputs": [
    {
     "data": {
      "text/html": [
       "<div>\n",
       "<style scoped>\n",
       "    .dataframe tbody tr th:only-of-type {\n",
       "        vertical-align: middle;\n",
       "    }\n",
       "\n",
       "    .dataframe tbody tr th {\n",
       "        vertical-align: top;\n",
       "    }\n",
       "\n",
       "    .dataframe thead tr th {\n",
       "        text-align: left;\n",
       "    }\n",
       "\n",
       "    .dataframe thead tr:last-of-type th {\n",
       "        text-align: right;\n",
       "    }\n",
       "</style>\n",
       "<table border=\"1\" class=\"dataframe\">\n",
       "  <thead>\n",
       "    <tr>\n",
       "      <th></th>\n",
       "      <th colspan=\"2\" halign=\"left\">AMOUNT</th>\n",
       "      <th colspan=\"2\" halign=\"left\">VISITS</th>\n",
       "    </tr>\n",
       "    <tr>\n",
       "      <th>IS_PRO</th>\n",
       "      <th>False</th>\n",
       "      <th>True</th>\n",
       "      <th>False</th>\n",
       "      <th>True</th>\n",
       "    </tr>\n",
       "    <tr>\n",
       "      <th>CATE</th>\n",
       "      <th></th>\n",
       "      <th></th>\n",
       "      <th></th>\n",
       "      <th></th>\n",
       "    </tr>\n",
       "  </thead>\n",
       "  <tbody>\n",
       "    <tr>\n",
       "      <th>中部大区</th>\n",
       "      <td>1605.869626</td>\n",
       "      <td>1557.756132</td>\n",
       "      <td>3968.887850</td>\n",
       "      <td>3633.867925</td>\n",
       "    </tr>\n",
       "    <tr>\n",
       "      <th>北方大区</th>\n",
       "      <td>1509.768837</td>\n",
       "      <td>1489.045968</td>\n",
       "      <td>3931.069767</td>\n",
       "      <td>3756.782258</td>\n",
       "    </tr>\n",
       "    <tr>\n",
       "      <th>南方大区</th>\n",
       "      <td>1526.574510</td>\n",
       "      <td>1651.133921</td>\n",
       "      <td>3590.279412</td>\n",
       "      <td>3977.691630</td>\n",
       "    </tr>\n",
       "    <tr>\n",
       "      <th>海外区</th>\n",
       "      <td>1676.751707</td>\n",
       "      <td>1831.289163</td>\n",
       "      <td>4175.390244</td>\n",
       "      <td>4126.527094</td>\n",
       "    </tr>\n",
       "    <tr>\n",
       "      <th>西部大区</th>\n",
       "      <td>1707.751020</td>\n",
       "      <td>1562.301415</td>\n",
       "      <td>3759.954082</td>\n",
       "      <td>3903.882075</td>\n",
       "    </tr>\n",
       "  </tbody>\n",
       "</table>\n",
       "</div>"
      ],
      "text/plain": [
       "             AMOUNT                    VISITS             \n",
       "IS_PRO        False        True         False        True \n",
       "CATE                                                      \n",
       "中部大区    1605.869626  1557.756132  3968.887850  3633.867925\n",
       "北方大区    1509.768837  1489.045968  3931.069767  3756.782258\n",
       "南方大区    1526.574510  1651.133921  3590.279412  3977.691630\n",
       "海外区     1676.751707  1831.289163  4175.390244  4126.527094\n",
       "西部大区    1707.751020  1562.301415  3759.954082  3903.882075"
      ]
     },
     "execution_count": 11,
     "metadata": {},
     "output_type": "execute_result"
    }
   ],
   "source": [
    "# 横向-不同元素的对比\n",
    "raw_data.pivot_table(values=['AMOUNT','VISITS'],index=['CATE'],columns='IS_PRO',aggfunc=np.mean)"
   ]
  },
  {
   "cell_type": "markdown",
   "metadata": {},
   "source": [
    "### 6.2.2 交叉趋势分析"
   ]
  },
  {
   "cell_type": "code",
   "execution_count": 12,
   "metadata": {},
   "outputs": [
    {
     "data": {
      "text/html": [
       "<div>\n",
       "<style scoped>\n",
       "    .dataframe tbody tr th:only-of-type {\n",
       "        vertical-align: middle;\n",
       "    }\n",
       "\n",
       "    .dataframe tbody tr th {\n",
       "        vertical-align: top;\n",
       "    }\n",
       "\n",
       "    .dataframe thead tr th {\n",
       "        text-align: left;\n",
       "    }\n",
       "\n",
       "    .dataframe thead tr:last-of-type th {\n",
       "        text-align: right;\n",
       "    }\n",
       "</style>\n",
       "<table border=\"1\" class=\"dataframe\">\n",
       "  <thead>\n",
       "    <tr>\n",
       "      <th></th>\n",
       "      <th colspan=\"2\" halign=\"left\">AMOUNT</th>\n",
       "      <th colspan=\"2\" halign=\"left\">VISITS</th>\n",
       "    </tr>\n",
       "    <tr>\n",
       "      <th>IS_PRO</th>\n",
       "      <th>False</th>\n",
       "      <th>True</th>\n",
       "      <th>False</th>\n",
       "      <th>True</th>\n",
       "    </tr>\n",
       "    <tr>\n",
       "      <th>MONTH</th>\n",
       "      <th></th>\n",
       "      <th></th>\n",
       "      <th></th>\n",
       "      <th></th>\n",
       "    </tr>\n",
       "  </thead>\n",
       "  <tbody>\n",
       "    <tr>\n",
       "      <th>1</th>\n",
       "      <td>1246.211765</td>\n",
       "      <td>1156.542857</td>\n",
       "      <td>4541.823529</td>\n",
       "      <td>1864.857143</td>\n",
       "    </tr>\n",
       "    <tr>\n",
       "      <th>2</th>\n",
       "      <td>1398.080952</td>\n",
       "      <td>1396.200000</td>\n",
       "      <td>3163.000000</td>\n",
       "      <td>4777.500000</td>\n",
       "    </tr>\n",
       "    <tr>\n",
       "      <th>3</th>\n",
       "      <td>1566.375000</td>\n",
       "      <td>1553.296552</td>\n",
       "      <td>3727.458333</td>\n",
       "      <td>3422.965517</td>\n",
       "    </tr>\n",
       "    <tr>\n",
       "      <th>4</th>\n",
       "      <td>1453.741176</td>\n",
       "      <td>2210.053846</td>\n",
       "      <td>3189.823529</td>\n",
       "      <td>4219.384615</td>\n",
       "    </tr>\n",
       "    <tr>\n",
       "      <th>5</th>\n",
       "      <td>1519.332000</td>\n",
       "      <td>2303.238462</td>\n",
       "      <td>5133.960000</td>\n",
       "      <td>5357.923077</td>\n",
       "    </tr>\n",
       "    <tr>\n",
       "      <th>6</th>\n",
       "      <td>1854.215789</td>\n",
       "      <td>1333.627273</td>\n",
       "      <td>4311.578947</td>\n",
       "      <td>5564.000000</td>\n",
       "    </tr>\n",
       "    <tr>\n",
       "      <th>7</th>\n",
       "      <td>1748.630000</td>\n",
       "      <td>1732.244444</td>\n",
       "      <td>4420.550000</td>\n",
       "      <td>3905.296296</td>\n",
       "    </tr>\n",
       "    <tr>\n",
       "      <th>8</th>\n",
       "      <td>2009.478947</td>\n",
       "      <td>1722.708333</td>\n",
       "      <td>3924.263158</td>\n",
       "      <td>4499.333333</td>\n",
       "    </tr>\n",
       "    <tr>\n",
       "      <th>9</th>\n",
       "      <td>2719.622222</td>\n",
       "      <td>2913.995000</td>\n",
       "      <td>5552.666667</td>\n",
       "      <td>5043.850000</td>\n",
       "    </tr>\n",
       "    <tr>\n",
       "      <th>10</th>\n",
       "      <td>1422.516000</td>\n",
       "      <td>1757.809524</td>\n",
       "      <td>3817.840000</td>\n",
       "      <td>3402.428571</td>\n",
       "    </tr>\n",
       "  </tbody>\n",
       "</table>\n",
       "</div>"
      ],
      "text/plain": [
       "             AMOUNT                    VISITS             \n",
       "IS_PRO        False        True         False        True \n",
       "MONTH                                                     \n",
       "1       1246.211765  1156.542857  4541.823529  1864.857143\n",
       "2       1398.080952  1396.200000  3163.000000  4777.500000\n",
       "3       1566.375000  1553.296552  3727.458333  3422.965517\n",
       "4       1453.741176  2210.053846  3189.823529  4219.384615\n",
       "5       1519.332000  2303.238462  5133.960000  5357.923077\n",
       "6       1854.215789  1333.627273  4311.578947  5564.000000\n",
       "7       1748.630000  1732.244444  4420.550000  3905.296296\n",
       "8       2009.478947  1722.708333  3924.263158  4499.333333\n",
       "9       2719.622222  2913.995000  5552.666667  5043.850000\n",
       "10      1422.516000  1757.809524  3817.840000  3402.428571"
      ]
     },
     "execution_count": 12,
     "metadata": {},
     "output_type": "execute_result"
    }
   ],
   "source": [
    "# 纵向-与自身历史的对比\n",
    "raw_data['MONTH'] = raw_data['DATETIME'].map(lambda i: i.month)\n",
    "overseas_north = raw_data[raw_data['CATE']=='海外区']\n",
    "overseas_north.pivot_table(values=['AMOUNT','VISITS'],index=['MONTH'],columns='IS_PRO',aggfunc=np.mean)"
   ]
  },
  {
   "cell_type": "markdown",
   "metadata": {},
   "source": [
    "## 6.3 结构与贡献累计分析"
   ]
  },
  {
   "cell_type": "markdown",
   "metadata": {},
   "source": [
    "### 6.3.1  结构分析"
   ]
  },
  {
   "cell_type": "code",
   "execution_count": 13,
   "metadata": {},
   "outputs": [
    {
     "name": "stdout",
     "output_type": "stream",
     "text": [
      "   PROVINCE     AMOUNT   VISITS  AMOUNT_PER  VISITS_PER\n",
      "10       23  1196926.5  1504144    0.348407    0.181437\n",
      "18        5   361144.8   865083    0.105124    0.104351\n",
      "5        14   314212.8   619030    0.091463    0.074671\n",
      "13       26    70599.0   606770    0.020550    0.073192\n",
      "11       24    78604.0   521749    0.022880    0.062936\n"
     ]
    }
   ],
   "source": [
    "com_data = raw_data.groupby(['PROVINCE'],as_index=False).sum()\n",
    "com_sort = com_data.sort_values(['VISITS'],ascending=False)\n",
    "amount_sum = com_sort['AMOUNT'].sum()\n",
    "visits_sum = com_sort['VISITS'].sum()\n",
    "com_sort['AMOUNT_PER'] = com_sort['AMOUNT']/amount_sum\n",
    "com_sort['VISITS_PER'] = com_sort['VISITS']/visits_sum\n",
    "print(com_sort.drop(['IS_PRO','MONTH'],axis=1).head())"
   ]
  },
  {
   "cell_type": "markdown",
   "metadata": {},
   "source": [
    "### 6.3.2 二八法则分析"
   ]
  },
  {
   "cell_type": "code",
   "execution_count": 14,
   "metadata": {},
   "outputs": [
    {
     "name": "stdout",
     "output_type": "stream",
     "text": [
      "   PROVINCE  AMOUNT_PER  CUM_AMOUNT_PER\n",
      "10       23        0.35            0.35\n",
      "7        18        0.12            0.47\n",
      "18        5        0.11            0.58\n",
      "5        14        0.09            0.67\n",
      "9        22        0.08            0.75\n"
     ]
    }
   ],
   "source": [
    "amount_data = com_sort.sort_values(['AMOUNT_PER'],ascending=False)\n",
    "amount_data['CUM_AMOUNT_PER'] = amount_data['AMOUNT_PER'].cumsum()\n",
    "print(amount_data[['PROVINCE','AMOUNT_PER','CUM_AMOUNT_PER']].round(2).head())"
   ]
  },
  {
   "cell_type": "code",
   "execution_count": 15,
   "metadata": {},
   "outputs": [
    {
     "name": "stdout",
     "output_type": "stream",
     "text": [
      "   PROVINCE  AMOUNT_PER  CUM_AMOUNT_PER      20_80\n",
      "10       23        0.35            0.35     top20%\n",
      "7        18        0.12            0.47     top20%\n",
      "18        5        0.11            0.58     top20%\n",
      "5        14        0.09            0.67     top20%\n",
      "9        22        0.08            0.75     top20%\n",
      "3        12        0.02            0.78     top20%\n",
      "16        3        0.02            0.80     top20%\n",
      "11       24        0.02            0.82  others80%\n",
      "21        8        0.02            0.84  others80%\n",
      "13       26        0.02            0.86  others80%\n"
     ]
    }
   ],
   "source": [
    "# 二八法则划分\n",
    "#amount_data['20_80'] = ['top20%' if i <=0.8 else 'other80%' for i in amount_data['CUM_AMOUNT_PER']]\n",
    "amount_data['20_80']=pd.cut(amount_data['CUM_AMOUNT_PER'],bins=[0,0.8,1],labels=['top20%','others80%'])\n",
    "print(amount_data[['PROVINCE','AMOUNT_PER','CUM_AMOUNT_PER','20_80']].round(2).head(10))"
   ]
  },
  {
   "cell_type": "markdown",
   "metadata": {},
   "source": [
    "### 6.3.3 ABC分析法"
   ]
  },
  {
   "cell_type": "code",
   "execution_count": 16,
   "metadata": {},
   "outputs": [
    {
     "name": "stdout",
     "output_type": "stream",
     "text": [
      "   PROVINCE  AMOUNT_PER  CUM_AMOUNT_PER      20_80 ABC\n",
      "10       23        0.35            0.35     top20%   A\n",
      "7        18        0.12            0.47     top20%   A\n",
      "18        5        0.11            0.58     top20%   A\n",
      "5        14        0.09            0.67     top20%   A\n",
      "9        22        0.08            0.75     top20%   A\n",
      "3        12        0.02            0.78     top20%   A\n",
      "16        3        0.02            0.80     top20%   A\n",
      "11       24        0.02            0.82  others80%   B\n",
      "21        8        0.02            0.84  others80%   B\n",
      "13       26        0.02            0.86  others80%   B\n",
      "2        11        0.02            0.88  others80%   B\n",
      "4        13        0.02            0.90  others80%   B\n",
      "17        4        0.02            0.92  others80%   B\n",
      "15       28        0.02            0.94  others80%   B\n",
      "20        7        0.02            0.96  others80%   C\n"
     ]
    }
   ],
   "source": [
    "# 二八法则划分\n",
    "amount_data['ABC'] = pd.cut(amount_data['CUM_AMOUNT_PER'],bins=[0,0.8,0.95,1],labels=list('ABC'))\n",
    "print(amount_data[['PROVINCE','AMOUNT_PER','CUM_AMOUNT_PER','20_80','ABC']].round(2).head(15))"
   ]
  },
  {
   "cell_type": "markdown",
   "metadata": {},
   "source": [
    "### 6.3.4 长尾分析"
   ]
  },
  {
   "cell_type": "code",
   "execution_count": 17,
   "metadata": {},
   "outputs": [
    {
     "name": "stdout",
     "output_type": "stream",
     "text": [
      "   PROVINCE  VISITS_PER  CUM_VISITS_PER\n",
      "10       23        0.18            0.18\n",
      "18        5        0.10            0.29\n",
      "5        14        0.07            0.36\n",
      "13       26        0.07            0.43\n",
      "11       24        0.06            0.50\n"
     ]
    }
   ],
   "source": [
    "visits_data = com_sort.sort_values(['VISITS_PER'],ascending=False)\n",
    "visits_data['CUM_VISITS_PER'] = visits_data['VISITS_PER'].cumsum()\n",
    "print(visits_data[['PROVINCE','VISITS_PER','CUM_VISITS_PER']].round(2).head())"
   ]
  },
  {
   "cell_type": "markdown",
   "metadata": {},
   "source": [
    "## 6.4 分组与聚合分析"
   ]
  },
  {
   "cell_type": "markdown",
   "metadata": {},
   "source": [
    "### 6.4.1 使用分位数聚合分析"
   ]
  },
  {
   "cell_type": "code",
   "execution_count": 18,
   "metadata": {},
   "outputs": [
    {
     "name": "stdout",
     "output_type": "stream",
     "text": [
      "   VISITS QUAN_CUT\n",
      "0    2485        A\n",
      "1    4647        A\n",
      "2    6402        A\n",
      "3   19765        B\n",
      "4    2892        A\n"
     ]
    }
   ],
   "source": [
    "agg_data = raw_data.copy()\n",
    "agg_data['QUAN_CUT'] = pd.cut(agg_data['VISITS'],bins=3,labels=list('ABC'))\n",
    "print(agg_data[['VISITS','QUAN_CUT']].head())"
   ]
  },
  {
   "cell_type": "markdown",
   "metadata": {},
   "source": [
    "### 6.4.2 基于均值和标准差的聚合分析"
   ]
  },
  {
   "cell_type": "code",
   "execution_count": 19,
   "metadata": {},
   "outputs": [
    {
     "name": "stdout",
     "output_type": "stream",
     "text": [
      "   VISITS QUAN_CUT CUST_CUT\n",
      "0    2485        A        B\n",
      "1    4647        A        B\n",
      "2    6402        A        B\n",
      "3   19765        B        C\n",
      "4    2892        A        B\n"
     ]
    }
   ],
   "source": [
    "visits_desc = agg_data['VISITS'].describe()\n",
    "min_,mean_,std_,max_ = visits_desc['min'],visits_desc['mean'],visits_desc['std'],visits_desc['max']\n",
    "bins = [min_-1,mean_-std_,mean_+std_,max_+1]\n",
    "agg_data['CUST_CUT'] = pd.cut(agg_data['VISITS'],bins=bins,labels=list('ABC'))\n",
    "print(agg_data[['VISITS','QUAN_CUT','CUST_CUT']].head())"
   ]
  },
  {
   "cell_type": "markdown",
   "metadata": {},
   "source": [
    "## 6.5 相关性分析"
   ]
  },
  {
   "cell_type": "markdown",
   "metadata": {},
   "source": [
    "### 6.5.1 Pearson相关性分析"
   ]
  },
  {
   "cell_type": "code",
   "execution_count": 20,
   "metadata": {
    "scrolled": true
   },
   "outputs": [
    {
     "name": "stdout",
     "output_type": "stream",
     "text": [
      "        AMOUNT  VISITS\n",
      "AMOUNT    1.00    0.27\n",
      "VISITS    0.27    1.00\n"
     ]
    }
   ],
   "source": [
    "cols = ['QUAN_CUT','CUST_CUT']\n",
    "for i in cols:\n",
    "    agg_data[i] = agg_data[i].astype('category')\n",
    "    agg_data[i+'_IND'] = agg_data[i].cat.codes\n",
    "print(agg_data[['AMOUNT','VISITS']].corr(method='pearson').round(2))"
   ]
  },
  {
   "cell_type": "markdown",
   "metadata": {},
   "source": [
    "### 6.5.2 Spearman相关性分析"
   ]
  },
  {
   "cell_type": "code",
   "execution_count": 21,
   "metadata": {},
   "outputs": [
    {
     "name": "stdout",
     "output_type": "stream",
     "text": [
      "              QUAN_CUT_IND  CUST_CUT_IND\n",
      "QUAN_CUT_IND          1.00          0.47\n",
      "CUST_CUT_IND          0.47          1.00\n"
     ]
    }
   ],
   "source": [
    "print(agg_data[['QUAN_CUT_IND','CUST_CUT_IND']].corr(method='spearman').round(2))"
   ]
  },
  {
   "cell_type": "markdown",
   "metadata": {},
   "source": [
    "### 6.5.3 Kendall相关性分析"
   ]
  },
  {
   "cell_type": "code",
   "execution_count": 22,
   "metadata": {},
   "outputs": [
    {
     "name": "stdout",
     "output_type": "stream",
     "text": [
      "              QUAN_CUT_IND  CUST_CUT_IND\n",
      "QUAN_CUT_IND          1.00          0.47\n",
      "CUST_CUT_IND          0.47          1.00\n"
     ]
    }
   ],
   "source": [
    "print(agg_data[['QUAN_CUT_IND','CUST_CUT_IND']].corr(method='kendall').round(2))"
   ]
  },
  {
   "cell_type": "markdown",
   "metadata": {},
   "source": [
    "## 6.6 主成分分析与因子分析"
   ]
  },
  {
   "cell_type": "code",
   "execution_count": 23,
   "metadata": {},
   "outputs": [
    {
     "name": "stdout",
     "output_type": "stream",
     "text": [
      "         LEVEL  CLICKS  VISITS  ORDERS  CON_RATE\n",
      "USER_ID                                         \n",
      "1           70  876504   85018    7416  0.569385\n",
      "2           65  425884   36821    3308  0.527024\n",
      "3           23  537749   47354    4636  0.899514\n"
     ]
    }
   ],
   "source": [
    "from sklearn.decomposition import PCA\n",
    "from sklearn.decomposition import FactorAnalysis as FA\n",
    "raw_data2 = pd.read_excel('demo.xlsx',sheet_name=1,index_col='USER_ID')\n",
    "print(raw_data2.head(3))"
   ]
  },
  {
   "cell_type": "markdown",
   "metadata": {},
   "source": [
    "### 6.6.1 主成分分析"
   ]
  },
  {
   "cell_type": "code",
   "execution_count": 24,
   "metadata": {},
   "outputs": [],
   "source": [
    "pca = PCA(n_components=None)\n",
    "pca_data = pca.fit_transform(raw_data2)"
   ]
  },
  {
   "cell_type": "code",
   "execution_count": 25,
   "metadata": {},
   "outputs": [
    {
     "name": "stdout",
     "output_type": "stream",
     "text": [
      "[[ 3.904447e+05 -5.135850e+03 -3.018500e+02 -1.991000e+01 -3.000000e-02]\n",
      " [-6.270874e+04  1.942810e+03 -4.802000e+01 -1.307000e+01 -1.000000e-02]\n",
      " [ 4.965771e+04  1.579790e+03  3.189600e+02  2.706000e+01 -3.400000e-01]]\n"
     ]
    }
   ],
   "source": [
    "# 显示前3条主成分数据\n",
    "print(pca_data[:3,:].round(2))"
   ]
  },
  {
   "cell_type": "code",
   "execution_count": 26,
   "metadata": {},
   "outputs": [
    {
     "data": {
      "text/plain": [
       "array([9.99944522e-01, 5.49301430e-05, 5.31880710e-07, 1.57204434e-08,\n",
       "       1.47192045e-12])"
      ]
     },
     "execution_count": 26,
     "metadata": {},
     "output_type": "execute_result"
    }
   ],
   "source": [
    "# 显示每个主成分方差解释比例\n",
    "pca.explained_variance_ratio_"
   ]
  },
  {
   "cell_type": "markdown",
   "metadata": {},
   "source": [
    "### 6.6.2 因子分析"
   ]
  },
  {
   "cell_type": "code",
   "execution_count": 27,
   "metadata": {},
   "outputs": [],
   "source": [
    "fa = FA(n_components=None)\n",
    "fa_data = fa.fit_transform(raw_data2)"
   ]
  },
  {
   "cell_type": "code",
   "execution_count": 28,
   "metadata": {},
   "outputs": [
    {
     "data": {
      "text/plain": [
       "array([[ 1.66, -2.94, -1.76, -0.67,  0.  ],\n",
       "       [-0.27,  1.11, -0.28, -0.44,  0.  ],\n",
       "       [ 0.21,  0.9 ,  1.86,  0.92,  0.  ]])"
      ]
     },
     "execution_count": 28,
     "metadata": {},
     "output_type": "execute_result"
    }
   ],
   "source": [
    "# 显示前3条主成分数据\n",
    "fa_data[:3,:].round(2)"
   ]
  },
  {
   "cell_type": "code",
   "execution_count": null,
   "metadata": {},
   "outputs": [],
   "source": []
  }
 ],
 "metadata": {
  "kernelspec": {
   "display_name": "Python 3",
   "language": "python",
   "name": "python3"
  },
  "language_info": {
   "codemirror_mode": {
    "name": "ipython",
    "version": 3
   },
   "file_extension": ".py",
   "mimetype": "text/x-python",
   "name": "python",
   "nbconvert_exporter": "python",
   "pygments_lexer": "ipython3",
   "version": "3.7.3"
  }
 },
 "nbformat": 4,
 "nbformat_minor": 2
}