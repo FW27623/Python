{
 "cells": [
  {
   "cell_type": "markdown",
   "metadata": {},
   "source": [
    "<div align=\"center\"><h1> 第2章&nbsp;&nbsp;Python语言基础</h1></div>"
   ]
  },
  {
   "cell_type": "markdown",
   "metadata": {},
   "source": [
    "# 一、说明"
   ]
  },
  {
   "cell_type": "markdown",
   "metadata": {},
   "source": [
    "- 描述：第二章实验源代码\n",
    "- 作者：方伟（FangWei）\n",
    "- 程序开发环境：Windows DEV Channel , Build 22533.1001 64位"
   ]
  },
  {
   "cell_type": "markdown",
   "metadata": {},
   "source": [
    "# 二、程序"
   ]
  },
  {
   "cell_type": "markdown",
   "metadata": {},
   "source": [
    "## 2.1 基础规则"
   ]
  },
  {
   "cell_type": "markdown",
   "metadata": {},
   "source": [
    "### 2.1.1 Python解释器"
   ]
  },
  {
   "cell_type": "code",
   "execution_count": 1,
   "metadata": {},
   "outputs": [],
   "source": [
    "#!/usr/bin/python"
   ]
  },
  {
   "cell_type": "markdown",
   "metadata": {},
   "source": [
    "### 2.1.2 编码声明"
   ]
  },
  {
   "cell_type": "code",
   "execution_count": 2,
   "metadata": {},
   "outputs": [],
   "source": [
    "# coding=utf-8"
   ]
  },
  {
   "cell_type": "code",
   "execution_count": 3,
   "metadata": {},
   "outputs": [],
   "source": [
    "# -*- coding: utf-8 -*-"
   ]
  },
  {
   "cell_type": "markdown",
   "metadata": {},
   "source": [
    "### 2.1.3 缩进和执行域"
   ]
  },
  {
   "cell_type": "code",
   "execution_count": 4,
   "metadata": {},
   "outputs": [
    {
     "data": {
      "text/plain": [
       "'\\n如果a>5:\\n    打印a>5\\n否则：\\n    打印a<5\\n'"
      ]
     },
     "execution_count": 4,
     "metadata": {},
     "output_type": "execute_result"
    }
   ],
   "source": [
    "'''\n",
    "如果a>5:\n",
    "    打印a>5\n",
    "否则：\n",
    "    打印a<5\n",
    "'''"
   ]
  },
  {
   "cell_type": "markdown",
   "metadata": {},
   "source": [
    "### 2.1.4 长语句断行"
   ]
  },
  {
   "cell_type": "code",
   "execution_count": 5,
   "metadata": {},
   "outputs": [
    {
     "name": "stdout",
     "output_type": "stream",
     "text": [
      "这是一个条非常非常非常非常非常非常非常非常非常非常非常非常非常很长很长很长很长的语句\n"
     ]
    }
   ],
   "source": [
    "print('这是一个条非常非常非常非常非常非常非常非常非常非常非常非常非常很长很长很长很长的语句')"
   ]
  },
  {
   "cell_type": "code",
   "execution_count": 6,
   "metadata": {},
   "outputs": [
    {
     "name": "stdout",
     "output_type": "stream",
     "text": [
      "这是一个条非常非常非常非常非常非常非常非常非常非常非常非常非常很长很长很长很长的语句\n"
     ]
    }
   ],
   "source": [
    "print('这是一个条非常非常非常非常非常非常非常非常非常非常非常非常非常\\\n",
    "很长很长很长很长的语句')"
   ]
  },
  {
   "cell_type": "markdown",
   "metadata": {},
   "source": [
    "### 2.1.5 单行和多行注释"
   ]
  },
  {
   "cell_type": "markdown",
   "metadata": {},
   "source": [
    "1. 单行注释"
   ]
  },
  {
   "cell_type": "code",
   "execution_count": 7,
   "metadata": {},
   "outputs": [
    {
     "name": "stdout",
     "output_type": "stream",
     "text": [
      "Learn Python\n"
     ]
    }
   ],
   "source": [
    "print('Learn Python') # 打印输出字符串——这里是注释信息"
   ]
  },
  {
   "cell_type": "markdown",
   "metadata": {},
   "source": [
    "2. 多行注释"
   ]
  },
  {
   "cell_type": "code",
   "execution_count": 8,
   "metadata": {},
   "outputs": [
    {
     "name": "stdout",
     "output_type": "stream",
     "text": [
      "Learn Python\n"
     ]
    }
   ],
   "source": [
    "'''\n",
    "这是多行注释第一行\n",
    "这是多行注释第二行\n",
    "'''\n",
    "print('Learn Python')"
   ]
  },
  {
   "cell_type": "markdown",
   "metadata": {},
   "source": [
    "### 2.1.6 变量的命名和赋值"
   ]
  },
  {
   "cell_type": "code",
   "execution_count": 9,
   "metadata": {},
   "outputs": [],
   "source": [
    "is_man = 1"
   ]
  },
  {
   "cell_type": "code",
   "execution_count": 10,
   "metadata": {},
   "outputs": [],
   "source": [
    "is_women=False"
   ]
  },
  {
   "cell_type": "markdown",
   "metadata": {},
   "source": [
    "##  2.2 数据类型"
   ]
  },
  {
   "cell_type": "markdown",
   "metadata": {},
   "source": [
    "### 2.2.1 四种数字Number类型"
   ]
  },
  {
   "cell_type": "code",
   "execution_count": 11,
   "metadata": {},
   "outputs": [],
   "source": [
    "# 整数型\n",
    "a1 = 2"
   ]
  },
  {
   "cell_type": "code",
   "execution_count": 12,
   "metadata": {},
   "outputs": [],
   "source": [
    "# 浮点型\n",
    "a2 = 2.1"
   ]
  },
  {
   "cell_type": "code",
   "execution_count": 13,
   "metadata": {},
   "outputs": [],
   "source": [
    "# 布尔型\n",
    "a3 = True"
   ]
  },
  {
   "cell_type": "code",
   "execution_count": 14,
   "metadata": {},
   "outputs": [],
   "source": [
    "# 复数型\n",
    "a4 = complex(1)"
   ]
  },
  {
   "cell_type": "markdown",
   "metadata": {},
   "source": [
    "### 2.2.2 字符串String"
   ]
  },
  {
   "cell_type": "code",
   "execution_count": 15,
   "metadata": {},
   "outputs": [],
   "source": [
    "# 字符串\n",
    "a5 = '字符串'"
   ]
  },
  {
   "cell_type": "code",
   "execution_count": 16,
   "metadata": {},
   "outputs": [],
   "source": [
    "a5 = '字符串'\n",
    "a5 = \"字符串\"\n",
    "a5 = \"\"\"字符串\"\"\"\n",
    "a5 = '''字符串'''"
   ]
  },
  {
   "cell_type": "code",
   "execution_count": 17,
   "metadata": {},
   "outputs": [],
   "source": [
    "# bytes\n",
    "a6 = bytes('字符串','utf-8')"
   ]
  },
  {
   "cell_type": "markdown",
   "metadata": {},
   "source": [
    "### 2.2.3 日期类Date、Time、Datetime和Datetimestamp"
   ]
  },
  {
   "cell_type": "code",
   "execution_count": 18,
   "metadata": {},
   "outputs": [
    {
     "name": "stdout",
     "output_type": "stream",
     "text": [
      "2019-03-22\n"
     ]
    }
   ],
   "source": [
    "import datetime\n",
    "date_info = datetime.datetime.today().date().strftime('%Y-%m-%d')\n",
    "print(date_info)"
   ]
  },
  {
   "cell_type": "code",
   "execution_count": 19,
   "metadata": {},
   "outputs": [
    {
     "name": "stdout",
     "output_type": "stream",
     "text": [
      "22:53:52\n"
     ]
    }
   ],
   "source": [
    "# 时间\n",
    "time_info = datetime.datetime.today().time().strftime('%H:%M:%S')\n",
    "print(time_info)"
   ]
  },
  {
   "cell_type": "code",
   "execution_count": 20,
   "metadata": {},
   "outputs": [
    {
     "name": "stdout",
     "output_type": "stream",
     "text": [
      "2019-03-22 22:53:52\n"
     ]
    }
   ],
   "source": [
    "# 日期时间\n",
    "Datetime_info = datetime.datetime.now().strftime('%Y-%m-%d %H:%M:%S')\n",
    "print(Datetime_info)"
   ]
  },
  {
   "cell_type": "code",
   "execution_count": 21,
   "metadata": {},
   "outputs": [
    {
     "name": "stdout",
     "output_type": "stream",
     "text": [
      "2019-03-22 22:53:52 373000\n"
     ]
    }
   ],
   "source": [
    "# 时间戳\n",
    "Datetimestamp_info = datetime.datetime.now().strftime('%Y-%m-%d %H:%M:%S %f')\n",
    "print(Datetimestamp_info)"
   ]
  },
  {
   "cell_type": "code",
   "execution_count": 22,
   "metadata": {},
   "outputs": [
    {
     "name": "stdout",
     "output_type": "stream",
     "text": [
      "1553266432.381\n"
     ]
    }
   ],
   "source": [
    "# 时间戳\n",
    "Datetimestamp_info2 = datetime.datetime.now().timestamp()\n",
    "print(Datetimestamp_info2)"
   ]
  },
  {
   "cell_type": "markdown",
   "metadata": {},
   "source": [
    "### 2.2.4 数据类型判断与转换"
   ]
  },
  {
   "cell_type": "markdown",
   "metadata": {},
   "source": [
    "1. 判断数据类型"
   ]
  },
  {
   "cell_type": "code",
   "execution_count": 23,
   "metadata": {},
   "outputs": [
    {
     "data": {
      "text/plain": [
       "str"
      ]
     },
     "execution_count": 23,
     "metadata": {},
     "output_type": "execute_result"
    }
   ],
   "source": [
    "# 使用type方法判断类型\n",
    "type(a5)"
   ]
  },
  {
   "cell_type": "code",
   "execution_count": 24,
   "metadata": {},
   "outputs": [
    {
     "data": {
      "text/plain": [
       "True"
      ]
     },
     "execution_count": 24,
     "metadata": {},
     "output_type": "execute_result"
    }
   ],
   "source": [
    "# 使用isinstance方法判断类型\n",
    "isinstance(a5,str)"
   ]
  },
  {
   "cell_type": "code",
   "execution_count": 25,
   "metadata": {},
   "outputs": [
    {
     "data": {
      "text/plain": [
       "False"
      ]
     },
     "execution_count": 25,
     "metadata": {},
     "output_type": "execute_result"
    }
   ],
   "source": [
    "# 使用isinstance方法判断类型\n",
    "isinstance(a5,(int,bytes))"
   ]
  },
  {
   "cell_type": "markdown",
   "metadata": {},
   "source": [
    "2. 字符串str和bytes类型相互转换"
   ]
  },
  {
   "cell_type": "code",
   "execution_count": 26,
   "metadata": {},
   "outputs": [],
   "source": [
    "# 字符串转bytes\n",
    "str_to_bytes =str.encode(a5)"
   ]
  },
  {
   "cell_type": "code",
   "execution_count": 27,
   "metadata": {},
   "outputs": [],
   "source": [
    "# bytes转字符串\n",
    "bytes_to_str = bytes.decode(str_to_bytes)"
   ]
  },
  {
   "cell_type": "markdown",
   "metadata": {},
   "source": [
    "3. 字符串str和数字Number类型相互转换"
   ]
  },
  {
   "cell_type": "code",
   "execution_count": 28,
   "metadata": {},
   "outputs": [],
   "source": [
    "# 字符串转整数型\n",
    "a7 = '1'\n",
    "str_to_int = int(a7)"
   ]
  },
  {
   "cell_type": "code",
   "execution_count": 29,
   "metadata": {},
   "outputs": [],
   "source": [
    "# 使用int方法将字符串转换为整数型\n",
    "str_to_int = int(a7)  "
   ]
  },
  {
   "cell_type": "code",
   "execution_count": 30,
   "metadata": {},
   "outputs": [],
   "source": [
    "# 使用float方法将字符串转换为浮点型\n",
    "str_to_int = float(a7)  "
   ]
  },
  {
   "cell_type": "code",
   "execution_count": 31,
   "metadata": {},
   "outputs": [],
   "source": [
    "# 使用bool方法将字符串转换为浮点型\n",
    "str_to_bool = bool(a7)  "
   ]
  },
  {
   "cell_type": "code",
   "execution_count": 32,
   "metadata": {},
   "outputs": [],
   "source": [
    "# 使用complex方法将字符串转换为复数型\n",
    "str_to_complex = complex(a7)  "
   ]
  },
  {
   "cell_type": "code",
   "execution_count": 33,
   "metadata": {},
   "outputs": [],
   "source": [
    "# 使用str方法转换为字符串型\n",
    "int_to_str = str(str_to_int)  "
   ]
  },
  {
   "cell_type": "markdown",
   "metadata": {},
   "source": [
    "4. 字符串str与日期的相互转换"
   ]
  },
  {
   "cell_type": "code",
   "execution_count": 34,
   "metadata": {},
   "outputs": [],
   "source": [
    "# 日期转字符串\n",
    "datetime_to_str = datetime.datetime.now().strftime('%Y-%m-%d %H:%M:%S')"
   ]
  },
  {
   "cell_type": "code",
   "execution_count": 35,
   "metadata": {},
   "outputs": [],
   "source": [
    "# 字符串转日期\n",
    "str_to_datetime = datetime.datetime.strptime(datetime_to_str,'%Y-%m-%d %H:%M:%S')"
   ]
  },
  {
   "cell_type": "markdown",
   "metadata": {},
   "source": [
    "## 2.3 数据结构"
   ]
  },
  {
   "cell_type": "markdown",
   "metadata": {},
   "source": [
    "### 2.3.1 列表和列表推导式"
   ]
  },
  {
   "cell_type": "markdown",
   "metadata": {},
   "source": [
    "1. 创建列表"
   ]
  },
  {
   "cell_type": "code",
   "execution_count": 36,
   "metadata": {},
   "outputs": [],
   "source": [
    "list_example1 = [] \n",
    "list_example2 = list()"
   ]
  },
  {
   "cell_type": "code",
   "execution_count": 37,
   "metadata": {},
   "outputs": [],
   "source": [
    "list_example3 = [1,True,b'bytes',['a','b']]"
   ]
  },
  {
   "cell_type": "markdown",
   "metadata": {},
   "source": [
    "2. 获取元素"
   ]
  },
  {
   "cell_type": "code",
   "execution_count": 38,
   "metadata": {},
   "outputs": [],
   "source": [
    "values = [1,True,b'bytes',['a','b']]  # 列表包括4个元素，其中第4个元素为列表。"
   ]
  },
  {
   "cell_type": "code",
   "execution_count": 39,
   "metadata": {},
   "outputs": [
    {
     "data": {
      "text/plain": [
       "['a', 'b']"
      ]
     },
     "execution_count": 39,
     "metadata": {},
     "output_type": "execute_result"
    }
   ],
   "source": [
    "values[3]\t# 获取列表的第四个元素，结果为['a','b']"
   ]
  },
  {
   "cell_type": "code",
   "execution_count": 40,
   "metadata": {},
   "outputs": [
    {
     "data": {
      "text/plain": [
       "['a', 'b']"
      ]
     },
     "execution_count": 40,
     "metadata": {},
     "output_type": "execute_result"
    }
   ],
   "source": [
    "values[-1]\t# 获取列表的最后一个元素，结果为['a','b']"
   ]
  },
  {
   "cell_type": "code",
   "execution_count": 41,
   "metadata": {},
   "outputs": [
    {
     "data": {
      "text/plain": [
       "[1, True]"
      ]
     },
     "execution_count": 41,
     "metadata": {},
     "output_type": "execute_result"
    }
   ],
   "source": [
    "values[:2]\t# 获取列表前2个元素，结果为[1, True]"
   ]
  },
  {
   "cell_type": "code",
   "execution_count": 42,
   "metadata": {},
   "outputs": [
    {
     "data": {
      "text/plain": [
       "[True, b'bytes']"
      ]
     },
     "execution_count": 42,
     "metadata": {},
     "output_type": "execute_result"
    }
   ],
   "source": [
    "values[-3:-1]\t# 获取列表倒数第一个到倒数第3个元素，结果为[True, b'bytes']"
   ]
  },
  {
   "cell_type": "code",
   "execution_count": 43,
   "metadata": {},
   "outputs": [
    {
     "data": {
      "text/plain": [
       "[1, b'bytes']"
      ]
     },
     "execution_count": 43,
     "metadata": {},
     "output_type": "execute_result"
    }
   ],
   "source": [
    "values[::2]\t# 获取列表中从头开始的间隔1个取一个的元素，结果为[1, b'bytes']"
   ]
  },
  {
   "cell_type": "code",
   "execution_count": 44,
   "metadata": {},
   "outputs": [
    {
     "data": {
      "text/plain": [
       "'b'"
      ]
     },
     "execution_count": 44,
     "metadata": {},
     "output_type": "execute_result"
    }
   ],
   "source": [
    "values[3][1]\t#获取列表中低4个元素的第二个值，结果为'b'"
   ]
  },
  {
   "cell_type": "markdown",
   "metadata": {},
   "source": [
    "4. 列表推导式"
   ]
  },
  {
   "cell_type": "code",
   "execution_count": 45,
   "metadata": {},
   "outputs": [
    {
     "data": {
      "text/plain": [
       "[0, 2, 4, 6, 8]"
      ]
     },
     "execution_count": 45,
     "metadata": {},
     "output_type": "execute_result"
    }
   ],
   "source": [
    "# 示例1\n",
    "[i*2 for i in range(5)]"
   ]
  },
  {
   "cell_type": "code",
   "execution_count": 46,
   "metadata": {},
   "outputs": [
    {
     "data": {
      "text/plain": [
       "[0.0, 1.5, 3.0, 4.5, 6.0]"
      ]
     },
     "execution_count": 46,
     "metadata": {},
     "output_type": "execute_result"
    }
   ],
   "source": [
    "# 示例2\n",
    "def sum(n):\n",
    "    return n+n/2\n",
    "[sum(i) for i in range(5)]"
   ]
  },
  {
   "cell_type": "markdown",
   "metadata": {},
   "source": [
    "## 2.3.2 元组和元组推导式"
   ]
  },
  {
   "cell_type": "markdown",
   "metadata": {},
   "source": [
    "1. 创建元组"
   ]
  },
  {
   "cell_type": "code",
   "execution_count": 47,
   "metadata": {},
   "outputs": [],
   "source": [
    "tuple_example1 = ()\n",
    "tuple_example2 = tuple()"
   ]
  },
  {
   "cell_type": "code",
   "execution_count": 48,
   "metadata": {},
   "outputs": [],
   "source": [
    "tuple_example3 = (1,True,b'bytes',('a','b'))"
   ]
  },
  {
   "cell_type": "markdown",
   "metadata": {},
   "source": [
    "2. 元组推导式"
   ]
  },
  {
   "cell_type": "code",
   "execution_count": 49,
   "metadata": {},
   "outputs": [],
   "source": [
    "a = (i*2 for i in range(5))"
   ]
  },
  {
   "cell_type": "code",
   "execution_count": 50,
   "metadata": {},
   "outputs": [
    {
     "data": {
      "text/plain": [
       "generator"
      ]
     },
     "execution_count": 50,
     "metadata": {},
     "output_type": "execute_result"
    }
   ],
   "source": [
    "type(a)"
   ]
  },
  {
   "cell_type": "code",
   "execution_count": 51,
   "metadata": {},
   "outputs": [
    {
     "data": {
      "text/plain": [
       "(0, 2, 4, 6, 8)"
      ]
     },
     "execution_count": 51,
     "metadata": {},
     "output_type": "execute_result"
    }
   ],
   "source": [
    "tuple(a)"
   ]
  },
  {
   "cell_type": "markdown",
   "metadata": {},
   "source": [
    "## 2.3.3 字典和字典推导式"
   ]
  },
  {
   "cell_type": "markdown",
   "metadata": {},
   "source": [
    "1. 创建字典"
   ]
  },
  {
   "cell_type": "code",
   "execution_count": 52,
   "metadata": {},
   "outputs": [],
   "source": [
    "dict_example1 = {}\n",
    "dict_example2 =dict()"
   ]
  },
  {
   "cell_type": "code",
   "execution_count": 53,
   "metadata": {},
   "outputs": [],
   "source": [
    "dict_example3 = {'tony':98,'lucy':{'first name':'li'}}"
   ]
  },
  {
   "cell_type": "code",
   "execution_count": 54,
   "metadata": {},
   "outputs": [],
   "source": [
    "dict_example4 = {}    # 空列表\n",
    "seq = ['a', 'b']    # 列表由两个字符串组成，他们将分别作为后续字典的Key\n",
    "values = [1, 2]    # 列表由两个数值组成，他们将作为后续字典公用的Value\n",
    "# 使用fromkeys方法创建了一个新字典，dict_example4的值为：{'a': [1, 2], 'b': [1, 2]}\n",
    "dict_example4 = dict_example4.fromkeys(seq, values)"
   ]
  },
  {
   "cell_type": "markdown",
   "metadata": {},
   "source": [
    "2. 获取元素"
   ]
  },
  {
   "cell_type": "code",
   "execution_count": 55,
   "metadata": {},
   "outputs": [],
   "source": [
    "values = {'tony':98,'lucy':{'first name':'li'}} # 包含嵌套字典的字典"
   ]
  },
  {
   "cell_type": "code",
   "execution_count": 56,
   "metadata": {},
   "outputs": [
    {
     "data": {
      "text/plain": [
       "98"
      ]
     },
     "execution_count": 56,
     "metadata": {},
     "output_type": "execute_result"
    }
   ],
   "source": [
    "values['tony']            # 获取字典中Key为tony的值，结果为98"
   ]
  },
  {
   "cell_type": "code",
   "execution_count": 57,
   "metadata": {},
   "outputs": [
    {
     "data": {
      "text/plain": [
       "'li'"
      ]
     },
     "execution_count": 57,
     "metadata": {},
     "output_type": "execute_result"
    }
   ],
   "source": [
    "values['lucy']['first name']        # 获取字典中Key为lucy的值，再从值中找到Key为first name的值，结果为'li'"
   ]
  },
  {
   "cell_type": "code",
   "execution_count": 58,
   "metadata": {},
   "outputs": [
    {
     "data": {
      "text/plain": [
       "98"
      ]
     },
     "execution_count": 58,
     "metadata": {},
     "output_type": "execute_result"
    }
   ],
   "source": [
    "values.get('tony')            # 使用字典的get方法获取Key为tony的值，结果为98"
   ]
  },
  {
   "cell_type": "code",
   "execution_count": 59,
   "metadata": {},
   "outputs": [
    {
     "data": {
      "text/plain": [
       "dict_keys(['tony', 'lucy'])"
      ]
     },
     "execution_count": 59,
     "metadata": {},
     "output_type": "execute_result"
    }
   ],
   "source": [
    "values.keys()            #使用字典的keys方法获取所有的key值，结果为dict_keys(['tony', 'lucy'])，该类型可使用list转换为列表"
   ]
  },
  {
   "cell_type": "code",
   "execution_count": 60,
   "metadata": {},
   "outputs": [
    {
     "data": {
      "text/plain": [
       "dict_values([98, {'first name': 'li'}])"
      ]
     },
     "execution_count": 60,
     "metadata": {},
     "output_type": "execute_result"
    }
   ],
   "source": [
    "values.values()            # 使用字典的values方法获取values的值，结果为dict_values([98, {'first name': 'li'}])，该类型可使用list转换为列表"
   ]
  },
  {
   "cell_type": "code",
   "execution_count": 61,
   "metadata": {},
   "outputs": [
    {
     "data": {
      "text/plain": [
       "dict_items([('tony', 98), ('lucy', {'first name': 'li'})])"
      ]
     },
     "execution_count": 61,
     "metadata": {},
     "output_type": "execute_result"
    }
   ],
   "source": [
    "values.items()            # 使用字典的items方法获取所有的键值对组合，结果为dict_items([('tony', 98), ('lucy', {'first name': 'li'})])"
   ]
  },
  {
   "cell_type": "markdown",
   "metadata": {},
   "source": [
    "4. 字典推导式"
   ]
  },
  {
   "cell_type": "code",
   "execution_count": 62,
   "metadata": {},
   "outputs": [],
   "source": [
    "keys = (str(i*i) for i in range(3)) # 通过元组推导式生成包含Value值的生成器\n",
    "values = [i+1 for i in range(3)]     # 列表推导式生成包含Key值的列表\n",
    "dict_final = {k:v for k,v in zip(keys, values)} # 通过字典推导式调用上述两个对象生成字典，其结果为：{'0': 1, '1': 2, '4': 3}"
   ]
  },
  {
   "cell_type": "markdown",
   "metadata": {},
   "source": [
    "### 2.3.4 集合和集合推导式"
   ]
  },
  {
   "cell_type": "markdown",
   "metadata": {},
   "source": [
    "1. 创建集合"
   ]
  },
  {
   "cell_type": "code",
   "execution_count": 63,
   "metadata": {},
   "outputs": [],
   "source": [
    "set_example1 = {1,2,3}\n",
    "set_example2 =set()"
   ]
  },
  {
   "cell_type": "markdown",
   "metadata": {},
   "source": [
    "3. 集合推导式"
   ]
  },
  {
   "cell_type": "code",
   "execution_count": 64,
   "metadata": {},
   "outputs": [],
   "source": [
    "a = {i for i in range(5)}"
   ]
  },
  {
   "cell_type": "markdown",
   "metadata": {},
   "source": [
    "### 2.3.5 数据结构的判断与转换"
   ]
  },
  {
   "cell_type": "markdown",
   "metadata": {},
   "source": [
    "1. 列表和数组转换"
   ]
  },
  {
   "cell_type": "code",
   "execution_count": 65,
   "metadata": {},
   "outputs": [
    {
     "data": {
      "text/plain": [
       "('1', '2', '3')"
      ]
     },
     "execution_count": 65,
     "metadata": {},
     "output_type": "execute_result"
    }
   ],
   "source": [
    "a = ['1','2','3']\n",
    "tuple(a)"
   ]
  },
  {
   "cell_type": "markdown",
   "metadata": {},
   "source": [
    "2. 列表、元组和集合的转换"
   ]
  },
  {
   "cell_type": "code",
   "execution_count": 66,
   "metadata": {},
   "outputs": [
    {
     "data": {
      "text/plain": [
       "{'1', '2'}"
      ]
     },
     "execution_count": 66,
     "metadata": {},
     "output_type": "execute_result"
    }
   ],
   "source": [
    "a = ('1','2','1')\n",
    "set(a)"
   ]
  },
  {
   "cell_type": "markdown",
   "metadata": {},
   "source": [
    "## 2.4 条件表达式"
   ]
  },
  {
   "cell_type": "markdown",
   "metadata": {},
   "source": [
    "## 2.4.1 单层条件判断"
   ]
  },
  {
   "cell_type": "code",
   "execution_count": 67,
   "metadata": {},
   "outputs": [
    {
     "name": "stdout",
     "output_type": "stream",
     "text": [
      "a!=0\n"
     ]
    }
   ],
   "source": [
    "a = 1        # 定义一个变量对象\n",
    "if a == 0:    # 判断a是否为0，如果条件为真（为真的情况下返回结果True）\n",
    "    print('a=0')    # 打印a=0\n",
    "else:        # 如果a不为0\n",
    "    print('a!=0')    # 打印a!=0"
   ]
  },
  {
   "cell_type": "markdown",
   "metadata": {},
   "source": [
    "### 2.4.2 嵌套条件判断"
   ]
  },
  {
   "cell_type": "code",
   "execution_count": 68,
   "metadata": {},
   "outputs": [
    {
     "name": "stdout",
     "output_type": "stream",
     "text": [
      "a>0且a<=5\n"
     ]
    }
   ],
   "source": [
    "a = 1        # 定义了一个变量对象a=1\n",
    "if a == 0:    # 判断a是否为0，如果条件为真（为真的情况下返回结果True）\n",
    "    print('a=0')    # 打印a=0\n",
    "elif a > 0:    # 判断a是否大于0，如果条件为真\n",
    "    if  a <=5:    # 判断a是否小于等于5，如果条件为真\n",
    "        print('a>0且a<=5') # 打印a>0且a<=5\n",
    "    else:    # 判断a大于5，如果条件为真\n",
    "        print('a>5')# 打印a>5\n",
    "else:        # 其他情况下\n",
    "    print('a<0')    # 打印a<0"
   ]
  },
  {
   "cell_type": "markdown",
   "metadata": {},
   "source": [
    "### 2.4.3 多条件判断中的and和or"
   ]
  },
  {
   "cell_type": "code",
   "execution_count": 69,
   "metadata": {},
   "outputs": [
    {
     "name": "stdout",
     "output_type": "stream",
     "text": [
      "a>0且a<=5\n"
     ]
    }
   ],
   "source": [
    "a = 1        # 定义了一个变量对象a=1\n",
    "if a == 0:    # 判断a是否为0，如果条件为真（为真的情况下返回结果True）\n",
    "    print('a=0')    # 打印a=0\n",
    "elif a > 0 and a <= 5: # 判断a大于0且a小于等于5，如果条件为真\n",
    "    print('a>0且a<=5') # 打印a>0且a<=5\n",
    "elif a > 5:    # 判断a大于5，如果条件为真\n",
    "    print('a>5')    # 打印a>5\n",
    "else:        # 其他情况下\n",
    "    print('a<0')    # 打印a<0"
   ]
  },
  {
   "cell_type": "markdown",
   "metadata": {},
   "source": [
    "### 2.4.4 多条件判断中的链式比较、all和any"
   ]
  },
  {
   "cell_type": "markdown",
   "metadata": {},
   "source": [
    "1. 链式比较"
   ]
  },
  {
   "cell_type": "code",
   "execution_count": 70,
   "metadata": {},
   "outputs": [
    {
     "data": {
      "text/plain": [
       "True"
      ]
     },
     "execution_count": 70,
     "metadata": {},
     "output_type": "execute_result"
    }
   ],
   "source": [
    "0 < a <= 5"
   ]
  },
  {
   "cell_type": "markdown",
   "metadata": {},
   "source": [
    "2. all和any的应用"
   ]
  },
  {
   "cell_type": "code",
   "execution_count": 71,
   "metadata": {},
   "outputs": [
    {
     "data": {
      "text/plain": [
       "False"
      ]
     },
     "execution_count": 71,
     "metadata": {},
     "output_type": "execute_result"
    }
   ],
   "source": [
    "a,b,c=1,2,3\n",
    "all((a>0,b<2,c==8))"
   ]
  },
  {
   "cell_type": "code",
   "execution_count": 72,
   "metadata": {},
   "outputs": [
    {
     "data": {
      "text/plain": [
       "True"
      ]
     },
     "execution_count": 72,
     "metadata": {},
     "output_type": "execute_result"
    }
   ],
   "source": [
    "any((a>0,b<2,c==8))"
   ]
  },
  {
   "cell_type": "markdown",
   "metadata": {},
   "source": [
    "### 2.4.5 基于条件表达式的赋值"
   ]
  },
  {
   "cell_type": "code",
   "execution_count": 73,
   "metadata": {},
   "outputs": [],
   "source": [
    "a = 1        # 创建变量a=1\n",
    "b = a if a > 1 else 0    # 根据a的值做判断，当a>1时为b赋值1；否则b赋值0"
   ]
  },
  {
   "cell_type": "markdown",
   "metadata": {},
   "source": [
    "## 2.5 循环和流程控制"
   ]
  },
  {
   "cell_type": "markdown",
   "metadata": {},
   "source": [
    "### 2.5.1 for循环和条件表达式"
   ]
  },
  {
   "cell_type": "code",
   "execution_count": 74,
   "metadata": {},
   "outputs": [
    {
     "name": "stdout",
     "output_type": "stream",
     "text": [
      "1\n",
      "2\n",
      "3\n"
     ]
    }
   ],
   "source": [
    "for i in [1,2,3]:    # 从列表[1,2,3]中循环取出每个值\n",
    "    print(i)    # 打印输出对应值"
   ]
  },
  {
   "cell_type": "code",
   "execution_count": 75,
   "metadata": {},
   "outputs": [
    {
     "name": "stdout",
     "output_type": "stream",
     "text": [
      "1\n",
      "2\n"
     ]
    }
   ],
   "source": [
    "for i in [1,2,3]:    # 从列表[1,2,3]中循环取出每个值\n",
    "    if i<=2:    # 新增了对i的判断，当i<=2时执行下面的代码\n",
    "        print(i)    # 打印输出对应值"
   ]
  },
  {
   "cell_type": "markdown",
   "metadata": {},
   "source": [
    "### 2.5.2 while循环和条件表达式"
   ]
  },
  {
   "cell_type": "code",
   "execution_count": 76,
   "metadata": {},
   "outputs": [
    {
     "name": "stdout",
     "output_type": "stream",
     "text": [
      "Good\n",
      "Good\n"
     ]
    }
   ],
   "source": [
    "i = 1        # 定义变量对象1\n",
    "while i<=2:    # 使用while循环对i做判断，只有当i<=2时才执行下面的程序\n",
    "    print(\"Good\")    # 打印输出Good\n",
    "    i += 1    # 对i增加1，表达式也可以写为i= i+1"
   ]
  },
  {
   "cell_type": "markdown",
   "metadata": {},
   "source": [
    "### 2.5.3 循环嵌套"
   ]
  },
  {
   "cell_type": "code",
   "execution_count": 77,
   "metadata": {},
   "outputs": [
    {
     "name": "stdout",
     "output_type": "stream",
     "text": [
      "11\n",
      "21\n",
      "22\n"
     ]
    }
   ],
   "source": [
    "nums = [[11],[21,22]]  # 定义了一个嵌套列表\n",
    "for i in nums:    # 外层循环，每次读取nums的一个元素（列表）为i\n",
    "    for j in i:    # 内层循环，读取i中的每个元素\n",
    "        print(j)    # 打印i中的每个元素"
   ]
  },
  {
   "cell_type": "markdown",
   "metadata": {},
   "source": [
    "### 2.5.4 无限循环"
   ]
  },
  {
   "cell_type": "code",
   "execution_count": 78,
   "metadata": {},
   "outputs": [],
   "source": [
    "while True:    # while后面的条件为True，意味着每次循环都会调用后面的代码\n",
    "    #do_something_here    # do_something_here为具体实现逻辑\n",
    "    break"
   ]
  },
  {
   "cell_type": "markdown",
   "metadata": {},
   "source": [
    "### 2.5.5 break和continue控制"
   ]
  },
  {
   "cell_type": "code",
   "execution_count": 79,
   "metadata": {},
   "outputs": [
    {
     "name": "stdout",
     "output_type": "stream",
     "text": [
      "1\n"
     ]
    }
   ],
   "source": [
    "for i in [1,2,3,4]:    # 从列表[1,2,3,4]循环读取i\n",
    "    if i < 2:    # 判断当i<3结果为真时，执行下面代码\n",
    "        print(i)    # 打印输出i\n",
    "    elif i == 2:    # 判断当i为3结果为真时，执行下面代码\n",
    "        continue    # 略过此次循环，继续下一个循环操作\n",
    "    else:    # 在其他情况下\n",
    "        break    # 意味着终止整个循环不再继续执行"
   ]
  },
  {
   "cell_type": "markdown",
   "metadata": {},
   "source": [
    "## 2.6 运算符"
   ]
  },
  {
   "cell_type": "markdown",
   "metadata": {},
   "source": [
    "### 2.6.6 身份运算符"
   ]
  },
  {
   "cell_type": "code",
   "execution_count": 80,
   "metadata": {},
   "outputs": [
    {
     "name": "stdout",
     "output_type": "stream",
     "text": [
      "8791530729216 8791530729248\n"
     ]
    }
   ],
   "source": [
    "a,b=1,2        # 通过赋值表达式分别为变量a和b赋值为1和2\n",
    "print(id(a), id(b))    # 通过print方法打印a和b的内存地址"
   ]
  },
  {
   "cell_type": "markdown",
   "metadata": {},
   "source": [
    "## 2.7 字符串处理和正则表达式"
   ]
  },
  {
   "cell_type": "markdown",
   "metadata": {},
   "source": [
    "### 2.7.1 字符串格式化的3种方法"
   ]
  },
  {
   "cell_type": "markdown",
   "metadata": {},
   "source": [
    "1. 使用%格式化字符串"
   ]
  },
  {
   "cell_type": "code",
   "execution_count": 81,
   "metadata": {},
   "outputs": [
    {
     "name": "stdout",
     "output_type": "stream",
     "text": [
      "my name is lucy, age 33, height 183.50, money 1.00e+09, satisfied 90.36 %\n"
     ]
    }
   ],
   "source": [
    "print('my name is %s, age %d, height %.2f, money %5.2e, satisfied %.2f %%' % ('lucy',33,183.5,1000000000.0,90.365))"
   ]
  },
  {
   "cell_type": "markdown",
   "metadata": {},
   "source": [
    "2. 使用str.format()格式化字符串"
   ]
  },
  {
   "cell_type": "code",
   "execution_count": 82,
   "metadata": {},
   "outputs": [
    {
     "name": "stdout",
     "output_type": "stream",
     "text": [
      "my name is lucy, age 33, height 183.50, money 1.00e+07, satisfied 90.36%\n"
     ]
    }
   ],
   "source": [
    "# 通过位置索引获取结果\n",
    "print('my name is {0}, age {1}, height {2:.2f}, money {3:5.2e}, satisfied {4:.2%}'.format('lucy',33,183.5, 10000000.0,0.90365))"
   ]
  },
  {
   "cell_type": "code",
   "execution_count": 83,
   "metadata": {},
   "outputs": [
    {
     "name": "stdout",
     "output_type": "stream",
     "text": [
      "my name is lucy, age 33, height 183.50, money 1.00e+07, satisfied 90.36%\n"
     ]
    }
   ],
   "source": [
    "# 通过默认位置索引获取结果\n",
    "print('my name is {}, age {}, height {:.2f}, money {:5.2e}, satisfied {:.2%}'.format('lucy',33,183.5,10000000.0,0.90365))"
   ]
  },
  {
   "cell_type": "code",
   "execution_count": 84,
   "metadata": {},
   "outputs": [
    {
     "name": "stdout",
     "output_type": "stream",
     "text": [
      "my name is lucy, age 33, height 183.50, money 1.00e+07, satisfied 90.36%\n"
     ]
    }
   ],
   "source": [
    "# 通过关键字获取结果\n",
    "print('my name is {name}, age {age}, height {height:.2f}, money {money:5.2e}, satisfied {percent:.2%}'.format(name='lucy',age=33,height=183.5,money=10000000.0,percent=0.90365))"
   ]
  },
  {
   "cell_type": "markdown",
   "metadata": {},
   "source": [
    "3. 使用f-strings格式化字符串"
   ]
  },
  {
   "cell_type": "code",
   "execution_count": 85,
   "metadata": {},
   "outputs": [
    {
     "name": "stdout",
     "output_type": "stream",
     "text": [
      "my name is lucy, age 33, height 183.50, money 1.00e+07, satisfied 90.36%\n"
     ]
    }
   ],
   "source": [
    "name='lucy'    # 定义name变量\n",
    "age=33        # 定义age变量\n",
    "height=183.5    # 定义height变量\n",
    "money=10000000.0    # 定义money变量\n",
    "percent=0.90365    # 定义percent变量\n",
    "print(f'my name is {name}, age {age}, height {height:.2f}, money {money:5.2e}, satisfied {percent:.2%}')    #在字符串前的f表示这是一个f-strings对象，然后在{}中传入参数即可"
   ]
  },
  {
   "cell_type": "markdown",
   "metadata": {},
   "source": [
    "### 2.7.2 字符串的编译执行"
   ]
  },
  {
   "cell_type": "markdown",
   "metadata": {},
   "source": [
    "1. eval执行字符串表达式"
   ]
  },
  {
   "cell_type": "code",
   "execution_count": 86,
   "metadata": {},
   "outputs": [
    {
     "name": "stdout",
     "output_type": "stream",
     "text": [
      "3\n",
      "False\n"
     ]
    }
   ],
   "source": [
    "c,d = '1+2','1 == 2'    # 定义了一个两个字符串变量对象c和d\n",
    "print(eval(c))    # 调用eval方法解析字符串表达式c，并打印输出结果为 3\n",
    "print(eval(d))    # 调用eval方法解析字符串表达式d，并打印输出结果为 False"
   ]
  },
  {
   "cell_type": "markdown",
   "metadata": {},
   "source": [
    "2. compile编译执行复杂功能"
   ]
  },
  {
   "cell_type": "code",
   "execution_count": 87,
   "metadata": {},
   "outputs": [
    {
     "name": "stdout",
     "output_type": "stream",
     "text": [
      "Good\n"
     ]
    }
   ],
   "source": [
    "com_strs = '''    # 定义了一个字符串对象com_strs\n",
    "i = 1         # 定义了变量i为1\n",
    "if i >0:    # 判断i是否大于0，如果为真则执行下面的过程\n",
    "    print(\"Good\")    # 打印输出Good\n",
    "'''        \n",
    "com_str=compile(com_strs,'','exec')  # 使用compile方法将该字符串进行编译\n",
    "exec (com_str)    # 使用exec方法执行编译好的对象，执行后得到结果为 Good"
   ]
  },
  {
   "cell_type": "markdown",
   "metadata": {},
   "source": [
    "### 2.7.3 内置字符串处理方法"
   ]
  },
  {
   "cell_type": "code",
   "execution_count": 88,
   "metadata": {},
   "outputs": [],
   "source": [
    "s='this is python! '"
   ]
  },
  {
   "cell_type": "markdown",
   "metadata": {},
   "source": [
    "1. 获取字符串子集"
   ]
  },
  {
   "cell_type": "code",
   "execution_count": 89,
   "metadata": {},
   "outputs": [
    {
     "name": "stdout",
     "output_type": "stream",
     "text": [
      "this\n",
      "is \n",
      "python! \n"
     ]
    }
   ],
   "source": [
    "print(s[:4])           # 获取前4个字符串，代码返回this\n",
    "print(s[5:8])          # 获取第6到第8个字符，代码返回is\n",
    "print(s[-8:])          # 获取最后8个字符串，代码返回python! "
   ]
  },
  {
   "cell_type": "markdown",
   "metadata": {},
   "source": [
    "2. 拼接与拆分字符串"
   ]
  },
  {
   "cell_type": "code",
   "execution_count": 90,
   "metadata": {},
   "outputs": [
    {
     "name": "stdout",
     "output_type": "stream",
     "text": [
      "this is python! a\n",
      "this is python! b\n",
      "['this', 'is', 'python!']\n",
      "['this', 'is', 'python!', '']\n"
     ]
    }
   ],
   "source": [
    "print(s+'a')    # 拼接字符串s和'a'，代码返回this is python! a\n",
    "print(''.join([s,'b']))  # 拼接列表，代码返回this is python! b\n",
    "print(s.split())          # 默认按空格分隔，默认去除所有的空格，代码返回拆分后的列表['this', 'is', 'python!']\n",
    "print(s.split(' '))       # 按指定字符空格分割字符串，代码返回拆分后的列表['this', 'is', 'python!', '']，注意列表中包含空字符串不会默认去除"
   ]
  },
  {
   "cell_type": "markdown",
   "metadata": {},
   "source": [
    "3. 大小写处理"
   ]
  },
  {
   "cell_type": "code",
   "execution_count": 91,
   "metadata": {},
   "outputs": [
    {
     "name": "stdout",
     "output_type": "stream",
     "text": [
      "THIS IS PYTHON! \n",
      "this is python! \n",
      "THIS IS PYTHON! \n",
      "This is python! \n",
      "This Is Python! \n"
     ]
    }
   ],
   "source": [
    "print(s.upper())         # 字符串全部大写，代码返回THIS IS PYTHON!\n",
    "print(s.lower() )        # 字符串全部小写，代码返回this is python!\n",
    "print(s.swapcase())     # 字符串大小写互换，代码返回THIS IS PYTHON!\n",
    "print(s.capitalize())   # 字符串首字母大写，其余小写，代码返回This is python!\n",
    "print(s.title())         # 字符串首字母大写，代码返回This Is Python!"
   ]
  },
  {
   "cell_type": "markdown",
   "metadata": {},
   "source": [
    "4. 搜索和替换"
   ]
  },
  {
   "cell_type": "code",
   "execution_count": 92,
   "metadata": {},
   "outputs": [
    {
     "name": "stdout",
     "output_type": "stream",
     "text": [
      "2\n",
      "-1\n",
      "2\n",
      "5\n",
      "this is python3! \n",
      "this is python3! \n"
     ]
    }
   ],
   "source": [
    "print(s.find('is'))      # 搜索字符串is,没有返回-1，代码返回为2\n",
    "print(s.find('is',1,2)) # 从字符串的对应索引的[1:2]子集中查找is，代码返回-1\n",
    "print(s.count('is'))     # 统计字符串is出现的次数，代码返回2\n",
    "print(s.rfind('is'))     # 从右边开始查找is，代码返回5\n",
    "print(s.replace('python','python3'))    # 用python3替换python，代码返回this is python3!\n",
    "print(s.replace('python','python3',1))  # 功能返回结果同上，指定只替换1次"
   ]
  },
  {
   "cell_type": "markdown",
   "metadata": {},
   "source": [
    "5. 去除空格"
   ]
  },
  {
   "cell_type": "code",
   "execution_count": 93,
   "metadata": {},
   "outputs": [
    {
     "name": "stdout",
     "output_type": "stream",
     "text": [
      "this is python!\n",
      "this is python! \n",
      "this is python!\n",
      "thisispython!\n"
     ]
    }
   ],
   "source": [
    "print(s.strip())     # 只去除两边空格，代码返回结果this is python!\n",
    "print(s.lstrip())    # 只去除左边空格，代码返回结果this is python!\n",
    "print(s.rstrip())    # 只去除右边空格，代码返回结果this is python!\n",
    "print(s.replace(' ',''))    # 通过替换方法去除所有的空格，代码返回结果thisispython!\n"
   ]
  },
  {
   "cell_type": "markdown",
   "metadata": {},
   "source": [
    "6. 字符串判断"
   ]
  },
  {
   "cell_type": "code",
   "execution_count": 94,
   "metadata": {},
   "outputs": [
    {
     "name": "stdout",
     "output_type": "stream",
     "text": [
      "False\n",
      "True\n",
      "False\n",
      "False\n",
      "False\n",
      "False\n",
      "False\n",
      "True\n",
      "False\n",
      "False\n",
      "False\n"
     ]
    }
   ],
   "source": [
    "print(s.startswith('python')) # 是否以'python'开头，代码返回结果False\n",
    "print(s.endswith(' '))          # 是否以空格结尾，代码返回结果True\n",
    "print(s.isalnum())               # 是否全为字母或数字，代码返回结果False\n",
    "print(s.isalpha())               # 是否全为字母，代码返回结果False\n",
    "print(s.isdigit())               # 是否全为数字，数字的范围包括Unicode数字、byte数字（单字节）、全角数字（双字节），代码返回结果False\n",
    "print(s.isdecimal())             # 是否全为数字，数字的范围包括Unicode数字、全角数字（双字节），代码返回结果False\n",
    "print(s.isnumeric())             # 是否全为数字，数字的范围包括Unicode数字、全角数字（双字节）、罗马数字、汉字数字，代码返回结果False\n",
    "print(s.islower())                # 是否全为小写，代码返回结果True\n",
    "print(s.isupper())                # 是否全为大写，代码返回结果False\n",
    "print(s.istitle())                # 判断首字母是否为大写，代码返回结果False\n",
    "print(s.isspace())                # 判断字符是否为空格，代码返回结果False\n"
   ]
  },
  {
   "cell_type": "markdown",
   "metadata": {},
   "source": [
    "### 2.7.4 正则表达式应用"
   ]
  },
  {
   "cell_type": "markdown",
   "metadata": {},
   "source": [
    "2. 使用re.match返回匹配群组"
   ]
  },
  {
   "cell_type": "code",
   "execution_count": 95,
   "metadata": {},
   "outputs": [
    {
     "name": "stdout",
     "output_type": "stream",
     "text": [
      "('12', 'high', '90345', 'cd5', '20190330')\n",
      "high\n"
     ]
    }
   ],
   "source": [
    "import re\n",
    "a = \"ID12high90345cd520190330\"    # 定义一个字符串\n",
    "re_match = re.match('^ID(\\d+)(\\D*)(\\d*)(\\w{3})(\\d{8})',a) # 建立匹配模式\n",
    "print(re_match.groups())           # 打印被匹配的字符串群组，结果为('12', 'high', '90345', 'cd5', '20190330')\n",
    "print(re_match.groups()[1])        # 打印群组中的特定对象，结果为high\n"
   ]
  },
  {
   "cell_type": "markdown",
   "metadata": {},
   "source": [
    "3. 使用re.findall返回匹配列表"
   ]
  },
  {
   "cell_type": "code",
   "execution_count": 96,
   "metadata": {},
   "outputs": [
    {
     "name": "stdout",
     "output_type": "stream",
     "text": [
      "['12', '90345', '520190330']\n",
      "['12', '903', '45', '520', '190', '330']\n"
     ]
    }
   ],
   "source": [
    "import re\n",
    "a = \"ID12high90345cd520190330\"  # 字符串中包含数字和字母\n",
    "print(re.findall('\\d+',a))       # 打印匹配出现1或无限次的数字，结果为['12', '90345', '520190330']\n",
    "print(re.findall('\\d{2,3}',a))  # 打印匹配限制在出现2到3次的数字，结果为['12', '903', '45', '520', '190', '330']\n"
   ]
  },
  {
   "cell_type": "markdown",
   "metadata": {},
   "source": [
    "4. 使用re.split拆分字符串"
   ]
  },
  {
   "cell_type": "code",
   "execution_count": 97,
   "metadata": {},
   "outputs": [
    {
     "data": {
      "text/plain": [
       "['this', 'is', 'a', 'string']"
      ]
     },
     "execution_count": 97,
     "metadata": {},
     "output_type": "execute_result"
    }
   ],
   "source": [
    "import re        # 导入re库\n",
    "strs = 'this is!a,string'    # 定义一个字符串，分隔符包括空格、感叹号、逗号\n",
    "re.split('[ |!|,]',strs)    # 使用正则表达式写出三个分隔符规则，代码执行后返回结果为['this', 'is', 'a', 'string']\n"
   ]
  },
  {
   "cell_type": "markdown",
   "metadata": {},
   "source": [
    "5. 使用re.sub替换字符串"
   ]
  },
  {
   "cell_type": "markdown",
   "metadata": {},
   "source": [
    "## 2.8 功能模块的封装"
   ]
  },
  {
   "cell_type": "markdown",
   "metadata": {},
   "source": [
    "### 2.8.1 函数"
   ]
  },
  {
   "cell_type": "markdown",
   "metadata": {},
   "source": [
    "2. 函数的定义示例"
   ]
  },
  {
   "cell_type": "code",
   "execution_count": 98,
   "metadata": {},
   "outputs": [],
   "source": [
    "def agg_sum(x,y,z=5):                 # 通过def定义了一个名为agg_sum的函数，并指定关键字参数为x、y、z和两个可变参数对象，其中的z=5表示z如果没有传值，则默认为5\n",
    "    '''该功能实现了两个数字求和'''       # 函数的文档字符串（DocStrings），它用来做函数的功能、参数、实现、返回、错误、注意事项和示例等做详细说明\n",
    "    sum = x + y + z                    # 常规功能，实现了对3个数求和\n",
    "    return sum                          # 使用return方法将计算结果sum返回，return不是必须的，但作为一个被调用的功能模块，一般都会返回特定结果\n"
   ]
  },
  {
   "cell_type": "markdown",
   "metadata": {},
   "source": [
    "3. 函数的调用方式"
   ]
  },
  {
   "cell_type": "code",
   "execution_count": 99,
   "metadata": {},
   "outputs": [
    {
     "name": "stdout",
     "output_type": "stream",
     "text": [
      "35\n",
      "40\n"
     ]
    }
   ],
   "source": [
    "print(agg_sum(10,20))         # 将10和20分别传给agg_sum函数，计算结果为35\n",
    "print(agg_sum(10,20,z=10))   # 将10和20是通过位置默认传给x和y，而z=10则通过关键字的方式传参，z=10也可以直接写10，通过位置的方式传参，计算结果为40\n"
   ]
  },
  {
   "cell_type": "markdown",
   "metadata": {},
   "source": [
    "### 2.8.2 匿名函数"
   ]
  },
  {
   "cell_type": "code",
   "execution_count": 100,
   "metadata": {},
   "outputs": [
    {
     "name": "stdout",
     "output_type": "stream",
     "text": [
      "40\n"
     ]
    }
   ],
   "source": [
    "agg_sum = lambda x,y,z:x+y+z        # 定义了一个基于lambda的的功能表达式agg_sum，表达式的参数为x、y、z，这三个参数实现的逻辑是x+y+z\n",
    "print(agg_sum(10,20,10))        # 调用该表达式并赋值为10、20、10给x、y、z，然后打印输出结果为40\n"
   ]
  },
  {
   "cell_type": "markdown",
   "metadata": {},
   "source": [
    "### 2.8.3 类"
   ]
  },
  {
   "cell_type": "markdown",
   "metadata": {},
   "source": [
    "2. 类的定义示例"
   ]
  },
  {
   "cell_type": "code",
   "execution_count": 101,
   "metadata": {},
   "outputs": [],
   "source": [
    "class User:    # 定义名为User的类\n",
    "    def __init__(self,name, score):  # 初始化函数中，包含name、score2个参数（self参数为类实例本身），该类内的方法都可以获取该初始化函数中实例化后的值\n",
    "        self.name = name    # 将name赋值给实例对象\n",
    "        self.score = score            # 将score赋值给实例对象\n",
    "    def print_name(self):            # 定义一个类的方法，名为print_name \n",
    "        print(self.name)    # 打印类的name值\n",
    "    def update_score(self,new_score): # 定义名为update_score的方法，该方法的参数中增加参数new_score，该参数只能在该方法内使用，而不能给其他方法使用\n",
    "        self.score = new_score*0.8+1.1 # 基于new_score的规则更新self.score\n"
   ]
  },
  {
   "cell_type": "markdown",
   "metadata": {},
   "source": [
    "3. 类的实例化和应用"
   ]
  },
  {
   "cell_type": "code",
   "execution_count": 102,
   "metadata": {},
   "outputs": [
    {
     "name": "stdout",
     "output_type": "stream",
     "text": [
      "tony\n",
      "81.1\n"
     ]
    }
   ],
   "source": [
    "tony = User('tony',150)        # 创建实例化对象tony，但并未调用任何方法\n",
    "tony.print_name()            # 调用tony的print_name方法，打印实例的名为tony，访问类内的方法的方法是实例名.方法名（注意不是类名.函数名）\n",
    "tony.update_score(100)            # 调用tony的update_score方法，将score的值做修改。后续所有类内的其他方法在调用该属性时，都是修改后的值\n",
    "print(tony.score)            # 调用tony的print方法打印tony的score属性，结果为81.1，访问类中属性的方式是实例名.属性名\n"
   ]
  },
  {
   "cell_type": "markdown",
   "metadata": {},
   "source": [
    "## 2.9 高阶计算函数的应用"
   ]
  },
  {
   "cell_type": "markdown",
   "metadata": {},
   "source": [
    "### 2.9.1 map"
   ]
  },
  {
   "cell_type": "code",
   "execution_count": 103,
   "metadata": {},
   "outputs": [
    {
     "name": "stdout",
     "output_type": "stream",
     "text": [
      "[1, 4, 9, 16]\n",
      "[1, 4, 9, 16]\n"
     ]
    }
   ],
   "source": [
    "list_example= [1,2,3,4]        # 定义一个列表\n",
    "def func(i):            # 定义名为func的函数，参数为i\n",
    "    return pow(i,2)            # 返回i的平方值，使用pow方法来代替**操作\n",
    "print(list(map(func,list_example)))        # 调用map方法将定义的函数应用到列表上的每个元素，通过print方法打印输出，结果为[1, 4, 9, 16]\n",
    "print(list(map(lambda i:pow(i,2),list_example))) #用lambda匿名函数代替函数来实现同样的功能，在简单计算逻辑下会简化代码，返回结果也是[1, 4, 9, 16]\n"
   ]
  },
  {
   "cell_type": "markdown",
   "metadata": {},
   "source": [
    "### 2.9.3 reduce"
   ]
  },
  {
   "cell_type": "code",
   "execution_count": 104,
   "metadata": {},
   "outputs": [
    {
     "name": "stdout",
     "output_type": "stream",
     "text": [
      "55\n",
      "55\n"
     ]
    }
   ],
   "source": [
    "from functools import reduce        # 从functools中导入reduce    库\n",
    "list_example = [1,2,3,4,5,6,7,8,9,10] # 定义一个列表对象list_example\n",
    "def add(x,y):            # 定义加法函数add，参数为x和y\n",
    "    return x+y            # 返回x和y的和\n",
    "print(reduce(add,list_example))        # 通过reduce方法调用add从list_example中的每次取出2个元素并做加法，得到结果是55\n",
    "print(reduce(lambda x,y: x+y,list_example)) #使用匿名函数lambda方法代替add函数实现相同的功能，也得到结果55\n"
   ]
  },
  {
   "cell_type": "markdown",
   "metadata": {},
   "source": [
    "### 2.9.3 filter"
   ]
  },
  {
   "cell_type": "code",
   "execution_count": 105,
   "metadata": {},
   "outputs": [
    {
     "name": "stdout",
     "output_type": "stream",
     "text": [
      "['cool', 'bad', 'good']\n",
      "['cool', 'bad', 'good']\n"
     ]
    }
   ],
   "source": [
    "list_example = [1,'cool',2,'bad','good'] # 列表中包含数字和字符串\n",
    "def is_string(s):        # 函数名为is_string，参数为s\n",
    "    return isinstance(s,str)        # 用来判断元素是否为字符串类型，如果为真则返回True，否则返回False\n",
    "print(list(filter(is_string,list_example))) # 使用filter方法调用is_string函数对list_example每个元素做判断，最终返回的结果为['cool', 'bad', 'good']\n",
    "print(list(filter(lambda s: isinstance(s,str),list_example)))    # 使用lambda匿名函数代替is_string实现对字符串的判断，返回相同结果为['cool', 'bad', 'good']\n"
   ]
  },
  {
   "cell_type": "markdown",
   "metadata": {},
   "source": [
    "## 2.10 导入Python库"
   ]
  },
  {
   "cell_type": "markdown",
   "metadata": {},
   "source": [
    "### 2.10.1 导入标准库和第三方库"
   ]
  },
  {
   "cell_type": "code",
   "execution_count": 106,
   "metadata": {},
   "outputs": [
    {
     "name": "stdout",
     "output_type": "stream",
     "text": [
      "('C:\\\\Anaconda3', 'Scripts')\n",
      "('C:\\\\Anaconda3', 'Scripts')\n"
     ]
    }
   ],
   "source": [
    "import os    # 使用import方法直接导入os库\n",
    "from os import path    # 使用from 库 import 方法导入os中的path库。\n",
    "print(os.path.split(r'C:\\Anaconda3\\Scripts')) # 使用os.path.split方法分C:\\Anaconda3\\Scripts路径，并返回拆分到的结果为('C:\\\\Anaconda3', 'Scripts')\n",
    "print(path.split(r'C:\\Anaconda3\\Scripts'))     # 使用path.split方法分C:\\Anaconda3\\Scripts路径，并返回拆分到的结果为('C:\\\\Anaconda3', 'Scripts')\n"
   ]
  },
  {
   "cell_type": "markdown",
   "metadata": {},
   "source": [
    "### 2.10.2 导入自定义库"
   ]
  },
  {
   "cell_type": "code",
   "execution_count": 107,
   "metadata": {},
   "outputs": [],
   "source": [
    "# 导入相同路径下的自定义库\n",
    "import demo            # 导入demo\n",
    "from demo import add,subtract        # 导入demo中的具体方法\n"
   ]
  },
  {
   "cell_type": "code",
   "execution_count": 108,
   "metadata": {},
   "outputs": [],
   "source": [
    "# 将demo所在的路径加入sys.path路径中\n",
    "import os,sys            # 导入os,sys库\n",
    "sys.path.append(os.path.abspath('../libs')) # 将demo库所在的路径加入系统路径\n",
    "import demo            # 导入demo\n",
    "from demo import add,subtract        # 导入demo中的具体方法"
   ]
  },
  {
   "cell_type": "markdown",
   "metadata": {},
   "source": [
    "### 2.10.3 使用库的别名"
   ]
  },
  {
   "cell_type": "code",
   "execution_count": 109,
   "metadata": {},
   "outputs": [],
   "source": [
    "import numpy as np                                            # 习惯用法\n",
    "from sklearn.tree import DecisionTreeClassifier as DT  # 缩写\n",
    "from sklearn.metrics import mean_absolute_error as MAE # 行业通用用语\n"
   ]
  },
  {
   "cell_type": "markdown",
   "metadata": {},
   "source": [
    "### 2.10.4 不同库的导入顺序"
   ]
  },
  {
   "cell_type": "code",
   "execution_count": 110,
   "metadata": {},
   "outputs": [],
   "source": [
    "import os            # 首先是标准库\n",
    "import numpy as np              # 其次是第三方库\n",
    "from demo import add, subtract          # 最后是自定义库\n"
   ]
  },
  {
   "cell_type": "code",
   "execution_count": null,
   "metadata": {},
   "outputs": [],
   "source": []
  }
 ],
 "metadata": {
  "kernelspec": {
   "display_name": "Python 3 (ipykernel)",
   "language": "python",
   "name": "python3"
  },
  "language_info": {
   "codemirror_mode": {
    "name": "ipython",
    "version": 3
   },
   "file_extension": ".py",
   "mimetype": "text/x-python",
   "name": "python",
   "nbconvert_exporter": "python",
   "pygments_lexer": "ipython3",
   "version": "3.10.1"
  }
 },
 "nbformat": 4,
 "nbformat_minor": 2
}