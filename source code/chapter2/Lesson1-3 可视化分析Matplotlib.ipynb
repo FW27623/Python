{
 "cells": [
  {
   "cell_type": "markdown",
   "metadata": {
    "slideshow": {
     "slide_type": "slide"
    }
   },
   "source": [
    "\n",
    "# <center>数据可视化Matplotlib</center>"
   ]
  },
  {
   "cell_type": "markdown",
   "metadata": {
    "slideshow": {
     "slide_type": "slide"
    }
   },
   "source": [
    "## Matplotlib简介\n",
    "\n",
    "* Matplotlib 是一个 Python 的 2D绘图库，它以各种硬拷贝格式和跨平台的交互式环境生成出版质量级别的图形。\n",
    "* Matplotlib试图让简单易事的事情成为可能。你只需几行代码即可生成绘图，直方图，功率谱，条形图，误差图，散点图等。\n",
    "\n",
    "参考示例：https://matplotlib.org/gallery/index.html"
   ]
  },
  {
   "cell_type": "markdown",
   "metadata": {},
   "source": [
    "<img style=\"float: center;\" src=\"img/matplotlib.png\" width=800>"
   ]
  },
  {
   "cell_type": "markdown",
   "metadata": {},
   "source": [
    "如果某天你发现自己要学习 Matplotlib, 很可能是因为:\n",
    "* Matplotlib 是一个非常强大的 Python 画图工具;\n",
    "* 手中有很多数据, 可是不知道该怎么呈现这些数据.\n",
    "\n",
    "所以就找到了Matplotlib. 它能帮你画出美丽的: \n",
    "线图;\n",
    "散点图;\n",
    "等高线图;\n",
    "条形图;\n",
    "柱状图;\n",
    "3D 图形,\n",
    "甚至是图形动画等等.\n",
    "\n",
    "Matplotlib被设计得用起来像MATLAB，具有使用Python的能力。免费是其优点。\n",
    "\n",
    "对于简单的绘图，pyplot模块提供类似MATLAB的接口，特别是与IPython结合使用时。 对于高级用户，你可以通过面向对象的界面或通过MATLAB用户熟悉的一组函数完全控制线型，字体属性，轴属性等。"
   ]
  },
  {
   "cell_type": "markdown",
   "metadata": {},
   "source": [
    "## 课程内容\n",
    "\n",
    "* 1.绘图快速入门\n",
    "* 2.图形属性设置\n",
    "* 3.基本类型绘图\n",
    "* 4.复杂类型绘图\n",
    "* 5.Pandas绘图"
   ]
  },
  {
   "cell_type": "markdown",
   "metadata": {},
   "source": [
    "### 1.绘图快速入门\n",
    "首先，为了实际使用 Matplotlib，我们需要安装它。Anaconda默认已经包含了，不需要安装\n",
    "```\n",
    "pip install matplotlib\n",
    "```\n",
    "如果在导入matplotlib时，你会收到类似『无命名模块』和模块名称的错误，这意味着你还需要安装该模块。\n",
    "\n",
    "```py\n",
    "import matplotlib.pyplot as plt\n",
    "```\n",
    "这一行导入集成的pyplot，我们将在整个系列中使用它。 我们将pyplot导入为plt，这是使用pylot的 python 程序的传统惯例。"
   ]
  },
  {
   "cell_type": "code",
   "execution_count": null,
   "metadata": {},
   "outputs": [],
   "source": [
    "import matplotlib.pyplot as plt\n",
    "%matplotlib inline   \n",
    "#上面一条语句设置：画的图在 jupyter notebook里直接显示"
   ]
  },
  {
   "cell_type": "code",
   "execution_count": null,
   "metadata": {},
   "outputs": [],
   "source": [
    "# 准备数据\n",
    "import pandas as pd\n",
    "data = pd.read_csv('data/unrate.csv')\n",
    "data.head()"
   ]
  },
  {
   "cell_type": "code",
   "execution_count": null,
   "metadata": {},
   "outputs": [],
   "source": [
    "# 选取 [0: 12] 区间的数据画图\n",
    "plotData = data[0: 12]\n",
    "plt.plot(pd.to_datetime(plotData.loc[:,'DATE']), plotData['VALUE'])\n",
    "# plt.show()"
   ]
  },
  {
   "cell_type": "markdown",
   "metadata": {},
   "source": [
    "**认识图像成份**"
   ]
  },
  {
   "cell_type": "markdown",
   "metadata": {},
   "source": [
    "<img style=\"float: center;\" src=\"img/zongtu.png\" width=500>"
   ]
  },
  {
   "cell_type": "markdown",
   "metadata": {},
   "source": [
    "**Figure**\n",
    "\n",
    "一个figure有很多axes，如果要显示出来，则至少有一个。"
   ]
  },
  {
   "cell_type": "code",
   "execution_count": null,
   "metadata": {},
   "outputs": [],
   "source": [
    "import matplotlib.pyplot as plt\n",
    "fig = plt.figure()  # an empty figure with no axes"
   ]
  },
  {
   "cell_type": "code",
   "execution_count": null,
   "metadata": {},
   "outputs": [],
   "source": [
    "fig, ax_lst = plt.subplots(2, 2)  # a figure with a 2x2 grid of Axes"
   ]
  },
  {
   "cell_type": "markdown",
   "metadata": {},
   "source": [
    "**Axes** （axis 的复数）\n",
    "\n",
    "Figure是画布，Axes是画图，Axis是轴，一张figure里可以有很多axes，一张axes里可以有两个或者三个axis，取决于二维或者三维图像。\n",
    "\n",
    "每个Axes都可以有一个title，可以被set_title()来设置，在每一轴上都可以用label来解释其含义。\n",
    "\n",
    "**Axis**\n",
    "\n",
    "Axis上有很多刻度，表示了图像的尺度，刻度旁边也有label来表示其含义\n",
    "\n",
    "**Artist**\n",
    "\n",
    "在figure上的几乎所有东西，都是一个artist，差不多就是matlotlib的诸多对象，当figure被渲染出来的时候，所有的artists都被画到了画布上。\n",
    "\n",
    "几乎你在matplotlib上看到的所有对象都是artists，他们有两类：primitives 和 containers。primitive代表了标准的图像对象，比如Line2D, Rectangle, Text, AxesImage等等，container是放他们的地方，比如axis，axes，figure。"
   ]
  },
  {
   "cell_type": "markdown",
   "metadata": {},
   "source": [
    "### 2.图形属性设置"
   ]
  },
  {
   "cell_type": "markdown",
   "metadata": {},
   "source": [
    "#### 2.1 图例、标题和标签\n",
    "我们将介绍 Matplotlib 中的图例，标题和标签。 很多时候，图形可以不言自明，但是图形带有标题，轴域上的标签和图例，来解释每一行是什么非常必要。\n",
    "\n",
    "* 使用 plt.xlabel 和 plt.ylabel ，可以为这些相应的轴创建标签。\n",
    "\n",
    "* 使用 plt.title 创建图的标题\n",
    "\n",
    "* 使用 plt.legend() 生成默认图例\n",
    "\n",
    "第一：设置图例标签名，plt.plot(label='图例标签名')\n",
    "\n",
    "第二：设置图例放置的位置，plt.legend(loc='放置的位置')\n",
    "\n",
    "loc 的参数有：\n",
    "\n",
    "        ===============   =============\n",
    "        Location String   Location Code\n",
    "        ===============   =============\n",
    "        'best'            0\n",
    "        'upper right'     1\n",
    "        'upper left'      2\n",
    "        'lower left'      3\n",
    "        'lower right'     4\n",
    "        'right'           5\n",
    "        'center left'     6\n",
    "        'center right'    7\n",
    "        'lower center'    8\n",
    "        'upper center'    9\n",
    "        'center'          10\n",
    "        ===============   =============\n",
    "\n",
    "注：轴域（Axes）即两条坐标轴围城的区域。"
   ]
  },
  {
   "cell_type": "code",
   "execution_count": null,
   "metadata": {},
   "outputs": [],
   "source": [
    "plt.plot(plotData.DATE, plotData['VALUE']) #画折线图\n",
    "plt.title('Monthly Unemployment Trends, 1948')\n",
    "plt.xlabel('Date')\n",
    "plt.ylabel('Unemployment Rate')\n",
    "plt.show()"
   ]
  },
  {
   "cell_type": "code",
   "execution_count": null,
   "metadata": {},
   "outputs": [],
   "source": [
    "plt.plot(plotData.DATE, plotData['VALUE'], label='aa')\n",
    "plt.title('Monthly Unemployment Trends, 1948')\n",
    "plt.xlabel('Date')\n",
    "plt.ylabel('Unemployment Rate')\n",
    "plt.legend()\n",
    "plt.show()"
   ]
  },
  {
   "cell_type": "code",
   "execution_count": null,
   "metadata": {},
   "outputs": [],
   "source": [
    "# X 轴刻度线标签处理\n",
    "# 针对上面的横坐标重叠问题进行优化\n",
    "plt.plot(plotData.DATE, plotData['VALUE'])\n",
    "''' \n",
    "将 X 轴刻度线标签旋转 45(60,90等) 度，这样它们就\n",
    "不会重叠,可以使用浮点或整数值指定旋转度。\n",
    "'''\n",
    "plt.xticks(rotation=45) \n",
    "plt.show()"
   ]
  },
  {
   "cell_type": "markdown",
   "metadata": {},
   "source": [
    "#### 2.2 画布大小\n",
    "```\n",
    "plt.figure(figsize=(6, 3))\n",
    "```"
   ]
  },
  {
   "cell_type": "code",
   "execution_count": null,
   "metadata": {},
   "outputs": [],
   "source": [
    "plt.figure(figsize=(50, 40 ))\n",
    "plt.plot(plotData.DATE, plotData['VALUE'])\n",
    "plt.title('Monthly Unemployment Trends, 1948')\n",
    "plt.xlabel('Date')\n",
    "plt.ylabel('Unemployment Rate')\n",
    "plt.show()"
   ]
  },
  {
   "cell_type": "markdown",
   "metadata": {},
   "source": [
    "#### 2.3 颜色、线型、标记\n",
    "\n",
    "**颜色**\n",
    "\n",
    "* k:black\n",
    "* b:blue\n",
    "* g:green\n",
    "* r:red\n",
    "* c:cyan(青色）\n",
    "* m:megenta(品红)\n",
    "* y:yellow\n",
    "* w:white\n",
    "\n",
    "**线型**\n",
    "* \\-  solid 实线\n",
    "* -- dashed 虚线\n",
    "* -. dashdot 点划线\n",
    "* : dotted 点线\n",
    "\n",
    "**标记**\n",
    "* . point\n",
    "* , pixel\n",
    "* o circle\n",
    "* v 下三角形\n",
    "* ^ 上三角形\n",
    "* < 左三角形\n",
    "\n",
    "```\n",
    "plt.plot(np.random.random(12).cumsum(), color='k', linestyle='dashed', marker='o')\n",
    "```"
   ]
  },
  {
   "cell_type": "code",
   "execution_count": null,
   "metadata": {},
   "outputs": [],
   "source": [
    "import matplotlib.pyplot as plt\n",
    "import numpy as np\n",
    "from numpy.random import randn\n",
    "plt.plot(randn(30).cumsum(), color='r', linestyle='-', marker='^')\n",
    "plt.plot(randn(30).cumsum(), color='b', linestyle='-', marker='o') \n",
    "plt.legend()\n",
    "plt.show()"
   ]
  },
  {
   "cell_type": "code",
   "execution_count": null,
   "metadata": {},
   "outputs": [],
   "source": [
    "t = np.arange(0., 5., 0.2)\n",
    "# red dashes, blue squares and green triangles\n",
    "plt.plot(t, t, 'r--', t, t**2, 'bs', t, t**3, 'g^') #同时画3条线\n",
    "plt.show()"
   ]
  },
  {
   "cell_type": "markdown",
   "metadata": {},
   "source": [
    "#### 2.4 添加文字说明\n",
    "plt.text()可以在图中的任意位置添加文字，并支持LaTex语法\n",
    "```\n",
    "text(x, y, s='this is text', fontsize=15)\n",
    "x：x 轴的位置\n",
    "y：y 轴的位置\n",
    "s：设置书写的文本内容\n",
    "fontsize：设置字的大小\n",
    "\n",
    "plt.text(50, .025, r'$\\mu=100,\\ \\sigma=15$')\n",
    "```"
   ]
  },
  {
   "cell_type": "code",
   "execution_count": null,
   "metadata": {},
   "outputs": [],
   "source": [
    "import numpy as np\n",
    "plt.plot(np.random.random(30).cumsum(), color='k', linestyle='dashed', marker='^')\n",
    "plt.text(10, 10, r'this is lable')\n",
    "plt.show()"
   ]
  },
  {
   "cell_type": "markdown",
   "metadata": {},
   "source": [
    "#### 2.5 文本注释\n",
    "在数据可视化的过程中，图片中的文字经常被用来注释图中的一些特征。使用annotate()方法可以很方便地添加此类注释。在使用annotate时，要考虑两个点的坐标：被注释的地方xy(x, y)和插入文本的地方xytext(x, y)\n",
    "```\n",
    "annotate(\n",
    "s='lxz', xy=(1980, 65.1), xytext=(1970, 77.1), xycoords='data',\n",
    "    textcoords='data', color='r', fontsize=20, \n",
    "    arrowprops=dict(arrowstyle=\"->\",connectionstyle='arc3',color='r',)\n",
    ")\n",
    "s：代表要注释的内容（必选参数）\n",
    "xy：（实际点）代表 x、y 轴的位置（必选参数）\n",
    "xytext：（\"注释内容\"的实际位置）调整\"注释内容\"的位置，不设置就默认使用 xy 的位置\n",
    "xycoords：（实际点）默认为 data，代表注释（可选）\n",
    "textcoords：（\"注释内容\"的实际样式）不设置就默认使用 xycoords 的设置（可选）\n",
    "color：注释内容的颜色\n",
    "fontsize：注释内容的字体大小\n",
    "# 设置箭头\n",
    "arrowprops=dict(arrowstyle=\"->\",connectionstyle='arc3',color='r',)\n",
    "arrowstyle：设置箭头样式\n",
    "connectionstyle：连接风格\n",
    "color：箭头颜色\n",
    "\n",
    "plt.annotate(s='local max', xy=(2, 1), xytext=(3, 1.5),\n",
    "            arrowprops=dict(facecolor='black', shrink=0.05))\n",
    "```"
   ]
  },
  {
   "cell_type": "code",
   "execution_count": null,
   "metadata": {},
   "outputs": [],
   "source": [
    "import numpy as np\n",
    "plt.plot(np.random.random(30).cumsum(), color='k', linestyle='dashed', marker='^')\n",
    "plt.annotate('local max', xy=(15, 8), xytext=(8, 12),\n",
    "            arrowprops=dict(facecolor='r', shrink=0.05))\n",
    "plt.show()"
   ]
  },
  {
   "cell_type": "code",
   "execution_count": null,
   "metadata": {},
   "outputs": [],
   "source": [
    "import matplotlib.pyplot as plt\n",
    "from matplotlib import style\n",
    "\n",
    "style.use('ggplot')\n",
    "\n",
    "fig = plt.figure()\n",
    "ax1 = plt.subplot2grid((1,1), (0,0))\n",
    "\n",
    "ax1.plot([1,2,3],[3,7,2],label = 'price')\n",
    "ax1.plot([3,7,2],[1,2,3],label = 'price2')\n",
    "\n",
    "font_dict = {'family':'serif',\n",
    "             'color':'darkred',\n",
    "             'size':15}\n",
    "\n",
    "#我们使用ax1.text添加文本，坐标为（4，4）\n",
    "#我们使用fontdict参数添加一个数据字典，来使用所用的字体。 \n",
    "#在我们的字体字典中，我们将字体更改为serif，颜色为『深红色』，然后将字体大小更改为 15。\n",
    "ax1.text(4, 4,'Text Example(4,4)', fontdict=font_dict)\n",
    "\n",
    "\n",
    "#用另一种方式进行注解,xytext为比例\n",
    "ax1.annotate('2nd annotation',(2.9,2.9),\n",
    "             xytext=(0.4, 0.6), textcoords='axes fraction',\n",
    "             arrowprops = dict(facecolor='grey',color='grey'))\n",
    "\n",
    "plt.legend()\n",
    "plt.show()"
   ]
  },
  {
   "cell_type": "markdown",
   "metadata": {},
   "source": [
    "#### 2.6 轴记号\n",
    "\n",
    "plt.xticks()/plt.yticks()人为设置坐标轴的刻度显示的值"
   ]
  },
  {
   "cell_type": "code",
   "execution_count": null,
   "metadata": {},
   "outputs": [],
   "source": [
    "import numpy as np\n",
    "import matplotlib.pyplot as plt\n",
    "x = range(1,13,1)\n",
    "y = range(1,13,1)\n",
    "plt.plot(x,y)\n",
    "plt.xticks(x, ('Tom','Dick','Harry','Sally','Sue','Lily','Ava','Isla','Rose','Jack','Leo','Charlie'))\n",
    "plt.show()"
   ]
  },
  {
   "cell_type": "markdown",
   "metadata": {},
   "source": [
    "#### 2.7 中文和字体\n",
    "\n",
    "\n",
    "下面是windows系统\n",
    "\n",
    "方法一\n",
    "```\n",
    "# 污染全局字体设置\n",
    "plt.rcParams['font.sans-serif'] = ['SimHei'] # 步骤一（替换sans-serif字体）\n",
    "plt.rcParams['axes.unicode_minus'] = False   # 步骤二（解决坐标轴负数的负号显示问题）\n",
    "```\n",
    "\n",
    "方法二\n",
    "```\n",
    "# 不污染全局字体设置\n",
    "plt.ylabel(\"y轴\", fontproperties=\"SimSun\") # （宋体）\n",
    "plt.title(\"标题\", fontproperties=\"SimHei\") # （黑体）\n",
    "```\n",
    "\n",
    "字体大小\n",
    "```\n",
    "plt.rcParams['xtick.labelsize'] = 24\n",
    "plt.rcParams['ytick.labelsize'] = 20\n",
    "plt.rcParams['font.size'] = 15\n",
    "```\n",
    "\n",
    "\n",
    "mac系统字体不一样，对应语句： plt.rcParams['font.sans-serif']=['Songti SC']"
   ]
  },
  {
   "cell_type": "code",
   "execution_count": null,
   "metadata": {},
   "outputs": [],
   "source": [
    "x = range(1,13,1)\n",
    "y = range(1,13,1)\n",
    "plt.rcParams['font.sans-serif'] = ['SimHei']\n",
    "plt.rcParams['axes.unicode_minus']=False\n",
    "plt.plot(x,y)\n",
    "plt.title('中文测试')\n",
    "plt.show()"
   ]
  },
  {
   "cell_type": "markdown",
   "metadata": {},
   "source": [
    "#### 2.8 边框和水平线条"
   ]
  },
  {
   "cell_type": "code",
   "execution_count": null,
   "metadata": {},
   "outputs": [],
   "source": [
    "fig = plt.figure()\n",
    "ax1 = plt.subplot2grid((1,1), (0,0))\n",
    "ax1.plot([1,2,3],[3,7,2],label = 'price', color= 'b')\n",
    "\n",
    "#左边框设为青色\n",
    "ax1.spines['left'].set_color('c')\n",
    "\n",
    "#删除右、上边框\n",
    "ax1.spines['right'].set_visible(False)\n",
    "ax1.spines['top'].set_visible(False)\n",
    "\n",
    "#让左边框变粗\n",
    "ax1.spines['left'].set_linewidth(5)\n",
    "\n",
    "#橙色的x轴数值\n",
    "ax1.tick_params(axis='x', colors='#f06215')\n",
    "\n",
    "#直接画一条水平线\n",
    "ax1.axhline(5, color='y', linewidth=3)\n",
    "\n",
    "plt.show()"
   ]
  },
  {
   "cell_type": "markdown",
   "metadata": {},
   "source": [
    "#### 2.9 添加bbox"
   ]
  },
  {
   "cell_type": "markdown",
   "metadata": {},
   "source": [
    "虽然人们喜欢在他们的实时图表中看到历史价格，他们也想看到最新的价格。 大多数应用程序做的是，在价格的y轴高度处注释最后价格，然后突出显示它，并在价格变化时，在框中将其略微移动。 使用我们最近学习的注解教程，我们可以添加一个bbox。"
   ]
  },
  {
   "cell_type": "code",
   "execution_count": null,
   "metadata": {},
   "outputs": [],
   "source": [
    "import matplotlib.pyplot as plt\n",
    "from matplotlib import style\n",
    "\n",
    "style.use('ggplot')\n",
    "\n",
    "fig = plt.figure()\n",
    "ax1 = plt.subplot2grid((1,1), (0,0))\n",
    "x = [1, 2, 3, 5, 6, 7, 8]\n",
    "y = [3, 4, 2, 5, 6, 5, 3.56]\n",
    "ax1.plot(x,y,label = 'price')\n",
    "\n",
    "#bbox样式,包含盒子样式，然后是白色（w）前景色，黑色（k）边框颜色并且线宽为 1。\n",
    "bbox_props = dict(boxstyle='round',fc='w', ec='k',lw=1)\n",
    "\n",
    "#我们不在这里使用它，但我们将要注解的点指定为图上最后一个点。 接下来，我们使用xytext将我们的文本放置到特定位置。 \n",
    "#我们将它的y坐标指定为最后一个点的y坐标，x坐标指定为最后一个点的x坐标，再加上几个点。我们这样做是为了将它移出图表。 \n",
    "#将文本放在图形外面就足够了，但现在它只是一些浮动文本。\n",
    "ax1.annotate(str(y[-1]), (x[-1], y[-1]),\n",
    "             xytext = (x[-1]+0.8, y[-1]), bbox=bbox_props)\n",
    "\n",
    "#最后，这个注解向右移动，需要我们使用subplots_adjust来创建一些新空间\n",
    "plt.subplots_adjust(left=0.11, bottom=0.24, right=0.87, top=0.90, wspace=0.2, hspace=0)\n",
    "\n",
    "plt.legend()\n",
    "plt.show()"
   ]
  },
  {
   "cell_type": "markdown",
   "metadata": {},
   "source": [
    "#### 2.10 非线性的尺度\n",
    "\n",
    "如果数据跨度非常大，超越了几个量级，我们就使用非线性的尺度。非常简单。"
   ]
  },
  {
   "cell_type": "code",
   "execution_count": null,
   "metadata": {
    "scrolled": true
   },
   "outputs": [],
   "source": [
    "from matplotlib.ticker import NullFormatter  # useful for `logit` scale\n",
    "\n",
    "#新加的代码，解决对数轴坐标乱码问题\n",
    "import matplotlib as mpl\n",
    "\n",
    "# mpl.rcParams.update(\n",
    "# {'text.usetex': False,\n",
    "# 'font.family': 'stixgeneral',\n",
    "# 'mathtext.fontset':'stix',\n",
    "# }\n",
    "# )\n",
    "\n",
    "# Fixing random state for reproducibility\n",
    "np.random.seed(19680801)\n",
    "\n",
    "# make up some data in the interval ]0, 1[\n",
    "y = np.random.normal(loc=0.5, scale=0.4, size=1000)\n",
    "y = y[(y > 0) & (y < 1)]\n",
    "y.sort()\n",
    "x = np.arange(len(y))\n",
    "\n",
    "# plot with various axes scales\n",
    "plt.figure(1)\n",
    "\n",
    "# linear\n",
    "plt.subplot(221) #指定子图\n",
    "plt.plot(x, y)\n",
    "plt.yscale('linear')\n",
    "plt.title('linear')\n",
    "plt.grid(True)\n",
    "\n",
    "\n",
    "# log\n",
    "plt.subplot(222)\n",
    "plt.plot(x, y)\n",
    "plt.yscale('log')\n",
    "plt.title('log')\n",
    "plt.grid(True)\n",
    "\n",
    "\n",
    "# symmetric log\n",
    "plt.subplot(223)\n",
    "plt.plot(x, y - y.mean())\n",
    "plt.yscale('symlog', linthresh=0.01)\n",
    "plt.title('symlog')\n",
    "plt.grid(True)\n",
    "\n",
    "# logit\n",
    "plt.subplot(224)\n",
    "plt.plot(x, y)\n",
    "plt.yscale('logit')\n",
    "plt.title('logit')\n",
    "plt.grid(True)\n",
    "# Format the minor tick labels of the y-axis into empty strings with\n",
    "# `NullFormatter`, to avoid cumbering the axis with too many labels.\n",
    "plt.gca().yaxis.set_minor_formatter(NullFormatter())\n",
    "# Adjust the subplot layout, because the logit one may take more space\n",
    "# than usual, due to y-tick labels like \"1 - 10^{-3}\"\n",
    "plt.subplots_adjust(top=0.92, bottom=0.08, left=0.10, right=0.95, hspace=0.25,\n",
    "                    wspace=0.35)\n",
    "\n",
    "plt.show()"
   ]
  },
  {
   "cell_type": "markdown",
   "metadata": {},
   "source": [
    "#### 2.11 保存图形\n",
    "```\n",
    "plt.savefig('tmp/1.png')\n",
    "```"
   ]
  },
  {
   "cell_type": "code",
   "execution_count": null,
   "metadata": {},
   "outputs": [],
   "source": [
    "x = range(1,13,1)\n",
    "y = range(1,13,1)\n",
    "plt.rcParams['font.sans-serif'] = ['SimHei']\n",
    "plt.rcParams['axes.unicode_minus']=False\n",
    "plt.plot(x,y)\n",
    "plt.title('中文')\n",
    "plt.savefig('tmp/1.png')\n",
    "plt.show()\n"
   ]
  },
  {
   "cell_type": "markdown",
   "metadata": {},
   "source": [
    "### 3.基本类型绘图"
   ]
  },
  {
   "cell_type": "markdown",
   "metadata": {},
   "source": [
    "#### 3.1 点线图\n",
    "\n",
    "```\n",
    "plot(X, Y, color, label, linewidth, linestyle, \n",
    "        marker, markerfacecolor, markersize\n",
    "        )\n",
    "    \n",
    "（1）color/c：线条颜色\n",
    "Example：\n",
    "plot(X, Y, color='b')\n",
    "==========  ========\n",
    "'b'         blue\n",
    "'g'         green\n",
    "'r'         red\n",
    "'c'         cyan\n",
    "'m'         magenta\n",
    "'y'         yellow\n",
    "'k'         black\n",
    "'w'         white\n",
    "==========  ========\n",
    "\n",
    "（2）label：设置图例的标签\n",
    "Example：\n",
    "plot(X, Y, label='women')\n",
    "legend(loc='best')\n",
    "label：自定义设置\n",
    "\n",
    "（3）linewidth/lw：设置线条的宽度\n",
    "Example：\n",
    "plot(X, Y, linewidth=2)\n",
    "linewidth：自定义设置\n",
    "\n",
    "（4）linestyle/ls：线条风格\n",
    "['solid' | 'dashed', 'dashdot', 'dotted' , '-', '--', '-.', ':']\n",
    "\n",
    "（5）marker：线条标记\n",
    "     markerfacecolor/mfc：标记的颜色\n",
    "     markersize/ms：标记的大小\n",
    "Example：\n",
    "plot(X, Y, marker='>', mfc='r', ms=15)     \n",
    "\n",
    "character           description\n",
    "================    =======================\n",
    "``'-'``             solid line style\n",
    "``'--'``            dashed line style\n",
    "``'-.'``            dash-dot line style\n",
    "``':'``             dotted line style\n",
    "``'.'``             point marker\n",
    "``','``             pixel marker\n",
    "``'o'``             circle marker\n",
    "``'v'``             triangle_down marker\n",
    "``'^'``             triangle_up marker\n",
    "``'<'``             triangle_left marker\n",
    "``'>'``             triangle_right marker\n",
    "``'1'``             tri_down marker\n",
    "``'2'``             tri_up marker\n",
    "``'3'``             tri_left marker\n",
    "``'4'``             tri_right marker\n",
    "``'s'``             square marker\n",
    "``'p'``             pentagon marker\n",
    "``'*'``             star marker\n",
    "``'h'``             hexagon1 marker\n",
    "``'H'``             hexagon2 marker\n",
    "``'+'``             plus marker\n",
    "``'x'``             x marker\n",
    "``'D'``             diamond marker\n",
    "``'d'``             thin_diamond marker\n",
    "``'|'``             vline marker\n",
    "``'_'``             hline marker\n",
    "```"
   ]
  },
  {
   "cell_type": "code",
   "execution_count": null,
   "metadata": {},
   "outputs": [],
   "source": [
    "x = [1,2,3]\n",
    "y = [5,7,4]\n",
    "\n",
    "x2 = [1,2,3]\n",
    "y2 = [10,14,12]"
   ]
  },
  {
   "cell_type": "code",
   "execution_count": null,
   "metadata": {},
   "outputs": [],
   "source": [
    "# 这样我们可以画出两个线条，接下来：\n",
    "plt.plot(x, y, label='First Line',marker='>')\n",
    "\n",
    "\n",
    "plt.plot(x2, y2, color='g', label='Second Line')"
   ]
  },
  {
   "cell_type": "code",
   "execution_count": null,
   "metadata": {},
   "outputs": [],
   "source": [
    "plt.show()"
   ]
  },
  {
   "cell_type": "markdown",
   "metadata": {},
   "source": [
    "#### 3.2 条形图"
   ]
  },
  {
   "cell_type": "markdown",
   "metadata": {},
   "source": [
    "plt.bar为我们创建条形图。 如果你没有明确选择一种颜色，那么虽然做了多个图，所有的条看起来会一样。 这让我们有机会使用一个新的 Matplotlib 自定义选项。 你可以在任何类型的绘图中使用颜色，例如g为绿色，b为蓝色，r为红色，等等。 你还可以使用十六进制颜色代码，如#191970\n",
    "```\n",
    "第一种：一个刻度线一个条形图\n",
    "bar(x, height, width, color, align='center')  纵向\n",
    "ax.barh(y, width, height) 横向\n",
    "\n",
    "第二种：一个刻度线多个条形图\n",
    "bar_width = 0.35\n",
    "plt.bar(x, dt2015, label = '2015', bar_width)\n",
    "plt.bar(x + bar_width, dt2016, label = '2016', bar_width)\n",
    "plt.bar(x + 2 * bar_width, dt2016, label = '2017', bar_width)\n",
    "\n",
    "第三种：y 的正轴、负轴显示条形图\n",
    "plt.bar(x, + dt2015, label = '2015') y 的正轴显示\n",
    "plt.bar(x, - dt2015, label = '2015') y 的负轴显示\n",
    "\n",
    "x: 条形图在x轴位置, 某种情况下巧用\"整型\"索引值：df.index.tolist()\n",
    "height: 条形图高度\n",
    "width: 条形图的宽度\n",
    "align: 向哪里对齐，center中心对齐，edge边缘对齐\n",
    "```"
   ]
  },
  {
   "cell_type": "code",
   "execution_count": null,
   "metadata": {},
   "outputs": [],
   "source": [
    "plt.barh([1,3,5,7,9],[5,2,7,8,2], label=\"Example one\")\n",
    "\n",
    "plt.barh([2,4,6,8,10],[8,6,2,5,6], label=\"Example two\", color='g')\n",
    "plt.legend()\n",
    "plt.xlabel('bar number')\n",
    "plt.ylabel('bar height')\n",
    "\n",
    "plt.title('Epic Graph\\nAnother Line! Whoa')\n",
    "\n",
    "plt.show()"
   ]
  },
  {
   "cell_type": "code",
   "execution_count": null,
   "metadata": {},
   "outputs": [],
   "source": [
    "plt.bar([1,3,5,7,9],[5,2,7,8,2], label=\"Example one\")\n",
    "\n",
    "plt.bar([2,4,6,8,10],[8,6,2,5,6], label=\"Example two\", color='g')\n",
    "plt.legend()\n",
    "plt.xlabel('bar number')\n",
    "plt.ylabel('bar height')\n",
    "\n",
    "plt.title('Epic Graph\\nAnother Line! Whoa')\n",
    "\n",
    "plt.show()"
   ]
  },
  {
   "cell_type": "markdown",
   "metadata": {},
   "source": [
    "#### 3.3 直方图"
   ]
  },
  {
   "cell_type": "markdown",
   "metadata": {},
   "source": [
    "作用：用于探索某类数据的集中分布，发现某类数据的核心点在哪个值的范围\n",
    "```\n",
    "ax.hist(x, range(1, 5), bins=20)\n",
    "x：必选参数\n",
    "range(1, 5)：可选/可不选参数，代表限定 x 轴的区域(X 轴从 1 开始到 5 结束)\n",
    "bins = 20: 可选/可不选参数,直方图的宽度\n",
    "```\n",
    "直方图非常像条形图，倾向于通过将区段组合在一起来显示分布。 这个例子可能是年龄的分组，或测试的分数。 我们并不是显示每一组的年龄，而是按照 20 ~ 25，25 ~ 30... 等等来显示年龄。 这里有一个例子："
   ]
  },
  {
   "cell_type": "code",
   "execution_count": null,
   "metadata": {},
   "outputs": [],
   "source": [
    "population_ages = [22,55,62,45,21,22,34,42,42,4,99,102,110,120,121,122,130,111,115,112,80,75,65,54,44,43,42,48]\n",
    "\n",
    "bins = [0,10,20,30,40,50,60,70,80,90,100,110,120,130]\n",
    "#直方图，rwidth为条的宽度\n",
    "plt.hist(population_ages, bins, histtype='bar', rwidth=0.9, label=\"age\")\n",
    "\n",
    "plt.xlabel('x')\n",
    "plt.ylabel('y')\n",
    "plt.title('Interesting Graph\\nCheck it out')\n",
    "plt.legend()\n",
    "plt.show()"
   ]
  },
  {
   "cell_type": "code",
   "execution_count": null,
   "metadata": {},
   "outputs": [],
   "source": [
    "len(population_ages)"
   ]
  },
  {
   "cell_type": "code",
   "execution_count": null,
   "metadata": {},
   "outputs": [],
   "source": [
    "len(bins)"
   ]
  },
  {
   "cell_type": "markdown",
   "metadata": {},
   "source": [
    "对于plt.hist，你首先需要放入所有的值，然后指定放入哪个桶或容器。 在我们的例子中，我们绘制了一堆年龄，并希望以 10 年的增量来显示它们。 我们将条形的宽度设为 0.8，但是如果你想让条形变宽，或者变窄，你可以选择其他的宽度。"
   ]
  },
  {
   "cell_type": "markdown",
   "metadata": {},
   "source": [
    "#### 3.4 散点图"
   ]
  },
  {
   "cell_type": "markdown",
   "metadata": {},
   "source": [
    "接下来，我们将介绍散点图。散点图通常用于比较两个变量来寻找相关性或分组，如果你在 3 维绘制则是 3 个。\n",
    "```\n",
    "ax.scatter(x, y, color='red', marker=\".\")\n",
    "\n",
    "marker=\".\" 是一个标记，ax.plot(x, y, color='', marker=\"o\")\n",
    "```"
   ]
  },
  {
   "cell_type": "code",
   "execution_count": null,
   "metadata": {},
   "outputs": [],
   "source": [
    "x = [1,2,3,4,5,6,7,8,2.3,3.4,5.4]\n",
    "y = [5,2,4,2,1,4,5,2,4,5,6]\n",
    "\n",
    "plt.scatter(x,y, label='skitscat', color='k', s=25, marker=\"+\")\n",
    "\n",
    "plt.xlabel('x')\n",
    "plt.ylabel('y')\n",
    "plt.title('Interesting Graph\\nCheck it out')\n",
    "plt.legend()\n",
    "plt.show()"
   ]
  },
  {
   "cell_type": "markdown",
   "metadata": {},
   "source": [
    "`plt.scatter`不仅允许我们绘制`x`和`y`，而且还可以让我们决定所使用的标记颜色，大小和类型。 有一堆标记选项，请参阅 [Matplotlib 标记文档](http://matplotlib.org/api/markers_api.html)中的所有选项。"
   ]
  },
  {
   "cell_type": "markdown",
   "metadata": {},
   "source": [
    "#### 3.5 堆叠图"
   ]
  },
  {
   "cell_type": "markdown",
   "metadata": {},
   "source": [
    "堆叠图用于显示『部分对整体』随时间的关系。 堆叠图基本上类似于饼图，只是随时间而变化。\n",
    "\n",
    "让我们考虑一个情况，我们一天有 24 小时，我们想看看我们如何花费时间。 我们将我们的活动分为：睡觉，吃饭，工作和玩耍。\n",
    "\n",
    "我们假设我们要在 5 天的时间内跟踪它，因此我们的初始数据将如下所示："
   ]
  },
  {
   "cell_type": "code",
   "execution_count": null,
   "metadata": {},
   "outputs": [],
   "source": [
    "days = [1,2,3,4,5]\n",
    "\n",
    "sleeping = [7,8,6,11,7]\n",
    "eating =   [2,3,4,3,2]\n",
    "working =  [7,8,7,2,2]\n",
    "playing =  [8,5,7,8,13]\n",
    "\n",
    "#因此，我们的x轴将包括day变量，即 1, 2, 3, 4 和 5。然后，日期的各个成分保存在它们各自的活动中。\n",
    "plt.stackplot(days, sleeping,eating,working,playing, colors=['m','c','r','yellow'])\n",
    "\n",
    "plt.xlabel('x')\n",
    "plt.ylabel('y')\n",
    "plt.title('Interesting Graph\\nCheck it out')\n",
    "plt.show()"
   ]
  },
  {
   "cell_type": "markdown",
   "metadata": {},
   "source": [
    "在这里，我们可以至少在颜色上看到，我们如何花费我们的时间。 问题是，如果不回头看代码，我们不知道什么颜色是什么。 下一个问题是，对于多边形来说，我们实际上不能为数据添加『标签』。 因此，在任何不止是线条，带有像这样的填充或堆叠图的地方，我们不能以固有方式标记出特定的部分。 这不应该阻止程序员。 我们可以解决这个问题："
   ]
  },
  {
   "cell_type": "code",
   "execution_count": null,
   "metadata": {},
   "outputs": [],
   "source": [
    "days = [1,2,3,4,5]\n",
    "\n",
    "sleeping = [7,8,6,11,7]\n",
    "eating =   [2,3,4,3,2]\n",
    "working =  [7,8,7,2,2]\n",
    "playing =  [8,5,7,8,13]\n",
    "\n",
    "#我们在这里做的是画一些空行，给予它们符合我们的堆叠图的相同颜色，和正确标签。 \n",
    "#我们还使它们线宽为 5，使线条在图例中显得较宽。\n",
    "plt.plot([],[],color='m', label='Sleeping', linewidth=5)\n",
    "plt.plot([],[],color='c', label='Eating', linewidth=5)\n",
    "plt.plot([],[],color='r', label='Working', linewidth=5)\n",
    "plt.plot([],[],color='yellow', label='Playing', linewidth=5)\n",
    "\n",
    "plt.stackplot(days, sleeping,eating,working,playing, colors=['m','c','r','yellow'])\n",
    "\n",
    "plt.xlabel('x')\n",
    "plt.ylabel('y')\n",
    "plt.title('Interesting Graph\\nCheck it out')\n",
    "plt.legend()\n",
    "plt.show()"
   ]
  },
  {
   "cell_type": "markdown",
   "metadata": {},
   "source": [
    "我们在这里做的是画一些空行，给予它们符合我们的堆叠图的相同颜色，和正确标签。 我们还使它们线宽为 5，使线条在图例中显得较宽。 现在，我们可以很容易地看到，我们如何花费我们的时间。"
   ]
  },
  {
   "cell_type": "markdown",
   "metadata": {},
   "source": [
    "#### 3.6 饼图"
   ]
  },
  {
   "cell_type": "markdown",
   "metadata": {},
   "source": [
    "饼图很像堆叠图，只是它们位于某个时间点。 通常，饼图用于显示部分对于整体的情况，通常以％为单位。 幸运的是，Matplotlib 会处理切片大小以及一切事情，我们只需要提供数值。\n",
    "\n",
    "```\n",
    "ax.pie(x, explode=None, labels=None, colors=None, shadow=False, autopct=None,\n",
    "      radius=None, startangle=None)\n",
    "\n",
    "    x: 一般是分类型、占比型数据，数组形式如: x=[1, 2, 4] 或 [[1], [2], [4]]\n",
    "    explode: 各个饼图之间的距离，列表形式如: explode=[0.12, 0.1, 0.04]\n",
    "    labels: 标签, 列表形式如: labels=['pie1', 'pie2', 'pie3'],\n",
    "            一般结合图例 ax.legend(loc='best')\n",
    "    colors: 颜色，数组形式(一维二维都行)\n",
    "    shadow: 布尔值，设置饼图边缘下面呈现一层阴影, 就会显得厚一点\n",
    "    autopct: 控制饼图内百分比设置,可以使用format字符串或者format function\n",
    "             '%1.1f'指小数点前后位数(没有用空格补齐)如：\n",
    "            autopct='%.2f'(单纯显示值); autopct='%.2f%%'(显示值和百分号)\n",
    "    radius: 饼的半径，即饼的大小,如：radius=1.2\n",
    "    startangle: 起始绘制角度,默认图是从x轴正方向逆时针画起,\n",
    "                如：startangle=90 则从y轴正方向画起\n",
    "```"
   ]
  },
  {
   "cell_type": "code",
   "execution_count": null,
   "metadata": {},
   "outputs": [],
   "source": [
    "slices = [7,2,2,13]\n",
    "activities = ['sleeping','eating','working','playing']\n",
    "cols = ['c','m','r','b']\n",
    "\n",
    "#slices是切片内容\n",
    "plt.pie(slices,\n",
    "        labels=activities,\n",
    "        colors=cols,\n",
    "        startangle=90,   #第一条线开始的角度，90度即为竖线\n",
    "        shadow= True,    \n",
    "        explode=(0,0.1,0,0),    #一个切片拉出\n",
    "        autopct='%1.1f%%')   #选择将百分比放置到图表上面\n",
    "\n",
    "plt.title('Interesting Graph\\nCheck it out')\n",
    "plt.show()"
   ]
  },
  {
   "cell_type": "markdown",
   "metadata": {},
   "source": [
    "在`plt.pie`中，我们需要指定『切片』，这是每个部分的相对大小。 然后，我们指定相应切片的颜色列表。 接下来，我们可以选择指定图形的『起始角度』。 这使你可以在任何地方开始绘图。 在我们的例子中，我们为饼图选择了 90 度角，这意味着第一个部分是一个竖直线条。 接下来，我们可以选择给绘图添加一个字符大小的阴影，然后我们甚至可以使用`explode`拉出一个切片。\n",
    "\n",
    "我们总共有四个切片，所以对于`explode`，如果我们不想拉出任何切片，我们传入`0,0,0,0`。 如果我们想要拉出第一个切片，我们传入`0.1,0,0,0`。\n",
    "\n",
    "最后，我们使用`autopct`，选择将百分比放置到图表上面。"
   ]
  },
  {
   "cell_type": "markdown",
   "metadata": {},
   "source": [
    "#### 3.7 箱形图\n",
    "```\n",
    "ax.boxplot(x)\n",
    "它由五个数值点组成：从下到上\n",
    "0%最小值(min)，25%下四分位数(Q1)，50%中位数(median)，\n",
    "75%上四分位数(Q3)，100%最大值(max)\n",
    "```\n",
    "\n",
    "作用：\n",
    "\n",
    "1、直观地识别数据集中的异常值(查看离群点),离群点单独析出\n",
    "\n",
    "2、判断数据离散程度和偏向(观察盒子的长度，上下隔间的形状，以及胡须的长度)\n"
   ]
  },
  {
   "cell_type": "code",
   "execution_count": null,
   "metadata": {},
   "outputs": [],
   "source": [
    "import numpy as np\n",
    "import  pandas as pd\n",
    "import matplotlib.pyplot as plt\n",
    "np.random.seed(10)#生成随机数\n",
    "data=np.random.normal(size=100,loc=0,scale=1)\n",
    "plt.boxplot(data,sym='o',whis=1.5)#sym='o'异常值的形状 ,whis=1.5用于调节上下垂直线的长度\n",
    "plt.show()"
   ]
  },
  {
   "cell_type": "markdown",
   "metadata": {},
   "source": [
    "#### 3.8 泡泡图\n",
    "\n",
    "散点图的一种，加入了第三个值 s 可以理解成普通散点，画的是二维，泡泡图体现了Z的大小"
   ]
  },
  {
   "cell_type": "code",
   "execution_count": null,
   "metadata": {},
   "outputs": [],
   "source": [
    "# 泡泡图\n",
    "np.random.seed(19680801)\n",
    "\n",
    "N = 50\n",
    "x = np.random.rand(N)\n",
    "y = np.random.rand(N)\n",
    "colors = np.random.rand(N)\n",
    "area = (30 * np.random.rand(N))**2  # 0 to 15 point radii\n",
    "\n",
    "plt.scatter(x, y, s=area, c=colors, alpha=0.5)\n",
    "plt.show()"
   ]
  },
  {
   "cell_type": "markdown",
   "metadata": {},
   "source": [
    "#### 3.8 等高线\n",
    "\n",
    "contour和contourf都是画三维等高线图的，不同点在于contourf会对等高线间的区域进行填充"
   ]
  },
  {
   "cell_type": "code",
   "execution_count": null,
   "metadata": {},
   "outputs": [],
   "source": [
    "x = np.arange(-5, 5, 0.1)\n",
    "y = np.arange(-5, 5, 0.1)\n",
    "xx, yy = np.meshgrid(x, y, sparse=True)\n",
    "z = np.sin(xx**2 + yy**2) / (xx**2 + yy**2)\n",
    "plt.contour(x, y, z) # contourf\n",
    "plt.show()"
   ]
  },
  {
   "cell_type": "code",
   "execution_count": null,
   "metadata": {},
   "outputs": [],
   "source": [
    "import matplotlib.pyplot as plt\n",
    "import numpy as np\n",
    "\n",
    "# 定义等高线高度函数\n",
    "def f(x, y):\n",
    "    return (1 - x / 2 + x ** 5 + y ** 3) * np.exp(- x ** 2 - y ** 2)\n",
    "\n",
    "# 数据数目\n",
    "n = 256\n",
    "# 定义x, y\n",
    "x = np.linspace(-3, 3, n)\n",
    "y = np.linspace(-3, 3, n)\n",
    "\n",
    "# 生成网格数据\n",
    "X, Y = np.meshgrid(x, y)\n",
    "\n",
    "\n",
    "# 填充等高线的颜色, 8是等高线分为几部分\n",
    "plt.contourf(X, Y, f(X, Y), 8, alpha = 0.75, cmap = plt.cm.hot)\n",
    "# 绘制等高线\n",
    "C = plt.contour(X, Y, f(X, Y), 8, colors = 'black', linewidth = 0.5)\n",
    "# 绘制等高线数据\n",
    "plt.clabel(C, inline = True, fontsize = 10)\n",
    "\n",
    "# 去除坐标轴\n",
    "plt.xticks(())\n",
    "plt.yticks(())\n",
    "plt.show()"
   ]
  },
  {
   "cell_type": "markdown",
   "metadata": {},
   "source": [
    "#### 3.9 热力图"
   ]
  },
  {
   "cell_type": "code",
   "execution_count": null,
   "metadata": {},
   "outputs": [],
   "source": [
    "X = [[1,2,3],[3,4,5],[5,6,8],[7,8,9]]  \n",
    "plt.imshow(X)  \n",
    "plt.colorbar()\n",
    "plt.show()"
   ]
  },
  {
   "cell_type": "markdown",
   "metadata": {},
   "source": [
    "#### 3.10 雷达图"
   ]
  },
  {
   "cell_type": "code",
   "execution_count": null,
   "metadata": {},
   "outputs": [],
   "source": [
    "import numpy as np\n",
    "import matplotlib.pyplot as plt\n",
    "\n",
    "# 中文和负号的正常显示\n",
    "plt.rcParams['font.sans-serif'] = 'Microsoft YaHei'\n",
    "plt.rcParams['axes.unicode_minus'] = False\n",
    "\n",
    "#使用ggplot的风格绘图\n",
    "plt.style.use('ggplot')\n",
    "\n",
    "#构造数据\n",
    "values = [3.2,2.1,3.5,2.8,3,4]\n",
    "values_1 = [3.4,3.1,4.1,1.9,3.5,4.3]\n",
    "feature = ['个人能力','QC知识',\"解决问题能力\",\"服务质量意识\",\"团队精神\",\"IQ\"]\n",
    "feature=np.concatenate((feature,[feature[0]])) #需要加一个点，才能前后连接\n",
    "N = len(values)\n",
    "\n",
    "#设置雷达图的角度，用于平分切开一个平面\n",
    "angles = np.linspace(0,2*np.pi,N,endpoint=False)\n",
    "\n",
    "#使雷达图封闭起来\n",
    "values = np.concatenate((values,[values[0]]))\n",
    "angles = np.concatenate((angles,[angles[0]]))\n",
    "\n",
    "values_1 = np.concatenate((values_1,[values_1[0]]))\n",
    "#绘图\n",
    "fig = plt.figure()\n",
    "#设置为极坐标格式\n",
    "ax = fig.add_subplot(111, polar=True)\n",
    "#绘制折线图\n",
    "ax.plot(angles,values,'o-',linewidth=2,label='活动前')\n",
    "ax.fill(angles,values,'r',alpha=0.5)\n",
    "\n",
    "#填充颜色\n",
    "ax.plot(angles,values_1,'o-',linewidth=2,label='活动后')\n",
    "ax.fill(angles,values_1,'b',alpha=0.5)\n",
    "\n",
    "#添加每个特质的标签\n",
    "ax.set_thetagrids(angles*180/np.pi,feature)\n",
    "#设置极轴范围\n",
    "ax.set_ylim(0,5)\n",
    "#添加标题\n",
    "plt.title('活动前后员工状态')\n",
    "#增加网格纸\n",
    "ax.grid(True)\n",
    "plt.show()"
   ]
  },
  {
   "cell_type": "markdown",
   "metadata": {},
   "source": [
    "### 4.复杂类型绘图"
   ]
  },
  {
   "cell_type": "markdown",
   "metadata": {},
   "source": [
    "#### 4.1 多轴图\n",
    "一个绘图对象(figure)可以包含多个轴(axis)，在Matplotlib中用轴表示一个绘图区域，可以将其理解为子图。上面的第一个例子中，绘图对象只包括一个轴，因此只显示了一个轴(子图(Axes) )。可以使用subplot函数快速绘制有多个轴的图表。subplot函数的调用形式如下：\n",
    "```subplot(numRows, numCols, plotNum)```\n",
    "\n",
    "整个绘图区域被分成 numRows 行和 numCols 列，按照从左到右，从上到下的顺序对每个子区域进行编号，左上的子区域的编号为1，plotNum 参数指定创建的 Axes 对象所在的区域\n",
    "如果numRows，numCols和plotNum这三个数都小于10的话，可以把它们缩写为一个整数，例如subplot(323)和subplot(3,2,3)是相同的\n"
   ]
  },
  {
   "cell_type": "code",
   "execution_count": null,
   "metadata": {},
   "outputs": [],
   "source": [
    "for idx, color in enumerate(\"rgbyck\"):\n",
    "     plt.subplot(320+idx+1, facecolor=color)\n",
    "plt.show()"
   ]
  },
  {
   "cell_type": "code",
   "execution_count": null,
   "metadata": {},
   "outputs": [],
   "source": [
    "plt.subplot(221) # 第一行的左图\n",
    "plt.subplot(222) # 第一行的右图\n",
    "plt.subplot(212) # 第二整行\n",
    "plt.show()"
   ]
  },
  {
   "cell_type": "code",
   "execution_count": null,
   "metadata": {},
   "outputs": [],
   "source": [
    "plt.figure()\n",
    "\n",
    "# 绘制第一个图\n",
    "plt.subplot(221)\n",
    "plt.plot([0, 1], [0, 1])\n",
    "# 绘制第二个图\n",
    "plt.subplot(2, 2, 2)\n",
    "plt.plot([0, 1], [0, 1])\n",
    "# 绘制第三个图\n",
    "plt.subplot(2, 2, 3)\n",
    "plt.plot([0, 1], [0, 1])\n",
    "# 绘制第四个图\n",
    "plt.subplot(2, 2, 4)\n",
    "plt.plot([0, 1], [0, 1])\n",
    "plt.show()"
   ]
  },
  {
   "cell_type": "code",
   "execution_count": null,
   "metadata": {},
   "outputs": [],
   "source": [
    "plt.figure()\n",
    "\n",
    "# 绘制第一个图\n",
    "plt.subplot(2, 1, 1)\n",
    "plt.plot([0, 1], [0, 1])\n",
    "# 绘制第二个图\n",
    "plt.subplot(2, 3, 4)\n",
    "plt.plot([0, 1], [0, 1])\n",
    "# 绘制第三个图\n",
    "plt.subplot(2, 3, 5)\n",
    "plt.plot([0, 1], [0, 1])\n",
    "# 绘制第四个图\n",
    "plt.subplot(2, 3, 6)\n",
    "plt.plot([0, 1], [0, 1])\n",
    "plt.show()"
   ]
  },
  {
   "cell_type": "markdown",
   "metadata": {},
   "source": [
    "#### 4.2 共享坐标轴\n",
    "\n",
    "共享一个x轴坐标，y轴左右分别使用两个刻度来标识\n",
    "\n",
    "* Axes.twinx()，Axes.twiny() 用来生成坐标轴实例以共享x或者y坐标轴\n",
    "* matplotlib.pyplot.subplots(nrows=1, ncols=1, sharex=False, sharey=False)\n",
    "  * nrows,ncols: 用来确定绘制子图的行数和列数\n",
    "  * sharex,sharey: 用来确定是否共享坐标轴刻度，当设置为True或者all时，会共享参数刻度，设置为False或者None时，每一个子绘图会有自己独立的刻度，设置为row或者col时即共享行，列的x，y坐标轴刻度，当sharex=‘col’时，只会该列最底层axes的x刻度标签会创建\n"
   ]
  },
  {
   "cell_type": "code",
   "execution_count": null,
   "metadata": {},
   "outputs": [],
   "source": [
    "# 共享x坐标轴\n",
    "# Create some mock data\n",
    "t = np.arange(0.01, 10.0, 0.01)\n",
    "data1 = np.exp(t)\n",
    "data2 = np.sin(2 * np.pi * t)\n",
    "\n",
    "fig, ax1 = plt.subplots()\n",
    "\n",
    "color = 'tab:red'\n",
    "ax1.set_xlabel('time (s)')\n",
    "ax1.set_ylabel('exp', color=color)\n",
    "ax1.plot(t, data1, color=color)\n",
    "ax1.tick_params(axis='y', labelcolor=color)\n",
    "\n",
    "ax2 = ax1.twinx()  # instantiate a second axes that shares the same x-axis\n",
    "\n",
    "color = 'tab:blue'\n",
    "ax2.set_ylabel('sin', color=color)  # we already handled the x-label with ax1\n",
    "ax2.plot(t, data2, color=color)\n",
    "ax2.tick_params(axis='y', labelcolor=color)\n",
    "\n",
    "fig.tight_layout()  # otherwise the right y-label is slightly clipped\n",
    "plt.show()"
   ]
  },
  {
   "cell_type": "code",
   "execution_count": null,
   "metadata": {},
   "outputs": [],
   "source": [
    "# 列图像共享x坐标轴\n",
    "#生成数据集\n",
    "t = np.arange(0.01, 10.0, 0.01)\n",
    "data1 = np.sin(np.pi*t)#生成指数数据集\n",
    "data2 = np.sin(2 * np.pi * t)\n",
    "data3=np.cos(2*np.pi*t)\n",
    "data4=np.cos(2.5*np.pi*t)\n",
    "\n",
    "fig,ax=plt.subplots(2, 2, sharex='col')#设置sharex参数为True或者all或者col来实现\n",
    "#分别绘制四个子图空间的图形\n",
    "ax1=ax[0,0]\n",
    "ax1.plot(t,data1)\n",
    "\n",
    "ax2=ax[0,1]\n",
    "ax2.plot(t,data2)\n",
    "\n",
    "ax3=ax[1,0]\n",
    "ax3.plot(t,data3)\n",
    "\n",
    "ax4=ax[1,1]\n",
    "ax4.plot(t,data4)\n",
    "\n",
    "plt.show()"
   ]
  },
  {
   "cell_type": "markdown",
   "metadata": {},
   "source": [
    "#### 4.3 三维图\n",
    "mpl_toolkits.mplot3d模块在matplotlib基础上提供了三维绘图的功能。由于它使用matplotlib的二维绘图功能来实现三维图形的绘制工作，因此绘图速度有限，不适合用于大规模数据的三维绘图。如果需要更复杂的三维数据可视化功能，可使用Mayavi。\n",
    "\n",
    "```\n",
    "1 创建3D图形对象\n",
    "fig = plt.figure()  # 创建图像对象\n",
    "ax = Axes3D(fig)    # 创建3D的多轴对象\n",
    "\n",
    "2 绘制曲面\n",
    "Axes3D.plot_surface(X, Y, Z, *args, **kwargs)\n",
    "\n",
    "参数：\n",
    "    - X,Y,Z：二维数组类型\n",
    "    - rcount, ccount：指定x, y方向的贴片数（数字越大网格越密集）\n",
    "    - color：color-like类型，表面贴片的颜色\n",
    "    - cmap：colormap类型，表面贴片的色图，建议使用'jet'或 plt.cm.jet\n",
    "返回：\n",
    "    - 空\n",
    "\n",
    "3.设置轴范围\n",
    "设置 x,y,z 轴的范围[a, b]\n",
    "ax.set_xlim(a, b)\n",
    "ax.set_ylim(a, b)\n",
    "ax.set_zlim(a, b)\n",
    "```"
   ]
  },
  {
   "cell_type": "code",
   "execution_count": null,
   "metadata": {},
   "outputs": [],
   "source": [
    "import matplotlib.pyplot as plt\n",
    "import numpy as np\n",
    "from mpl_toolkits.mplot3d import Axes3D\n",
    "fig = plt.figure(figsize=(8, 6))\n",
    "ax = Axes3D(fig)\n",
    "delta = 0.125\n",
    "# 生成代表X轴数据的列表\n",
    "x = np.arange(-3.0, 3.0, delta)\n",
    "# 生成代表Y轴数据的列表\n",
    "y = np.arange(-2.0, 2.0, delta)\n",
    "# 对x、y数据执行网格化\n",
    "X, Y = np.meshgrid(x, y)\n",
    "Z1 = np.exp(-X**2 - Y**2)\n",
    "Z2 = np.exp(-(X - 1)**2 - (Y - 1)**2)\n",
    "# 计算Z轴数据（高度数据）\n",
    "Z = (Z1 - Z2) * 2\n",
    "# 绘制3D图形\n",
    "ax.plot_surface(X, Y, Z,\n",
    "    rstride=1,  # rstride（row）指定行的跨度\n",
    "    cstride=1,  # cstride(column)指定列的跨度\n",
    "    cmap=plt.get_cmap('rainbow'))  # 设置颜色映射\n",
    "# 设置Z轴范围\n",
    "ax.set_zlim(-2, 2)\n",
    "# 设置标题\n",
    "plt.title(\"3D\")\n",
    "plt.show()"
   ]
  },
  {
   "cell_type": "markdown",
   "metadata": {},
   "source": [
    "**投影模式**\n",
    "\n",
    "投影模式决定了点从数据坐标转换为屏幕坐标的方式.可以通过下面的语句获得当前有效的投影模式的名称：\n",
    "```\n",
    "from matplotlib import projections\n",
    "projections.get_projection_names()\n",
    "\n",
    "```\n",
    "\n",
    "只有在载入mplot3d模块之后，此列表中才会出現’3d’投影模式。’aitoff’、’hammer’ 、’lamberf’ 、 ’mollweide’等均为地图投影，’polar’ 为极坐标投影，‘rectilinear’则是默认的直线投影模式。\n"
   ]
  },
  {
   "cell_type": "code",
   "execution_count": null,
   "metadata": {},
   "outputs": [],
   "source": [
    "import numpy as np\n",
    "import mpl_toolkits.mplot3d \n",
    "import matplotlib.pyplot as plt\n",
    "\n",
    "x, y = np.mgrid[-2:2:20j, -2:2:20j] \n",
    "z = x * np.exp( - x**2 - y**2)\n",
    "ax = plt.subplot(111, projection='3d') \n",
    "ax.plot_surface(x, y, z, rstride=2, cstride=1, cmap = plt.cm.Blues_r) \n",
    "ax.set_xlabel(\"X\")\n",
    "ax.set_ylabel(\"Y\")\n",
    "ax.set_zlabel(\"Z\")\n",
    "plt.show()"
   ]
  },
  {
   "cell_type": "code",
   "execution_count": null,
   "metadata": {},
   "outputs": [],
   "source": [
    "from matplotlib import cm\n",
    "import matplotlib.pyplot as plt\n",
    "import numpy as np\n",
    "fig = plt.figure()\n",
    "ax = fig.gca(projection='3d')\n",
    "X = np.arange(-5, 5, 0.25)\n",
    "Y = np.arange(-5, 5, 0.25)\n",
    "X, Y = np.meshgrid(X, Y)\n",
    "R = np.sqrt(X**2 + Y**2)\n",
    "Z = np.sin(R)\n",
    "surf = ax.plot_surface(X, Y, Z, rstride=1, cstride=1, cmap=cm.coolwarm)\n",
    "plt.show()"
   ]
  },
  {
   "cell_type": "markdown",
   "metadata": {},
   "source": [
    "#### 4.4 子图"
   ]
  },
  {
   "cell_type": "markdown",
   "metadata": {},
   "source": [
    "首先，让我们使用样式，创建我们的图表，然后创建一个随机创建示例绘图的函数："
   ]
  },
  {
   "cell_type": "code",
   "execution_count": null,
   "metadata": {},
   "outputs": [],
   "source": [
    "import random\n",
    "import matplotlib.pyplot as plt\n",
    "from matplotlib import style\n",
    "\n",
    "style.use('fivethirtyeight')\n",
    "\n",
    "fig = plt.figure()\n",
    "\n",
    "def create_plots():\n",
    "    xs = []\n",
    "    ys = []\n",
    "\n",
    "    for i in range(10):\n",
    "        x = i\n",
    "        y = random.randrange(10)\n",
    "\n",
    "        xs.append(x)\n",
    "        ys.append(y)\n",
    "    return xs, ys\n",
    "\n",
    "#使用add_subplot方法创建子图：(221是缩写形式，仅在行数乘列数小于 10 时有效，否则要写成2,2,1。)\n",
    "ax1 = fig.add_subplot(221)\n",
    "ax2 = fig.add_subplot(222)\n",
    "ax3 = fig.add_subplot(212)\n",
    "\n",
    "\n",
    "ax1.plot(create_plots()[0],create_plots()[1])\n",
    "ax2.plot(create_plots()[0],create_plots()[1])\n",
    "ax3.plot(create_plots()[0],create_plots()[1])\n",
    "\n",
    "plt.show()"
   ]
  },
  {
   "cell_type": "markdown",
   "metadata": {},
   "source": [
    "#### 它的工作原理是使用 3 个数字，即：行数（numRows）、列数（numCols）和绘图编号（plotNum）。\n",
    "\n",
    "- 所以，221 表示两行两列的第一个位置。222 是两行两列的第二个位置。最后，212 是两行一列的第二个位置。"
   ]
  },
  {
   "cell_type": "markdown",
   "metadata": {},
   "source": [
    "<pre>\n",
    "2x2：\n",
    "\n",
    "+-----+-----+\n",
    "|  1  |  2  |\n",
    "+-----+-----+\n",
    "|  3  |  4  |\n",
    "+-----+-----+\n",
    "\n",
    "2x1：\n",
    "\n",
    "+-----------+\n",
    "|     1     |\n",
    "+-----------+\n",
    "|     2     |\n",
    "+-----------+\n",
    "</pre>"
   ]
  },
  {
   "cell_type": "markdown",
   "metadata": {},
   "source": [
    "#### 接下来，让我们介绍另一种方法，它是subplot2grid。"
   ]
  },
  {
   "cell_type": "code",
   "execution_count": null,
   "metadata": {},
   "outputs": [],
   "source": [
    "ax1 = plt.subplot2grid((6,1), (0,0), rowspan=1, colspan=1)\n",
    "ax2 = plt.subplot2grid((6,1), (1,0), rowspan=4, colspan=1)\n",
    "ax3 = plt.subplot2grid((6,1), (5,0), rowspan=1, colspan=1)"
   ]
  },
  {
   "cell_type": "markdown",
   "metadata": {},
   "source": [
    "所以，add_subplot不能让我们使一个绘图覆盖多个位置。 但是这个新的subplot2grid可以。 所以，subplot2grid的工作方式是首先传递一个元组，它是网格形状。 我们传递了(6,1)，这意味着整个图表分为六行一列。 下一个元组是左上角的起始点。 对于ax1，这是0,0，因此它起始于顶部。 接下来，我们可以选择指定rowspan和colspan。 这是轴域所占的行数和列数。"
   ]
  },
  {
   "cell_type": "markdown",
   "metadata": {},
   "source": [
    "<pre>\n",
    "6x1：\n",
    "\n",
    "          colspan=1\n",
    "(0,0)   +-----------+\n",
    "        |    ax1    | rowspan=1\n",
    "(1,0)   +-----------+\n",
    "        |           |\n",
    "        |    ax2    | rowspan=4\n",
    "        |           |\n",
    "        |           |\n",
    "(5,0)   +-----------+\n",
    "        |    ax3    | rowspan=1\n",
    "        +-----------+\n",
    "</pre>"
   ]
  },
  {
   "cell_type": "code",
   "execution_count": null,
   "metadata": {},
   "outputs": [],
   "source": [
    "style.use('fivethirtyeight')\n",
    "\n",
    "fig = plt.figure()\n",
    "\n",
    "def create_plots():\n",
    "    xs = []\n",
    "    ys = []\n",
    "\n",
    "    for i in range(10):\n",
    "        x = i\n",
    "        y = random.randrange(10)\n",
    "\n",
    "        xs.append(x)\n",
    "        ys.append(y)\n",
    "    return xs, ys\n",
    "\n",
    "ax1 = plt.subplot2grid((6,1), (0,0), rowspan=1, colspan=1)\n",
    "ax2 = plt.subplot2grid((6,1), (1,0), rowspan=4, colspan=1)\n",
    "ax3 = plt.subplot2grid((6,1), (5,0), rowspan=1, colspan=1)\n",
    "\n",
    "ax1.plot(create_plots()[0],create_plots()[1])\n",
    "ax2.plot(create_plots()[0],create_plots()[1])\n",
    "ax3.plot(create_plots()[0],create_plots()[1])\n",
    "\n",
    "plt.show()"
   ]
  }
 ],
 "metadata": {
  "celltoolbar": "Slideshow",
  "kernelspec": {
   "display_name": "Python 3",
   "language": "python",
   "name": "python3"
  },
  "language_info": {
   "codemirror_mode": {
    "name": "ipython",
    "version": 3
   },
   "file_extension": ".py",
   "mimetype": "text/x-python",
   "name": "python",
   "nbconvert_exporter": "python",
   "pygments_lexer": "ipython3",
   "version": "3.8.8"
  }
 },
 "nbformat": 4,
 "nbformat_minor": 1
}
