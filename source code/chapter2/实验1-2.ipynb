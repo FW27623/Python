{
 "cells": [
  {
   "cell_type": "markdown",
   "id": "e8c1cc9b",
   "metadata": {},
   "source": [
    "3.1 请用索引取出下面list的指定元素：\n",
    "L = [\n",
    "  \t  ['Apple', 'Google', 'Microsoft'],\n",
    "  \t  ['Java', 'Python', 'Ruby', 'PHP'],\n",
    "  \t  ['Adam', 'Bart', 'Lisa']\n",
    "]\n",
    "# 打印Apple:\n",
    "print(?)\n",
    "# 打印Python:\n",
    "print(?)\n",
    "# 打印Lisa:\n",
    "print(?)"
   ]
  },
  {
   "cell_type": "code",
   "execution_count": 1,
   "id": "773e2a63",
   "metadata": {
    "scrolled": true
   },
   "outputs": [
    {
     "name": "stdout",
     "output_type": "stream",
     "text": [
      "Apple\n",
      "Python\n",
      "Lisa\n"
     ]
    }
   ],
   "source": [
    "L = [['Apple', 'Google', 'Microsoft'],['Java', 'Python', 'Ruby', 'PHP'],['Adam', 'Bart', 'Lisa']]\n",
    "print(L[0][0])\n",
    "print(L[1][1])\n",
    "print(L[-1][-1])"
   ]
  },
  {
   "cell_type": "markdown",
   "id": "e1ae288c",
   "metadata": {},
   "source": [
    "3.2 （1）创建列表存储行星：\"金星\",\"地球\",\"火星\",\"木星\",\"土星\",\"天王星\"，并打印查看列表\n",
    "（2）在第一个位置插入\"水星\"，并打印查看列表\n",
    "（3）在末尾追加\"海王星\"，并打印查看列表\n",
    "（4）打印从太阳到地球之间的行星(前两个行星)\n",
    "（5）打印地球以后(不包括地球)的行星\n",
    "（6）倒序打印所有行星"
   ]
  },
  {
   "cell_type": "code",
   "execution_count": 2,
   "id": "95bc9b4c",
   "metadata": {},
   "outputs": [
    {
     "name": "stdout",
     "output_type": "stream",
     "text": [
      "['金星', '地球', '火星', '木星', '土星', '天王星']\n",
      "['水星', '金星', '地球', '火星', '木星', '土星', '天王星']\n",
      "['水星', '金星', '地球', '火星', '木星', '土星', '天王星', '海王星']\n",
      "['水星', '金星']\n",
      "['火星', '木星', '土星', '天王星', '海王星']\n",
      "['海王星', '天王星', '土星', '木星', '火星', '地球', '金星', '水星']\n"
     ]
    }
   ],
   "source": [
    "X=[\"金星\",\"地球\",\"火星\",\"木星\",\"土星\",\"天王星\"]\n",
    "print(X)\n",
    "X.insert(0,'水星')\n",
    "print(X)\n",
    "X.append('海王星')\n",
    "print(X)\n",
    "print(X[:2])\n",
    "print(X[3:])\n",
    "print(X[::-1])"
   ]
  },
  {
   "cell_type": "markdown",
   "id": "652cd737",
   "metadata": {},
   "source": [
    "3.3 输入月份2,判断这个月是哪个季节？\n",
    "3，4，5月----春季  6，7，8----夏季   9，10，11---秋季  12，1，2----冬季"
   ]
  },
  {
   "cell_type": "code",
   "execution_count": 3,
   "id": "3beae291",
   "metadata": {},
   "outputs": [
    {
     "name": "stdout",
     "output_type": "stream",
     "text": [
      "2月属于冬天\n"
     ]
    }
   ],
   "source": [
    "month=2\n",
    "spring=[3,4,5]\n",
    "summer=[6,7,8]\n",
    "autom=[9,10,11]\n",
    "winter=[12,1,2]\n",
    "if month in spring:\n",
    "    print('%s月属于春天'%(month))\n",
    "elif month in summer:\n",
    "    print('%s月属于夏天'%(month))\n",
    "elif month in autom:\n",
    "    print('%s月属于秋天'%(month)) \n",
    "elif month in winter:\n",
    "    print('%s月属于冬天'%(month)) \n",
    "else:\n",
    "    print('请输入正确的月份')"
   ]
  },
  {
   "cell_type": "markdown",
   "id": "289ad57d",
   "metadata": {},
   "source": [
    "3.4 期末考试结束了，老师定义了一个list来记录同学们的成绩。\n",
    "# 创建一个空列表score\n",
    "score = []\n",
    "# 在列表中依次追加学号\n",
    "score.append([1, 2, 3, 4, 5, 6, 7, 8, 9])\n",
    "# 在列表中依次追加成绩\n",
    "score.append([68, 87, 92, 100, 36, 88, 54, 89, 76])\n",
    "（1）增加学号为10的同学成绩61\n",
    "（2）打印学号为5的同学的成绩\n",
    "（3）输出一个学号5，输出该同学的成绩"
   ]
  },
  {
   "cell_type": "code",
   "execution_count": 4,
   "id": "63d25d61",
   "metadata": {},
   "outputs": [
    {
     "name": "stdout",
     "output_type": "stream",
     "text": [
      "[[1, 2, 3, 4, 5, 6, 7, 8, 9], [68, 87, 92, 100, 36, 88, 54, 89, 76]]\n",
      "[[1, 2, 3, 4, 5, 6, 7, 8, 9, 10], [68, 87, 92, 100, 36, 88, 54, 89, 76, 61]]\n",
      "36\n",
      "学号5,该同学的成绩为36\n",
      "学号 5 的成绩为 36\n"
     ]
    }
   ],
   "source": [
    "score = []\n",
    "score.append([1, 2, 3, 4, 5, 6, 7, 8, 9])\n",
    "score.append([68, 87, 92, 100, 36, 88, 54, 89, 76])\n",
    "print(score)\n",
    "score[0].append(10)\n",
    "score[1].append(61)\n",
    "print(score)\n",
    "print(score[1][4])\n",
    "print('学号%d,该同学的成绩为%d'%(score[0][4],score[1][4]))\n",
    "num=5\n",
    "if num in score[0]:\n",
    "    i=score[0].index(5)\n",
    "    print('学号',num,'的成绩为',score[1][i])\n",
    "else:\n",
    "    print('没有学号',num,'的成绩')"
   ]
  },
  {
   "cell_type": "markdown",
   "id": "f84849d7",
   "metadata": {},
   "source": [
    "3.5定义一个字典，内容如下：\n",
    "dic = {\n",
    "  \t\t  'python': 95,\n",
    "  \t\t  'java': 99,\n",
    "  \t\t  'c': 100\n",
    "}\n",
    "（1）字典的长度是多少\n",
    "（2）请修改’java’ 这个key对应的value值为98\n",
    "（3）删除 c 这个key\n",
    "（4）增加一个key-value对，key值为 php, value是90\n",
    "（5）获取所有的key值，存储在列表里\n",
    "（6）获取所有的value值，存储在列表里\n",
    "（7）判断 javascript 是否在字典中\n",
    "（8）获得字典里所有value 的和\n",
    "（9）获取字典里最大的value\n",
    "（10）获取字典里最小的value\n",
    "（11）字典 dic1 = {‘php’: 97}， 将dic1的数据更新到dic中"
   ]
  },
  {
   "cell_type": "code",
   "execution_count": 5,
   "id": "613aaa6c",
   "metadata": {},
   "outputs": [
    {
     "name": "stdout",
     "output_type": "stream",
     "text": [
      "3\n",
      "{'python': 95, 'java': 98, 'c': 100}\n",
      "{'python': 95, 'java': 98}\n",
      "{'python': 95, 'java': 98, 'php': 90}\n",
      "dict_keys(['python', 'java', 'php'])\n",
      "dict_values([95, 98, 90])\n",
      "None\n",
      "283\n",
      "98\n",
      "90\n",
      "{'python': 95, 'java': 98, 'php': 90, 'dic1': {'php': 97}}\n"
     ]
    }
   ],
   "source": [
    "dic = { 'python': 95,'java': 99,'c': 100}\n",
    "print(len(dic))\n",
    "dic['java']=98\n",
    "print(dic)\n",
    "del dic['c']\n",
    "print(dic)\n",
    "dic['php']=90\n",
    "print(dic)\n",
    "print(dic.keys())\n",
    "print(dic.values())\n",
    "print(dic.get('javascript'))\n",
    "print(sum(dic.values()))\n",
    "print(max(dic.values()))\n",
    "print(min(dic.values()))\n",
    "dic['dic1'] = {'php': 97}\n",
    "print(dic)"
   ]
  },
  {
   "cell_type": "markdown",
   "id": "6c2edd28",
   "metadata": {},
   "source": [
    "3.6小明去超市购买水果，账单如下:\n",
    "苹果  32.8, 香蕉  22, 葡萄  15.5\n",
    "请将上面的数据存储到字典里，并打印查看字典。\n",
    "根据水果名称【香蕉】查询购买这个水果的费用。"
   ]
  },
  {
   "cell_type": "code",
   "execution_count": 6,
   "id": "29eb60d9",
   "metadata": {},
   "outputs": [
    {
     "name": "stdout",
     "output_type": "stream",
     "text": [
      "{'苹果': 32.8, '香蕉': 22, '葡萄': 15.5}\n",
      "22\n"
     ]
    }
   ],
   "source": [
    "dic1={'苹果':32.8,'香蕉':22,'葡萄':15.5}\n",
    "print(dic1)\n",
    "print(dic1['香蕉'])"
   ]
  },
  {
   "cell_type": "markdown",
   "id": "8e1dad8a",
   "metadata": {},
   "source": [
    "3.7小明，小刚去超市里购买水果\n",
    "小明购买了苹果，草莓，香蕉，一共花了89块钱；小刚购买了葡萄，橘子，樱桃，一共花了87块钱。\n",
    "请从上面的描述中提取数据，存储到字典中并打印查看，可以根据姓名获取小明购买的水果种类和总费用。"
   ]
  },
  {
   "cell_type": "code",
   "execution_count": 7,
   "id": "08b51292",
   "metadata": {},
   "outputs": [
    {
     "name": "stdout",
     "output_type": "stream",
     "text": [
      "{'苹果、草莓、香蕉': 89}\n"
     ]
    }
   ],
   "source": [
    "dic2={'小明':{'苹果、草莓、香蕉':89},'小刚':{'葡萄、橘、樱桃':87}}\n",
    "print(dic2['小明'])"
   ]
  },
  {
   "cell_type": "markdown",
   "id": "148b62c9",
   "metadata": {},
   "source": [
    "3.8期末考试结束了，学号1到9的成绩分别为68, 87, 92, 100, 36, 88, 54, 89, 76。\n",
    "（1）定义了一个dict来记录同学们的成绩\n",
    "（2）增加学号为10的同学成绩61\n",
    "（3）打印学号为5的同学的成绩\n",
    "（4）输出一个学号5，输出学号 5 的成绩为 xx"
   ]
  },
  {
   "cell_type": "code",
   "execution_count": 8,
   "id": "652a82c1",
   "metadata": {},
   "outputs": [
    {
     "name": "stdout",
     "output_type": "stream",
     "text": [
      "{'1': 68, '2': 87, '3': 92, '4': 100, '5': 36, '6': 88, '7': 54, '8': 89, '9': 76}\n",
      "{'1': 68, '2': 87, '3': 92, '4': 100, '5': 36, '6': 88, '7': 54, '8': 89, '9': 76, '10': 61}\n",
      "[1, 2, 3, 4, 5, 6, 7, 8, 9, 10]\n",
      "4\n",
      "36\n",
      "学号为5的成绩为36\n",
      "学号 5 的成绩为 36\n"
     ]
    }
   ],
   "source": [
    "dic3={'1':68,'2':87,'3':92,'4':100,'5':36,'6':88,'7':54,'8':89,'9':76,}\n",
    "print(dic3)\n",
    "dic3['10']=61\n",
    "print(dic3)\n",
    "keys1= list(dic3.keys())\n",
    "keys2= [int(i) for i in keys1]\n",
    "print(keys2)\n",
    "index2=keys1.index('5')\n",
    "print(index2)\n",
    "print(dic3['5'])\n",
    "print('学号为%s的成绩为%d'%(keys1[4],dic3['5']))\n",
    "num=5\n",
    "if num in keys2:\n",
    "    i=keys2.index(5)\n",
    "    print('学号',num,'的成绩为',score[1][i])\n",
    "else:\n",
    "    print('没有学号',num,'的成绩')"
   ]
  },
  {
   "cell_type": "markdown",
   "id": "c610fc28",
   "metadata": {},
   "source": [
    "3.9小明想在学校中请一些同学一起做一项问卷调查，为了实验的客观性，他先用计算机生成了20个1～30之间的随机整数12,14,3,5,6,7,5,11,3,15,4,6,8,9,7,6,4,5,9,10，对于其中重复的数字，只保留一个，把其余相同的数字去掉，不同的数对应着不同的学生的学号，然后再把这些数从小到大排序，按照排好的顺序去找同学做调查，请你协助明明完成“去重”与排序工作。"
   ]
  },
  {
   "cell_type": "code",
   "execution_count": 9,
   "id": "41ed3d82",
   "metadata": {},
   "outputs": [
    {
     "name": "stdout",
     "output_type": "stream",
     "text": [
      "{3, 4, 5, 6, 7, 8, 9, 10, 11, 12, 14, 15}\n",
      "12\n",
      "{1: 3, 2: 4, 3: 5, 4: 6, 5: 7, 6: 8, 7: 9, 8: 10, 9: 11, 10: 12, 11: 14, 12: 15}\n"
     ]
    }
   ],
   "source": [
    "set1=set([12,14,3,5,6,7,5,11,3,15,4,6,8,9,7,6,4,5,9,10])\n",
    "print(set1)\n",
    "print(len(set1))\n",
    "keys=(i+1 for i in range(12))\n",
    "values=(i for i in set1)\n",
    "dic1={k:v for k,v in zip(keys,values)}\n",
    "print(dic1)"
   ]
  },
  {
   "cell_type": "markdown",
   "id": "7cefba50",
   "metadata": {},
   "source": [
    "3.10老师请小明和小强检查班里同学的作业，小明检查了学号为1,3,4,5,7,9的同学，小强检查了学号为1,2,4,6,8,10的同学，请问一共检查了多少同学的作业。"
   ]
  },
  {
   "cell_type": "code",
   "execution_count": 10,
   "id": "cb839ba0",
   "metadata": {},
   "outputs": [
    {
     "name": "stdout",
     "output_type": "stream",
     "text": [
      "{1, 2, 3, 4, 5, 6, 7, 8, 9, 10}\n"
     ]
    }
   ],
   "source": [
    "set1=set([1,3,4,5,7,9])\n",
    "set2=set([1,2,4,6,8,10])\n",
    "print(set1|set2)"
   ]
  },
  {
   "cell_type": "markdown",
   "id": "de0781d1",
   "metadata": {},
   "source": [
    "3.11元旦晚会要表演节目，报名舞蹈的有1, 2, 3, 5, 6, 3, 2，报名唱歌的有2, 5, 7, 9。\n",
    "（1）哪些同学既报名了舞蹈又报名了唱歌\n",
    "（2）总共有多少同学报名表演节目"
   ]
  },
  {
   "cell_type": "code",
   "execution_count": 11,
   "id": "bd4575cc",
   "metadata": {},
   "outputs": [
    {
     "name": "stdout",
     "output_type": "stream",
     "text": [
      "{2, 5}\n",
      "{1, 2, 3, 5, 6, 7, 9}\n"
     ]
    }
   ],
   "source": [
    "set1=set([1, 2, 3, 5, 6, 3, 2])\n",
    "set2=set([2, 5, 7, 9])\n",
    "print(set1&set2)\n",
    "print(set1|set2)"
   ]
  },
  {
   "cell_type": "markdown",
   "id": "1a50effd",
   "metadata": {},
   "source": [
    "3.12小明参加比赛，五位评委分别打分为65,100,88,97,47。\n",
    "（1）定义一个元组保存评委打分，并打印查看；\n",
    "（2）对打分成绩进行从高到低排序，并打印查看；\n",
    "（3）计算最终成绩，去掉一个最高分和一个最低分,求平均分（保留小数点2位）"
   ]
  },
  {
   "cell_type": "code",
   "execution_count": 12,
   "id": "5e72f6c0",
   "metadata": {},
   "outputs": [
    {
     "name": "stdout",
     "output_type": "stream",
     "text": [
      "(65, 100, 88, 97, 47)\n",
      "[100, 97, 88, 65, 47]\n",
      "83.33333333333333\n",
      "83.33333333333333\n"
     ]
    }
   ],
   "source": [
    "import numpy,pandas\n",
    "tuple1=(65,100,88,97,47)\n",
    "print(tuple1)\n",
    "istlist=list(tuple1)\n",
    "istlist.sort(reverse=True)#升序\n",
    "print(istlist)\n",
    "istlist.pop(0)\n",
    "istlist.pop(-1)\n",
    "aver1= numpy.mean(istlist)\n",
    "print(aver1)\n",
    "a=len(istlist)\n",
    "b=sum(istlist)\n",
    "aver2=b/a\n",
    "print(aver2)"
   ]
  },
  {
   "cell_type": "markdown",
   "id": "e9bfba3f",
   "metadata": {},
   "source": [
    "3.13按学号顺序（由小到大）保存多个学生一门课程的考试成绩。\n",
    "（1）创建 score 元组，其中包含 10 个数值（68,87,92,100,76,88,54,89,76,61）；\n",
    "（2）输出 score 元组中第 3 个元素的数值；\n",
    "（3）输出 score 元组中第 1~6 个元素的值；\n",
    "（4）调用 count()函数，查询数值 76 在 score 元组中出现的次数；\n",
    "（5）调用 index()函数，查询 score 元组中成绩是满分的学生学号；\n",
    "（6）调用 len()函数获得 score 元组中元素的个数；\n",
    "（7）调用 list()函数将 score 元组转换为 lstScore 列表；\n",
    "（8）调用 tuple()函数将 lstScore 列表转换为 tpScore 元组；\n",
    "（9）创建 2 个元组 score1 和 score2，score1 中包含数值 2 个元素值：80,61，score2 中包含 3个元素值：71,95，82，合并这两个元组，并输出。"
   ]
  },
  {
   "cell_type": "code",
   "execution_count": 13,
   "id": "3662f82f",
   "metadata": {},
   "outputs": [
    {
     "name": "stdout",
     "output_type": "stream",
     "text": [
      "92\n",
      "(68, 87, 92, 100, 76, 88)\n",
      "2\n",
      "4\n",
      "10\n",
      "[68, 87, 92, 100, 76, 88, 54, 89, 76, 61]\n",
      "(68, 87, 92, 100, 76, 88, 54, 89, 76, 61)\n",
      "(80, 61, 71, 95, 82)\n"
     ]
    }
   ],
   "source": [
    "score=(68,87,92,100,76,88,54,89,76,61)\n",
    "print(score[2])\n",
    "print(score[:6])\n",
    "print(score.count(76))\n",
    "index1=score.index(100)\n",
    "print(index1+1)\n",
    "print(len(score))\n",
    "istScore=list(score)\n",
    "print(istScore)\n",
    "tpScore=tuple(istScore)\n",
    "print(tpScore)\n",
    "score1=(80,61)\n",
    "score2=(71,95,82)\n",
    "print(score1+score2)"
   ]
  },
  {
   "cell_type": "markdown",
   "id": "d03720da",
   "metadata": {},
   "source": [
    "4.1(1)期末考试到了，请帮助老师计算学生的成绩，60 以下不及格，90 分以\n",
    "上优秀，其他合格。\n",
    "小明的成绩 75 分，用 if-elif 判断并打印结果："
   ]
  },
  {
   "cell_type": "code",
   "execution_count": 99,
   "id": "9c5358af",
   "metadata": {},
   "outputs": [
    {
     "data": {
      "text/plain": [
       "'合格'"
      ]
     },
     "execution_count": 99,
     "metadata": {},
     "output_type": "execute_result"
    }
   ],
   "source": [
    "def score1(n):\n",
    "    if n>90:\n",
    "        return '优秀'\n",
    "    elif n<60:\n",
    "        return '不合格'\n",
    "    else:\n",
    "        return '合格'\n",
    "score1(75)"
   ]
  },
  {
   "cell_type": "code",
   "execution_count": 101,
   "id": "a3c6587c",
   "metadata": {},
   "outputs": [
    {
     "data": {
      "text/plain": [
       "'优秀'"
      ]
     },
     "execution_count": 101,
     "metadata": {},
     "output_type": "execute_result"
    }
   ],
   "source": [
    "score1(98)"
   ]
  },
  {
   "cell_type": "markdown",
   "id": "eb4d5e15",
   "metadata": {},
   "source": [
    "4.1(2)小明身高 1.75，体重 80.5kg。请根据 BMI 公式（体重除以身高的平方）\n",
    "帮小明计算他的 BMI 指数，并根据 BMI 指数：\n",
    "低于 18.5：过轻\n",
    "18.5-25：正常\n",
    "25-28：过重\n",
    "28-32：肥胖\n",
    "高于 32：严重肥胖\n",
    "用 if-elif 判断并打印结果："
   ]
  },
  {
   "cell_type": "code",
   "execution_count": 15,
   "id": "c9270c21",
   "metadata": {},
   "outputs": [
    {
     "name": "stdout",
     "output_type": "stream",
     "text": [
      "小明 你的体重过重\n"
     ]
    }
   ],
   "source": [
    "name='小明'\n",
    "hight=1.75\n",
    "weight=80.5\n",
    "BMI=float(weight/hight**2)\n",
    "if BMI<=18.5:\n",
    "    print(name,'你的体重过轻')\n",
    "elif 18.5<BMI<=25:\n",
    "    print(name,'你的体重正常')\n",
    "elif 25<BMI<=28:\n",
    "    print(name,'你的体重过重')\n",
    "elif 28<BMI<=32:\n",
    "    print(name,'你的体重肥胖')\n",
    "else:\n",
    "    print(name,'你的体重严重肥胖')"
   ]
  },
  {
   "cell_type": "code",
   "execution_count": 16,
   "id": "ddc05269",
   "metadata": {},
   "outputs": [
    {
     "name": "stdout",
     "output_type": "stream",
     "text": [
      "小明 你的体重过轻\n"
     ]
    }
   ],
   "source": [
    "name='小明'\n",
    "hight=2.1\n",
    "weight=80.5\n",
    "BMI=float(weight/hight**2)\n",
    "if BMI<=18.5:\n",
    "    print(name,'你的体重过轻')\n",
    "elif BMI<=25:\n",
    "    print(name,'你的体重正常')\n",
    "elif BMI<=28:\n",
    "    print(name,'你的体重过重')\n",
    "elif BMI<=32:\n",
    "    print(name,'你的体重肥胖')\n",
    "else:\n",
    "    print(name,'你的体重严重肥胖')"
   ]
  },
  {
   "cell_type": "code",
   "execution_count": null,
   "id": "5c7fbd4a",
   "metadata": {},
   "outputs": [
    {
     "name": "stdout",
     "output_type": "stream",
     "text": [
      "请输入您的姓名123\n"
     ]
    }
   ],
   "source": [
    "name=input('请输入您的姓名')\n",
    "hight=input('请输入您的体重')\n",
    "weight=input('请输入您的身高')\n",
    "BMI=float(float(weight)/(float(hight)**2))\n",
    "if BMI<=18.5:\n",
    "    print(name,'你的体重过轻')\n",
    "elif BMI<=25:\n",
    "    print(name,'你的体重正常')\n",
    "elif BMI<=28:\n",
    "    print(name,'你的体重过重')\n",
    "elif BMI<=32:\n",
    "    print(name,'你的体重肥胖')\n",
    "else:\n",
    "    print(name,'你的体重严重肥胖')"
   ]
  },
  {
   "cell_type": "markdown",
   "id": "b83c3396",
   "metadata": {},
   "source": [
    "4.2\n",
    "（1）计算 1-100 的整数之和 \n",
    "（2）在屏幕上输出小九九乘法表（三角形式），间隔用\\t \n",
    "（3）斐波那契数列（Fibonacci sequence），又称黄金分割数列，指的是这样一个\n",
    "数列：0、1、1、2、3、5、8、13、21、34、……，求斐波那契数列的前 10 项。\n",
    "（从第三项（含第三项）开始，每项等于前两项的和）\n",
    "（4）求列表 s=[2,8,9,6,7,1,5,66]中的元素个数，最大数，最小数，平均数。\n",
    "并格式化输出列表共有 xx 个元素，最小数为 xx，最大数为 xx，平均数为 xx。末尾添加一个新元素 10，删除元素 5，打印输出列表。\n",
    "（5）有四个数字：1、2、3、4，能组成多少个互不相同且无重复数字的三位数？各是多少，以列表输出？\n",
    "（6）企业发放的奖金根据利润提成。\n",
    "利润低于或等于 10 万元时，奖金可提 10%； 利润高于 10 万元，低于 20 万\n",
    "元时，低于 10 万元的部分按 10%提成; 高于 10 万元的部分，可提成 7.5%； 20\n",
    "万到 40 万之间时，高于 20 万元的部分，可提成 5%； 40 万到 60 万之间时高于\n",
    "40 万元的部分，可提成 3%； 60 万到 100 万之间时，高于 60 万元的部分，可提 成 1.5%; 高于 100 万元时，超过 100 万元的部分按 1%提成; 从键盘输入当月利润为 106 万，求应发放奖金总数（单位万元）？"
   ]
  },
  {
   "cell_type": "code",
   "execution_count": null,
   "id": "2fd55a07",
   "metadata": {},
   "outputs": [],
   "source": [
    "sum=0\n",
    "for x in range(101):\n",
    "    sum=sum+x\n",
    "print(sum)"
   ]
  },
  {
   "cell_type": "code",
   "execution_count": null,
   "id": "95fd4728",
   "metadata": {},
   "outputs": [],
   "source": [
    "for i in range(1,10):\n",
    "    for j in range(1,i+1):\n",
    "        print(i,'x',j,'=',i*j,end=' ')\n",
    "    print()"
   ]
  },
  {
   "cell_type": "code",
   "execution_count": null,
   "id": "9ed96dc8",
   "metadata": {},
   "outputs": [],
   "source": [
    "for i in range(1,10):\n",
    "    for j in range(1,i+1):\n",
    "        d = i * j\n",
    "        print('%d*%d=%-2d'%(i,j,d),end = ' ' )\n",
    "    print()"
   ]
  },
  {
   "cell_type": "code",
   "execution_count": 15,
   "id": "da72e4a1",
   "metadata": {},
   "outputs": [
    {
     "name": "stdout",
     "output_type": "stream",
     "text": [
      "0\n",
      "1\n",
      "1\n",
      "2\n",
      "3\n",
      "5\n",
      "8\n",
      "13\n",
      "21\n",
      "34\n"
     ]
    }
   ],
   "source": [
    "a=0\n",
    "b=1\n",
    "c=0\n",
    "print(a)\n",
    "print(b)\n",
    "for i in range(3,11):\n",
    "    c=a+b\n",
    "    a=b\n",
    "    b=c\n",
    "print(c)"
   ]
  },
  {
   "cell_type": "code",
   "execution_count": 14,
   "id": "2b325a21",
   "metadata": {},
   "outputs": [
    {
     "name": "stdout",
     "output_type": "stream",
     "text": [
      "列表共有 8个元素，最小数为66，最大数为1，平均数为13。\n",
      "[2, 8, 9, 6, 7, 1, 66, 10]\n"
     ]
    }
   ],
   "source": [
    "s=[2,8,9,6,7,1,5,66]\n",
    "print('列表共有 %d个元素，最小数为%d，最大数为%d，平均数为%.f。'%(len(s),max(s),min(s),sum(s)/len(s)))\n",
    "s.append(10)\n",
    "s.remove(5)\n",
    "print(s)"
   ]
  },
  {
   "cell_type": "code",
   "execution_count": 13,
   "id": "66c871d4",
   "metadata": {},
   "outputs": [
    {
     "name": "stdout",
     "output_type": "stream",
     "text": [
      "[123, 124, 132, 134, 142, 143, 213, 214, 231, 234, 241, 243, 312, 314, 321, 324, 341, 342, 412, 413, 421, 423, 431, 432]\n",
      "24\n"
     ]
    }
   ],
   "source": [
    "list1=[]\n",
    "for i in range(1,5):\n",
    "    for j in range(1,5):\n",
    "        for k in range(1,5):\n",
    "            if i != j and i != k and j!=k:\n",
    "                list1.append(i*100+j*10+k)\n",
    "print(list1)\n",
    "print(len(list1))"
   ]
  },
  {
   "cell_type": "code",
   "execution_count": null,
   "id": "0c65fc92",
   "metadata": {},
   "outputs": [],
   "source": [
    "'''\n",
    "企业发放的奖金根据利润提成。\n",
    "利润低于或等于 10 万元时，奖金可提 10%； 利润高于 10 万元，低于 20 万\n",
    "元时，低于 10 万元的部分按 10%提成; 高于 10 万元的部分，可提成 7.5%； 20\n",
    "万到 40 万之间时，高于 20 万元的部分，可提成 5%； 40 万到 60 万之间时高于\n",
    "40 万元的部分，可提成 3%； 60 万到 100 万之间时，高于 60 万元的部分，可提 成 1.5%; 高于 100 万元时，超过 100 万元的部分按 1%提成; 从键盘输入当月利润为 106 万，求应发放奖金总数（单位万元）？\n",
    "'''\n",
    "number=int(input('输入当月利润总额(万) '))\n",
    "money=0\n",
    "if number<=10:\n",
    "    money=number*10/100\n",
    "    print('奖金为%.2f'%money,'万')\n",
    "elif 10<number<=20:\n",
    "    money=(number-10)*7.5/100+10*10/100\n",
    "    print('奖金为%.2f'%money,'万')\n",
    "elif 20<number<=40:\n",
    "    money=(number-20)*5/100+10*7.5/100+10*10/100\n",
    "    print('奖金为%.2f'%money,'万')\n",
    "elif 40<number<=60:\n",
    "    money=(number-40)*3/100+20*5/100+10*7.5/100+10*10/100\n",
    "    print('奖金为%.2f'%money,'万')\n",
    "elif 60<number<=100:\n",
    "    money=(number-60)*1.5/100+20*3/100+20*5/100+10*7.5/100+10*10/100\n",
    "    print('奖金为%.2f'%money,'万')\n",
    "else:\n",
    "    money=(number-100)*1/100+40*1.5/100+20*3/100+20*5/100+10*7.5/100+10*10/100\n",
    "    print('奖金为%.2f'%money,'万')"
   ]
  },
  {
   "cell_type": "markdown",
   "id": "1a0e8c09",
   "metadata": {},
   "source": [
    "4.3\n",
    "（1）计算 1-100 的整数之和 \n",
    "（2）计算 1-100 的偶数之和 \n",
    "（3）求 1-100 内的奇数，以列表形式输出\n",
    "（4）一张纸的厚度大约是 0.08mm，对折多少次之后能达到珠穆朗玛峰的高\n",
    "度（8848.86 米）？\n",
    "（5）请利用循环依次对 list 中的每个名字打印出 Hello, xxx!：\n",
    "L = ['Bart', 'Lisa', 'Adam']\n",
    "（6）在屏幕上输出小九九乘法表（三角形式），间隔用\\t"
   ]
  },
  {
   "cell_type": "code",
   "execution_count": null,
   "id": "87ec53b0",
   "metadata": {},
   "outputs": [],
   "source": [
    "sum=0\n",
    "n=100\n",
    "while n>0:\n",
    "    sum=sum+n\n",
    "    n=n-1\n",
    "print(sum)"
   ]
  },
  {
   "cell_type": "code",
   "execution_count": null,
   "id": "56f8b8a8",
   "metadata": {},
   "outputs": [],
   "source": [
    "sum=0\n",
    "n=100\n",
    "while n>0:\n",
    "    sum=sum+n\n",
    "    n=n-2\n",
    "print(sum)"
   ]
  },
  {
   "cell_type": "code",
   "execution_count": null,
   "id": "84e8c46d",
   "metadata": {},
   "outputs": [],
   "source": [
    "sum=0\n",
    "n=99\n",
    "list1=[]\n",
    "while n>0:\n",
    "    sum=sum+n#sum+=n\n",
    "    list1.append(n)\n",
    "    n=n-2#n-=2\n",
    "print(sum)\n",
    "print(list1)"
   ]
  },
  {
   "cell_type": "code",
   "execution_count": null,
   "id": "ca5b187e",
   "metadata": {},
   "outputs": [],
   "source": [
    "sum=0\n",
    "n=1\n",
    "list1=[]\n",
    "while n<=100:\n",
    "    sum+=n\n",
    "    list1.append(n)\n",
    "    n=n+2\n",
    "print(sum)\n",
    "print(list1)"
   ]
  },
  {
   "cell_type": "code",
   "execution_count": null,
   "id": "db9c923d",
   "metadata": {},
   "outputs": [],
   "source": [
    "L=['Bart', 'Lisa', 'Adam'] \n",
    "n=0\n",
    "while n<(len(L)):\n",
    "    print(' Hello,%s!'%L[n])\n",
    "    n+=1 "
   ]
  },
  {
   "cell_type": "code",
   "execution_count": null,
   "id": "327e6005",
   "metadata": {},
   "outputs": [],
   "source": [
    "#i为列数\n",
    "#j为行数\n",
    "#则\n",
    "i=1\n",
    "while i <10:\n",
    "    j=1\n",
    "    while j<=i:\n",
    "        print('%dx%d=%d'%(i,j,i*j),end='\\t')#\\t横向制表\n",
    "        j+=1\n",
    "    print()\n",
    "    i+=1"
   ]
  },
  {
   "cell_type": "markdown",
   "id": "bfe3d02f",
   "metadata": {},
   "source": [
    "4.4 循环控制：break、continue\n",
    "（1）设计“过7游戏”的程序, 打印出1-50之间除了7和7的倍数之外的所有数字，如果遇见7和7的倍数则打印“哈~”跳过本次循环，结果保存到列表打印输出。\n",
    "（2）编写代码模拟用户登陆。要求：用户名为 python，密码 123456，如果输入正确，打印“欢迎光临”，程序结束，如果输入错误，提示用户输入错误并重新输入。\n",
    "（3）猜数字游戏\n",
    "1)指定成一个数字66； 2)用户总共有5次猜数字的机会； 3)如果用户猜测的数字大于系统给出的数字，打印“too big”； 4)如果用户猜测的数字小于系统给出的数字，打印\"too small\"; 5)如果用户猜测的数字等于系统给出的数字，打印\"恭喜中奖100万\",并且退出循环；\n",
    "（4）用户登录三次机会重试，假设密码为root"
   ]
  },
  {
   "cell_type": "code",
   "execution_count": null,
   "id": "69fed9c9",
   "metadata": {},
   "outputs": [],
   "source": [
    "list1=[]\n",
    "for i in range(1,51):\n",
    "    if i%7==0:\n",
    "        list1.append('哈~')\n",
    "        continue\n",
    "    list1.append(i)\n",
    "    i+=1\n",
    "print(list1)"
   ]
  },
  {
   "cell_type": "code",
   "execution_count": null,
   "id": "6c305b78",
   "metadata": {},
   "outputs": [],
   "source": [
    "while True:\n",
    "    a=input('请输入您的用户名:')\n",
    "    b=input('请输入您的密码:')\n",
    "    if a=='python' and b=='12345':\n",
    "        print('欢迎光临')\n",
    "        break\n",
    "    else:\n",
    "        print('输入有误，请重新输入')"
   ]
  },
  {
   "cell_type": "code",
   "execution_count": null,
   "id": "5b0f8d7b",
   "metadata": {},
   "outputs": [],
   "source": [
    "num=66\n",
    "i=1\n",
    "while i<=5:\n",
    "    guess1=int(input('请猜0-100之间的数字：'))\n",
    "    if guess1==num:\n",
    "        print('恭喜中奖100万')\n",
    "        break\n",
    "    elif guess1>num:\n",
    "        print('too big')\n",
    "    else:\n",
    "        print('too small')\n",
    "    i+=1"
   ]
  },
  {
   "cell_type": "code",
   "execution_count": null,
   "id": "5ec44869",
   "metadata": {},
   "outputs": [],
   "source": [
    "password='root'\n",
    "i=1\n",
    "while i<=3:\n",
    "    guess3=input('请输入您的密码:')\n",
    "    if guess1==password:\n",
    "        print('登录成功')\n",
    "        break\n",
    "    else:\n",
    "        print('输入有误，请重新输入')\n",
    "    i+=1"
   ]
  },
  {
   "cell_type": "code",
   "execution_count": null,
   "id": "a80e809d",
   "metadata": {},
   "outputs": [],
   "source": []
  },
  {
   "cell_type": "markdown",
   "id": "d731f1a3",
   "metadata": {},
   "source": [
    "5.1实现比较函数，返回较大的数，输入4和5打印函数调用返回结果:"
   ]
  },
  {
   "cell_type": "code",
   "execution_count": 1,
   "id": "6717b1ee",
   "metadata": {},
   "outputs": [
    {
     "name": "stdout",
     "output_type": "stream",
     "text": [
      "5\n"
     ]
    }
   ],
   "source": [
    "def max(a, b):\n",
    "    if a > b:\n",
    "        return a\n",
    "    else:\n",
    "        return b\n",
    "a = 4\n",
    "b = 5\n",
    "print(max(a, b))"
   ]
  },
  {
   "cell_type": "markdown",
   "id": "04a83c8f",
   "metadata": {},
   "source": [
    "5.2计算长方形的面积函数，输入长5、宽4，输出width = 4  height = 5  area = 20"
   ]
  },
  {
   "cell_type": "code",
   "execution_count": 107,
   "id": "62ea7054",
   "metadata": {},
   "outputs": [
    {
     "data": {
      "text/plain": [
       "20"
      ]
     },
     "execution_count": 107,
     "metadata": {},
     "output_type": "execute_result"
    }
   ],
   "source": [
    "def area1(w,h):\n",
    "    area=w*h\n",
    "    return area\n",
    "area1(4,5)"
   ]
  },
  {
   "cell_type": "code",
   "execution_count": 108,
   "id": "faf33f0f",
   "metadata": {},
   "outputs": [
    {
     "data": {
      "text/plain": [
       "20"
      ]
     },
     "execution_count": 108,
     "metadata": {},
     "output_type": "execute_result"
    }
   ],
   "source": [
    "area1(w=4,h=5)\n",
    "area1(h=5,w=4)"
   ]
  },
  {
   "cell_type": "code",
   "execution_count": 12,
   "id": "6d8f8a84",
   "metadata": {},
   "outputs": [
    {
     "name": "stdout",
     "output_type": "stream",
     "text": [
      "width = 5 height = 4  area = 20\n"
     ]
    }
   ],
   "source": [
    "# 计算面积函数\n",
    "def area(width,height):\n",
    "    return width*height\n",
    "width=5\n",
    "height=4\n",
    "print(\"width =\",width,\"height =\",height,\" area =\",area(width,height))"
   ]
  },
  {
   "cell_type": "markdown",
   "id": "46c870d0",
   "metadata": {},
   "source": [
    "5.3\n",
    "期末考试到了，请帮助老师计算学生的成绩，60以下不及格，90分以上优秀，其他合格，用函数实现学生成绩等级判断，并通过函数计算小明的成绩85的等级，输出成绩为85, 等级为xx。"
   ]
  },
  {
   "cell_type": "code",
   "execution_count": 97,
   "id": "26aec7c0",
   "metadata": {},
   "outputs": [
    {
     "data": {
      "text/plain": [
       "'优秀'"
      ]
     },
     "execution_count": 97,
     "metadata": {},
     "output_type": "execute_result"
    }
   ],
   "source": [
    "def score1(score):\n",
    "    #score=int(input('学生的成绩是'))\n",
    "    if score>90:\n",
    "        return '优秀'\n",
    "    elif score<60:\n",
    "        return '不合格'\n",
    "    else:\n",
    "        return '合格'\n",
    "    return\n",
    "score1(98)"
   ]
  },
  {
   "cell_type": "markdown",
   "id": "5bd25358",
   "metadata": {},
   "source": [
    "5.4\n",
    "求列表最大值，列表为[4, 2, 1, 6, 7, 9]"
   ]
  },
  {
   "cell_type": "code",
   "execution_count": 19,
   "id": "9c9ee825",
   "metadata": {},
   "outputs": [
    {
     "data": {
      "text/plain": [
       "9"
      ]
     },
     "execution_count": 19,
     "metadata": {},
     "output_type": "execute_result"
    }
   ],
   "source": [
    "list1=[4,2,1,6,7,9]\n",
    "def max2(list):\n",
    "    return max(list)\n",
    "max2(list1)"
   ]
  },
  {
   "cell_type": "code",
   "execution_count": 20,
   "id": "a58a5eaf",
   "metadata": {},
   "outputs": [
    {
     "data": {
      "text/plain": [
       "(1, 9)"
      ]
     },
     "execution_count": 20,
     "metadata": {},
     "output_type": "execute_result"
    }
   ],
   "source": [
    "#方式2\n",
    "def t_list(list):\n",
    "    t_min=min(list)\n",
    "    t_max=max(list)\n",
    "    return t_min,t_max\n",
    "t_list(list=[4,2,1,6,7,9])"
   ]
  },
  {
   "cell_type": "markdown",
   "id": "68fc571b",
   "metadata": {},
   "source": [
    "5.5\n",
    "求5的阶乘，并输出结果"
   ]
  },
  {
   "cell_type": "code",
   "execution_count": 29,
   "id": "e7856386",
   "metadata": {},
   "outputs": [
    {
     "data": {
      "text/plain": [
       "120"
      ]
     },
     "execution_count": 29,
     "metadata": {},
     "output_type": "execute_result"
    }
   ],
   "source": [
    "def fun1(n):\n",
    "    n=5\n",
    "    a=1\n",
    "    for i in range(1,5+1):\n",
    "        a=a*i\n",
    "    return a\n",
    "fun1(5)"
   ]
  },
  {
   "cell_type": "code",
   "execution_count": 112,
   "id": "2c720e1d",
   "metadata": {
    "scrolled": true
   },
   "outputs": [
    {
     "data": {
      "text/plain": [
       "120"
      ]
     },
     "execution_count": 112,
     "metadata": {},
     "output_type": "execute_result"
    }
   ],
   "source": [
    "def fun1(n):\n",
    "    a=1\n",
    "    for i in range(1,n+1):\n",
    "        a=a*i\n",
    "    return a\n",
    "fun1(5)"
   ]
  },
  {
   "cell_type": "code",
   "execution_count": 35,
   "id": "3f50a743",
   "metadata": {
    "scrolled": true
   },
   "outputs": [
    {
     "name": "stdout",
     "output_type": "stream",
     "text": [
      "120\n"
     ]
    }
   ],
   "source": [
    "from functools import reduce\n",
    "#使用lambda，匿名函数，迭代\n",
    "print(reduce(lambda x,y:x*y,range(1,6)))"
   ]
  },
  {
   "cell_type": "code",
   "execution_count": 41,
   "id": "35b88632",
   "metadata": {},
   "outputs": [
    {
     "data": {
      "text/plain": [
       "6"
      ]
     },
     "execution_count": 41,
     "metadata": {},
     "output_type": "execute_result"
    }
   ],
   "source": [
    "def func1(a,b,c):\n",
    "    return a+b+c\n",
    "func1(1,2,3)"
   ]
  },
  {
   "cell_type": "code",
   "execution_count": 42,
   "id": "63588bd5",
   "metadata": {},
   "outputs": [
    {
     "data": {
      "text/plain": [
       "6"
      ]
     },
     "execution_count": 42,
     "metadata": {},
     "output_type": "execute_result"
    }
   ],
   "source": [
    "# lambda匿名函数lambda arg1,arg2,.....argn:expression\n",
    "f=lambda a,b,c:a+b+c\n",
    "f(1,2,3)\n",
    "#无需定义函数名，无需标注return"
   ]
  },
  {
   "cell_type": "markdown",
   "id": "5b190e63",
   "metadata": {},
   "source": [
    "5.6\n",
    "实现一个函数，求学生最高分数科目和分数，输入语文90、数学97、英语98，输出最高分的科目和分数(元组)"
   ]
  },
  {
   "cell_type": "code",
   "execution_count": 44,
   "id": "dd1b4766",
   "metadata": {},
   "outputs": [
    {
     "name": "stdout",
     "output_type": "stream",
     "text": [
      "英语 98\n"
     ]
    }
   ],
   "source": [
    "def get_max_socre(score_dic):\n",
    "    \"\"\"\n",
    "    返回学生考试成绩的最高分的科目和分数\n",
    "    :param score_dic:\n",
    "    :return:\n",
    "    \"\"\"\n",
    "    max_score = 0\n",
    "    max_score_course = ''\n",
    "    for course, score in score_dic.items():\n",
    "        if score > max_score:\n",
    "            max_score = score\n",
    "            max_score_course = course\n",
    "\n",
    "    return max_score_course, max_score\n",
    "\n",
    "dic = {\n",
    "    '语文': 90,\n",
    "    '数学': 97,\n",
    "    '英语': 98\n",
    "}\n",
    "\n",
    "course, score = get_max_socre(dic)\n",
    "print(course, score)\n",
    "    "
   ]
  },
  {
   "cell_type": "markdown",
   "id": "5fb5155b",
   "metadata": {},
   "source": [
    "5.7\n",
    "编写函数，判断输入的三个数字是否能构成三角形的三条边。"
   ]
  },
  {
   "cell_type": "code",
   "execution_count": 48,
   "id": "fd7c01cd",
   "metadata": {},
   "outputs": [
    {
     "name": "stdout",
     "output_type": "stream",
     "text": [
      "不能构成三角形\n"
     ]
    }
   ],
   "source": [
    "def judge1(a,b,c):\n",
    "    if a+b>c and b+c>a and a+c>b:\n",
    "        print(\"可以构成三角形\")\n",
    "    else:\n",
    "        print(\"不能构成三角形\")\n",
    "    return  \n",
    "judge1(2,3,0)"
   ]
  },
  {
   "cell_type": "markdown",
   "id": "62c9ef7b",
   "metadata": {},
   "source": [
    "5.8\n",
    "输入三个整数x,y,z，请把这三个数由大到小输出，输入2、4、1。"
   ]
  },
  {
   "cell_type": "code",
   "execution_count": 58,
   "id": "fe2dffe9",
   "metadata": {},
   "outputs": [
    {
     "data": {
      "text/plain": [
       "[1, 2, 4]"
      ]
     },
     "execution_count": 58,
     "metadata": {},
     "output_type": "execute_result"
    }
   ],
   "source": [
    "def sort1(x,y,z):\n",
    "    list1=[x,y,z]\n",
    "    list1.sort(reverse=False)\n",
    "    return list1\n",
    "sort1(2,4,1)"
   ]
  },
  {
   "cell_type": "markdown",
   "id": "af29af7c",
   "metadata": {
    "pycharm": {
     "name": "#%% md\n"
    }
   },
   "source": [
    "5.9\n",
    "以数学题为例子，给定一组数字a，b，c……，请计算${a^2}$ + ${b^2}$ + ${c^2}$ + ……。\n",
    "给定一组数字1、2、3，求结果并打印查看。\n",
    "a的平方加b的平方加C的平方"
   ]
  },
  {
   "cell_type": "code",
   "execution_count": 63,
   "id": "2d8328eb",
   "metadata": {},
   "outputs": [
    {
     "data": {
      "text/plain": [
       "14"
      ]
     },
     "execution_count": 63,
     "metadata": {},
     "output_type": "execute_result"
    }
   ],
   "source": [
    "def squ(n):\n",
    "    result1=0\n",
    "    for i in range(1,n+1):\n",
    "        result1=result1+i*i\n",
    "    return result1\n",
    "squ(3)"
   ]
  },
  {
   "cell_type": "code",
   "execution_count": 64,
   "id": "dea0bccb",
   "metadata": {},
   "outputs": [
    {
     "data": {
      "text/plain": [
       "14"
      ]
     },
     "execution_count": 64,
     "metadata": {},
     "output_type": "execute_result"
    }
   ],
   "source": [
    "def squ(n):\n",
    "    result1=0\n",
    "    for i in n:\n",
    "        result1=result1+i*i\n",
    "    return result1\n",
    "squ([1,2,3])"
   ]
  },
  {
   "cell_type": "markdown",
   "id": "6c35024d",
   "metadata": {},
   "source": [
    "5.10鸡兔同笼\n",
    "一笼鸡和兔子，鸡和兔子的头一共有36个，但是鸡和兔子的脚一共有94只。那么几只鸡?几只兔子?\n",
    "a=x+y=36,b=2x+4y=2x+2y+2y=94"
   ]
  },
  {
   "cell_type": "code",
   "execution_count": 76,
   "id": "7938fcea",
   "metadata": {},
   "outputs": [
    {
     "data": {
      "text/plain": [
       "(25, 11)"
      ]
     },
     "execution_count": 76,
     "metadata": {},
     "output_type": "execute_result"
    }
   ],
   "source": [
    "def score3(a,b):\n",
    "    y=int((b-2*a)/2)\n",
    "    x=int(36-y)\n",
    "    return x,y\n",
    "score3(36,94)"
   ]
  },
  {
   "cell_type": "markdown",
   "id": "8607f5c3",
   "metadata": {},
   "source": [
    "5.11\n",
    "求最大公约数和最小公倍数\n",
    "\n",
    "求最小公倍数的算法:\n",
    "\n",
    "最小公倍数 = 两个整数的乘积 / 最大公约数\n",
    "\n",
    "所以我们首先要求出两个整数的最大公约数, 求两个数的最大公约数思路如下:\n",
    "\n",
    "求最大公约数算法:能同时被A，B两个数同时整除的最大数(这个数肯定小于等于a,b其中较小的一个数）"
   ]
  },
  {
   "attachments": {
    "image.png": {
     "image/png": "[encoded data removed]"
    }
   },
   "cell_type": "markdown",
   "id": "fddc9f10",
   "metadata": {},
   "source": [
    "![image.png](attachment:image.png)"
   ]
  },
  {
   "cell_type": "code",
   "execution_count": 3,
   "id": "75d001f0",
   "metadata": {},
   "outputs": [
    {
     "data": {
      "text/plain": [
       "(5, 60.0)"
      ]
     },
     "execution_count": 3,
     "metadata": {},
     "output_type": "execute_result"
    }
   ],
   "source": [
    "def func4(a,b):\n",
    "    if a>b:\n",
    "        sma=b\n",
    "    else:\n",
    "        sma=a\n",
    "    for i in range(1,sma+1):\n",
    "        if a%i==0 and b%i==0:\n",
    "            maxyue=i\n",
    "            minbei=a*b/maxyue\n",
    "    return maxyue,minbei\n",
    "func4(15,20)"
   ]
  },
  {
   "cell_type": "markdown",
   "id": "7b0f0d50",
   "metadata": {},
   "source": [
    "6.1数据的格式化输出：请使用%s和%d打印字符串’python’的长度\n",
    "6.2数据的格式化输出：请利用print()输出1024 * 768 = xxx"
   ]
  },
  {
   "cell_type": "code",
   "execution_count": 2,
   "id": "c9a3bc76",
   "metadata": {},
   "outputs": [
    {
     "name": "stdout",
     "output_type": "stream",
     "text": [
      "Python字符串的长度是6\n",
      "1024*768=786432\n",
      "1024*768=786432\n"
     ]
    }
   ],
   "source": [
    "print('Python字符串的长度是%d'%len('python'))\n",
    "print('{0}*{1}={2}'.format(1024,768,1024*768))\n",
    "a=1024\n",
    "b=768\n",
    "print(f'{a}*{b}={a*b}')"
   ]
  },
  {
   "cell_type": "code",
   "execution_count": null,
   "id": "fa91e5aa",
   "metadata": {},
   "outputs": [],
   "source": []
  }
 ],
 "metadata": {
  "kernelspec": {
   "display_name": "Python 3",
   "language": "python",
   "name": "python3"
  },
  "language_info": {
   "codemirror_mode": {
    "name": "ipython",
    "version": 3
   },
   "file_extension": ".py",
   "mimetype": "text/x-python",
   "name": "python",
   "nbconvert_exporter": "python",
   "pygments_lexer": "ipython3",
   "version": "3.8.8"
  }
 },
 "nbformat": 4,
 "nbformat_minor": 5
}