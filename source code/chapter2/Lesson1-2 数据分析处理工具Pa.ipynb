{
 "cells": [
  {
   "cell_type": "markdown",
   "metadata": {},
   "source": [
    "## Pandas基本语法"
   ]
  },
  {
   "cell_type": "markdown",
   "metadata": {},
   "source": [
    "pandas is a fast, powerful, flexible and easy to use open source data analysis and manipulation tool,\n",
    "built on top of the Python programming language.\n",
    "\n",
    "2008年，为满足需要高性能，灵活的数据分析工具，开发商Wes McKinney开始开发Pandas。\n",
    "\n",
    "- 在Pandas之前，Python主要用于数据迁移和准备。它对数据分析的贡献更小。 Pandas解决了这个问题。 使用Pandas可以完成数据处理和分析的五个典型步骤，而不管数据的来源 - ***加载，准备，操作，模型和分析***。\n",
    "\n",
    "- Pandas是通过代码来实现**Excel和数据库**的基本功能，并提供了更丰富的分析函数\n",
    "\n",
    "- Python Pandas用于广泛的领域，包括金融，经济，统计，分析等学术和商业领域。\n",
    "\n",
    "- Pandas底层基于Numpy实现\n",
    "\n",
    "Pandas官网：https://pandas.pydata.org/\n",
    "\n",
    "Pandas生态系统相关软件：https://pandas.pydata.org/community/ecosystem.html"
   ]
  },
  {
   "cell_type": "markdown",
   "metadata": {},
   "source": [
    "<img style=\"float: center;\" src=\"img/pandasoutline.png\" width=600>"
   ]
  },
  {
   "cell_type": "markdown",
   "metadata": {},
   "source": [
    "### 导入\n",
    "习惯上，我们这样导入pandas:"
   ]
  },
  {
   "cell_type": "code",
   "execution_count": null,
   "metadata": {
    "ExecuteTime": {
     "end_time": "2018-01-13T07:45:25.520115Z",
     "start_time": "2018-01-13T07:45:25.301417Z"
    }
   },
   "outputs": [],
   "source": [
    "import numpy as np\n",
    "import pandas as pd\n",
    "import matplotlib.pyplot as plt\n",
    "from pandas import Series,DataFrame"
   ]
  },
  {
   "cell_type": "markdown",
   "metadata": {},
   "source": [
    "### Series\n",
    "\n",
    "#### 创建\n",
    "<img style=\"float: center;\" src=\"img/series.png\" width=600 height=600>\n",
    "\n",
    "带索引的一维数组。 通过list或者ndarray可以创建Series，Pandas会自动创建整型索引。"
   ]
  },
  {
   "cell_type": "code",
   "execution_count": null,
   "metadata": {},
   "outputs": [],
   "source": [
    "list1=[1,2,3,4]  # python的list \n",
    "list1"
   ]
  },
  {
   "cell_type": "code",
   "execution_count": null,
   "metadata": {},
   "outputs": [],
   "source": [
    "nparray1=np.array(list1)  #NumPy的ndarray\n",
    "nparray1"
   ]
  },
  {
   "cell_type": "code",
   "execution_count": null,
   "metadata": {},
   "outputs": [],
   "source": [
    "series1=Series(list1)  # Pandas的 Series，使用list创建\n",
    "series1\n",
    "# series1.values     # series底层是基于ndarray管理数据的，所以 list数据传进来也会转换为 ndrray"
   ]
  },
  {
   "cell_type": "code",
   "execution_count": null,
   "metadata": {},
   "outputs": [],
   "source": [
    "series2=Series(nparray1) # Pandas的 Series，使用ndarray创建\n",
    "series2\n",
    "# series2.values"
   ]
  },
  {
   "cell_type": "code",
   "execution_count": null,
   "metadata": {
    "ExecuteTime": {
     "end_time": "2018-01-13T07:46:46.841237Z",
     "start_time": "2018-01-13T07:46:46.833237Z"
    }
   },
   "outputs": [],
   "source": [
    "s=Series([1,3,5,777,6,1.5]) #值的类型会自动统一，因为它的值就是按ndaary存储管理的\n",
    "s"
   ]
  },
  {
   "cell_type": "code",
   "execution_count": null,
   "metadata": {},
   "outputs": [],
   "source": [
    "s.values # 值是 ndarray来存储"
   ]
  },
  {
   "cell_type": "code",
   "execution_count": null,
   "metadata": {},
   "outputs": [],
   "source": [
    "s.index"
   ]
  },
  {
   "cell_type": "markdown",
   "metadata": {},
   "source": [
    "#### 索引自定义"
   ]
  },
  {
   "cell_type": "code",
   "execution_count": null,
   "metadata": {},
   "outputs": [],
   "source": [
    "s2 = pd.Series([3,51,5,2,6],index=['a','b','c','d','e'])#自己定义索引\n",
    "s2"
   ]
  },
  {
   "cell_type": "code",
   "execution_count": null,
   "metadata": {},
   "outputs": [],
   "source": [
    "s2.index"
   ]
  },
  {
   "cell_type": "code",
   "execution_count": null,
   "metadata": {},
   "outputs": [],
   "source": [
    "s2.index = ['one','two','three','four','five'] #整体更换索引，但不能单独替换某个索引指\n",
    "s2"
   ]
  },
  {
   "cell_type": "code",
   "execution_count": null,
   "metadata": {},
   "outputs": [],
   "source": [
    "s2.index[2]='x'  #，但不能单独替换某个自定义索引值， 索引是 元组Tuple类型，不能修改值  "
   ]
  },
  {
   "cell_type": "markdown",
   "metadata": {},
   "source": [
    "#### 值的读取和修改"
   ]
  },
  {
   "cell_type": "code",
   "execution_count": null,
   "metadata": {},
   "outputs": [],
   "source": [
    "s2 = pd.Series([3,51,5,2,6],index=['a','b','c','d','e'])#自己定义索引\n",
    "s2"
   ]
  },
  {
   "cell_type": "code",
   "execution_count": null,
   "metadata": {},
   "outputs": [],
   "source": [
    "s2['d']  #使用索引读取值"
   ]
  },
  {
   "cell_type": "code",
   "execution_count": null,
   "metadata": {},
   "outputs": [],
   "source": [
    "s2[3]  #也可以使用位置（Series默认有整数索引，list和ndarray也有）来读取值，类似 字符串、list、ndarray一样的操作"
   ]
  },
  {
   "cell_type": "code",
   "execution_count": null,
   "metadata": {},
   "outputs": [],
   "source": [
    "s2['d']=100  #类似 list一样修改值，相关的操作都支持\n",
    "s2"
   ]
  },
  {
   "cell_type": "code",
   "execution_count": null,
   "metadata": {},
   "outputs": [],
   "source": [
    "s2[0:3]  #使用切片的方式来读取值，按照位置，类似 字符串、list、ndarray一样的操作"
   ]
  },
  {
   "cell_type": "markdown",
   "metadata": {},
   "source": [
    "### DataFrame\n",
    "\n",
    "<img style=\"float: center;\" src=\"img/dataframe.png\" width=600 height=600>\n",
    "二维数组，通过NumPy的数组ndarray可以创建一个DataFrame。\n",
    "\n",
    "* DataFrame可以对应Excel里一个表格，数据库里一张表 "
   ]
  },
  {
   "cell_type": "code",
   "execution_count": null,
   "metadata": {
    "ExecuteTime": {
     "end_time": "2018-01-13T07:46:47.105287Z",
     "start_time": "2018-01-13T07:46:47.093258Z"
    }
   },
   "outputs": [],
   "source": [
    "dates=pd.date_range('20130101',periods=6)#生成一个时间类型的索引序列\n",
    "print(dates)\n",
    "df=pd.DataFrame(np.random.randn(6,4),index=dates,columns=list('ABCD'))#构造一个DataFrame\n",
    "df"
   ]
  },
  {
   "cell_type": "markdown",
   "metadata": {},
   "source": [
    "也可以通过字典来创建DataFrame"
   ]
  },
  {
   "cell_type": "code",
   "execution_count": null,
   "metadata": {
    "ExecuteTime": {
     "end_time": "2018-01-13T07:46:47.426719Z",
     "start_time": "2018-01-13T07:46:47.412682Z"
    }
   },
   "outputs": [],
   "source": [
    "df2=pd.DataFrame({'A':1.,\n",
    "                 'B':pd.Timestamp('20130102'),\n",
    "                 'C':pd.Series(1,index=list(range(4)),dtype='float32'),\n",
    "                 'D':np.array([3]*4,dtype='int32'),\n",
    "                 'E':pd.Categorical(['test','train','test','train']),\n",
    "                 'F':'foo'})\n",
    "df2"
   ]
  },
  {
   "cell_type": "code",
   "execution_count": null,
   "metadata": {},
   "outputs": [],
   "source": [
    "df2.dtypes #每一列（column）类型可以不同      ndarray：要求所有数据类型一样"
   ]
  },
  {
   "cell_type": "markdown",
   "metadata": {},
   "source": [
    "* 从 CSV文件里读"
   ]
  },
  {
   "cell_type": "code",
   "execution_count": null,
   "metadata": {},
   "outputs": [],
   "source": [
    "student_df=pd.read_csv('data/student.csv')\n",
    "student_df"
   ]
  },
  {
   "cell_type": "markdown",
   "metadata": {
    "ExecuteTime": {
     "end_time": "2018-01-09T03:20:11.361273Z",
     "start_time": "2018-01-09T03:20:11.356261Z"
    }
   },
   "source": [
    "### 查看数据\n",
    "查看数据的顶部和底部"
   ]
  },
  {
   "cell_type": "code",
   "execution_count": null,
   "metadata": {
    "ExecuteTime": {
     "end_time": "2018-01-13T07:46:48.033330Z",
     "start_time": "2018-01-13T07:46:48.024337Z"
    }
   },
   "outputs": [],
   "source": [
    "print(student_df.head(3)) \n",
    "print(student_df.tail(10))"
   ]
  },
  {
   "cell_type": "markdown",
   "metadata": {},
   "source": [
    "查看索引，列名，以及纯的NumPy数据"
   ]
  },
  {
   "cell_type": "code",
   "execution_count": null,
   "metadata": {
    "ExecuteTime": {
     "end_time": "2018-01-13T07:46:48.406942Z",
     "start_time": "2018-01-13T07:46:48.399922Z"
    }
   },
   "outputs": [],
   "source": [
    "print(student_df.index)\n",
    "print(student_df.columns)\n",
    "print(student_df.values)"
   ]
  },
  {
   "cell_type": "markdown",
   "metadata": {},
   "source": [
    "```DataFrame.describe()```提供了便捷的数据统计\n",
    "\n",
    "1、count：返回数组的个数，如上述为4个元素，所以返回为4；\n",
    "\n",
    "2、mean：返回数组的平均e79fa5e98193e59b9ee7ad9431333433623135值，1 3 5 9的平均值为4.5；\n",
    "\n",
    "3、std：返回数组的标准差；\n",
    "\n",
    "4、min：返回数组的最小值；\n",
    "\n",
    "5、25%，50%，75%：返回数组的三个不同百分位置的数值，也就是统计学中的四分位数。\n",
    "\n",
    "6、 max：最大值"
   ]
  },
  {
   "cell_type": "code",
   "execution_count": null,
   "metadata": {
    "ExecuteTime": {
     "end_time": "2018-01-13T07:46:48.714876Z",
     "start_time": "2018-01-13T07:46:48.693822Z"
    },
    "scrolled": true
   },
   "outputs": [],
   "source": [
    "print(student_df)\n",
    "student_df.describe()# 描述性统计"
   ]
  },
  {
   "cell_type": "markdown",
   "metadata": {},
   "source": [
    "转置矩阵"
   ]
  },
  {
   "cell_type": "code",
   "execution_count": null,
   "metadata": {},
   "outputs": [],
   "source": [
    "df  #再回到最开始创建的那个DataFrame，这个数据好演示"
   ]
  },
  {
   "cell_type": "code",
   "execution_count": null,
   "metadata": {
    "ExecuteTime": {
     "end_time": "2018-01-13T07:46:49.018446Z",
     "start_time": "2018-01-13T07:46:49.008420Z"
    }
   },
   "outputs": [],
   "source": [
    "df1=df.T \n",
    "print(df1)\n",
    "df1.describe()"
   ]
  },
  {
   "cell_type": "markdown",
   "metadata": {},
   "source": [
    "沿某一轴排序"
   ]
  },
  {
   "cell_type": "code",
   "execution_count": null,
   "metadata": {
    "ExecuteTime": {
     "end_time": "2018-01-13T07:46:49.328897Z",
     "start_time": "2018-01-13T07:46:49.319897Z"
    }
   },
   "outputs": [],
   "source": [
    "print(df.sort_index(axis=0,ascending=False))  #轴axis=0 表示行索引排序 ，axis=1 表示列操作"
   ]
  },
  {
   "cell_type": "code",
   "execution_count": null,
   "metadata": {},
   "outputs": [],
   "source": [
    "df.sort_index?"
   ]
  },
  {
   "cell_type": "markdown",
   "metadata": {},
   "source": [
    "按照值进行排序"
   ]
  },
  {
   "cell_type": "code",
   "execution_count": null,
   "metadata": {
    "ExecuteTime": {
     "end_time": "2018-01-13T07:46:49.682760Z",
     "start_time": "2018-01-13T07:46:49.672733Z"
    },
    "scrolled": true
   },
   "outputs": [],
   "source": [
    "print(df.sort_values(by='A',ascending=True))  # 每一行是同时排序"
   ]
  },
  {
   "cell_type": "markdown",
   "metadata": {},
   "source": [
    "### 数据选择\n",
    "\n",
    "类似Excel中选择一部分数据\n",
    "\n",
    "**注意：**尽管Python标准库和NumPy的语句在选择和设置数据时更直观和方便交互。但是在生产环境中，我们更建议使用Pandas的数据访问函数：```.at, .iat, .loc, .iloc```\n",
    "\n",
    "#### 数据获取\n",
    "选择一列，返回Series。等同于df.A"
   ]
  },
  {
   "cell_type": "code",
   "execution_count": null,
   "metadata": {},
   "outputs": [],
   "source": [
    "df"
   ]
  },
  {
   "cell_type": "code",
   "execution_count": null,
   "metadata": {
    "ExecuteTime": {
     "end_time": "2018-01-13T07:46:50.050583Z",
     "start_time": "2018-01-13T07:46:50.038517Z"
    }
   },
   "outputs": [],
   "source": [
    "dataframe2=df[['A','B']]#列名\n",
    "dataframe2"
   ]
  },
  {
   "cell_type": "markdown",
   "metadata": {
    "ExecuteTime": {
     "end_time": "2018-01-09T06:24:49.301694Z",
     "start_time": "2018-01-09T06:24:49.293642Z"
    }
   },
   "source": [
    "使用```[]```来切分多行数据，按行切分"
   ]
  },
  {
   "cell_type": "code",
   "execution_count": null,
   "metadata": {
    "ExecuteTime": {
     "end_time": "2018-01-13T07:46:50.386679Z",
     "start_time": "2018-01-13T07:46:50.375687Z"
    }
   },
   "outputs": [],
   "source": [
    "print(df[0:3])   # 按照位置来取值，后面不包含\n",
    "print(df['20130102':'20130104'])  # 按照索引标签来取值，两头都包含\n"
   ]
  },
  {
   "cell_type": "markdown",
   "metadata": {},
   "source": [
    "#### 根据标签选择 loc\n",
    "使用标签（index的名字，coloumn的名字）来得到特定的一行,loc根据两个方向的index来选取，行列通过逗号隔开"
   ]
  },
  {
   "cell_type": "code",
   "execution_count": null,
   "metadata": {
    "ExecuteTime": {
     "end_time": "2018-01-13T07:46:50.716513Z",
     "start_time": "2018-01-13T07:46:50.710495Z"
    }
   },
   "outputs": [],
   "source": [
    "#dates 是 df的 index\n",
    "df.loc['2013-01-01']"
   ]
  },
  {
   "cell_type": "markdown",
   "metadata": {},
   "source": [
    "使用标签来得到多个指定的列"
   ]
  },
  {
   "cell_type": "code",
   "execution_count": null,
   "metadata": {
    "ExecuteTime": {
     "end_time": "2018-01-13T07:46:51.029548Z",
     "start_time": "2018-01-13T07:46:51.022530Z"
    }
   },
   "outputs": [],
   "source": [
    "print(df.loc[ '20130102':'20130104',  ['A','B']]) "
   ]
  },
  {
   "cell_type": "markdown",
   "metadata": {},
   "source": [
    "用标签来切片时，**端点的值都是被包含在内的** (和字符串按位置的切片不同)"
   ]
  },
  {
   "cell_type": "code",
   "execution_count": null,
   "metadata": {
    "ExecuteTime": {
     "end_time": "2018-01-13T07:46:51.384300Z",
     "start_time": "2018-01-13T07:46:51.375251Z"
    }
   },
   "outputs": [],
   "source": [
    "print(df.loc['20130102':'20130104',['A']])"
   ]
  },
  {
   "cell_type": "markdown",
   "metadata": {
    "ExecuteTime": {
     "end_time": "2018-01-09T06:50:46.866941Z",
     "start_time": "2018-01-09T06:50:46.851903Z"
    }
   },
   "source": [
    "选择的返回值可以降低维度"
   ]
  },
  {
   "cell_type": "code",
   "execution_count": null,
   "metadata": {
    "ExecuteTime": {
     "end_time": "2018-01-13T07:46:51.710760Z",
     "start_time": "2018-01-13T07:46:51.701723Z"
    }
   },
   "outputs": [],
   "source": [
    "df.loc['20130102',['A','B']]"
   ]
  },
  {
   "cell_type": "markdown",
   "metadata": {
    "ExecuteTime": {
     "end_time": "2018-01-09T06:51:10.599086Z",
     "start_time": "2018-01-09T06:51:10.589060Z"
    }
   },
   "source": [
    "选择一个标量"
   ]
  },
  {
   "cell_type": "code",
   "execution_count": null,
   "metadata": {
    "ExecuteTime": {
     "end_time": "2018-01-13T07:46:52.070121Z",
     "start_time": "2018-01-13T07:46:52.065107Z"
    }
   },
   "outputs": [],
   "source": [
    "df.loc[dates[0],'A']"
   ]
  },
  {
   "cell_type": "markdown",
   "metadata": {},
   "source": [
    "#### 根据位置进行选择  iloc\n",
    "根据整数下标来选择数据；iloc  根据 index的具体位置 ，从0开始的整数序列"
   ]
  },
  {
   "cell_type": "code",
   "execution_count": null,
   "metadata": {
    "ExecuteTime": {
     "end_time": "2018-01-13T07:46:52.745211Z",
     "start_time": "2018-01-13T07:46:52.739198Z"
    }
   },
   "outputs": [],
   "source": [
    "print(df)\n",
    "df.iloc[3]"
   ]
  },
  {
   "cell_type": "markdown",
   "metadata": {},
   "source": [
    "用整数来切片，类似于Python标准库和NumPy"
   ]
  },
  {
   "cell_type": "code",
   "execution_count": null,
   "metadata": {
    "ExecuteTime": {
     "end_time": "2018-01-13T07:46:53.074663Z",
     "start_time": "2018-01-13T07:46:53.067643Z"
    }
   },
   "outputs": [],
   "source": [
    "print(df.iloc[3:5,0:2])"
   ]
  },
  {
   "cell_type": "markdown",
   "metadata": {
    "ExecuteTime": {
     "end_time": "2018-01-09T07:25:26.762911Z",
     "start_time": "2018-01-09T07:25:26.756895Z"
    }
   },
   "source": [
    "用整数列表来进行选择，与Python标准库和NumPy类似"
   ]
  },
  {
   "cell_type": "code",
   "execution_count": null,
   "metadata": {
    "ExecuteTime": {
     "end_time": "2018-01-13T07:46:53.452416Z",
     "start_time": "2018-01-13T07:46:53.444912Z"
    }
   },
   "outputs": [],
   "source": [
    "print(df.iloc[[1,2,4],[0,2]])"
   ]
  },
  {
   "cell_type": "markdown",
   "metadata": {},
   "source": [
    "对行进行切片选择"
   ]
  },
  {
   "cell_type": "code",
   "execution_count": null,
   "metadata": {
    "ExecuteTime": {
     "end_time": "2018-01-13T07:46:53.766568Z",
     "start_time": "2018-01-13T07:46:53.759571Z"
    }
   },
   "outputs": [],
   "source": [
    "print(df.iloc[1:3,:])"
   ]
  },
  {
   "cell_type": "markdown",
   "metadata": {},
   "source": [
    "对列进行切片选择"
   ]
  },
  {
   "cell_type": "code",
   "execution_count": null,
   "metadata": {
    "ExecuteTime": {
     "end_time": "2018-01-13T07:46:54.090242Z",
     "start_time": "2018-01-13T07:46:54.082250Z"
    }
   },
   "outputs": [],
   "source": [
    "print(df.iloc[:,1:3])"
   ]
  },
  {
   "cell_type": "markdown",
   "metadata": {},
   "source": [
    "获取某个标量"
   ]
  },
  {
   "cell_type": "code",
   "execution_count": null,
   "metadata": {
    "ExecuteTime": {
     "end_time": "2018-01-13T07:46:54.427372Z",
     "start_time": "2018-01-13T07:46:54.423365Z"
    }
   },
   "outputs": [],
   "source": [
    "df.iloc[1,1]"
   ]
  },
  {
   "cell_type": "markdown",
   "metadata": {},
   "source": [
    ".loc for label based indexing 基于标签取一组数据\n",
    "\n",
    ".at 按照标签获取一个具体的值\n",
    "\n",
    ".iloc for positional indexing 基于位置取一组数据\n",
    "\n",
    ".iat 按照位置获取一个而具体的值\n"
   ]
  },
  {
   "cell_type": "markdown",
   "metadata": {},
   "source": [
    "#### 布尔索引，过滤数据\n",
    "使用某列值来选择数据"
   ]
  },
  {
   "cell_type": "code",
   "execution_count": null,
   "metadata": {},
   "outputs": [],
   "source": [
    "df"
   ]
  },
  {
   "cell_type": "code",
   "execution_count": null,
   "metadata": {
    "ExecuteTime": {
     "end_time": "2018-01-13T07:46:55.132799Z",
     "start_time": "2018-01-13T07:46:55.123799Z"
    }
   },
   "outputs": [],
   "source": [
    "print(df[df.A<0])  #可以进行按照条件过滤数据  \n",
    "dfa=df[df.A>0]\n",
    "print(dfa[dfa.B>0]) "
   ]
  },
  {
   "cell_type": "markdown",
   "metadata": {},
   "source": [
    "#### 设置与修改数据\n",
    "设置一个新列并设置索引"
   ]
  },
  {
   "cell_type": "code",
   "execution_count": null,
   "metadata": {
    "ExecuteTime": {
     "end_time": "2018-01-13T07:46:56.254550Z",
     "start_time": "2018-01-13T07:46:56.235969Z"
    }
   },
   "outputs": [],
   "source": [
    "s1=pd.Series([1,2,3,4,5,6],index=pd.date_range('20130102',periods=6))\n",
    "df['F']=s1\n",
    "df"
   ]
  },
  {
   "cell_type": "markdown",
   "metadata": {},
   "source": [
    "根据标签来设置值\n",
    "at函数, 具体到某个元素\n",
    "\n",
    "根据指定行index及列label，快速定位DataFrame的元素，选择列时仅支持列名"
   ]
  },
  {
   "cell_type": "code",
   "execution_count": null,
   "metadata": {
    "ExecuteTime": {
     "end_time": "2018-01-13T07:46:56.548368Z",
     "start_time": "2018-01-13T07:46:56.539358Z"
    },
    "scrolled": true
   },
   "outputs": [],
   "source": [
    "df.at[dates[0],'A']=0\n",
    "print(df)"
   ]
  },
  {
   "cell_type": "markdown",
   "metadata": {},
   "source": [
    "根据位置的来设置值\n",
    "与at的功能相同，只使用索引参数"
   ]
  },
  {
   "cell_type": "code",
   "execution_count": null,
   "metadata": {
    "ExecuteTime": {
     "end_time": "2018-01-13T07:46:56.911348Z",
     "start_time": "2018-01-13T07:46:56.903352Z"
    }
   },
   "outputs": [],
   "source": [
    "df.iat[0,1]=0  #iloc简化 ，取一个值 x y坐标\n",
    "print(df)"
   ]
  },
  {
   "cell_type": "markdown",
   "metadata": {},
   "source": [
    "### 处理缺失数据\n",
    "Pandas主要使用```np.nan```来表示缺失数据。这个值不会加入在计算中。\n",
    "重新索引允许你对某一轴的索引进行更改/添加/删除操作。这会返回操作数据的拷贝对象。"
   ]
  },
  {
   "cell_type": "code",
   "execution_count": null,
   "metadata": {
    "ExecuteTime": {
     "end_time": "2018-01-13T07:46:58.037021Z",
     "start_time": "2018-01-13T07:46:58.024986Z"
    }
   },
   "outputs": [],
   "source": [
    "df1=df.reindex(index=dates[0:4],columns=list(df.columns)+['E'])\n",
    "df1.loc[dates[0]:dates[1],'E']=1\n",
    "df1"
   ]
  },
  {
   "cell_type": "markdown",
   "metadata": {},
   "source": [
    "删除含有缺失数据的行"
   ]
  },
  {
   "cell_type": "code",
   "execution_count": null,
   "metadata": {
    "ExecuteTime": {
     "end_time": "2018-01-13T07:46:58.417311Z",
     "start_time": "2018-01-13T07:46:58.409315Z"
    }
   },
   "outputs": [],
   "source": [
    "# print(df1.dropna(how='all')) #这一行所有值都为空时删除\n",
    "print(df1.dropna(how='any'))#这一行有任意值为空时删除"
   ]
  },
  {
   "cell_type": "code",
   "execution_count": null,
   "metadata": {},
   "outputs": [],
   "source": [
    "print(df1.dropna(how='any',axis=1))  #删除有空值的列"
   ]
  },
  {
   "cell_type": "markdown",
   "metadata": {},
   "source": [
    "填充缺失数据"
   ]
  },
  {
   "cell_type": "code",
   "execution_count": null,
   "metadata": {
    "ExecuteTime": {
     "end_time": "2018-01-13T07:46:58.746563Z",
     "start_time": "2018-01-13T07:46:58.738533Z"
    }
   },
   "outputs": [],
   "source": [
    "print(df1['E'].fillna(value=5))  "
   ]
  },
  {
   "cell_type": "code",
   "execution_count": null,
   "metadata": {},
   "outputs": [],
   "source": [
    "DataFrame.fillna?"
   ]
  },
  {
   "cell_type": "code",
   "execution_count": null,
   "metadata": {},
   "outputs": [],
   "source": [
    "print(df1['E'].fillna(method='ffill'))  "
   ]
  },
  {
   "cell_type": "markdown",
   "metadata": {},
   "source": [
    "获取数据中是```nan```的位置"
   ]
  },
  {
   "cell_type": "code",
   "execution_count": null,
   "metadata": {
    "ExecuteTime": {
     "end_time": "2018-01-13T07:46:59.081650Z",
     "start_time": "2018-01-13T07:46:59.073646Z"
    }
   },
   "outputs": [],
   "source": [
    "print(pd.isnull(df1))"
   ]
  },
  {
   "cell_type": "markdown",
   "metadata": {},
   "source": [
    "### 基础操作\n",
    "#### 基本的统计\n",
    "操作默认排除了缺失的数据  \n",
    "执行一个描述性的统计"
   ]
  },
  {
   "cell_type": "code",
   "execution_count": null,
   "metadata": {
    "ExecuteTime": {
     "end_time": "2018-01-13T07:46:59.497992Z",
     "start_time": "2018-01-13T07:46:59.491970Z"
    }
   },
   "outputs": [],
   "source": [
    "print(df)\n",
    "df.sum()  #默认按列，每一列一般是一种数据类型"
   ]
  },
  {
   "cell_type": "markdown",
   "metadata": {
    "ExecuteTime": {
     "end_time": "2018-01-09T08:11:20.821022Z",
     "start_time": "2018-01-09T08:11:20.811020Z"
    }
   },
   "source": [
    "在另外的轴执行该操作"
   ]
  },
  {
   "cell_type": "code",
   "execution_count": null,
   "metadata": {
    "ExecuteTime": {
     "end_time": "2018-01-13T07:46:59.877399Z",
     "start_time": "2018-01-13T07:46:59.863830Z"
    }
   },
   "outputs": [],
   "source": [
    "df.max(0)  #横向"
   ]
  },
  {
   "cell_type": "code",
   "execution_count": null,
   "metadata": {},
   "outputs": [],
   "source": [
    "print(df)\n",
    "df.mean(1)  #只对数值型平均"
   ]
  },
  {
   "cell_type": "markdown",
   "metadata": {},
   "source": [
    "#### 直方图"
   ]
  },
  {
   "cell_type": "code",
   "execution_count": null,
   "metadata": {
    "ExecuteTime": {
     "end_time": "2018-01-13T07:47:01.247458Z",
     "start_time": "2018-01-13T07:47:01.239436Z"
    }
   },
   "outputs": [],
   "source": [
    "s=pd.Series(['blue','red','yellow','blue','black'])\n",
    "print(s)\n",
    "print(s.value_counts()) #统计每个值出现的次数"
   ]
  },
  {
   "cell_type": "markdown",
   "metadata": {},
   "source": [
    "### 数据合并\n",
    "#### 数据拼接concat  ： 各个DataFrame的coloumn都是一样的\n",
    "Pandas提供了许多工具来根据索引逻辑和线性代数关系组合Series、DataFrame和Panel。\n",
    "用```concat()```组合Pandas数据"
   ]
  },
  {
   "cell_type": "code",
   "execution_count": null,
   "metadata": {},
   "outputs": [],
   "source": [
    "dates=pd.date_range('20130101',periods=6)#生成一个时间类型的索引序列\n",
    "print(dates)\n",
    "df1=pd.DataFrame(np.random.randn(6,4),index=dates,columns=list('ABCD'))#构造一个DataFrame\n",
    "\n",
    "dates=pd.date_range('20150101',periods=6)#生成一个时间类型的索引序列\n",
    "print(dates)\n",
    "df2=pd.DataFrame(np.random.randn(6,4),index=dates,columns=list('ABCD'))#构造一个DataFrame\n",
    "\n",
    "dates=pd.date_range('20170101',periods=6)#生成一个时间类型的索引序列\n",
    "print(dates)\n",
    "df3=pd.DataFrame(np.random.randn(6,4),index=dates,columns=list('ABCD'))#构造一个DataFrame"
   ]
  },
  {
   "cell_type": "code",
   "execution_count": null,
   "metadata": {},
   "outputs": [],
   "source": [
    "print(pd.concat([df1,df2,df3]))   #拼接"
   ]
  },
  {
   "cell_type": "markdown",
   "metadata": {},
   "source": [
    "#### 数据关联 Merge  ：   来自不同的来源，DataFrame的 column不同，但是有相同index\n",
    "合并\n",
    "\n",
    "<img style=\"float: center;\" src=\"img/merge.png\" width=400>"
   ]
  },
  {
   "cell_type": "code",
   "execution_count": null,
   "metadata": {
    "ExecuteTime": {
     "end_time": "2018-01-13T07:47:02.608433Z",
     "start_time": "2018-01-13T07:47:02.591388Z"
    }
   },
   "outputs": [],
   "source": [
    "left=pd.DataFrame({'姓名':['小明','小强'],'身高cm':[180,175]})\n",
    "right=pd.DataFrame({'姓名':['小明','小刚'],'体重g':[120,130]})\n",
    "print(left)\n",
    "print(right)\n",
    "print(pd.merge(left,right,on='姓名',how='inner'))"
   ]
  },
  {
   "cell_type": "code",
   "execution_count": null,
   "metadata": {},
   "outputs": [],
   "source": [
    "print(pd.merge(left,right,on='姓名',how='left'))"
   ]
  },
  {
   "cell_type": "markdown",
   "metadata": {},
   "source": [
    "### 数据查询 query"
   ]
  },
  {
   "cell_type": "code",
   "execution_count": null,
   "metadata": {},
   "outputs": [],
   "source": [
    "df=pd.DataFrame({'Month':['May','July','May','May','May','July','May','May'],'Team' : ['team_one', 'team_one', 'team_two', 'team_three',\n",
    "                              'team_two', 'team_two', 'team_one', 'team_three'],\n",
    "                       'Score1' : np.random.randn(8),\n",
    "                      'Score2' : np.random.randn(8)})\n",
    "df"
   ]
  },
  {
   "cell_type": "code",
   "execution_count": null,
   "metadata": {},
   "outputs": [],
   "source": [
    "df_q=df.query('Month==\"May\"') #根据条件查询\n",
    "df_q"
   ]
  },
  {
   "cell_type": "code",
   "execution_count": null,
   "metadata": {},
   "outputs": [],
   "source": [
    "df_q=df.query('Month==\"May\"').query('Score1>0') #根据条件查询\n",
    "df_q"
   ]
  },
  {
   "cell_type": "markdown",
   "metadata": {},
   "source": [
    "### 分组  Groupby\n",
    "分组包含以下的一个或多个流程：\n",
    " - 分组 根据某种标准分组数据\n",
    " - 应用 对每个组应用一个函数\n",
    " - 组合 把分组的结果组合成一个整体结构"
   ]
  },
  {
   "cell_type": "code",
   "execution_count": null,
   "metadata": {
    "ExecuteTime": {
     "end_time": "2018-01-13T07:47:03.520375Z",
     "start_time": "2018-01-13T07:47:03.510323Z"
    }
   },
   "outputs": [],
   "source": [
    "df=pd.DataFrame({'Month':['May','July','May','May','May','July','May','May'],'Team' : ['team_one', 'team_one', 'team_two', 'team_three',\n",
    "                              'team_two', 'team_two', 'team_one', 'team_three'],\n",
    "                       'Score1' : np.random.randn(8),\n",
    "                      'Score2' : np.random.randn(8)})\n",
    "df"
   ]
  },
  {
   "cell_type": "markdown",
   "metadata": {},
   "source": [
    "分组并对分组后的结果求和"
   ]
  },
  {
   "cell_type": "code",
   "execution_count": null,
   "metadata": {},
   "outputs": [],
   "source": [
    "print(df.groupby(['Team']).max()) #max min mean"
   ]
  },
  {
   "cell_type": "code",
   "execution_count": null,
   "metadata": {
    "ExecuteTime": {
     "end_time": "2018-01-13T07:47:04.352567Z",
     "start_time": "2018-01-13T07:47:04.341537Z"
    }
   },
   "outputs": [],
   "source": [
    "print(df.groupby(['Team','Month']).sum())"
   ]
  },
  {
   "cell_type": "markdown",
   "metadata": {},
   "source": [
    "### 时间序列\n",
    "Pandas拥有易用、强大且高效的方法来在频率变换中执行重采样操作（例如：把秒级别的数据转换成5分钟级别的数据）。这通常在金融应用中使用，但不仅限于金融应用。"
   ]
  },
  {
   "cell_type": "code",
   "execution_count": null,
   "metadata": {
    "ExecuteTime": {
     "end_time": "2018-01-13T07:47:06.995285Z",
     "start_time": "2018-01-13T07:47:06.979238Z"
    }
   },
   "outputs": [],
   "source": [
    "rng=pd.date_range('1/1/2012',periods=100,freq='S')   # 构造一个日期序列， 开始 1/1/2012  ， 100个时间点, 频率S 表示秒\n",
    "print(rng)\n",
    "ts=pd.Series(np.random.randint(0,500,len(rng)),index=rng)  #构造一个随机数序列  长度100\n",
    "print(ts.head(5))\n"
   ]
  },
  {
   "cell_type": "code",
   "execution_count": null,
   "metadata": {},
   "outputs": [],
   "source": [
    "ts_sample=ts.resample('5s').sum()    #按照5秒重采样 聚合，  sum表示采样后按求和运算\n",
    "ts_sample"
   ]
  },
  {
   "cell_type": "markdown",
   "metadata": {},
   "source": [
    "表现时区"
   ]
  },
  {
   "cell_type": "code",
   "execution_count": null,
   "metadata": {
    "ExecuteTime": {
     "end_time": "2018-01-13T07:47:07.442870Z",
     "start_time": "2018-01-13T07:47:07.423820Z"
    }
   },
   "outputs": [],
   "source": [
    "rng=pd.date_range('3/6/2012 00:00',periods=5,freq='D')\n",
    "ts=pd.Series(np.random.randn(len(rng)),rng)\n",
    "print(ts)\n",
    "ts_utc=ts.tz_localize('UTC')\n",
    "ts_utc"
   ]
  },
  {
   "cell_type": "markdown",
   "metadata": {},
   "source": [
    "### 绘图"
   ]
  },
  {
   "cell_type": "code",
   "execution_count": null,
   "metadata": {
    "ExecuteTime": {
     "end_time": "2018-01-13T07:47:12.401288Z",
     "start_time": "2018-01-13T07:47:12.186099Z"
    }
   },
   "outputs": [],
   "source": [
    "import matplotlib.pyplot as plt\n",
    "%matplotlib inline\n",
    "ts=pd.Series(np.random.randn(100),index=pd.date_range('1/1/2000',periods=100))\n",
    "ts.plot()"
   ]
  },
  {
   "cell_type": "markdown",
   "metadata": {},
   "source": [
    "在DataFrame上，```plot()```是一个函数可以方便地对数据的每个列进行绘图"
   ]
  },
  {
   "cell_type": "code",
   "execution_count": null,
   "metadata": {
    "ExecuteTime": {
     "end_time": "2018-01-13T07:47:13.098274Z",
     "start_time": "2018-01-13T07:47:12.787162Z"
    }
   },
   "outputs": [],
   "source": [
    "df=pd.DataFrame(np.random.randn(100,4),index=ts.index,columns=['A','B','C','D'])\n",
    "df.plot()\n"
   ]
  },
  {
   "cell_type": "code",
   "execution_count": null,
   "metadata": {},
   "outputs": [],
   "source": [
    "df.plot.scatter('A','B')"
   ]
  },
  {
   "cell_type": "markdown",
   "metadata": {},
   "source": [
    "### 数据获取与导出\n",
    "#### CSV\n",
    "保存数据到csv文件中"
   ]
  },
  {
   "cell_type": "code",
   "execution_count": null,
   "metadata": {
    "ExecuteTime": {
     "end_time": "2018-01-13T07:47:13.440814Z",
     "start_time": "2018-01-13T07:47:13.418780Z"
    }
   },
   "outputs": [],
   "source": [
    "df1.to_csv('foo.csv')"
   ]
  },
  {
   "cell_type": "markdown",
   "metadata": {},
   "source": [
    "从csv中读取数据"
   ]
  },
  {
   "cell_type": "code",
   "execution_count": null,
   "metadata": {
    "ExecuteTime": {
     "end_time": "2018-01-13T07:47:14.067226Z",
     "start_time": "2018-01-13T07:47:14.055193Z"
    },
    "scrolled": true
   },
   "outputs": [],
   "source": [
    "df=pd.read_csv('foo.csv')\n",
    "print(df[:10])\n",
    "df"
   ]
  },
  {
   "cell_type": "markdown",
   "metadata": {},
   "source": [
    "### Pandas主要功能小结\n",
    "- 快速高效的DataFrame对象，具有默认和自定义的索引。\n",
    "- 将数据从不同文件格式加载到内存中的数据对象的工具。\n",
    "- 缺失数据的数据对齐和综合处理。\n",
    "- 重组和摆动日期集。\n",
    "- 基于标签的切片，索引和大数据集的子集。\n",
    "- 可以删除或插入来自数据结构的列。\n",
    "- 按数据分组进行聚合和转换。\n",
    "- 高性能合并和数据加入。\n",
    "- 时间序列功能。"
   ]
  }
 ],
 "metadata": {
  "kernelspec": {
   "display_name": "Python 3",
   "language": "python",
   "name": "python3"
  },
  "language_info": {
   "codemirror_mode": {
    "name": "ipython",
    "version": 3
   },
   "file_extension": ".py",
   "mimetype": "text/x-python",
   "name": "python",
   "nbconvert_exporter": "python",
   "pygments_lexer": "ipython3",
   "version": "3.8.8"
  },
  "toc": {
   "nav_menu": {},
   "number_sections": true,
   "sideBar": true,
   "skip_h1_title": false,
   "toc_cell": false,
   "toc_position": {},
   "toc_section_display": "block",
   "toc_window_display": false
  },
  "varInspector": {
   "cols": {
    "lenName": 16,
    "lenType": 16,
    "lenVar": 40
   },
   "kernels_config": {
    "python": {
     "delete_cmd_postfix": "",
     "delete_cmd_prefix": "del ",
     "library": "var_list.py",
     "varRefreshCmd": "print(var_dic_list())"
    },
    "r": {
     "delete_cmd_postfix": ") ",
     "delete_cmd_prefix": "rm(",
     "library": "var_list.r",
     "varRefreshCmd": "cat(var_dic_list()) "
    }
   },
   "types_to_exclude": [
    "module",
    "function",
    "builtin_function_or_method",
    "instance",
    "_Feature"
   ],
   "window_display": false
  }
 },
 "nbformat": 4,
 "nbformat_minor": 2
}
