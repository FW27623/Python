{
 "cells": [
  {
   "cell_type": "markdown",
   "metadata": {
    "pycharm": {
     "name": "#%% md\n"
    }
   },
   "source": [
    "<div align=\"center\"><h1> 第1章&nbsp;&nbsp;Python环境准备</h1></div>"
   ]
  },
  {
   "cell_type": "markdown",
   "metadata": {},
   "source": [
    "# 一、说明"
   ]
  },
  {
   "cell_type": "markdown",
   "metadata": {},
   "source": [
    "- 描述：第一章实验源代码\n",
    "- 作者：方伟（FangWei）\n",
    "- 程序开发环境：Windows DEV Channel , Build 22533.1001 64位"
   ]
  },
  {
   "cell_type": "markdown",
   "metadata": {},
   "source": [
    "# 二、程序"
   ]
  },
  {
   "cell_type": "code",
   "execution_count": 11,
   "metadata": {},
   "outputs": [
    {
     "name": "stdout",
     "output_type": "stream",
     "text": [
      "hello world\n"
     ]
    }
   ],
   "source": [
    "print('hello world')"
   ]
  },
  {
   "cell_type": "code",
   "execution_count": 12,
   "metadata": {},
   "outputs": [
    {
     "name": "stdout",
     "output_type": "stream",
     "text": [
      "我的名字是方伟\n"
     ]
    }
   ],
   "source": [
    "print(\"我的名字是方伟\")"
   ]
  },
  {
   "cell_type": "code",
   "execution_count": 13,
   "metadata": {},
   "outputs": [
    {
     "name": "stdout",
     "output_type": "stream",
     "text": [
      "30.0\n"
     ]
    }
   ],
   "source": [
    "def sum(*numbers):\n",
    "  total=0.0\n",
    "  for number in numbers:\n",
    "    total+=number\n",
    "    return total\n",
    "print(sum(30.0,80.0))"
   ]
  },
  {
   "cell_type": "code",
   "execution_count": 18,
   "metadata": {},
   "outputs": [
    {
     "data": {
      "text/plain": [
       "15360.0"
      ]
     },
     "execution_count": 18,
     "metadata": {},
     "output_type": "execute_result"
    }
   ],
   "source": [
    "def area(width,height):\n",
    "  return width*height\n",
    "area(height=480.0,width=320)"
   ]
  },
  {
   "cell_type": "code",
   "execution_count": 19,
   "metadata": {
    "pycharm": {
     "name": "#%%\n"
    }
   },
   "outputs": [
    {
     "name": "stdout",
     "output_type": "stream",
     "text": [
      "函数中x=200\n",
      "全局变量x=100\n"
     ]
    }
   ],
   "source": [
    "x=200\n",
    "def print_value():\n",
    "  global x\n",
    "  x=100\n",
    "print(\"函数中x={0}\".format(x))\n",
    "print_value()\n",
    "print(\"全局变量x={0}\".format(x))\n"
   ]
  },
  {
   "cell_type": "code",
   "execution_count": 44,
   "metadata": {
    "pycharm": {
     "name": "#%%\n"
    }
   },
   "outputs": [
    {
     "name": "stdout",
     "output_type": "stream",
     "text": [
      "120\n"
     ]
    }
   ],
   "source": [
    "def factorial(n):\n",
    "    result = n\n",
    "    for i in range(1,n):\n",
    "      result *= i\n",
    "    return result\n",
    "print(factorial(5))"
   ]
  },
  {
   "cell_type": "code",
   "execution_count": 47,
   "metadata": {
    "pycharm": {
     "name": "#%%\n"
    }
   },
   "outputs": [
    {
     "name": "stdout",
     "output_type": "stream",
     "text": [
      "这个三角形不是三角形\n"
     ]
    }
   ],
   "source": [
    "def triangle(a,b,c):\n",
    "    if a>0 and b>0 and c>0:\n",
    "        if a+b>c and a+c>b and b+c>a:\n",
    "            return \"这个三角形是三角形\"\n",
    "        else:\n",
    "            return '这个三角形不是三角形'\n",
    "print(triangle(1,2,3))"
   ]
  },
  {
   "cell_type": "code",
   "execution_count": 82,
   "metadata": {
    "pycharm": {
     "name": "#%%\n"
    }
   },
   "outputs": [
    {
     "name": "stdout",
     "output_type": "stream",
     "text": [
      "鸡的数量： 25\n",
      "兔的数量： 11\n"
     ]
    }
   ],
   "source": [
    "x=int(input(\"请输入鸡和兔的数量\"))\n",
    "y=int(input(\"请输入鸡和兔一共有多少只脚\"))\n",
    "for a in range(0,x+1):\n",
    "    b=x-a\n",
    "    if a*2+b*4==y:\n",
    "        print(\"鸡的数量为：\",a)\n",
    "        print(\"兔的数量为：\",b)"
   ]
  },
  {
   "cell_type": "code",
   "execution_count": 84,
   "outputs": [
    {
     "name": "stdout",
     "output_type": "stream",
     "text": [
      "这两个数的最大公约数为 1 ，最小公倍数为 2.0\n"
     ]
    }
   ],
   "source": [
    "def test_1(a,b):\n",
    "    while(b!=0):\n",
    "        temp=a%b\n",
    "        a=b\n",
    "        b=temp\n",
    "    return a\n",
    "def test_2(a,b):\n",
    "    return a*b/test_1(a,b)\n",
    "x=int(input(\"请输入一个整数\"))\n",
    "y=int(input(\"请输入另一个整数\"))\n",
    "print(\"这两个数的最大公约数为\",test_1(x,y),\"，最小公倍数为\",test_2(x,y))"
   ],
   "metadata": {
    "collapsed": false,
    "pycharm": {
     "name": "#%%\n"
    }
   }
  },
  {
   "cell_type": "code",
   "execution_count": 74,
   "metadata": {},
   "outputs": [
    {
     "name": "stdout",
     "output_type": "stream",
     "text": [
      "1024*768=xxx\n",
      "1024*768=xxx\n",
      "1024*768=xxx\n"
     ]
    }
   ],
   "source": [
    "a=1024\n",
    "b=768\n",
    "c=\"xxx\"\n",
    "print(\"%d*%d=%s\"%(a,b,c))\n",
    "print('{}*{}={}'.format(1024,768,\"xxx\"))\n",
    "print(f'{a}*{b}={c}')"
   ]
  }
 ],
 "metadata": {
  "kernelspec": {
   "display_name": "Python 3 (ipykernel)",
   "language": "python",
   "name": "python3"
  },
  "language_info": {
   "codemirror_mode": {
    "name": "ipython",
    "version": 3
   },
   "file_extension": ".py",
   "mimetype": "text/x-python",
   "name": "python",
   "nbconvert_exporter": "python",
   "pygments_lexer": "ipython3",
   "version": "3.10.1"
  }
 },
 "nbformat": 4,
 "nbformat_minor": 2
}