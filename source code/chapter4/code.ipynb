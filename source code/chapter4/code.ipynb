{
 "cells": [
  {
   "cell_type": "markdown",
   "metadata": {},
   "source": [
    "<div align=\"center\"><h1> 第4章&nbsp;&nbsp;数据清洗和预处理</h1></div>"
   ]
  },
  {
   "cell_type": "markdown",
   "metadata": {},
   "source": [
    "# 一、说明"
   ]
  },
  {
   "cell_type": "markdown",
   "metadata": {},
   "source": [
    "- 描述：本章源代码。\n",
    "- 作者：方伟（FangWei）\n",
    "- 程序开发环境：Windows DEV Channel , Build 22533.1001 64位\n",
    "- Python版本：64位 3.10.1"
   ]
  },
  {
   "cell_type": "markdown",
   "metadata": {},
   "source": [
    "# 二、程序"
   ]
  },
  {
   "cell_type": "markdown",
   "metadata": {},
   "source": [
    "## 4.1 对比可视化"
   ]
  },
  {
   "cell_type": "code",
   "execution_count": 1,
   "metadata": {},
   "outputs": [],
   "source": [
    "import pandas as pd\n",
    "data  =pd.read_csv('data.csv')"
   ]
  },
  {
   "cell_type": "markdown",
   "metadata": {},
   "source": [
    "### 4.1.1 查看数据状态"
   ]
  },
  {
   "cell_type": "code",
   "execution_count": 2,
   "metadata": {},
   "outputs": [
    {
     "name": "stdout",
     "output_type": "stream",
     "text": [
      "   user_id   age level     sex  orders  values         recent_date\n",
      "0      662  24.0  High    Male     197  172146  2016/7/23 12:24:28\n",
      "1      833  17.0  High    Male     227  198124  2016/7/23 12:24:28\n",
      "2     2289  30.0  High  Female     302  190385  2016/7/23 12:24:28\n"
     ]
    }
   ],
   "source": [
    "print(data.head(3))"
   ]
  },
  {
   "cell_type": "markdown",
   "metadata": {},
   "source": [
    "### 4.1.2 审核数据类型"
   ]
  },
  {
   "cell_type": "code",
   "execution_count": 3,
   "metadata": {},
   "outputs": [
    {
     "name": "stdout",
     "output_type": "stream",
     "text": [
      "user_id          int64\n",
      "age            float64\n",
      "level           object\n",
      "sex             object\n",
      "orders           int64\n",
      "values           int64\n",
      "recent_date     object\n",
      "dtype: object\n"
     ]
    }
   ],
   "source": [
    "print(data.dtypes)"
   ]
  },
  {
   "cell_type": "markdown",
   "metadata": {},
   "source": [
    "### 4.1.3 分析分布趋势"
   ]
  },
  {
   "cell_type": "code",
   "execution_count": 4,
   "metadata": {
    "scrolled": true
   },
   "outputs": [
    {
     "name": "stdout",
     "output_type": "stream",
     "text": [
      "        user_id      age level   sex   orders      values          recent_date\n",
      "count   2849.00  2848.00  2845  2848  2849.00     2849.00                 2849\n",
      "unique      NaN      NaN     4     2      NaN         NaN                  286\n",
      "top         NaN      NaN  High  Male      NaN         NaN  2018/10/12 12:24:28\n",
      "freq        NaN      NaN  2443  1864      NaN         NaN                   19\n",
      "mean    5067.12    38.78   NaN   NaN   491.38   192289.28                  NaN\n",
      "std     2884.01    25.47   NaN   NaN   483.49   106252.24                  NaN\n",
      "min        6.00    17.00   NaN   NaN    25.00    19395.00                  NaN\n",
      "25%     2566.00    28.00   NaN   NaN   207.00   120068.00                  NaN\n",
      "50%     5166.00    37.00   NaN   NaN   328.00   180052.00                  NaN\n",
      "75%     7496.00    47.00   NaN   NaN   587.00   239439.00                  NaN\n",
      "max     9999.00  1200.00   NaN   NaN  4286.00  1184622.00                  NaN\n"
     ]
    }
   ],
   "source": [
    "print(data.describe(include='all').round(2))"
   ]
  },
  {
   "cell_type": "markdown",
   "metadata": {},
   "source": [
    "## 4.2 缺失值处理"
   ]
  },
  {
   "cell_type": "markdown",
   "metadata": {},
   "source": [
    "### 4.2.1 查看缺失值记录"
   ]
  },
  {
   "cell_type": "code",
   "execution_count": 5,
   "metadata": {},
   "outputs": [
    {
     "name": "stdout",
     "output_type": "stream",
     "text": [
      "6\n",
      "13      True\n",
      "16      True\n",
      "1476    True\n",
      "1761    True\n",
      "2140    True\n",
      "2836    True\n",
      "dtype: bool\n"
     ]
    }
   ],
   "source": [
    "na_records = data.isnull().any(axis=1) # 获取每行是否包含NA判断结果\n",
    "print(na_records.sum()) # NA记录的总数量\n",
    "print(na_records[na_records]==True) # NA记录的行号"
   ]
  },
  {
   "cell_type": "markdown",
   "metadata": {},
   "source": [
    "### 4.2.2 查看缺失值列"
   ]
  },
  {
   "cell_type": "code",
   "execution_count": 6,
   "metadata": {},
   "outputs": [
    {
     "name": "stdout",
     "output_type": "stream",
     "text": [
      "3\n",
      "age      True\n",
      "level    True\n",
      "sex      True\n",
      "dtype: bool\n"
     ]
    }
   ],
   "source": [
    "na_cols = data.isnull().any(axis=0) # 获取每列是否包含NA判断结果\n",
    "print(na_cols.sum()) # NA列的总数量\n",
    "print(na_cols[na_cols]==True) # NA记录的列名"
   ]
  },
  {
   "cell_type": "markdown",
   "metadata": {},
   "source": [
    "### 4.2.3 NA值处理"
   ]
  },
  {
   "cell_type": "markdown",
   "metadata": {},
   "source": [
    "1. 填充NA值"
   ]
  },
  {
   "cell_type": "code",
   "execution_count": 7,
   "metadata": {},
   "outputs": [],
   "source": [
    "# 分类型字段的填充\n",
    "data[['level','sex']] = data[['level','sex']].fillna('others') # 批量用“其他”填充"
   ]
  },
  {
   "cell_type": "code",
   "execution_count": 8,
   "metadata": {},
   "outputs": [],
   "source": [
    "# 数值型字段的填充\n",
    "data['age'] = data['age'].fillna(0) # 用0填充\n",
    "data['age'] = data['age'].fillna(data['age'].mean()) # 均值填充\n",
    "data['age'] = data['age'].fillna(method='pad') # 用前一个数据填充\n",
    "data['age'] = data['age'].fillna(method='bfill') # 用后一个数据填充\n",
    "data['age'] = data['age'].interpolate(method='linear') # 用差值法填充，可指定不同的方法"
   ]
  },
  {
   "cell_type": "markdown",
   "metadata": {},
   "source": [
    "> 注意如果是日期型，通常应该删除记录，因为日期无法“准确”填充。如果是布尔型，应该按照分类型填充，即先转换为分类型，再填充为“其他”。"
   ]
  },
  {
   "cell_type": "markdown",
   "metadata": {},
   "source": [
    "2. 丢弃NA值"
   ]
  },
  {
   "cell_type": "code",
   "execution_count": 9,
   "metadata": {},
   "outputs": [],
   "source": [
    "data_dropna = data.dropna() # 直接丢弃"
   ]
  },
  {
   "cell_type": "markdown",
   "metadata": {},
   "source": [
    "## 4.3 异常值处理"
   ]
  },
  {
   "cell_type": "markdown",
   "metadata": {},
   "source": [
    "### 4.3.1 异常值判断"
   ]
  },
  {
   "cell_type": "markdown",
   "metadata": {},
   "source": [
    "1. 基于经验值的判断和选择"
   ]
  },
  {
   "cell_type": "code",
   "execution_count": 10,
   "metadata": {},
   "outputs": [],
   "source": [
    "data_sets = data[(data['age']>0)&(data['age']<=100)] # 购物人群年龄在0到100岁之间"
   ]
  },
  {
   "cell_type": "markdown",
   "metadata": {},
   "source": [
    "2. 基于均值标准差的判断与处理"
   ]
  },
  {
   "cell_type": "code",
   "execution_count": 11,
   "metadata": {},
   "outputs": [],
   "source": [
    "import numpy as np"
   ]
  },
  {
   "cell_type": "code",
   "execution_count": 12,
   "metadata": {},
   "outputs": [],
   "source": [
    "def process_outlier(sub_data,each_col):\n",
    "    _mean = sub_data[each_col].mean()\n",
    "    _std = sub_data[each_col].std()\n",
    "    scope_min,scope_max = _mean-2*_std,_mean+2*_std\n",
    "    is_outlier = (sub_data[each_col] <scope_min) | (sub_data[each_col] >scope_max)\n",
    "    sub_data[is_outlier] = _mean\n",
    "    print(np.sum(is_outlier))\n",
    "    return sub_data    "
   ]
  },
  {
   "cell_type": "code",
   "execution_count": 13,
   "metadata": {},
   "outputs": [
    {
     "name": "stdout",
     "output_type": "stream",
     "text": [
      "135\n"
     ]
    },
    {
     "name": "stderr",
     "output_type": "stream",
     "text": [
      "C:\\Anaconda3\\lib\\site-packages\\ipykernel_launcher.py:6: SettingWithCopyWarning: \n",
      "A value is trying to be set on a copy of a slice from a DataFrame.\n",
      "Try using .loc[row_indexer,col_indexer] = value instead\n",
      "\n",
      "See the caveats in the documentation: http://pandas.pydata.org/pandas-docs/stable/indexing.html#indexing-view-versus-copy\n",
      "  \n",
      "C:\\Anaconda3\\lib\\site-packages\\pandas\\core\\indexing.py:543: SettingWithCopyWarning: \n",
      "A value is trying to be set on a copy of a slice from a DataFrame.\n",
      "Try using .loc[row_indexer,col_indexer] = value instead\n",
      "\n",
      "See the caveats in the documentation: http://pandas.pydata.org/pandas-docs/stable/indexing.html#indexing-view-versus-copy\n",
      "  self.obj[item] = s\n"
     ]
    }
   ],
   "source": [
    "data['orders'] = process_outlier(data[['orders']], 'orders')"
   ]
  },
  {
   "cell_type": "markdown",
   "metadata": {},
   "source": [
    "3. 基于分位数判断异常值"
   ]
  },
  {
   "cell_type": "code",
   "execution_count": 14,
   "metadata": {},
   "outputs": [],
   "source": [
    "def process_outlier(sub_data,each_col):\n",
    "    desc = sub_data.describe().T\n",
    "    per_25 = desc['25%'].values[0]\n",
    "    per_75 = desc['75%'].values[0]\n",
    "    spacing = per_75 -per_25\n",
    "    scope_min,scope_max = per_25-1.5 * spacing,per_75+1.5 * spacing\n",
    "    is_outlier = (sub_data[each_col] <scope_min) | (sub_data[each_col] >scope_max)\n",
    "    sub_data[is_outlier] = desc['mean'].values[0]\n",
    "    print(np.sum(is_outlier))\n",
    "    return sub_data    "
   ]
  },
  {
   "cell_type": "code",
   "execution_count": 15,
   "metadata": {},
   "outputs": [
    {
     "name": "stdout",
     "output_type": "stream",
     "text": [
      "92\n"
     ]
    },
    {
     "name": "stderr",
     "output_type": "stream",
     "text": [
      "C:\\Anaconda3\\lib\\site-packages\\ipykernel_launcher.py:8: SettingWithCopyWarning: \n",
      "A value is trying to be set on a copy of a slice from a DataFrame.\n",
      "Try using .loc[row_indexer,col_indexer] = value instead\n",
      "\n",
      "See the caveats in the documentation: http://pandas.pydata.org/pandas-docs/stable/indexing.html#indexing-view-versus-copy\n",
      "  \n",
      "C:\\Anaconda3\\lib\\site-packages\\pandas\\core\\indexing.py:543: SettingWithCopyWarning: \n",
      "A value is trying to be set on a copy of a slice from a DataFrame.\n",
      "Try using .loc[row_indexer,col_indexer] = value instead\n",
      "\n",
      "See the caveats in the documentation: http://pandas.pydata.org/pandas-docs/stable/indexing.html#indexing-view-versus-copy\n",
      "  self.obj[item] = s\n"
     ]
    }
   ],
   "source": [
    "data['values'] = process_outlier(data[['values']], 'values')"
   ]
  },
  {
   "cell_type": "markdown",
   "metadata": {},
   "source": [
    "> 注意：如果要删除异常值，那么需要将所有要删除的列做标记，最后合并所有列的标记，取标记的合集做删除；而不能分别针对每一列做删除。"
   ]
  },
  {
   "cell_type": "markdown",
   "metadata": {},
   "source": [
    "## 4.4 重复值处理"
   ]
  },
  {
   "cell_type": "markdown",
   "metadata": {},
   "source": [
    "### 4.4.1 判断缺失值"
   ]
  },
  {
   "cell_type": "code",
   "execution_count": 16,
   "metadata": {},
   "outputs": [
    {
     "name": "stdout",
     "output_type": "stream",
     "text": [
      "      user_id   age level   sex  orders    values         recent_date\n",
      "2847     6249  17.0  High  Male   308.0  132755.0  2019/4/18 12:24:28\n"
     ]
    }
   ],
   "source": [
    "print(data[data.duplicated()])"
   ]
  },
  {
   "cell_type": "markdown",
   "metadata": {},
   "source": [
    "### 4.4.2 去除重复值"
   ]
  },
  {
   "cell_type": "code",
   "execution_count": 17,
   "metadata": {},
   "outputs": [],
   "source": [
    "data_dropduplicates = data.drop_duplicates()"
   ]
  },
  {
   "cell_type": "markdown",
   "metadata": {},
   "source": [
    "## 4.5 数据抽样"
   ]
  },
  {
   "cell_type": "markdown",
   "metadata": {},
   "source": [
    "### 4.5.1 随机抽样"
   ]
  },
  {
   "cell_type": "code",
   "execution_count": 18,
   "metadata": {},
   "outputs": [],
   "source": [
    "# 指定抽样数量\n",
    "data_sample1 = data.sample(n=1000)"
   ]
  },
  {
   "cell_type": "code",
   "execution_count": 19,
   "metadata": {},
   "outputs": [],
   "source": [
    "# 指定抽样比例\n",
    "data_sample2 = data.sample(frac=0.8)"
   ]
  },
  {
   "cell_type": "markdown",
   "metadata": {},
   "source": [
    "### 4.5.2 分层抽样"
   ]
  },
  {
   "cell_type": "code",
   "execution_count": 20,
   "metadata": {},
   "outputs": [],
   "source": [
    "def sub_sample(data,group_name):\n",
    "    return data[data['level']==group_name].sample(frac=0.8)"
   ]
  },
  {
   "cell_type": "code",
   "execution_count": 21,
   "metadata": {},
   "outputs": [],
   "source": [
    "names = data['level'].unique()\n",
    "all_samples = [sub_sample(data,group_name) for group_name in names]\n",
    "samples_pd = pd.concat(all_samples,axis=0)"
   ]
  },
  {
   "cell_type": "markdown",
   "metadata": {},
   "source": [
    "> 注意：在抽样前，需要先填充NA值"
   ]
  },
  {
   "cell_type": "code",
   "execution_count": 22,
   "metadata": {},
   "outputs": [
    {
     "name": "stdout",
     "output_type": "stream",
     "text": [
      "            0    1       2      3       4\n",
      "level    High  Low  Normal  Other  others\n",
      "user_id  2443  284      87     31       4\n"
     ]
    }
   ],
   "source": [
    "print(data.groupby(['level'],as_index=False)['user_id'].count().T)"
   ]
  },
  {
   "cell_type": "code",
   "execution_count": 23,
   "metadata": {},
   "outputs": [
    {
     "name": "stdout",
     "output_type": "stream",
     "text": [
      "            0    1       2      3       4\n",
      "level    High  Low  Normal  Other  others\n",
      "user_id  1954  227      70     25       3\n"
     ]
    }
   ],
   "source": [
    "print(samples_pd.groupby(['level'],as_index=False)['user_id'].count().T)"
   ]
  },
  {
   "cell_type": "markdown",
   "metadata": {},
   "source": [
    "## 4.6 数据格式与值变换"
   ]
  },
  {
   "cell_type": "markdown",
   "metadata": {},
   "source": [
    "### 4.6.1 字符串转日期"
   ]
  },
  {
   "cell_type": "code",
   "execution_count": 24,
   "metadata": {},
   "outputs": [
    {
     "name": "stdout",
     "output_type": "stream",
     "text": [
      "object\n",
      "datetime64[ns]\n"
     ]
    }
   ],
   "source": [
    "print(data['recent_date'].dtype)\n",
    "data['recent_date'] = [pd.datetime.strptime(i,'%Y/%m/%d %H:%M:%S') for i in data['recent_date']]\n",
    "print(data['recent_date'].dtype)"
   ]
  },
  {
   "cell_type": "markdown",
   "metadata": {},
   "source": [
    "### 4.6.2 提取日期、时间"
   ]
  },
  {
   "cell_type": "code",
   "execution_count": 25,
   "metadata": {},
   "outputs": [
    {
     "name": "stdout",
     "output_type": "stream",
     "text": [
      "2016-07-23 12:24:28\n"
     ]
    }
   ],
   "source": [
    "single_dt = data['recent_date'].iloc[0]\n",
    "print(single_dt)"
   ]
  },
  {
   "cell_type": "markdown",
   "metadata": {},
   "source": [
    "### 4.6.3 提取时间元素"
   ]
  },
  {
   "cell_type": "code",
   "execution_count": 26,
   "metadata": {},
   "outputs": [
    {
     "name": "stdout",
     "output_type": "stream",
     "text": [
      "2016-07-23\n",
      "12:24:28\n"
     ]
    }
   ],
   "source": [
    "print(single_dt.date())\n",
    "print(single_dt.time())"
   ]
  },
  {
   "cell_type": "code",
   "execution_count": 27,
   "metadata": {},
   "outputs": [],
   "source": [
    "# 提取不同的元素\n",
    "dt_elements =\\\n",
    "['day', # 当月第几天\n",
    " 'dayofweek', # 当周第几天\n",
    " 'daysinmonth', # 是否当月第一天\n",
    " 'is_leap_year',# 是否闰年\n",
    " 'is_month_end', # 是否当月最后一天\n",
    " 'is_month_start',# 是否当月第一天\n",
    " 'is_quarter_end',# 是否季度最后一天\n",
    " 'is_quarter_start',#是否季度第一天\n",
    " 'is_year_end',# 是否当年最后一天\n",
    " 'is_year_start',#是否当年第一天\n",
    " 'month',# 月\n",
    " 'quarter', # 季度\n",
    " 'week', # 周\n",
    " 'weekday', # 周几\n",
    " 'weekofyear', # 一年的第几周\n",
    " 'year', # 年\n",
    " 'hour', # 小时\n",
    " 'minute', # 分钟\n",
    " 'second' # 秒\n",
    "]"
   ]
  },
  {
   "cell_type": "code",
   "execution_count": 28,
   "metadata": {},
   "outputs": [
    {
     "name": "stdout",
     "output_type": "stream",
     "text": [
      "day 23\n",
      "dayofweek 5\n",
      "daysinmonth 31\n",
      "is_leap_year True\n",
      "is_month_end False\n",
      "is_month_start False\n",
      "is_quarter_end False\n",
      "is_quarter_start False\n",
      "is_year_end False\n",
      "is_year_start False\n",
      "month 7\n",
      "quarter 3\n",
      "week 29\n",
      "weekday 5\n",
      "weekofyear 29\n",
      "year 2016\n",
      "hour 12\n",
      "minute 24\n",
      "second 28\n"
     ]
    }
   ],
   "source": [
    "for i in dt_elements:\n",
    "    try:\n",
    "        print(i,eval('single_dt.'+i+'()'))\n",
    "    except Exception as e:\n",
    "        print(i,eval('single_dt.'+i))"
   ]
  },
  {
   "cell_type": "markdown",
   "metadata": {},
   "source": [
    "## 4.7 数据标准化和归一化"
   ]
  },
  {
   "cell_type": "code",
   "execution_count": 29,
   "metadata": {},
   "outputs": [],
   "source": [
    "from sklearn.preprocessing import StandardScaler,MinMaxScaler"
   ]
  },
  {
   "cell_type": "markdown",
   "metadata": {},
   "source": [
    "### 4.7.1 Z-SCORE数据标准化"
   ]
  },
  {
   "cell_type": "code",
   "execution_count": 30,
   "metadata": {},
   "outputs": [
    {
     "name": "stdout",
     "output_type": "stream",
     "text": [
      "      count  mean  std   min   25%   50%   75%    max\n",
      "age  2849.0  -0.0  1.0 -1.52 -0.42 -0.07  0.32  45.58\n"
     ]
    }
   ],
   "source": [
    "ss_model = StandardScaler()\n",
    "data['age']=ss_model.fit_transform(data[['age']])\n",
    "print(data[['age']].describe().T.round(2))"
   ]
  },
  {
   "cell_type": "markdown",
   "metadata": {},
   "source": [
    "### 4.7.2 MaxMin数据归一化"
   ]
  },
  {
   "cell_type": "code",
   "execution_count": 31,
   "metadata": {},
   "outputs": [
    {
     "name": "stdout",
     "output_type": "stream",
     "text": [
      "         count  mean   std  min   25%   50%   75%  max\n",
      "orders  2849.0  0.27  0.21  0.0  0.13  0.21  0.34  1.0\n"
     ]
    }
   ],
   "source": [
    "mm_model = MinMaxScaler((0,1))\n",
    "data['orders']=mm_model.fit_transform(data[['orders']])\n",
    "print(data[['orders']].describe().T.round(2))"
   ]
  },
  {
   "cell_type": "markdown",
   "metadata": {},
   "source": [
    "## 4.8 数据离散化和二元化"
   ]
  },
  {
   "cell_type": "markdown",
   "metadata": {},
   "source": [
    "### 4.8.1 基于自定义区间的离散化"
   ]
  },
  {
   "cell_type": "code",
   "execution_count": 32,
   "metadata": {},
   "outputs": [
    {
     "name": "stdout",
     "output_type": "stream",
     "text": [
      "0    (100000, 200000]\n",
      "1    (100000, 200000]\n",
      "2    (100000, 200000]\n",
      "Name: values_cut, dtype: category\n",
      "Categories (6, interval[int64]): [(0, 2000] < (2000, 100000] < (100000, 200000] < (200000, 500000] < (500000, 1000000] < (1000000, 100000000]]\n"
     ]
    }
   ],
   "source": [
    "bins = [0, 2000, 100000, 200000, 500000,1000000,100000000]\n",
    "data['values_cut'] = pd.cut(data['values'],bins)\n",
    "print(data['values_cut'].head(3))"
   ]
  },
  {
   "cell_type": "markdown",
   "metadata": {},
   "source": [
    "### 4.8.2 基于分位数法离散化"
   ]
  },
  {
   "cell_type": "code",
   "execution_count": 33,
   "metadata": {},
   "outputs": [
    {
     "name": "stdout",
     "output_type": "stream",
     "text": [
      "0    medium\n",
      "1    medium\n",
      "2    medium\n",
      "Name: values_cut2, dtype: category\n",
      "Categories (4, object): [bad < medium < good < awesome]\n"
     ]
    }
   ],
   "source": [
    "data['values_cut2'] = pd.cut(data['values'],4,labels=['bad', 'medium', 'good', 'awesome'])\n",
    "print(data['values_cut2'].head(3))"
   ]
  },
  {
   "cell_type": "markdown",
   "metadata": {},
   "source": [
    "### 4.8.3 基于指定条件的二值化"
   ]
  },
  {
   "cell_type": "code",
   "execution_count": 34,
   "metadata": {},
   "outputs": [
    {
     "name": "stdout",
     "output_type": "stream",
     "text": [
      "0    0.0\n",
      "1    0.0\n",
      "2    0.0\n",
      "3    1.0\n",
      "Name: age_bin, dtype: float64\n"
     ]
    }
   ],
   "source": [
    "from sklearn.preprocessing import Binarizer\n",
    "bin_model = Binarizer(threshold=data['age'].mean())\n",
    "data['age_bin'] = bin_model.fit_transform(data[['age']])\n",
    "print(data['age_bin'].head(4))"
   ]
  },
  {
   "cell_type": "markdown",
   "metadata": {},
   "source": [
    "## 4.9 分类特征处理"
   ]
  },
  {
   "cell_type": "markdown",
   "metadata": {},
   "source": [
    "### 4.9.1 分类特征转索引"
   ]
  },
  {
   "cell_type": "code",
   "execution_count": 35,
   "metadata": {},
   "outputs": [
    {
     "name": "stdout",
     "output_type": "stream",
     "text": [
      "0    0\n",
      "1    0\n",
      "2    0\n",
      "Name: level, dtype: int32\n"
     ]
    }
   ],
   "source": [
    "from sklearn.preprocessing import LabelEncoder\n",
    "model_le = LabelEncoder()\n",
    "data['level']=model_le.fit_transform(data['level'])\n",
    "print(data['level'].head(3))"
   ]
  },
  {
   "cell_type": "markdown",
   "metadata": {},
   "source": [
    "### 4.9.2 OneHotencode 转换"
   ]
  },
  {
   "cell_type": "code",
   "execution_count": 36,
   "metadata": {},
   "outputs": [
    {
     "name": "stdout",
     "output_type": "stream",
     "text": [
      "   sex_Female  sex_Male  sex_others\n",
      "0           0         1           0\n",
      "1           0         1           0\n",
      "2           1         0           0\n"
     ]
    }
   ],
   "source": [
    "object_data = data[['sex']]\n",
    "convert_data=pd.get_dummies(object_data)\n",
    "print(convert_data.head(3))"
   ]
  },
  {
   "cell_type": "markdown",
   "metadata": {},
   "source": [
    "## 4.10 特征选择"
   ]
  },
  {
   "cell_type": "code",
   "execution_count": 37,
   "metadata": {},
   "outputs": [],
   "source": [
    "data_merge = pd.concat((data[['age','orders']],convert_data,data[['age_bin']]),axis=1)"
   ]
  },
  {
   "cell_type": "code",
   "execution_count": 38,
   "metadata": {},
   "outputs": [
    {
     "data": {
      "text/html": [
       "<div>\n",
       "<style scoped>\n",
       "    .dataframe tbody tr th:only-of-type {\n",
       "        vertical-align: middle;\n",
       "    }\n",
       "\n",
       "    .dataframe tbody tr th {\n",
       "        vertical-align: top;\n",
       "    }\n",
       "\n",
       "    .dataframe thead th {\n",
       "        text-align: right;\n",
       "    }\n",
       "</style>\n",
       "<table border=\"1\" class=\"dataframe\">\n",
       "  <thead>\n",
       "    <tr style=\"text-align: right;\">\n",
       "      <th></th>\n",
       "      <th>age</th>\n",
       "      <th>orders</th>\n",
       "      <th>sex_Female</th>\n",
       "      <th>sex_Male</th>\n",
       "      <th>sex_others</th>\n",
       "      <th>age_bin</th>\n",
       "    </tr>\n",
       "  </thead>\n",
       "  <tbody>\n",
       "    <tr>\n",
       "      <th>0</th>\n",
       "      <td>-0.579592</td>\n",
       "      <td>0.120364</td>\n",
       "      <td>0</td>\n",
       "      <td>1</td>\n",
       "      <td>0</td>\n",
       "      <td>0.0</td>\n",
       "    </tr>\n",
       "    <tr>\n",
       "      <th>1</th>\n",
       "      <td>-0.854377</td>\n",
       "      <td>0.141358</td>\n",
       "      <td>0</td>\n",
       "      <td>1</td>\n",
       "      <td>0</td>\n",
       "      <td>0.0</td>\n",
       "    </tr>\n",
       "    <tr>\n",
       "      <th>2</th>\n",
       "      <td>-0.344063</td>\n",
       "      <td>0.193842</td>\n",
       "      <td>1</td>\n",
       "      <td>0</td>\n",
       "      <td>0</td>\n",
       "      <td>0.0</td>\n",
       "    </tr>\n",
       "  </tbody>\n",
       "</table>\n",
       "</div>"
      ],
      "text/plain": [
       "        age    orders  sex_Female  sex_Male  sex_others  age_bin\n",
       "0 -0.579592  0.120364           0         1           0      0.0\n",
       "1 -0.854377  0.141358           0         1           0      0.0\n",
       "2 -0.344063  0.193842           1         0           0      0.0"
      ]
     },
     "execution_count": 38,
     "metadata": {},
     "output_type": "execute_result"
    }
   ],
   "source": [
    "data_merge.head(3)"
   ]
  },
  {
   "cell_type": "code",
   "execution_count": 39,
   "metadata": {},
   "outputs": [
    {
     "name": "stdout",
     "output_type": "stream",
     "text": [
      "[1.   0.04 0.23 0.23 0.   0.25]\n",
      "(2849, 4)\n"
     ]
    }
   ],
   "source": [
    "from sklearn.feature_selection import VarianceThreshold\n",
    "model_vart = VarianceThreshold(threshold=0.1)\n",
    "feature = model_vart.fit_transform(data_merge)\n",
    "print(np.round(model_vart.variances_,2))\n",
    "print(feature.shape)"
   ]
  },
  {
   "cell_type": "markdown",
   "metadata": {},
   "source": [
    "##  4.11 分词"
   ]
  },
  {
   "cell_type": "code",
   "execution_count": 40,
   "metadata": {},
   "outputs": [],
   "source": [
    "import jieba"
   ]
  },
  {
   "cell_type": "code",
   "execution_count": 41,
   "metadata": {},
   "outputs": [
    {
     "name": "stdout",
     "output_type": "stream",
     "text": [
      "Python作为数据工作领域的关键武器之一，具有开源、多场景应用、快速上手、完善的生态和服务体系等特征，使其在数据分析中的任何场景都能游刃有余；即使是在为数不多的短板上，Python仍然可以基于其“胶水”特征，引入对应的第三方工具/库/程序等来实现全场景、全应用的覆盖。在海量数据背景下，Python对超大数据规模的支持性能、数据分析处理能力和建模的专业程度以及开发便捷性的综合能力要远远高于其他工具。因此，Python几乎是数据分析的不二之选。\n",
      "\n"
     ]
    }
   ],
   "source": [
    "with open('text.txt',encoding='utf8') as  f:\n",
    "    text_data = f.readlines()\n",
    "print(text_data[0])"
   ]
  },
  {
   "cell_type": "code",
   "execution_count": 42,
   "metadata": {},
   "outputs": [],
   "source": [
    "def jieba_cut(string):\n",
    "    return list(jieba.cut(string))  # 精确模式分词"
   ]
  },
  {
   "cell_type": "code",
   "execution_count": 43,
   "metadata": {},
   "outputs": [
    {
     "name": "stderr",
     "output_type": "stream",
     "text": [
      "Building prefix dict from the default dictionary ...\n",
      "Loading model from cache D:\\system_backup\\Temp\\jieba.cache\n",
      "Loading model cost 0.789 seconds.\n",
      "Prefix dict has been built succesfully.\n"
     ]
    },
    {
     "name": "stdout",
     "output_type": "stream",
     "text": [
      "['Python', '作为', '数据', '工作', '领域']\n"
     ]
    }
   ],
   "source": [
    "cut_words = [jieba_cut(i) for i in text_data]\n",
    "print(cut_words[0][:5])"
   ]
  },
  {
   "cell_type": "markdown",
   "metadata": {},
   "source": [
    "## 4.12 文本转向量"
   ]
  },
  {
   "cell_type": "code",
   "execution_count": 44,
   "metadata": {},
   "outputs": [],
   "source": [
    "from sklearn.feature_extraction.text import TfidfVectorizer as TV"
   ]
  },
  {
   "cell_type": "code",
   "execution_count": 45,
   "metadata": {},
   "outputs": [],
   "source": [
    "stop_words = ['，','。','\\n', '/','“', '”', '、', '；']"
   ]
  },
  {
   "cell_type": "code",
   "execution_count": 46,
   "metadata": {
    "scrolled": true
   },
   "outputs": [
    {
     "name": "stdout",
     "output_type": "stream",
     "text": [
      "['python', '一笔带过', '上', '下', '不', '不二', '不仅', '与', '专业', '中']\n",
      "(3, 152)\n",
      "[0.19702138 0.         0.12685045 0.08339655 0.         0.08339655\n",
      " 0.         0.         0.08339655 0.06342522 0.08339655 0.\n",
      " 0.08339655 0.08339655 0.         0.         0.         0.08339655\n",
      " 0.04925534 0.08339655 0.         0.08339655 0.         0.08339655\n",
      " 0.08339655 0.         0.16679309 0.06342522 0.16679309 0.08339655\n",
      " 0.08339655 0.         0.         0.08339655 0.         0.\n",
      " 0.         0.         0.         0.         0.         0.08339655\n",
      " 0.         0.         0.08339655 0.         0.         0.\n",
      " 0.09851069 0.04925534 0.         0.14776603 0.         0.25018964\n",
      " 0.08339655 0.         0.08339655 0.         0.06342522 0.\n",
      " 0.08339655 0.         0.         0.06342522 0.08339655 0.08339655\n",
      " 0.         0.06342522 0.16679309 0.08339655 0.         0.09851069\n",
      " 0.         0.06342522 0.08339655 0.08339655 0.08339655 0.\n",
      " 0.08339655 0.         0.08339655 0.         0.08339655 0.08339655\n",
      " 0.14776603 0.14776603 0.         0.         0.         0.12685045\n",
      " 0.         0.         0.08339655 0.         0.         0.08339655\n",
      " 0.         0.         0.08339655 0.         0.08339655 0.08339655\n",
      " 0.16679309 0.08339655 0.49255344 0.         0.         0.\n",
      " 0.         0.         0.08339655 0.         0.08339655 0.08339655\n",
      " 0.         0.         0.08339655 0.         0.12685045 0.\n",
      " 0.08339655 0.         0.08339655 0.08339655 0.08339655 0.16679309\n",
      " 0.         0.         0.08339655 0.08339655 0.08339655 0.\n",
      " 0.         0.         0.         0.08339655 0.         0.\n",
      " 0.         0.         0.08339655 0.         0.         0.\n",
      " 0.         0.08339655 0.         0.         0.         0.\n",
      " 0.08339655 0.08339655]\n"
     ]
    }
   ],
   "source": [
    "vectorizer = TV(stop_words=stop_words,tokenizer=jieba_cut)\n",
    "X = vectorizer.fit_transform(text_data)\n",
    "print(vectorizer.get_feature_names()[:10])\n",
    "print(X.shape)\n",
    "print(X.toarray()[0])"
   ]
  }
 ],
 "metadata": {
  "kernelspec": {
   "display_name": "Python 3",
   "language": "python",
   "name": "python3"
  },
  "language_info": {
   "codemirror_mode": {
    "name": "ipython",
    "version": 3
   },
   "file_extension": ".py",
   "mimetype": "text/x-python",
   "name": "python",
   "nbconvert_exporter": "python",
   "pygments_lexer": "ipython3",
   "version": "3.7.3"
  }
 },
 "nbformat": 4,
 "nbformat_minor": 2
}