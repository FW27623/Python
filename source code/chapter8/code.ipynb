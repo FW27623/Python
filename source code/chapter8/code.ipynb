{
 "cells": [
  {
   "cell_type": "markdown",
   "metadata": {},
   "source": [
    "<div align=\"center\"><h1> 第8章&nbsp;&nbsp;自然语言理解和文本挖掘</h1></div>"
   ]
  },
  {
   "cell_type": "markdown",
   "metadata": {},
   "source": [
    "# 一、说明"
   ]
  },
  {
   "cell_type": "markdown",
   "metadata": {},
   "source": [
    "- 描述：本章源代码。\n",
    "- 作者：方伟（FangWei）\n",
    "- 程序开发环境：Windows DEV Channel , Build 22533.1001 64位\n",
    "- Python版本：64位 3.10.1"
   ]
  },
  {
   "cell_type": "markdown",
   "metadata": {},
   "source": [
    "# 二、程序"
   ]
  },
  {
   "cell_type": "markdown",
   "metadata": {},
   "source": [
    "## 8.1 使用结巴分词提取用户评论关键字"
   ]
  },
  {
   "cell_type": "code",
   "execution_count": 1,
   "metadata": {},
   "outputs": [],
   "source": [
    "# 导入库\n",
    "import pandas as pd\n",
    "from jieba.analyse import extract_tags"
   ]
  },
  {
   "cell_type": "code",
   "execution_count": 2,
   "metadata": {},
   "outputs": [
    {
     "name": "stdout",
     "output_type": "stream",
     "text": [
      "good\n",
      "python处理大数据确实有优势，开始学习python了。\n",
      "案例讲解\n",
      "帮朋友买的，希望能派\n"
     ]
    }
   ],
   "source": [
    "# 读取数据\n",
    "with open('user_comment.txt',encoding='utf8') as fn:\n",
    "    comment_data = fn.read()\n",
    "print(comment_data[:50])"
   ]
  },
  {
   "cell_type": "code",
   "execution_count": 3,
   "metadata": {},
   "outputs": [
    {
     "name": "stderr",
     "output_type": "stream",
     "text": [
      "Building prefix dict from the default dictionary ...\n",
      "Loading model from cache D:\\system_backup\\Temp\\jieba.cache\n",
      "Loading model cost 0.780 seconds.\n",
      "Prefix dict has been built succesfully.\n"
     ]
    },
    {
     "name": "stdout",
     "output_type": "stream",
     "text": [
      "[('不错', 0.4611682047852686), ('质量', 0.1506516876), ('学习', 0.15018509056091855), ('内容', 0.1423718093568111), ('购买', 0.13940803933837087), ('值得', 0.12514956604512997), ('好书', 0.1088390687781629), ('正版', 0.10818894374870017), ('推荐', 0.10572970067705373), ('物流', 0.09871223606294627)]\n"
     ]
    }
   ],
   "source": [
    "# 提取评论关键字\n",
    "tags_pairs = extract_tags(comment_data, topK=50, withWeight=True, allowPOS=[ 'n', 'v', 'a'])  \n",
    "print(tags_pairs[:10])"
   ]
  },
  {
   "cell_type": "code",
   "execution_count": 4,
   "metadata": {},
   "outputs": [],
   "source": [
    "# 关键字写文件\n",
    "with open('user_comment_tags.txt','w+') as fn:\n",
    "    for tag,weight in tags_pairs:\n",
    "        fn.write(tag)\n",
    "        fn.write(':')\n",
    "        fn.write(str(weight))\n",
    "        fn.write('\\n')"
   ]
  },
  {
   "cell_type": "code",
   "execution_count": 5,
   "metadata": {},
   "outputs": [
    {
     "name": "stdout",
     "output_type": "stream",
     "text": [
      "  keyword    weight\n",
      "0      不错  0.461168\n",
      "1      质量  0.150652\n",
      "2      学习  0.150185\n",
      "3      内容  0.142372\n",
      "4      购买  0.139408\n"
     ]
    }
   ],
   "source": [
    "# 关键字数据框\n",
    "keywords_pd = pd.DataFrame(tags_pairs,columns=['keyword','weight'])\n",
    "print(keywords_pd.head())"
   ]
  },
  {
   "cell_type": "code",
   "execution_count": 6,
   "metadata": {},
   "outputs": [
    {
     "data": {
      "text/html": [
       "<script>\n",
       "    require.config({\n",
       "        paths: {\n",
       "            'echarts':'https://assets.pyecharts.org/assets/echarts.min', 'echarts-wordcloud':'https://assets.pyecharts.org/assets/echarts-wordcloud.min'\n",
       "        }\n",
       "    });\n",
       "</script>\n",
       "\n",
       "    <div id=\"e1419b3481114fbabea29470c2bfd287\" style=\"width:900px; height:500px;\"></div>\n",
       "\n",
       "\n",
       "<script>\n",
       "    require(['echarts', 'echarts-wordcloud'], function(echarts) {\n",
       "        var chart_e1419b3481114fbabea29470c2bfd287 = echarts.init(\n",
       "            document.getElementById('e1419b3481114fbabea29470c2bfd287'), 'white', {renderer: 'canvas'});\n",
       "        var option_e1419b3481114fbabea29470c2bfd287 = {\n",
       "    \"color\": [\n",
       "        \"#c23531\",\n",
       "        \"#2f4554\",\n",
       "        \"#61a0a8\",\n",
       "        \"#d48265\",\n",
       "        \"#749f83\",\n",
       "        \"#ca8622\",\n",
       "        \"#bda29a\",\n",
       "        \"#6e7074\",\n",
       "        \"#546570\",\n",
       "        \"#c4ccd3\",\n",
       "        \"#f05b72\",\n",
       "        \"#ef5b9c\",\n",
       "        \"#f47920\",\n",
       "        \"#905a3d\",\n",
       "        \"#fab27b\",\n",
       "        \"#2a5caa\",\n",
       "        \"#444693\",\n",
       "        \"#726930\",\n",
       "        \"#b2d235\",\n",
       "        \"#6d8346\",\n",
       "        \"#ac6767\",\n",
       "        \"#1d953f\",\n",
       "        \"#6950a1\",\n",
       "        \"#918597\"\n",
       "    ],\n",
       "    \"series\": [\n",
       "        {\n",
       "            \"type\": \"wordCloud\",\n",
       "            \"shape\": \"circle\",\n",
       "            \"rotationRange\": [\n",
       "                -90,\n",
       "                90\n",
       "            ],\n",
       "            \"rotationStep\": 45,\n",
       "            \"girdSize\": 20,\n",
       "            \"sizeRange\": [\n",
       "                15,\n",
       "                300\n",
       "            ],\n",
       "            \"data\": [\n",
       "                {\n",
       "                    \"name\": \"\\u4e0d\\u9519\",\n",
       "                    \"value\": 0.4611682047852686,\n",
       "                    \"textStyle\": {\n",
       "                        \"normal\": {\n",
       "                            \"color\": \"rgb(86,4,92)\"\n",
       "                        }\n",
       "                    }\n",
       "                },\n",
       "                {\n",
       "                    \"name\": \"\\u8d28\\u91cf\",\n",
       "                    \"value\": 0.1506516876,\n",
       "                    \"textStyle\": {\n",
       "                        \"normal\": {\n",
       "                            \"color\": \"rgb(1,120,61)\"\n",
       "                        }\n",
       "                    }\n",
       "                },\n",
       "                {\n",
       "                    \"name\": \"\\u5b66\\u4e60\",\n",
       "                    \"value\": 0.15018509056091855,\n",
       "                    \"textStyle\": {\n",
       "                        \"normal\": {\n",
       "                            \"color\": \"rgb(122,1,69)\"\n",
       "                        }\n",
       "                    }\n",
       "                },\n",
       "                {\n",
       "                    \"name\": \"\\u5185\\u5bb9\",\n",
       "                    \"value\": 0.1423718093568111,\n",
       "                    \"textStyle\": {\n",
       "                        \"normal\": {\n",
       "                            \"color\": \"rgb(156,66,11)\"\n",
       "                        }\n",
       "                    }\n",
       "                },\n",
       "                {\n",
       "                    \"name\": \"\\u8d2d\\u4e70\",\n",
       "                    \"value\": 0.13940803933837087,\n",
       "                    \"textStyle\": {\n",
       "                        \"normal\": {\n",
       "                            \"color\": \"rgb(14,69,99)\"\n",
       "                        }\n",
       "                    }\n",
       "                },\n",
       "                {\n",
       "                    \"name\": \"\\u503c\\u5f97\",\n",
       "                    \"value\": 0.12514956604512997,\n",
       "                    \"textStyle\": {\n",
       "                        \"normal\": {\n",
       "                            \"color\": \"rgb(59,146,48)\"\n",
       "                        }\n",
       "                    }\n",
       "                },\n",
       "                {\n",
       "                    \"name\": \"\\u597d\\u4e66\",\n",
       "                    \"value\": 0.1088390687781629,\n",
       "                    \"textStyle\": {\n",
       "                        \"normal\": {\n",
       "                            \"color\": \"rgb(140,64,23)\"\n",
       "                        }\n",
       "                    }\n",
       "                },\n",
       "                {\n",
       "                    \"name\": \"\\u6b63\\u7248\",\n",
       "                    \"value\": 0.10818894374870017,\n",
       "                    \"textStyle\": {\n",
       "                        \"normal\": {\n",
       "                            \"color\": \"rgb(122,128,120)\"\n",
       "                        }\n",
       "                    }\n",
       "                },\n",
       "                {\n",
       "                    \"name\": \"\\u63a8\\u8350\",\n",
       "                    \"value\": 0.10572970067705373,\n",
       "                    \"textStyle\": {\n",
       "                        \"normal\": {\n",
       "                            \"color\": \"rgb(49,34,41)\"\n",
       "                        }\n",
       "                    }\n",
       "                },\n",
       "                {\n",
       "                    \"name\": \"\\u7269\\u6d41\",\n",
       "                    \"value\": 0.09871223606294627,\n",
       "                    \"textStyle\": {\n",
       "                        \"normal\": {\n",
       "                            \"color\": \"rgb(145,83,101)\"\n",
       "                        }\n",
       "                    }\n",
       "                },\n",
       "                {\n",
       "                    \"name\": \"\\u4e66\\u7c4d\",\n",
       "                    \"value\": 0.09310049719034663,\n",
       "                    \"textStyle\": {\n",
       "                        \"normal\": {\n",
       "                            \"color\": \"rgb(130,47,127)\"\n",
       "                        }\n",
       "                    }\n",
       "                },\n",
       "                {\n",
       "                    \"name\": \"\\u5b9e\\u7528\",\n",
       "                    \"value\": 0.09240174079081456,\n",
       "                    \"textStyle\": {\n",
       "                        \"normal\": {\n",
       "                            \"color\": \"rgb(60,49,53)\"\n",
       "                        }\n",
       "                    }\n",
       "                },\n",
       "                {\n",
       "                    \"name\": \"\\u597d\\u8bc4\",\n",
       "                    \"value\": 0.09043332025892548,\n",
       "                    \"textStyle\": {\n",
       "                        \"normal\": {\n",
       "                            \"color\": \"rgb(27,49,87)\"\n",
       "                        }\n",
       "                    }\n",
       "                },\n",
       "                {\n",
       "                    \"name\": \"\\u5f88\\u597d\",\n",
       "                    \"value\": 0.09030737603951473,\n",
       "                    \"textStyle\": {\n",
       "                        \"normal\": {\n",
       "                            \"color\": \"rgb(2,111,31)\"\n",
       "                        }\n",
       "                    }\n",
       "                },\n",
       "                {\n",
       "                    \"name\": \"\\u5feb\\u9012\",\n",
       "                    \"value\": 0.08691054281715772,\n",
       "                    \"textStyle\": {\n",
       "                        \"normal\": {\n",
       "                            \"color\": \"rgb(157,131,140)\"\n",
       "                        }\n",
       "                    }\n",
       "                },\n",
       "                {\n",
       "                    \"name\": \"\\u9001\\u8d27\",\n",
       "                    \"value\": 0.0854213724795494,\n",
       "                    \"textStyle\": {\n",
       "                        \"normal\": {\n",
       "                            \"color\": \"rgb(160,115,91)\"\n",
       "                        }\n",
       "                    }\n",
       "                },\n",
       "                {\n",
       "                    \"name\": \"\\u9002\\u5408\",\n",
       "                    \"value\": 0.08087608891786828,\n",
       "                    \"textStyle\": {\n",
       "                        \"normal\": {\n",
       "                            \"color\": \"rgb(84,47,145)\"\n",
       "                        }\n",
       "                    }\n",
       "                },\n",
       "                {\n",
       "                    \"name\": \"\\u5305\\u88c5\",\n",
       "                    \"value\": 0.0780285753562565,\n",
       "                    \"textStyle\": {\n",
       "                        \"normal\": {\n",
       "                            \"color\": \"rgb(101,56,48)\"\n",
       "                        }\n",
       "                    }\n",
       "                },\n",
       "                {\n",
       "                    \"name\": \"\\u4ee3\\u7801\",\n",
       "                    \"value\": 0.07460427295965337,\n",
       "                    \"textStyle\": {\n",
       "                        \"normal\": {\n",
       "                            \"color\": \"rgb(42,39,148)\"\n",
       "                        }\n",
       "                    }\n",
       "                },\n",
       "                {\n",
       "                    \"name\": \"\\u8bc4\\u4ef7\",\n",
       "                    \"value\": 0.07018224112377816,\n",
       "                    \"textStyle\": {\n",
       "                        \"normal\": {\n",
       "                            \"color\": \"rgb(65,86,89)\"\n",
       "                        }\n",
       "                    }\n",
       "                },\n",
       "                {\n",
       "                    \"name\": \"\\u5e0c\\u671b\",\n",
       "                    \"value\": 0.06314968444759099,\n",
       "                    \"textStyle\": {\n",
       "                        \"normal\": {\n",
       "                            \"color\": \"rgb(142,55,43)\"\n",
       "                        }\n",
       "                    }\n",
       "                },\n",
       "                {\n",
       "                    \"name\": \"\\u6a21\\u7248\",\n",
       "                    \"value\": 0.06084984267556326,\n",
       "                    \"textStyle\": {\n",
       "                        \"normal\": {\n",
       "                            \"color\": \"rgb(26,32,2)\"\n",
       "                        }\n",
       "                    }\n",
       "                },\n",
       "                {\n",
       "                    \"name\": \"\\u559c\\u6b22\",\n",
       "                    \"value\": 0.05929901285636049,\n",
       "                    \"textStyle\": {\n",
       "                        \"normal\": {\n",
       "                            \"color\": \"rgb(20,118,147)\"\n",
       "                        }\n",
       "                    }\n",
       "                },\n",
       "                {\n",
       "                    \"name\": \"\\u5e72\\u8d27\",\n",
       "                    \"value\": 0.058193903557539,\n",
       "                    \"textStyle\": {\n",
       "                        \"normal\": {\n",
       "                            \"color\": \"rgb(112,128,68)\"\n",
       "                        }\n",
       "                    }\n",
       "                },\n",
       "                {\n",
       "                    \"name\": \"\\u901f\\u5ea6\",\n",
       "                    \"value\": 0.05787832960294628,\n",
       "                    \"textStyle\": {\n",
       "                        \"normal\": {\n",
       "                            \"color\": \"rgb(26,117,119)\"\n",
       "                        }\n",
       "                    }\n",
       "                },\n",
       "                {\n",
       "                    \"name\": \"\\u597d\\u597d\\u5b66\\u4e60\",\n",
       "                    \"value\": 0.05575021051091854,\n",
       "                    \"textStyle\": {\n",
       "                        \"normal\": {\n",
       "                            \"color\": \"rgb(51,10,135)\"\n",
       "                        }\n",
       "                    }\n",
       "                },\n",
       "                {\n",
       "                    \"name\": \"\\u6ca1\\u770b\",\n",
       "                    \"value\": 0.05284059636239168,\n",
       "                    \"textStyle\": {\n",
       "                        \"normal\": {\n",
       "                            \"color\": \"rgb(46,100,49)\"\n",
       "                        }\n",
       "                    }\n",
       "                },\n",
       "                {\n",
       "                    \"name\": \"\\u6709\\u7528\",\n",
       "                    \"value\": 0.050555819942322354,\n",
       "                    \"textStyle\": {\n",
       "                        \"normal\": {\n",
       "                            \"color\": \"rgb(129,80,23)\"\n",
       "                        }\n",
       "                    }\n",
       "                },\n",
       "                {\n",
       "                    \"name\": \"\\u6570\\u636e\",\n",
       "                    \"value\": 0.0497194801912305,\n",
       "                    \"textStyle\": {\n",
       "                        \"normal\": {\n",
       "                            \"color\": \"rgb(103,134,133)\"\n",
       "                        }\n",
       "                    }\n",
       "                },\n",
       "                {\n",
       "                    \"name\": \"\\u611f\\u89c9\",\n",
       "                    \"value\": 0.04888629366819757,\n",
       "                    \"textStyle\": {\n",
       "                        \"normal\": {\n",
       "                            \"color\": \"rgb(74,88,43)\"\n",
       "                        }\n",
       "                    }\n",
       "                },\n",
       "                {\n",
       "                    \"name\": \"\\u5546\\u54c1\",\n",
       "                    \"value\": 0.04579799080329289,\n",
       "                    \"textStyle\": {\n",
       "                        \"normal\": {\n",
       "                            \"color\": \"rgb(87,99,128)\"\n",
       "                        }\n",
       "                    }\n",
       "                },\n",
       "                {\n",
       "                    \"name\": \"\\u8bb2\\u89e3\",\n",
       "                    \"value\": 0.045450376184194105,\n",
       "                    \"textStyle\": {\n",
       "                        \"normal\": {\n",
       "                            \"color\": \"rgb(103,112,44)\"\n",
       "                        }\n",
       "                    }\n",
       "                },\n",
       "                {\n",
       "                    \"name\": \"\\u56fe\\u4e66\",\n",
       "                    \"value\": 0.041541842328977466,\n",
       "                    \"textStyle\": {\n",
       "                        \"normal\": {\n",
       "                            \"color\": \"rgb(116,47,19)\"\n",
       "                        }\n",
       "                    }\n",
       "                },\n",
       "                {\n",
       "                    \"name\": \"\\u7f51\\u8d2d\",\n",
       "                    \"value\": 0.04143766898752166,\n",
       "                    \"textStyle\": {\n",
       "                        \"normal\": {\n",
       "                            \"color\": \"rgb(5,159,139)\"\n",
       "                        }\n",
       "                    }\n",
       "                },\n",
       "                {\n",
       "                    \"name\": \"\\u5c0f\\u54e5\",\n",
       "                    \"value\": 0.04056656178370884,\n",
       "                    \"textStyle\": {\n",
       "                        \"normal\": {\n",
       "                            \"color\": \"rgb(91,60,45)\"\n",
       "                        }\n",
       "                    }\n",
       "                },\n",
       "                {\n",
       "                    \"name\": \"\\u6848\\u4f8b\",\n",
       "                    \"value\": 0.04040707508797227,\n",
       "                    \"textStyle\": {\n",
       "                        \"normal\": {\n",
       "                            \"color\": \"rgb(41,101,126)\"\n",
       "                        }\n",
       "                    }\n",
       "                },\n",
       "                {\n",
       "                    \"name\": \"\\u4ea7\\u54c1\",\n",
       "                    \"value\": 0.03948748603665512,\n",
       "                    \"textStyle\": {\n",
       "                        \"normal\": {\n",
       "                            \"color\": \"rgb(3,1,159)\"\n",
       "                        }\n",
       "                    }\n",
       "                },\n",
       "                {\n",
       "                    \"name\": \"\\u4ef7\\u683c\",\n",
       "                    \"value\": 0.039399970117157714,\n",
       "                    \"textStyle\": {\n",
       "                        \"normal\": {\n",
       "                            \"color\": \"rgb(18,9,32)\"\n",
       "                        }\n",
       "                    }\n",
       "                },\n",
       "                {\n",
       "                    \"name\": \"\\u8bfb\\u8bfb\",\n",
       "                    \"value\": 0.03929195249393414,\n",
       "                    \"textStyle\": {\n",
       "                        \"normal\": {\n",
       "                            \"color\": \"rgb(53,64,103)\"\n",
       "                        }\n",
       "                    }\n",
       "                },\n",
       "                {\n",
       "                    \"name\": \"\\u6709\\u70b9\",\n",
       "                    \"value\": 0.0388104808117851,\n",
       "                    \"textStyle\": {\n",
       "                        \"normal\": {\n",
       "                            \"color\": \"rgb(12,36,44)\"\n",
       "                        }\n",
       "                    }\n",
       "                },\n",
       "                {\n",
       "                    \"name\": \"\\u51d1\\u591f\",\n",
       "                    \"value\": 0.0381639719032929,\n",
       "                    \"textStyle\": {\n",
       "                        \"normal\": {\n",
       "                            \"color\": \"rgb(92,67,129)\"\n",
       "                        }\n",
       "                    }\n",
       "                },\n",
       "                {\n",
       "                    \"name\": \"\\u53c2\\u8003\",\n",
       "                    \"value\": 0.03705856469490468,\n",
       "                    \"textStyle\": {\n",
       "                        \"normal\": {\n",
       "                            \"color\": \"rgb(112,101,21)\"\n",
       "                        }\n",
       "                    }\n",
       "                },\n",
       "                {\n",
       "                    \"name\": \"\\u8bc4\\u8bba\",\n",
       "                    \"value\": 0.03523572721024264,\n",
       "                    \"textStyle\": {\n",
       "                        \"normal\": {\n",
       "                            \"color\": \"rgb(108,103,75)\"\n",
       "                        }\n",
       "                    }\n",
       "                },\n",
       "                {\n",
       "                    \"name\": \"\\u4ef7\\u683c\\u4fbf\\u5b9c\",\n",
       "                    \"value\": 0.03491173745407279,\n",
       "                    \"textStyle\": {\n",
       "                        \"normal\": {\n",
       "                            \"color\": \"rgb(19,139,111)\"\n",
       "                        }\n",
       "                    }\n",
       "                },\n",
       "                {\n",
       "                    \"name\": \"\\u5212\\u7b97\",\n",
       "                    \"value\": 0.03250914757341421,\n",
       "                    \"textStyle\": {\n",
       "                        \"normal\": {\n",
       "                            \"color\": \"rgb(122,97,98)\"\n",
       "                        }\n",
       "                    }\n",
       "                },\n",
       "                {\n",
       "                    \"name\": \"\\u5149\\u987e\",\n",
       "                    \"value\": 0.03144666868169844,\n",
       "                    \"textStyle\": {\n",
       "                        \"normal\": {\n",
       "                            \"color\": \"rgb(151,43,38)\"\n",
       "                        }\n",
       "                    }\n",
       "                },\n",
       "                {\n",
       "                    \"name\": \"\\u59d1\\u5a18\",\n",
       "                    \"value\": 0.03095882500034662,\n",
       "                    \"textStyle\": {\n",
       "                        \"normal\": {\n",
       "                            \"color\": \"rgb(6,148,53)\"\n",
       "                        }\n",
       "                    }\n",
       "                },\n",
       "                {\n",
       "                    \"name\": \"\\u670b\\u53cb\",\n",
       "                    \"value\": 0.030400910656013864,\n",
       "                    \"textStyle\": {\n",
       "                        \"normal\": {\n",
       "                            \"color\": \"rgb(45,137,80)\"\n",
       "                        }\n",
       "                    }\n",
       "                },\n",
       "                {\n",
       "                    \"name\": \"\\u4e70\\u5230\",\n",
       "                    \"value\": 0.030202051459757368,\n",
       "                    \"textStyle\": {\n",
       "                        \"normal\": {\n",
       "                            \"color\": \"rgb(110,9,41)\"\n",
       "                        }\n",
       "                    }\n",
       "                },\n",
       "                {\n",
       "                    \"name\": \"\\u4fe1\\u8d56\",\n",
       "                    \"value\": 0.029487175409428076,\n",
       "                    \"textStyle\": {\n",
       "                        \"normal\": {\n",
       "                            \"color\": \"rgb(58,3,77)\"\n",
       "                        }\n",
       "                    }\n",
       "                }\n",
       "            ]\n",
       "        }\n",
       "    ],\n",
       "    \"legend\": [\n",
       "        {\n",
       "            \"data\": [],\n",
       "            \"selected\": {},\n",
       "            \"show\": true\n",
       "        }\n",
       "    ],\n",
       "    \"tooltip\": {\n",
       "        \"show\": true,\n",
       "        \"trigger\": \"item\",\n",
       "        \"triggerOn\": \"mousemove|click\",\n",
       "        \"axisPointer\": {\n",
       "            \"type\": \"line\"\n",
       "        },\n",
       "        \"textStyle\": {\n",
       "            \"fontSize\": 14\n",
       "        },\n",
       "        \"borderWidth\": 0\n",
       "    },\n",
       "    \"title\": [\n",
       "        {\n",
       "            \"text\": \"\\u8bcd\\u4e91\\u5173\\u952e\\u5b57\\u5c55\\u793a\"\n",
       "        }\n",
       "    ]\n",
       "};\n",
       "        chart_e1419b3481114fbabea29470c2bfd287.setOption(option_e1419b3481114fbabea29470c2bfd287);\n",
       "    });\n",
       "</script>\n"
      ],
      "text/plain": [
       "<pyecharts.render.display.HTML at 0x14437ef0>"
      ]
     },
     "execution_count": 6,
     "metadata": {},
     "output_type": "execute_result"
    }
   ],
   "source": [
    "# 展示词云结果\n",
    "from pyecharts import options as opts\n",
    "from pyecharts.charts import WordCloud\n",
    "wc = WordCloud()\n",
    "wc.add(\"\", [list(i) for i in tags_pairs], word_size_range=[15, 300])\n",
    "wc.set_global_opts(title_opts=opts.TitleOpts(title=\"词云关键字展示\"))\n",
    "wc.render_notebook()"
   ]
  },
  {
   "cell_type": "markdown",
   "metadata": {},
   "source": [
    "## 8.2 使用LDA主题模型做商品描述聚类"
   ]
  },
  {
   "cell_type": "code",
   "execution_count": 7,
   "metadata": {},
   "outputs": [],
   "source": [
    "import jieba.posseg as pseg\n",
    "from gensim import corpora\n",
    "from gensim.sklearn_api import LdaTransformer,TfIdfTransformer,Text2BowTransformer\n",
    "from sklearn.pipeline import Pipeline"
   ]
  },
  {
   "cell_type": "code",
   "execution_count": 8,
   "metadata": {},
   "outputs": [],
   "source": [
    "# 分词功能\n",
    "def word_split(text):\n",
    "    words = pseg.cut(text)\n",
    "    return [word.word for word in words if word.flag == 'n']"
   ]
  },
  {
   "cell_type": "code",
   "execution_count": 9,
   "metadata": {},
   "outputs": [
    {
     "name": "stdout",
     "output_type": "stream",
     "text": [
      "昨天清晨,购得首张单程票卡的韩先生通过自动检票机。本报记者 周民 摄地铁进入自动售检票时代首张单程票卡由内蒙古乘客购得 今日4000引导人员“助刷”本报讯 昨天清晨5时01分,随着地铁西直门站的\n"
     ]
    }
   ],
   "source": [
    "# 读取数据\n",
    "with open('news.csv',encoding='utf8') as fn:\n",
    "    news_data = fn.readlines()\n",
    "print(news_data[0][:100])"
   ]
  },
  {
   "cell_type": "code",
   "execution_count": 10,
   "metadata": {},
   "outputs": [],
   "source": [
    "# 构建词库\n",
    "words_list = [word_split(each_data) for each_data in news_data]\n",
    "dic = corpora.Dictionary(words_list) "
   ]
  },
  {
   "cell_type": "code",
   "execution_count": 11,
   "metadata": {},
   "outputs": [],
   "source": [
    "# 构建pipe模型\n",
    "model_pipes = Pipeline(steps=[('text2bow',Text2BowTransformer(tokenizer=word_split)),\n",
    "                             ('tfidf',TfIdfTransformer()),\n",
    "                             ('lda',LdaTransformer(num_topics=3, id2word=dic, random_state=3))])\n",
    "result = model_pipes.fit_transform(news_data)"
   ]
  },
  {
   "cell_type": "code",
   "execution_count": 12,
   "metadata": {},
   "outputs": [
    {
     "name": "stdout",
     "output_type": "stream",
     "text": [
      "[[0.05532361 0.89083403 0.05384237]\n",
      " [0.04731178 0.04766071 0.9050275 ]\n",
      " [0.07582398 0.8495183  0.07465773]]\n"
     ]
    }
   ],
   "source": [
    "# 查看数据所属各组的概率\n",
    "print(result[:3])"
   ]
  },
  {
   "cell_type": "code",
   "execution_count": 13,
   "metadata": {},
   "outputs": [],
   "source": [
    "# 为了展示，将中间结果拿出来\n",
    "corpus = Text2BowTransformer(tokenizer=word_split).fit_transform(news_data)\n",
    "corpus_tfidf = TfIdfTransformer().fit_transform(corpus)"
   ]
  },
  {
   "cell_type": "code",
   "execution_count": 14,
   "metadata": {},
   "outputs": [
    {
     "name": "stdout",
     "output_type": "stream",
     "text": [
      "[([(0.0013826446, '小区'), (0.001379973, '女排'), (0.00089395104, '世界'), (0.00086274336, '编号'), (0.0008516237, '时间'), (0.00081707275, '大奖赛'), (0.0007950419, '体育讯'), (0.0007267941, '公司'), (0.0007040468, '人'), (0.000686727, '平')], -5.885689820103438), ([(0.0015513123, '图'), (0.0010907127, '时间'), (0.0010224294, '体育讯'), (0.0009499508, '小区'), (0.00092686794, '编号'), (0.0009198478, '精彩'), (0.00081352255, '面积'), (0.00080829725, '球员'), (0.0007862203, '精彩图片'), (0.00078179734, '人')], -8.139738142311833), ([(0.0013802531, '民族'), (0.0010815584, '灾区'), (0.0010510021, '人'), (0.0009867399, '地震'), (0.00089058396, '男排'), (0.0008505483, '时间'), (0.0008157716, '传情'), (0.0008147721, '记者'), (0.0008002909, '魔鬼'), (0.00079953944, '瞎说')], -9.592828226511234)]\n"
     ]
    }
   ],
   "source": [
    "# 查看分组TOP权重关键字\n",
    "topic_kw = model_pipes.steps[2][1].gensim_model.top_topics(corpus_tfidf,topn=10)\n",
    "print(topic_kw)"
   ]
  },
  {
   "cell_type": "code",
   "execution_count": 15,
   "metadata": {},
   "outputs": [
    {
     "data": {
      "text/plain": [
       "array([[0.0749843 , 0.8669579 , 0.05805784]], dtype=float32)"
      ]
     },
     "execution_count": 15,
     "metadata": {},
     "output_type": "execute_result"
    }
   ],
   "source": [
    "# 预测新数据的类别\n",
    "with open('article.txt',encoding='utf8') as fn:\n",
    "    new_data = fn.readlines()\n",
    "model_pipes.transform(new_data)"
   ]
  },
  {
   "cell_type": "markdown",
   "metadata": {},
   "source": [
    "## 8.3 使用随机森林预测用户评分倾向性分类"
   ]
  },
  {
   "cell_type": "code",
   "execution_count": 16,
   "metadata": {},
   "outputs": [],
   "source": [
    "# 导入库\n",
    "import jieba.posseg as pseg\n",
    "import pandas as pd\n",
    "from sklearn.feature_extraction.text import TfidfVectorizer  # 基于TF-IDF的词频转向量库\n",
    "from sklearn.pipeline import Pipeline\n",
    "from sklearn.ensemble import RandomForestClassifier\n",
    "from sklearn.metrics import classification_report"
   ]
  },
  {
   "cell_type": "code",
   "execution_count": 17,
   "metadata": {},
   "outputs": [],
   "source": [
    "# 分词功能\n",
    "def word_split(text):\n",
    "    rule_words = ['ad', 'ag', 'an','a','i','j','l','v','vd','vg','vn']\n",
    "    words = pseg.cut(text)\n",
    "    return [word.word for word in words if word.flag in rule_words]"
   ]
  },
  {
   "cell_type": "code",
   "execution_count": 18,
   "metadata": {},
   "outputs": [
    {
     "name": "stdout",
     "output_type": "stream",
     "text": [
      "                                                  评论  得分\n",
      "0       “史诗般”？“回归人性”？ 不就是一个15岁女孩的恋爱故事吗！？在晋江上估计都入不了V！   1\n",
      "1  我真的不知道我为什么会喜欢这本书，我也不知道他想要告诉我什么，是什么类型的书，可是就是一口气...   5\n",
      "2                    跟风读的一本书，读了三分之二就不读下去了，有点言情小说的感觉。   2\n"
     ]
    }
   ],
   "source": [
    "# 读取数据\n",
    "raw_data = pd.read_csv('book_comment.txt',sep='\\t')\n",
    "print(raw_data.head(3))"
   ]
  },
  {
   "cell_type": "code",
   "execution_count": 19,
   "metadata": {},
   "outputs": [],
   "source": [
    "# 读取停用词\n",
    "with open('stop_words.txt',encoding='utf8') as fn:\n",
    "    stop_words = fn.readlines()"
   ]
  },
  {
   "cell_type": "code",
   "execution_count": 20,
   "metadata": {},
   "outputs": [],
   "source": [
    "# 拆分训练集和测试集\n",
    "x,y = raw_data['评论'],raw_data['得分']\n",
    "num = int(len(x)*0.7)\n",
    "x_train,x_test = x[:num],x[num:]\n",
    "y_train, y_test = y[:num],y[num:]"
   ]
  },
  {
   "cell_type": "code",
   "execution_count": 21,
   "metadata": {},
   "outputs": [],
   "source": [
    "# 构建pipeline模型\n",
    "model_pipe = Pipeline([('TfidfVectorizer',TfidfVectorizer(tokenizer=word_split,stop_words=stop_words)),('rf',RandomForestClassifier(class_weight ='balanced'))])"
   ]
  },
  {
   "cell_type": "code",
   "execution_count": 22,
   "metadata": {},
   "outputs": [
    {
     "name": "stderr",
     "output_type": "stream",
     "text": [
      "C:\\Anaconda3\\lib\\site-packages\\sklearn\\ensemble\\forest.py:246: FutureWarning: The default value of n_estimators will change from 10 in version 0.20 to 100 in 0.22.\n",
      "  \"10 in version 0.20 to 100 in 0.22.\", FutureWarning)\n"
     ]
    }
   ],
   "source": [
    "# 模型训练\n",
    "model_pipe.fit(x_train,y_train) \n",
    "pre_y=model_pipe.predict(x_test)"
   ]
  },
  {
   "cell_type": "code",
   "execution_count": 23,
   "metadata": {},
   "outputs": [
    {
     "name": "stdout",
     "output_type": "stream",
     "text": [
      "              precision    recall  f1-score   support\n",
      "\n",
      "           1       0.25      0.10      0.14        10\n",
      "           2       0.29      0.33      0.31         6\n",
      "           3       0.60      0.39      0.47        23\n",
      "           4       0.23      0.60      0.33        10\n",
      "           5       0.00      0.00      0.00         6\n",
      "\n",
      "   micro avg       0.33      0.33      0.33        55\n",
      "   macro avg       0.27      0.28      0.25        55\n",
      "weighted avg       0.37      0.33      0.32        55\n",
      "\n"
     ]
    }
   ],
   "source": [
    "# 模型评估\n",
    "columns = [str(i) for i in model_pipe.classes_]\n",
    "print(classification_report(y_test, pre_y,target_names=columns))"
   ]
  },
  {
   "cell_type": "code",
   "execution_count": 24,
   "metadata": {},
   "outputs": [
    {
     "name": "stdout",
     "output_type": "stream",
     "text": [
      "\"故事情节跌宕起伏，引人入胜！ → 4\n",
      "情节觉得很好 → 3\n",
      "\"开头写的引人入胜，本以为会是很有人生哲理的内容，越到后面剧情有点狗血。但是还是完整快速的看完的书。 → 4\n",
      "很久以前飞机上看完的\" → 4\n",
      "很一般 → 1\n"
     ]
    }
   ],
   "source": [
    "# 预测新数据\n",
    "with open('book_comment_new.txt',encoding='utf8') as fn:\n",
    "    data_new = fn.readlines()\n",
    "pre_result = model_pipe.predict(data_new)\n",
    "for each_str,each_pre in zip(data_new,pre_result):\n",
    "    print(f'{each_str} → {each_pre}'.replace('\\n',''))"
   ]
  },
  {
   "cell_type": "markdown",
   "metadata": {},
   "source": [
    "## 8.4 使用TextRank自动生成文章摘要和关键短语"
   ]
  },
  {
   "cell_type": "code",
   "execution_count": 25,
   "metadata": {},
   "outputs": [],
   "source": [
    "from textrank4zh import TextRank4Keyword, TextRank4Sentence"
   ]
  },
  {
   "cell_type": "code",
   "execution_count": 26,
   "metadata": {},
   "outputs": [],
   "source": [
    "with open('text.txt',encoding='utf8') as fn:\n",
    "    text = fn.read()"
   ]
  },
  {
   "cell_type": "code",
   "execution_count": 27,
   "metadata": {},
   "outputs": [
    {
     "name": "stdout",
     "output_type": "stream",
     "text": [
      "数据化运营\n",
      "做数据分析\n",
      "数据分析工作\n"
     ]
    }
   ],
   "source": [
    "# 提取关键短语\n",
    "tr4w = TextRank4Keyword()\n",
    "tr4w.analyze(text=text, window=3)\n",
    "for phrase in tr4w.get_keyphrases(keywords_num=36, min_occur_num= 2):\n",
    "    print(phrase)"
   ]
  },
  {
   "cell_type": "code",
   "execution_count": 28,
   "metadata": {},
   "outputs": [
    {
     "name": "stdout",
     "output_type": "stream",
     "text": [
      "4 0.12395878528020926 本书作者认为本书的核心立意在于如何做数据分析以及应用到数据化运营落地，而Python则是应用的利器，因此行文间必须贯穿着如何做数据分析这条主线，而那些与数据分析和数据化运营分析不相关或相关性低的知识，不应该呈现在本书中或出于内容完整性和连贯性需求应一笔带过\n",
      "5 0.11502316806426781 因此，本书内容围绕数据分析工作展开，整体思路上除了第一章准备工作和第二章Python基础知识介绍外，后面的内容包括数据读写、数据预处理、数据可视化、数据分析和建模、数据分析结果交付和部署等，这些构成了数据分析工作的完整流程\n",
      "10 0.11255526122948391 本书的作者还希望，除了让读者对每个知识知其然并知其所以然外，还会在每章必要环节介绍跟特定内容相关的扩展知识点，为读者提供可以去探索和学习的更多方向和更深层次内容，这才是超出预期的价值所在\n"
     ]
    }
   ],
   "source": [
    "# 提取摘要\n",
    "tr4s = TextRank4Sentence()\n",
    "tr4s.analyze(text=text)\n",
    "for item in tr4s.get_key_sentences(num=3,sentence_min_len=10):\n",
    "    print(item.index, item.weight, item.sentence)  # index是语句在文本中位置，weight是权重"
   ]
  },
  {
   "cell_type": "code",
   "execution_count": null,
   "metadata": {},
   "outputs": [],
   "source": []
  }
 ],
 "metadata": {
  "kernelspec": {
   "display_name": "Python 3",
   "language": "python",
   "name": "python3"
  },
  "language_info": {
   "codemirror_mode": {
    "name": "ipython",
    "version": 3
   },
   "file_extension": ".py",
   "mimetype": "text/x-python",
   "name": "python",
   "nbconvert_exporter": "python",
   "pygments_lexer": "ipython3",
   "version": "3.7.3"
  }
 },
 "nbformat": 4,
 "nbformat_minor": 2
}