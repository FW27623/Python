{
 "cells": [
  {
   "cell_type": "markdown",
   "metadata": {},
   "source": [
    "<div align=\"center\"><h1> 第3章&nbsp;&nbsp;数据读取和保存</h1></div>"
   ]
  },
  {
   "cell_type": "markdown",
   "metadata": {},
   "source": [
    "# 一、说明"
   ]
  },
  {
   "cell_type": "markdown",
   "metadata": {},
   "source": [
    "- 描述：本章源代码\n",
    "- 作者：方伟（FangWei）\n",
    "- 程序开发环境：Windows DEV Channel , Build 22533.1001 64位\n",
    "- Python版本：64位 3.10.1"
   ]
  },
  {
   "cell_type": "markdown",
   "metadata": {},
   "source": [
    "# 二、程序"
   ]
  },
  {
   "cell_type": "markdown",
   "metadata": {},
   "source": [
    "## 3.1 目录操作"
   ]
  },
  {
   "cell_type": "code",
   "execution_count": 1,
   "metadata": {},
   "outputs": [],
   "source": [
    "import os\n",
    "import shutil"
   ]
  },
  {
   "cell_type": "markdown",
   "metadata": {},
   "source": [
    "### 3.1.1 获取目录信息"
   ]
  },
  {
   "cell_type": "markdown",
   "metadata": {},
   "source": [
    "1. 获取当前目录"
   ]
  },
  {
   "cell_type": "code",
   "execution_count": 2,
   "metadata": {},
   "outputs": [
    {
     "data": {
      "text/plain": [
       "'D:\\\\[书籍]python数据分析\\\\3_附件\\\\chapter3'"
      ]
     },
     "execution_count": 2,
     "metadata": {},
     "output_type": "execute_result"
    }
   ],
   "source": [
    "os.getcwd()"
   ]
  },
  {
   "cell_type": "markdown",
   "metadata": {},
   "source": [
    "2. 获取上级目录"
   ]
  },
  {
   "cell_type": "code",
   "execution_count": 3,
   "metadata": {},
   "outputs": [
    {
     "data": {
      "text/plain": [
       "'D:\\\\[书籍]python数据分析\\\\3_附件'"
      ]
     },
     "execution_count": 3,
     "metadata": {},
     "output_type": "execute_result"
    }
   ],
   "source": [
    "os.path.dirname(os.getcwd())"
   ]
  },
  {
   "cell_type": "markdown",
   "metadata": {},
   "source": [
    "3. 改变工作目录"
   ]
  },
  {
   "cell_type": "code",
   "execution_count": 4,
   "metadata": {},
   "outputs": [],
   "source": [
    "# 改变工作目录\n",
    "os.chdir(r'D:\\[书籍]python数据分析\\3_附件\\chapter3')\n",
    "os.chdir('D:\\\\[书籍]python数据分析\\\\3_附件\\\\chapter4')\n",
    "os.chdir('D:/[书籍]python数据分析/3_附件/chapter4')"
   ]
  },
  {
   "cell_type": "code",
   "execution_count": 5,
   "metadata": {},
   "outputs": [
    {
     "data": {
      "text/plain": [
       "'D:\\\\[书籍]python数据分析\\\\3_附件\\\\chapter4'"
      ]
     },
     "execution_count": 5,
     "metadata": {},
     "output_type": "execute_result"
    }
   ],
   "source": [
    "# 删除当前工作目录\n",
    "os.getcwd()"
   ]
  },
  {
   "cell_type": "markdown",
   "metadata": {},
   "source": [
    "> 注意windows路径的表示方法"
   ]
  },
  {
   "cell_type": "markdown",
   "metadata": {},
   "source": [
    "### 3.1.2 目录的基本操作"
   ]
  },
  {
   "cell_type": "code",
   "execution_count": 6,
   "metadata": {},
   "outputs": [],
   "source": [
    "# 切换回本章目录\n",
    "os.chdir(r'D:\\[书籍]python数据分析\\3_附件\\chapter3') "
   ]
  },
  {
   "cell_type": "markdown",
   "metadata": {},
   "source": [
    "1. 创建目录"
   ]
  },
  {
   "cell_type": "code",
   "execution_count": 7,
   "metadata": {},
   "outputs": [],
   "source": [
    "# 使用os.mkdir创建单层目录\n",
    "os.mkdir('single_path')"
   ]
  },
  {
   "cell_type": "code",
   "execution_count": 8,
   "metadata": {},
   "outputs": [],
   "source": [
    "# 使用os.makedirs创建任意层级目录\n",
    "os.makedirs('single_path',exist_ok=True)\n",
    "os.makedirs('path_level_1/path_level_2')"
   ]
  },
  {
   "cell_type": "markdown",
   "metadata": {},
   "source": [
    "2. 删除目录"
   ]
  },
  {
   "cell_type": "code",
   "execution_count": 9,
   "metadata": {},
   "outputs": [],
   "source": [
    "# 使用os.rmdir删除单层目录\n",
    "os.rmdir('single_path')"
   ]
  },
  {
   "cell_type": "code",
   "execution_count": 10,
   "metadata": {},
   "outputs": [],
   "source": [
    "# 使用os.removedirs删除任意层级目录\n",
    "os.mkdir('single_path2')\n",
    "os.removedirs('single_path2')\n",
    "os.removedirs('path_level_1/path_level_2')"
   ]
  },
  {
   "cell_type": "markdown",
   "metadata": {},
   "source": [
    "> 注意：os.rmdir和os.removedirs要求被删除的目录需要为空目录，不能含有任何文件。"
   ]
  },
  {
   "cell_type": "code",
   "execution_count": 11,
   "metadata": {},
   "outputs": [],
   "source": [
    "# 使用shutil.rmtree删除任意层级目录及其文件\n",
    "os.mkdir('single_path3')\n",
    "shutil.rmtree('single_path3')"
   ]
  },
  {
   "cell_type": "markdown",
   "metadata": {},
   "source": [
    "3. 重命名目录"
   ]
  },
  {
   "cell_type": "code",
   "execution_count": 12,
   "metadata": {},
   "outputs": [],
   "source": [
    "os.mkdir('folder')\n",
    "os.rename('folder','folder_rename')"
   ]
  },
  {
   "cell_type": "markdown",
   "metadata": {},
   "source": [
    "4. 复制目录"
   ]
  },
  {
   "cell_type": "code",
   "execution_count": 13,
   "metadata": {},
   "outputs": [
    {
     "data": {
      "text/plain": [
       "'folder_copy'"
      ]
     },
     "execution_count": 13,
     "metadata": {},
     "output_type": "execute_result"
    }
   ],
   "source": [
    "shutil.copytree('folder_rename','folder_copy')"
   ]
  },
  {
   "cell_type": "markdown",
   "metadata": {},
   "source": [
    "> 递归复制整个 src 文件夹。 目标文件夹名为 dst，不能已经存在；方法会自动创建 dst 根文件夹。"
   ]
  },
  {
   "cell_type": "markdown",
   "metadata": {},
   "source": [
    "5. 移动目录"
   ]
  },
  {
   "cell_type": "code",
   "execution_count": 14,
   "metadata": {},
   "outputs": [
    {
     "data": {
      "text/plain": [
       "'folder_move'"
      ]
     },
     "execution_count": 14,
     "metadata": {},
     "output_type": "execute_result"
    }
   ],
   "source": [
    "shutil.move('folder_copy','folder_move')"
   ]
  },
  {
   "cell_type": "markdown",
   "metadata": {},
   "source": [
    "### 3.1.3 路径与目录的组合与拆分"
   ]
  },
  {
   "cell_type": "markdown",
   "metadata": {},
   "source": [
    "1. 组合目录为新路径"
   ]
  },
  {
   "cell_type": "code",
   "execution_count": 15,
   "metadata": {},
   "outputs": [
    {
     "data": {
      "text/plain": [
       "'D:\\\\[书籍]python数据分析\\\\3_附件\\\\chapter3\\\\new_folder'"
      ]
     },
     "execution_count": 15,
     "metadata": {},
     "output_type": "execute_result"
    }
   ],
   "source": [
    "os.path.join(os.getcwd(),'new_folder')"
   ]
  },
  {
   "cell_type": "markdown",
   "metadata": {},
   "source": [
    "2. 从路径中分离目录/文件"
   ]
  },
  {
   "cell_type": "code",
   "execution_count": 16,
   "metadata": {},
   "outputs": [
    {
     "data": {
      "text/plain": [
       "('D:\\\\[书籍]python数据分析\\\\3_附件', 'chapter3')"
      ]
     },
     "execution_count": 16,
     "metadata": {},
     "output_type": "execute_result"
    }
   ],
   "source": [
    "# 拆分目录\n",
    "os.path.split(os.getcwd())"
   ]
  },
  {
   "cell_type": "code",
   "execution_count": 17,
   "metadata": {},
   "outputs": [
    {
     "data": {
      "text/plain": [
       "('D:\\\\[书籍]python数据分析\\\\3_附件\\\\chapter3', 'data.csv')"
      ]
     },
     "execution_count": 17,
     "metadata": {},
     "output_type": "execute_result"
    }
   ],
   "source": [
    "# 拆分文件\n",
    "os.path.split('D:\\\\[书籍]python数据分析\\\\3_附件\\\\chapter3\\\\data.csv')"
   ]
  },
  {
   "cell_type": "markdown",
   "metadata": {},
   "source": [
    "### 3.1.4 目录的判断"
   ]
  },
  {
   "cell_type": "markdown",
   "metadata": {},
   "source": [
    "1. 判断是否为目录"
   ]
  },
  {
   "cell_type": "code",
   "execution_count": 18,
   "metadata": {},
   "outputs": [
    {
     "data": {
      "text/plain": [
       "True"
      ]
     },
     "execution_count": 18,
     "metadata": {},
     "output_type": "execute_result"
    }
   ],
   "source": [
    "os.path.isdir(os.getcwd())"
   ]
  },
  {
   "cell_type": "code",
   "execution_count": 19,
   "metadata": {},
   "outputs": [
    {
     "data": {
      "text/plain": [
       "False"
      ]
     },
     "execution_count": 19,
     "metadata": {},
     "output_type": "execute_result"
    }
   ],
   "source": [
    "os.path.isdir(os.path.join(os.getcwd(),'data.csv'))"
   ]
  },
  {
   "cell_type": "markdown",
   "metadata": {},
   "source": [
    "2. 判断目录是否存在"
   ]
  },
  {
   "cell_type": "code",
   "execution_count": 20,
   "metadata": {},
   "outputs": [
    {
     "data": {
      "text/plain": [
       "True"
      ]
     },
     "execution_count": 20,
     "metadata": {},
     "output_type": "execute_result"
    }
   ],
   "source": [
    "os.path.exists(os.getcwd())"
   ]
  },
  {
   "cell_type": "code",
   "execution_count": 21,
   "metadata": {},
   "outputs": [
    {
     "data": {
      "text/plain": [
       "False"
      ]
     },
     "execution_count": 21,
     "metadata": {},
     "output_type": "execute_result"
    }
   ],
   "source": [
    "os.path.exists('test_dir')"
   ]
  },
  {
   "cell_type": "markdown",
   "metadata": {},
   "source": [
    "### 3.1.5 遍历目录"
   ]
  },
  {
   "cell_type": "markdown",
   "metadata": {},
   "source": [
    "1. 使用os.listdir获取文件列表"
   ]
  },
  {
   "cell_type": "code",
   "execution_count": 22,
   "metadata": {},
   "outputs": [
    {
     "name": "stdout",
     "output_type": "stream",
     "text": [
      ".ipynb_checkpoints\n",
      "code.ipynb\n",
      "data.csv\n",
      "demo.xlsx\n",
      "folder_move\n",
      "folder_rename\n",
      "geo.json\n",
      "geo.xml\n",
      "numpy_data.txt\n",
      "omov.sas7bdat\n",
      "output.xlsx\n",
      "pickle.pkl\n",
      "raw_data\n",
      "R_data.Rdata\n",
      "ships.sav\n",
      "sklearn_pickle.gz\n",
      "stata.dta\n",
      "table_data.txt\n"
     ]
    }
   ],
   "source": [
    "for file in os.listdir(os.getcwd()):\n",
    "    print(file)"
   ]
  },
  {
   "cell_type": "markdown",
   "metadata": {},
   "source": [
    "2. 使用os.walk遍历目录"
   ]
  },
  {
   "cell_type": "code",
   "execution_count": 23,
   "metadata": {},
   "outputs": [
    {
     "name": "stdout",
     "output_type": "stream",
     "text": [
      "('D:\\\\[书籍]python数据分析\\\\3_附件\\\\chapter3', ['.ipynb_checkpoints', 'folder_move', 'folder_rename'], ['code.ipynb', 'data.csv', 'demo.xlsx', 'geo.json', 'geo.xml', 'numpy_data.txt', 'omov.sas7bdat', 'output.xlsx', 'pickle.pkl', 'raw_data', 'R_data.Rdata', 'ships.sav', 'sklearn_pickle.gz', 'stata.dta', 'table_data.txt'])\n",
      "('D:\\\\[书籍]python数据分析\\\\3_附件\\\\chapter3\\\\.ipynb_checkpoints', [], ['chapter2_code-checkpoint.ipynb', 'code-checkpoint.ipynb'])\n",
      "('D:\\\\[书籍]python数据分析\\\\3_附件\\\\chapter3\\\\folder_move', [], [])\n",
      "('D:\\\\[书籍]python数据分析\\\\3_附件\\\\chapter3\\\\folder_rename', [], [])\n"
     ]
    }
   ],
   "source": [
    "for i in os.walk(os.getcwd()):\n",
    "    print(i)"
   ]
  },
  {
   "cell_type": "code",
   "execution_count": 24,
   "metadata": {},
   "outputs": [
    {
     "name": "stdout",
     "output_type": "stream",
     "text": [
      "D:\\[书籍]python数据分析\\3_附件\\chapter3\\code.ipynb\n",
      "D:\\[书籍]python数据分析\\3_附件\\chapter3\\data.csv\n",
      "D:\\[书籍]python数据分析\\3_附件\\chapter3\\demo.xlsx\n",
      "D:\\[书籍]python数据分析\\3_附件\\chapter3\\geo.json\n",
      "D:\\[书籍]python数据分析\\3_附件\\chapter3\\geo.xml\n",
      "D:\\[书籍]python数据分析\\3_附件\\chapter3\\numpy_data.txt\n",
      "D:\\[书籍]python数据分析\\3_附件\\chapter3\\omov.sas7bdat\n",
      "D:\\[书籍]python数据分析\\3_附件\\chapter3\\output.xlsx\n",
      "D:\\[书籍]python数据分析\\3_附件\\chapter3\\pickle.pkl\n",
      "D:\\[书籍]python数据分析\\3_附件\\chapter3\\raw_data\n",
      "D:\\[书籍]python数据分析\\3_附件\\chapter3\\R_data.Rdata\n",
      "D:\\[书籍]python数据分析\\3_附件\\chapter3\\ships.sav\n",
      "D:\\[书籍]python数据分析\\3_附件\\chapter3\\sklearn_pickle.gz\n",
      "D:\\[书籍]python数据分析\\3_附件\\chapter3\\stata.dta\n",
      "D:\\[书籍]python数据分析\\3_附件\\chapter3\\table_data.txt\n",
      "D:\\[书籍]python数据分析\\3_附件\\chapter3\\.ipynb_checkpoints\\chapter2_code-checkpoint.ipynb\n",
      "D:\\[书籍]python数据分析\\3_附件\\chapter3\\.ipynb_checkpoints\\code-checkpoint.ipynb\n"
     ]
    }
   ],
   "source": [
    "for dirpath,dirnames,filenames in os.walk(os.getcwd()):\n",
    "    for file in filenames:\n",
    "        fullpath=os.path.join(dirpath,file)\n",
    "        print(fullpath)"
   ]
  },
  {
   "cell_type": "markdown",
   "metadata": {},
   "source": [
    "### 3.1.6 文件的基本操作"
   ]
  },
  {
   "cell_type": "markdown",
   "metadata": {},
   "source": [
    "1. 复制文件"
   ]
  },
  {
   "cell_type": "code",
   "execution_count": 25,
   "metadata": {},
   "outputs": [
    {
     "data": {
      "text/plain": [
       "'demo_copy1.xlsx'"
      ]
     },
     "execution_count": 25,
     "metadata": {},
     "output_type": "execute_result"
    }
   ],
   "source": [
    "# 复制文件（不包含元数据），如果目标文件已存在会被覆盖\n",
    "shutil.copyfile('demo.xlsx','demo_copy1.xlsx')"
   ]
  },
  {
   "cell_type": "code",
   "execution_count": 26,
   "metadata": {},
   "outputs": [],
   "source": [
    "# 复制文件权限，不复制其他内容\n",
    "shutil.copymode('demo.xlsx','demo_copy1.xlsx')"
   ]
  },
  {
   "cell_type": "code",
   "execution_count": 27,
   "metadata": {},
   "outputs": [],
   "source": [
    "# 复制权限、最后访问时间、最后修改时间，不复制其他内容\n",
    "shutil.copystat('demo.xlsx','demo_copy1.xlsx')"
   ]
  },
  {
   "cell_type": "code",
   "execution_count": 28,
   "metadata": {},
   "outputs": [
    {
     "data": {
      "text/plain": [
       "'folder_move\\\\demo.xlsx'"
      ]
     },
     "execution_count": 28,
     "metadata": {},
     "output_type": "execute_result"
    }
   ],
   "source": [
    "# 复制文件到另一个文件或目录。如果复制到目录，那么会在文件夹中创建或覆盖一个文件，且该文件与源文件名相同。 文件权限会被复制。\n",
    "# 复制到一个新文件\n",
    "shutil.copy('demo.xlsx','demo_copy2.xlsx')\n",
    "# 复制到目录\n",
    "shutil.copy('demo.xlsx','folder_move')"
   ]
  },
  {
   "cell_type": "code",
   "execution_count": 29,
   "metadata": {},
   "outputs": [
    {
     "data": {
      "text/plain": [
       "'folder_rename\\\\demo.xlsx'"
      ]
     },
     "execution_count": 29,
     "metadata": {},
     "output_type": "execute_result"
    }
   ],
   "source": [
    "# 与 shutil.copy() 类似，另外会同时复制文件的元数据。实际上，该方法是 shutil.copy() 和 shutil.copystat() 组合。\n",
    "# 复制到一个新文件\n",
    "shutil.copy2('demo.xlsx','demo_copy3.xlsx')\n",
    "# 复制到目录\n",
    "shutil.copy2('demo.xlsx','folder_rename')"
   ]
  },
  {
   "cell_type": "markdown",
   "metadata": {},
   "source": [
    "2. 移动文件"
   ]
  },
  {
   "cell_type": "code",
   "execution_count": 30,
   "metadata": {},
   "outputs": [
    {
     "data": {
      "text/plain": [
       "'folder_move\\\\demo_copy3.xlsx'"
      ]
     },
     "execution_count": 30,
     "metadata": {},
     "output_type": "execute_result"
    }
   ],
   "source": [
    "shutil.move('demo_copy3.xlsx','folder_move')"
   ]
  },
  {
   "cell_type": "markdown",
   "metadata": {},
   "source": [
    "3. 删除文件"
   ]
  },
  {
   "cell_type": "code",
   "execution_count": 31,
   "metadata": {},
   "outputs": [],
   "source": [
    "os.remove('demo_copy2.xlsx')"
   ]
  },
  {
   "cell_type": "markdown",
   "metadata": {},
   "source": [
    "4. 重命名文件"
   ]
  },
  {
   "cell_type": "code",
   "execution_count": 32,
   "metadata": {},
   "outputs": [],
   "source": [
    "os.rename('demo_copy1.xlsx','demo_copy1_new.xlsx')"
   ]
  },
  {
   "cell_type": "markdown",
   "metadata": {},
   "source": [
    "5. 判断是否为文件"
   ]
  },
  {
   "cell_type": "code",
   "execution_count": 33,
   "metadata": {},
   "outputs": [
    {
     "data": {
      "text/plain": [
       "True"
      ]
     },
     "execution_count": 33,
     "metadata": {},
     "output_type": "execute_result"
    }
   ],
   "source": [
    "os.path.isfile('demo_copy1_new.xlsx')"
   ]
  },
  {
   "cell_type": "markdown",
   "metadata": {},
   "source": [
    "6. 从路径中获取文件扩展名"
   ]
  },
  {
   "cell_type": "code",
   "execution_count": 34,
   "metadata": {},
   "outputs": [
    {
     "data": {
      "text/plain": [
       "('demo_copy1_new', '.xlsx')"
      ]
     },
     "execution_count": 34,
     "metadata": {},
     "output_type": "execute_result"
    }
   ],
   "source": [
    "os.path.splitext('demo_copy1_new.xlsx')"
   ]
  },
  {
   "cell_type": "markdown",
   "metadata": {},
   "source": [
    "##  3.2 读写数据文件"
   ]
  },
  {
   "cell_type": "markdown",
   "metadata": {},
   "source": [
    "### 3.2.1 读写普通文件"
   ]
  },
  {
   "cell_type": "markdown",
   "metadata": {},
   "source": [
    "1. read、readline和readlines方法读取文件"
   ]
  },
  {
   "cell_type": "code",
   "execution_count": 35,
   "metadata": {},
   "outputs": [],
   "source": [
    "# 定义数据文件\n",
    "data_file = 'raw_data'"
   ]
  },
  {
   "cell_type": "code",
   "execution_count": 36,
   "metadata": {},
   "outputs": [
    {
     "name": "stdout",
     "output_type": "stream",
     "text": [
      "line1: This is line1\n",
      "line2: This is line2\n"
     ]
    }
   ],
   "source": [
    "# read方法\n",
    "with open(data_file) as  f:\n",
    "    data1 = f.read()\n",
    "print(data1)"
   ]
  },
  {
   "cell_type": "code",
   "execution_count": 37,
   "metadata": {},
   "outputs": [
    {
     "name": "stdout",
     "output_type": "stream",
     "text": [
      "line1: This is line1\n",
      "\n"
     ]
    }
   ],
   "source": [
    "# readline方法\n",
    "with open(data_file) as  f:\n",
    "    data2 = f.readline()\n",
    "print(data2)"
   ]
  },
  {
   "cell_type": "code",
   "execution_count": 38,
   "metadata": {},
   "outputs": [
    {
     "name": "stdout",
     "output_type": "stream",
     "text": [
      "['line1: This is line1\\n', 'line2: This is line2']\n"
     ]
    }
   ],
   "source": [
    "# readlines方法\n",
    "with open(data_file) as  f:\n",
    "    data3 = f.readlines()\n",
    "print(data3)"
   ]
  },
  {
   "cell_type": "markdown",
   "metadata": {},
   "source": [
    "2. write和writelines方法写入文件"
   ]
  },
  {
   "cell_type": "code",
   "execution_count": 39,
   "metadata": {},
   "outputs": [],
   "source": [
    "# write方法\n",
    "with open('raw_data_write','w+') as f:\n",
    "    f.write(data2)"
   ]
  },
  {
   "cell_type": "code",
   "execution_count": 40,
   "metadata": {},
   "outputs": [],
   "source": [
    "# writelines方法\n",
    "with open('raw_data_writelines','w+') as f:\n",
    "    f.writelines(data3)"
   ]
  },
  {
   "cell_type": "markdown",
   "metadata": {},
   "source": [
    "### 3.2.2 读写csv、txt、tsv等数据文件"
   ]
  },
  {
   "cell_type": "markdown",
   "metadata": {},
   "source": [
    "1. 使用Pandas的read_csv、read_table方法读取数据"
   ]
  },
  {
   "cell_type": "code",
   "execution_count": 41,
   "metadata": {},
   "outputs": [],
   "source": [
    "import pandas as pd"
   ]
  },
  {
   "cell_type": "code",
   "execution_count": 42,
   "metadata": {},
   "outputs": [
    {
     "name": "stdout",
     "output_type": "stream",
     "text": [
      "    a   b   c   d   e\n",
      "0   0   1   2   3   4\n",
      "1   5   6   7   8   9\n",
      "2  10  11  12  13  14\n"
     ]
    }
   ],
   "source": [
    "# 使用read_csv读取文件\n",
    "data = pd.read_csv('data.csv',names='a,b,c,d,e'.split(','))\n",
    "print(data)"
   ]
  },
  {
   "cell_type": "code",
   "execution_count": 43,
   "metadata": {},
   "outputs": [
    {
     "name": "stdout",
     "output_type": "stream",
     "text": [
      "    a   b   c   d   e\n",
      "0   0   1   2   3   4\n",
      "1   5   6   7   8   9\n",
      "2  10  11  12  13  14\n"
     ]
    }
   ],
   "source": [
    "# 使用read_table读取文件\n",
    "table_data = pd.read_table('table_data.txt', sep=';',names='a,b,c,d,e'.split(','))  # 读取csv数据\n",
    "print(table_data)  # 打印输出数据"
   ]
  },
  {
   "cell_type": "markdown",
   "metadata": {},
   "source": [
    "2. 使用pandas的to_csv保存为数据文件"
   ]
  },
  {
   "cell_type": "code",
   "execution_count": 44,
   "metadata": {},
   "outputs": [],
   "source": [
    "table_data.to_csv('table_data_output.txt',sep=',',index=False)"
   ]
  },
  {
   "cell_type": "markdown",
   "metadata": {},
   "source": [
    "### 3.2.3 读写Excel文件"
   ]
  },
  {
   "cell_type": "markdown",
   "metadata": {},
   "source": [
    "1. 使用pandas的read_excel读取excel文件"
   ]
  },
  {
   "cell_type": "code",
   "execution_count": 45,
   "metadata": {},
   "outputs": [],
   "source": [
    "import pandas as pd"
   ]
  },
  {
   "cell_type": "code",
   "execution_count": 46,
   "metadata": {},
   "outputs": [],
   "source": [
    "data_file = 'demo.xlsx'"
   ]
  },
  {
   "cell_type": "code",
   "execution_count": 47,
   "metadata": {},
   "outputs": [
    {
     "name": "stdout",
     "output_type": "stream",
     "text": [
      "            ID_number Status Create_Time Business_City\n",
      "0  431381198109106573     有效  2019-01-01           深圳市\n",
      "1  431381198809122734     有效  2019-01-02           深圳市\n",
      "2  431381197903117478     有效  2019-01-03           深圳市\n"
     ]
    }
   ],
   "source": [
    "data_1 = pd.read_excel(data_file,sheet_name = 0)\n",
    "print(data_1)"
   ]
  },
  {
   "cell_type": "code",
   "execution_count": 48,
   "metadata": {},
   "outputs": [
    {
     "name": "stdout",
     "output_type": "stream",
     "text": [
      "   ID_number Status Create_Time Business_City\n",
      "0      90946     无效  2019-01-10           广州市\n",
      "1      72418     有效  2019-01-11           广州市\n",
      "2      99278     无效  2019-01-12           广州市\n"
     ]
    }
   ],
   "source": [
    "data_2 = pd.read_excel(data_file,sheet_name = 1)\n",
    "print(data_2)"
   ]
  },
  {
   "cell_type": "code",
   "execution_count": 49,
   "metadata": {},
   "outputs": [
    {
     "name": "stdout",
     "output_type": "stream",
     "text": [
      "OrderedDict([('Sheet1',             ID_number Status Create_Time Business_City\n",
      "0  431381198109106573     有效  2019-01-01           深圳市\n",
      "1  431381198809122734     有效  2019-01-02           深圳市\n",
      "2  431381197903117478     有效  2019-01-03           深圳市), ('Sheet2',    ID_number Status Create_Time Business_City\n",
      "0      90946     无效  2019-01-10           广州市\n",
      "1      72418     有效  2019-01-11           广州市\n",
      "2      99278     无效  2019-01-12           广州市)])\n"
     ]
    }
   ],
   "source": [
    "data_3 = pd.read_excel(data_file,sheet_name=None)\n",
    "print(data_3)"
   ]
  },
  {
   "cell_type": "markdown",
   "metadata": {},
   "source": [
    "2. 使用pandas的to_excel写入excel文件"
   ]
  },
  {
   "cell_type": "code",
   "execution_count": 50,
   "metadata": {},
   "outputs": [],
   "source": [
    "# 写入单个sheet到Excel\n",
    "data_2.to_excel('demo_write_1.xlsx')"
   ]
  },
  {
   "cell_type": "code",
   "execution_count": 51,
   "metadata": {},
   "outputs": [],
   "source": [
    "# 写入多个sheet到同一个Excel\n",
    "with pd.ExcelWriter('demo_write_2.xlsx') as writer:\n",
    "    for name,data in data_3.items():\n",
    "        data.to_excel(writer,sheet_name=name)\n",
    "writer.save()"
   ]
  },
  {
   "cell_type": "markdown",
   "metadata": {},
   "source": [
    "> 注意：如果没有pd.ExcelWrite方法，普通调用的to_excel方法只能写入单个sheet"
   ]
  },
  {
   "cell_type": "markdown",
   "metadata": {},
   "source": [
    "### 3.2.4 读写XML文件"
   ]
  },
  {
   "cell_type": "markdown",
   "metadata": {},
   "source": [
    "1. 读取XML数据"
   ]
  },
  {
   "cell_type": "code",
   "execution_count": 52,
   "metadata": {},
   "outputs": [],
   "source": [
    "import xml.etree.ElementTree as ET"
   ]
  },
  {
   "cell_type": "code",
   "execution_count": 53,
   "metadata": {},
   "outputs": [
    {
     "name": "stdout",
     "output_type": "stream",
     "text": [
      "lng: 116.293815325\n",
      "lat: 40.0529911395\n"
     ]
    }
   ],
   "source": [
    "tree = ET.parse('geo.xml')\n",
    "root = tree.getroot()\n",
    "lng = root[1][0][0].text  # 获得lng数据\n",
    "lat = root[1][0][1].text  # 获得lat数据\n",
    "print('lng: %s' % lng)  # 格式化打印输出\n",
    "print('lat: %s' % lat)  # 格式化打印输出"
   ]
  },
  {
   "cell_type": "markdown",
   "metadata": {},
   "source": [
    "2. 写入XML数据"
   ]
  },
  {
   "cell_type": "code",
   "execution_count": 54,
   "metadata": {},
   "outputs": [],
   "source": [
    "tree.write('geo_output.xml')"
   ]
  },
  {
   "cell_type": "markdown",
   "metadata": {},
   "source": [
    "### 3.2.5 读写JSON文件"
   ]
  },
  {
   "cell_type": "code",
   "execution_count": 55,
   "metadata": {},
   "outputs": [],
   "source": [
    "import json  # 导入库"
   ]
  },
  {
   "cell_type": "markdown",
   "metadata": {},
   "source": [
    "1. 使用json.load读取json文件"
   ]
  },
  {
   "cell_type": "code",
   "execution_count": 56,
   "metadata": {},
   "outputs": [],
   "source": [
    "with open('geo.json') as f:\n",
    "    json_data = json.load(f)  # 加载Json字符串对象"
   ]
  },
  {
   "cell_type": "code",
   "execution_count": 57,
   "metadata": {},
   "outputs": [
    {
     "name": "stdout",
     "output_type": "stream",
     "text": [
      "{'lng': 116.29381532521775, 'lat': 40.05299113952319}\n"
     ]
    }
   ],
   "source": [
    "lat_lng = json_data['result']['location']  # 获得经纬度信息\n",
    "print(lat_lng)  # 打印输出"
   ]
  },
  {
   "cell_type": "markdown",
   "metadata": {},
   "source": [
    "2. 使用json.dump写入json文件"
   ]
  },
  {
   "cell_type": "code",
   "execution_count": 58,
   "metadata": {},
   "outputs": [],
   "source": [
    "with open('geo2.json','w+') as f:\n",
    "    json.dump(json_data,f)"
   ]
  },
  {
   "cell_type": "markdown",
   "metadata": {},
   "source": [
    "### 3.2.6 读获SPSS Statics文件"
   ]
  },
  {
   "cell_type": "markdown",
   "metadata": {},
   "source": [
    "1. 使用pyreadstat.read_sav读取sav数据文件"
   ]
  },
  {
   "cell_type": "code",
   "execution_count": 59,
   "metadata": {},
   "outputs": [],
   "source": [
    "import pyreadstat"
   ]
  },
  {
   "cell_type": "code",
   "execution_count": 60,
   "metadata": {},
   "outputs": [],
   "source": [
    "data, meta = pyreadstat.read_sav('ships.sav')"
   ]
  },
  {
   "cell_type": "code",
   "execution_count": 61,
   "metadata": {},
   "outputs": [
    {
     "data": {
      "text/html": [
       "<div>\n",
       "<style scoped>\n",
       "    .dataframe tbody tr th:only-of-type {\n",
       "        vertical-align: middle;\n",
       "    }\n",
       "\n",
       "    .dataframe tbody tr th {\n",
       "        vertical-align: top;\n",
       "    }\n",
       "\n",
       "    .dataframe thead th {\n",
       "        text-align: right;\n",
       "    }\n",
       "</style>\n",
       "<table border=\"1\" class=\"dataframe\">\n",
       "  <thead>\n",
       "    <tr style=\"text-align: right;\">\n",
       "      <th></th>\n",
       "      <th>type</th>\n",
       "      <th>construction</th>\n",
       "      <th>operation</th>\n",
       "      <th>months_service</th>\n",
       "      <th>log_months_service</th>\n",
       "      <th>damage_incidents</th>\n",
       "    </tr>\n",
       "  </thead>\n",
       "  <tbody>\n",
       "    <tr>\n",
       "      <th>0</th>\n",
       "      <td>1.0</td>\n",
       "      <td>60.0</td>\n",
       "      <td>60.0</td>\n",
       "      <td>127.0</td>\n",
       "      <td>4.844187</td>\n",
       "      <td>0.0</td>\n",
       "    </tr>\n",
       "    <tr>\n",
       "      <th>1</th>\n",
       "      <td>1.0</td>\n",
       "      <td>60.0</td>\n",
       "      <td>75.0</td>\n",
       "      <td>63.0</td>\n",
       "      <td>4.143135</td>\n",
       "      <td>0.0</td>\n",
       "    </tr>\n",
       "    <tr>\n",
       "      <th>2</th>\n",
       "      <td>1.0</td>\n",
       "      <td>65.0</td>\n",
       "      <td>60.0</td>\n",
       "      <td>1095.0</td>\n",
       "      <td>6.998510</td>\n",
       "      <td>3.0</td>\n",
       "    </tr>\n",
       "    <tr>\n",
       "      <th>3</th>\n",
       "      <td>1.0</td>\n",
       "      <td>65.0</td>\n",
       "      <td>75.0</td>\n",
       "      <td>1095.0</td>\n",
       "      <td>6.998510</td>\n",
       "      <td>4.0</td>\n",
       "    </tr>\n",
       "    <tr>\n",
       "      <th>4</th>\n",
       "      <td>1.0</td>\n",
       "      <td>70.0</td>\n",
       "      <td>60.0</td>\n",
       "      <td>1512.0</td>\n",
       "      <td>7.321189</td>\n",
       "      <td>6.0</td>\n",
       "    </tr>\n",
       "  </tbody>\n",
       "</table>\n",
       "</div>"
      ],
      "text/plain": [
       "   type  construction  operation  months_service  log_months_service  \\\n",
       "0   1.0          60.0       60.0           127.0            4.844187   \n",
       "1   1.0          60.0       75.0            63.0            4.143135   \n",
       "2   1.0          65.0       60.0          1095.0            6.998510   \n",
       "3   1.0          65.0       75.0          1095.0            6.998510   \n",
       "4   1.0          70.0       60.0          1512.0            7.321189   \n",
       "\n",
       "   damage_incidents  \n",
       "0               0.0  \n",
       "1               0.0  \n",
       "2               3.0  \n",
       "3               4.0  \n",
       "4               6.0  "
      ]
     },
     "execution_count": 61,
     "metadata": {},
     "output_type": "execute_result"
    }
   ],
   "source": [
    "data.head()"
   ]
  },
  {
   "cell_type": "code",
   "execution_count": 62,
   "metadata": {},
   "outputs": [
    {
     "data": {
      "text/plain": [
       "dict_keys(['column_names', 'column_labels', 'file_encoding', 'number_columns', 'number_rows', 'variable_value_labels', 'value_labels', 'variable_to_label', 'notes', 'original_variable_types', 'table_name', 'missing_ranges', 'missing_user_values', 'variable_storage_width', 'variable_display_width', 'variable_alignment', 'variable_measure', 'file_label', 'file_format'])"
      ]
     },
     "execution_count": 62,
     "metadata": {},
     "output_type": "execute_result"
    }
   ],
   "source": [
    "vars(meta).keys()"
   ]
  },
  {
   "cell_type": "code",
   "execution_count": 63,
   "metadata": {},
   "outputs": [
    {
     "data": {
      "text/plain": [
       "['type',\n",
       " 'construction',\n",
       " 'operation',\n",
       " 'months_service',\n",
       " 'log_months_service',\n",
       " 'damage_incidents']"
      ]
     },
     "execution_count": 63,
     "metadata": {},
     "output_type": "execute_result"
    }
   ],
   "source": [
    "meta.column_names"
   ]
  },
  {
   "cell_type": "markdown",
   "metadata": {},
   "source": [
    "2. 使用pyreadstat.read_sas7bdat读取SAS数据文件"
   ]
  },
  {
   "cell_type": "code",
   "execution_count": 64,
   "metadata": {},
   "outputs": [],
   "source": [
    "import pyreadstat"
   ]
  },
  {
   "cell_type": "code",
   "execution_count": 65,
   "metadata": {},
   "outputs": [],
   "source": [
    "data,meta = pyreadstat.read_sas7bdat('omov.sas7bdat')"
   ]
  },
  {
   "cell_type": "code",
   "execution_count": 66,
   "metadata": {},
   "outputs": [
    {
     "data": {
      "text/html": [
       "<div>\n",
       "<style scoped>\n",
       "    .dataframe tbody tr th:only-of-type {\n",
       "        vertical-align: middle;\n",
       "    }\n",
       "\n",
       "    .dataframe tbody tr th {\n",
       "        vertical-align: top;\n",
       "    }\n",
       "\n",
       "    .dataframe thead th {\n",
       "        text-align: right;\n",
       "    }\n",
       "</style>\n",
       "<table border=\"1\" class=\"dataframe\">\n",
       "  <thead>\n",
       "    <tr style=\"text-align: right;\">\n",
       "      <th></th>\n",
       "      <th>DBOUTREAS</th>\n",
       "      <th>DBOUTLEN</th>\n",
       "      <th>DBOUTVOL</th>\n",
       "      <th>DBOUTWHER</th>\n",
       "      <th>DBOUTWHY</th>\n",
       "      <th>DBUGROUP</th>\n",
       "      <th>DBGRPCNT</th>\n",
       "      <th>CONTROL</th>\n",
       "    </tr>\n",
       "  </thead>\n",
       "  <tbody>\n",
       "    <tr>\n",
       "      <th>0</th>\n",
       "      <td>7.0</td>\n",
       "      <td>4</td>\n",
       "      <td>1</td>\n",
       "      <td>1</td>\n",
       "      <td>1</td>\n",
       "      <td>1.0</td>\n",
       "      <td>1.0</td>\n",
       "      <td>599754960148</td>\n",
       "    </tr>\n",
       "    <tr>\n",
       "      <th>1</th>\n",
       "      <td>8.0</td>\n",
       "      <td>4</td>\n",
       "      <td>1</td>\n",
       "      <td>2</td>\n",
       "      <td>2</td>\n",
       "      <td>1.0</td>\n",
       "      <td>1.0</td>\n",
       "      <td>999900019097</td>\n",
       "    </tr>\n",
       "    <tr>\n",
       "      <th>2</th>\n",
       "      <td>3.0</td>\n",
       "      <td>6</td>\n",
       "      <td>2</td>\n",
       "      <td>1</td>\n",
       "      <td>1</td>\n",
       "      <td>1.0</td>\n",
       "      <td>1.0</td>\n",
       "      <td>399557958186</td>\n",
       "    </tr>\n",
       "    <tr>\n",
       "      <th>3</th>\n",
       "      <td>3.0</td>\n",
       "      <td>6</td>\n",
       "      <td>3</td>\n",
       "      <td>1</td>\n",
       "      <td>2</td>\n",
       "      <td>1.0</td>\n",
       "      <td>1.0</td>\n",
       "      <td>999900019099</td>\n",
       "    </tr>\n",
       "    <tr>\n",
       "      <th>4</th>\n",
       "      <td>7.0</td>\n",
       "      <td>5</td>\n",
       "      <td>2</td>\n",
       "      <td>1</td>\n",
       "      <td>1</td>\n",
       "      <td>1.0</td>\n",
       "      <td>3.0</td>\n",
       "      <td>199409708983</td>\n",
       "    </tr>\n",
       "  </tbody>\n",
       "</table>\n",
       "</div>"
      ],
      "text/plain": [
       "   DBOUTREAS DBOUTLEN DBOUTVOL DBOUTWHER DBOUTWHY  DBUGROUP  DBGRPCNT  \\\n",
       "0        7.0        4        1         1        1       1.0       1.0   \n",
       "1        8.0        4        1         2        2       1.0       1.0   \n",
       "2        3.0        6        2         1        1       1.0       1.0   \n",
       "3        3.0        6        3         1        2       1.0       1.0   \n",
       "4        7.0        5        2         1        1       1.0       3.0   \n",
       "\n",
       "        CONTROL  \n",
       "0  599754960148  \n",
       "1  999900019097  \n",
       "2  399557958186  \n",
       "3  999900019099  \n",
       "4  199409708983  "
      ]
     },
     "execution_count": 66,
     "metadata": {},
     "output_type": "execute_result"
    }
   ],
   "source": [
    "data.head()"
   ]
  },
  {
   "cell_type": "markdown",
   "metadata": {},
   "source": [
    "3. 使用pyreadstat.read_dta读取STATA数据文件"
   ]
  },
  {
   "cell_type": "code",
   "execution_count": 67,
   "metadata": {},
   "outputs": [],
   "source": [
    "import pyreadstat"
   ]
  },
  {
   "cell_type": "code",
   "execution_count": 68,
   "metadata": {},
   "outputs": [],
   "source": [
    "data,meta = pyreadstat.read_dta('stata.dta')"
   ]
  },
  {
   "cell_type": "code",
   "execution_count": 69,
   "metadata": {},
   "outputs": [
    {
     "data": {
      "text/html": [
       "<div>\n",
       "<style scoped>\n",
       "    .dataframe tbody tr th:only-of-type {\n",
       "        vertical-align: middle;\n",
       "    }\n",
       "\n",
       "    .dataframe tbody tr th {\n",
       "        vertical-align: top;\n",
       "    }\n",
       "\n",
       "    .dataframe thead th {\n",
       "        text-align: right;\n",
       "    }\n",
       "</style>\n",
       "<table border=\"1\" class=\"dataframe\">\n",
       "  <thead>\n",
       "    <tr style=\"text-align: right;\">\n",
       "      <th></th>\n",
       "      <th>date_tc</th>\n",
       "      <th>date_td</th>\n",
       "      <th>date_tw</th>\n",
       "      <th>date_tm</th>\n",
       "      <th>date_tq</th>\n",
       "      <th>date_th</th>\n",
       "      <th>date_ty</th>\n",
       "    </tr>\n",
       "  </thead>\n",
       "  <tbody>\n",
       "    <tr>\n",
       "      <th>0</th>\n",
       "      <td>1960-01-01 00:00:00</td>\n",
       "      <td>1960-01-01</td>\n",
       "      <td>0.0</td>\n",
       "      <td>0.0</td>\n",
       "      <td>0.0</td>\n",
       "      <td>0.0</td>\n",
       "      <td>1960.0</td>\n",
       "    </tr>\n",
       "    <tr>\n",
       "      <th>1</th>\n",
       "      <td>2000-01-01 00:00:00</td>\n",
       "      <td>2000-01-01</td>\n",
       "      <td>2080.0</td>\n",
       "      <td>480.0</td>\n",
       "      <td>160.0</td>\n",
       "      <td>80.0</td>\n",
       "      <td>2000.0</td>\n",
       "    </tr>\n",
       "    <tr>\n",
       "      <th>2</th>\n",
       "      <td>9999-12-31 23:59:59</td>\n",
       "      <td>9999-12-31</td>\n",
       "      <td>418079.0</td>\n",
       "      <td>96479.0</td>\n",
       "      <td>32159.0</td>\n",
       "      <td>16079.0</td>\n",
       "      <td>9999.0</td>\n",
       "    </tr>\n",
       "    <tr>\n",
       "      <th>3</th>\n",
       "      <td>0100-01-01 00:00:00</td>\n",
       "      <td>0100-01-01</td>\n",
       "      <td>-96720.0</td>\n",
       "      <td>-22320.0</td>\n",
       "      <td>-7440.0</td>\n",
       "      <td>-3720.0</td>\n",
       "      <td>100.0</td>\n",
       "    </tr>\n",
       "    <tr>\n",
       "      <th>4</th>\n",
       "      <td>2262-04-22 00:00:00</td>\n",
       "      <td>2262-04-22</td>\n",
       "      <td>15719.0</td>\n",
       "      <td>3627.0</td>\n",
       "      <td>1209.0</td>\n",
       "      <td>604.0</td>\n",
       "      <td>2262.0</td>\n",
       "    </tr>\n",
       "  </tbody>\n",
       "</table>\n",
       "</div>"
      ],
      "text/plain": [
       "               date_tc     date_td   date_tw  date_tm  date_tq  date_th  \\\n",
       "0  1960-01-01 00:00:00  1960-01-01       0.0      0.0      0.0      0.0   \n",
       "1  2000-01-01 00:00:00  2000-01-01    2080.0    480.0    160.0     80.0   \n",
       "2  9999-12-31 23:59:59  9999-12-31  418079.0  96479.0  32159.0  16079.0   \n",
       "3  0100-01-01 00:00:00  0100-01-01  -96720.0 -22320.0  -7440.0  -3720.0   \n",
       "4  2262-04-22 00:00:00  2262-04-22   15719.0   3627.0   1209.0    604.0   \n",
       "\n",
       "   date_ty  \n",
       "0   1960.0  \n",
       "1   2000.0  \n",
       "2   9999.0  \n",
       "3    100.0  \n",
       "4   2262.0  "
      ]
     },
     "execution_count": 69,
     "metadata": {},
     "output_type": "execute_result"
    }
   ],
   "source": [
    "data.head()"
   ]
  },
  {
   "cell_type": "markdown",
   "metadata": {},
   "source": [
    "### 3.2.7 读写R数据文件"
   ]
  },
  {
   "cell_type": "markdown",
   "metadata": {},
   "source": [
    "1. 使用pyreadr.read_r读取R语言数据文件"
   ]
  },
  {
   "cell_type": "code",
   "execution_count": 70,
   "metadata": {},
   "outputs": [
    {
     "name": "stdout",
     "output_type": "stream",
     "text": [
      "odict_keys(['raw_data'])\n"
     ]
    },
    {
     "data": {
      "text/html": [
       "<div>\n",
       "<style scoped>\n",
       "    .dataframe tbody tr th:only-of-type {\n",
       "        vertical-align: middle;\n",
       "    }\n",
       "\n",
       "    .dataframe tbody tr th {\n",
       "        vertical-align: top;\n",
       "    }\n",
       "\n",
       "    .dataframe thead th {\n",
       "        text-align: right;\n",
       "    }\n",
       "</style>\n",
       "<table border=\"1\" class=\"dataframe\">\n",
       "  <thead>\n",
       "    <tr style=\"text-align: right;\">\n",
       "      <th></th>\n",
       "      <th>Date</th>\n",
       "      <th>Orders</th>\n",
       "    </tr>\n",
       "  </thead>\n",
       "  <tbody>\n",
       "    <tr>\n",
       "      <th>0</th>\n",
       "      <td>2018/1/1</td>\n",
       "      <td>281</td>\n",
       "    </tr>\n",
       "    <tr>\n",
       "      <th>1</th>\n",
       "      <td>2018/1/2</td>\n",
       "      <td>304</td>\n",
       "    </tr>\n",
       "    <tr>\n",
       "      <th>2</th>\n",
       "      <td>2018/1/3</td>\n",
       "      <td>292</td>\n",
       "    </tr>\n",
       "    <tr>\n",
       "      <th>3</th>\n",
       "      <td>2018/1/4</td>\n",
       "      <td>360</td>\n",
       "    </tr>\n",
       "    <tr>\n",
       "      <th>4</th>\n",
       "      <td>2018/1/5</td>\n",
       "      <td>320</td>\n",
       "    </tr>\n",
       "  </tbody>\n",
       "</table>\n",
       "</div>"
      ],
      "text/plain": [
       "       Date  Orders\n",
       "0  2018/1/1     281\n",
       "1  2018/1/2     304\n",
       "2  2018/1/3     292\n",
       "3  2018/1/4     360\n",
       "4  2018/1/5     320"
      ]
     },
     "execution_count": 70,
     "metadata": {},
     "output_type": "execute_result"
    }
   ],
   "source": [
    "import pyreadr\n",
    "data = pyreadr.read_r('R_data.Rdata')\n",
    "print(data.keys())\n",
    "data['raw_data'].head()"
   ]
  },
  {
   "cell_type": "markdown",
   "metadata": {},
   "source": [
    "2. 使用pyreadr.write_rdata保存为R数据文件"
   ]
  },
  {
   "cell_type": "code",
   "execution_count": 71,
   "metadata": {},
   "outputs": [],
   "source": [
    "pyreadr.write_rdata(\"R_data_output.RData\", data['raw_data'], df_name=\"data\")"
   ]
  },
  {
   "cell_type": "markdown",
   "metadata": {},
   "source": [
    "## 3.3 读写数据库"
   ]
  },
  {
   "cell_type": "markdown",
   "metadata": {},
   "source": [
    "1. 读写结构化数据库MySQL"
   ]
  },
  {
   "cell_type": "code",
   "execution_count": 72,
   "metadata": {},
   "outputs": [],
   "source": [
    "# 导入库\n",
    "import pymysql  \n",
    "import numpy as np\n",
    "import pandas as pd"
   ]
  },
  {
   "cell_type": "code",
   "execution_count": 73,
   "metadata": {},
   "outputs": [],
   "source": [
    "# 定义数据库连接信息\n",
    "config = {'host': '127.0.0.1',  # 默认127.0.0.1\n",
    "          'user': 'root',  # 用户名\n",
    "          'password': '123456',  # 密码\n",
    "          'port': 3306,  # 端口，默认为3306\n",
    "          'database': 'python_data',  # 数据库名称\n",
    "          'charset': 'utf8'  # 字符编码\n",
    "          }"
   ]
  },
  {
   "cell_type": "code",
   "execution_count": 74,
   "metadata": {},
   "outputs": [],
   "source": [
    "# 连接数据库\n",
    "cnn = pymysql.connect(**config)  # 建立mysql连接\n",
    "cursor = cnn.cursor()  # 获得游标"
   ]
  },
  {
   "cell_type": "code",
   "execution_count": 75,
   "metadata": {},
   "outputs": [
    {
     "name": "stdout",
     "output_type": "stream",
     "text": [
      "('3897894579', '0000-00-00', datetime.timedelta(0), 'PENDING_ORDER_CONFIRM', '1038166', 59.0)\n",
      "('3897983041', '0000-00-00', datetime.timedelta(0), 'REMOVED', '1041656', 19.9)\n"
     ]
    }
   ],
   "source": [
    "# 读取数据\n",
    "sql = \"SELECT * FROM `order`\"  # SQL语句\n",
    "cursor.execute(sql)  # 执行sql语句\n",
    "data = cursor.fetchall()  # 通过fetchall方法获得数据\n",
    "for i in data[:2]:  # 打印输出前2条数据\n",
    "    print(i)"
   ]
  },
  {
   "cell_type": "code",
   "execution_count": 76,
   "metadata": {},
   "outputs": [
    {
     "name": "stdout",
     "output_type": "stream",
     "text": [
      "   0   1   2\n",
      "0  0   1   2\n",
      "1  3   4   5\n",
      "2  6   7   8\n",
      "3  9  10  11\n"
     ]
    }
   ],
   "source": [
    "# 写入数据\n",
    "# 创建新表\n",
    "# 查找数据库是否存在目标表，如果没有则新建\n",
    "cursor.execute(\"show tables\")  #\n",
    "table_object = cursor.fetchall()  # 通过fetchall方法获得所有数据\n",
    "table_list = [t[0] for t in table_object]  # 创建库列表\n",
    "if not 'python_table' in table_list:  # 如果目标表没有创建\n",
    "    cursor.execute('''\n",
    "    CREATE TABLE python_table (\n",
    "    id               int(2),\n",
    "    col1               int(2),\n",
    "    col2              int(2),\n",
    "    col3              int(2)\n",
    "    )\n",
    "    ''')\n",
    "# 创建模拟数据\n",
    "data = pd.DataFrame(np.arange(12).reshape(4,3))\n",
    "print(data)\n",
    "\n",
    "# 写入数据\n",
    "for ind,value in enumerate(data.values): \n",
    "    insert_sql = \"INSERT INTO `python_table` VALUES ('%s',%s,%s,%s)\" % \\\n",
    "                 (ind, value[0], value[1], value[2])  # 写库SQL依据\n",
    "    cursor.execute(insert_sql)  # 执行SQL语句，execute函数里面要用双引号\n",
    "    cnn.commit()  # 提交命令"
   ]
  },
  {
   "cell_type": "code",
   "execution_count": 77,
   "metadata": {},
   "outputs": [],
   "source": [
    "# 关闭连接\n",
    "cursor.close()  # 关闭游标\n",
    "cnn.close()  # 关闭连接"
   ]
  },
  {
   "cell_type": "markdown",
   "metadata": {},
   "source": [
    "2. 读写非结构化数据库MongoDB"
   ]
  },
  {
   "cell_type": "code",
   "execution_count": 78,
   "metadata": {},
   "outputs": [],
   "source": [
    "from pymongo import MongoClient  # 导入库"
   ]
  },
  {
   "cell_type": "code",
   "execution_count": 79,
   "metadata": {},
   "outputs": [],
   "source": [
    "# 连接数据库\n",
    "client = MongoClient('10.0.0.54', 27017)  #  输出实际的服务器IP地址以及端口，建立连接，并初始化环境变量"
   ]
  },
  {
   "cell_type": "code",
   "execution_count": 80,
   "metadata": {},
   "outputs": [
    {
     "data": {
      "text/plain": [
       "<pymongo.results.InsertManyResult at 0x82fc988>"
      ]
     },
     "execution_count": 80,
     "metadata": {},
     "output_type": "execute_result"
    }
   ],
   "source": [
    "# 写入数据库\n",
    "db = client.python_data  # 选择test_py库\n",
    "orders = db.test_python  # 选择test集合\n",
    "terms = [{\"user\": \"tony\", \"id\": \"31020\", \"age\": \"30\", \"products\": [\"215120\", \"245101\", \"128410\"],\n",
    "          \"date\": \"2019-01-06\"},\n",
    "         {\"user\": \"lucy\", \"id\": \"32210\", \"age\": \"29\", \"products\": [\"541001\", \"340740\", \"450111\"],\n",
    "          \"date\": \"2019-01-06\"}]  # 定义一条数据集合用于插入\n",
    "orders.insert_many(terms)  # 插入数据"
   ]
  },
  {
   "cell_type": "code",
   "execution_count": 81,
   "metadata": {},
   "outputs": [
    {
     "name": "stdout",
     "output_type": "stream",
     "text": [
      "{'_id': ObjectId('5c6a85da8b0b3f36e8d40756'), 'user': 'tony', 'id': '31020', 'age': '30', 'products': ['215120', '245101', '128410'], 'date': '2019-01-06'}\n",
      "{'_id': ObjectId('5c6a85da8b0b3f36e8d40756'), 'user': 'tony', 'id': '31020', 'age': '30', 'products': ['215120', '245101', '128410'], 'date': '2019-01-06'}\n",
      "{'_id': ObjectId('5c6a85da8b0b3f36e8d40757'), 'user': 'lucy', 'id': '32210', 'age': '29', 'products': ['541001', '340740', '450111'], 'date': '2019-01-06'}\n"
     ]
    }
   ],
   "source": [
    "# 读取数据库\n",
    "print(orders.find_one())  # 获取一文档数据\n",
    "for i in orders.find():  # 获取所有文档数据并展示\n",
    "    print(i)"
   ]
  },
  {
   "cell_type": "code",
   "execution_count": 82,
   "metadata": {},
   "outputs": [],
   "source": [
    "# 关闭数据库连接\n",
    "client.close()"
   ]
  },
  {
   "cell_type": "markdown",
   "metadata": {},
   "source": [
    "## 3.4 数据对象持久化"
   ]
  },
  {
   "cell_type": "markdown",
   "metadata": {},
   "source": [
    "1. 使用pickle读写持久化对象"
   ]
  },
  {
   "cell_type": "code",
   "execution_count": 83,
   "metadata": {},
   "outputs": [],
   "source": [
    "import pickle"
   ]
  },
  {
   "cell_type": "code",
   "execution_count": 84,
   "metadata": {},
   "outputs": [
    {
     "name": "stdout",
     "output_type": "stream",
     "text": [
      "  col1  col2  col3  col4\n",
      "0    a     1    33     5\n",
      "1    b     2    67     9\n"
     ]
    }
   ],
   "source": [
    "# 读取持久化对象\n",
    "data = pickle.load(open('pickle.pkl','rb'))\n",
    "print(data)"
   ]
  },
  {
   "cell_type": "code",
   "execution_count": 85,
   "metadata": {},
   "outputs": [],
   "source": [
    "# 对象持久化\n",
    "pickle.dump(data,open('pickle_output.pkl','wb'))"
   ]
  },
  {
   "cell_type": "markdown",
   "metadata": {},
   "source": [
    "2. 使用sklearn读写持久化对象"
   ]
  },
  {
   "cell_type": "code",
   "execution_count": 86,
   "metadata": {},
   "outputs": [],
   "source": [
    "from sklearn.externals import joblib"
   ]
  },
  {
   "cell_type": "code",
   "execution_count": 87,
   "metadata": {},
   "outputs": [
    {
     "name": "stdout",
     "output_type": "stream",
     "text": [
      "   ID_number Status Create_Time Business_City\n",
      "0      90946     无效  2019-01-10           广州市\n",
      "1      72418     有效  2019-01-11           广州市\n",
      "2      99278     无效  2019-01-12           广州市\n"
     ]
    }
   ],
   "source": [
    "# 读取数据对象\n",
    "sklearn_data = joblib.load('sklearn_pickle.gz')\n",
    "print(sklearn_data)"
   ]
  },
  {
   "cell_type": "code",
   "execution_count": 88,
   "metadata": {},
   "outputs": [
    {
     "data": {
      "text/plain": [
       "['sklearn_pickle_output.gz']"
      ]
     },
     "execution_count": 88,
     "metadata": {},
     "output_type": "execute_result"
    }
   ],
   "source": [
    "# 数据对象持久化\n",
    "joblib.dump(sklearn_data, 'sklearn_pickle_output.gz', compress=3, protocol=4)"
   ]
  }
 ],
 "metadata": {
  "kernelspec": {
   "display_name": "Python 3",
   "language": "python",
   "name": "python3"
  },
  "language_info": {
   "codemirror_mode": {
    "name": "ipython",
    "version": 3
   },
   "file_extension": ".py",
   "mimetype": "text/x-python",
   "name": "python",
   "nbconvert_exporter": "python",
   "pygments_lexer": "ipython3",
   "version": "3.7.3"
  }
 },
 "nbformat": 4,
 "nbformat_minor": 2
}