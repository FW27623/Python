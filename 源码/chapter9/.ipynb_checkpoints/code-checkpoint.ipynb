{
 "cells": [
  {
   "cell_type": "markdown",
   "metadata": {},
   "source": [
    "<div align=\"center\"><h1> 第9章&nbsp;&nbsp;数据分析部署和数据化运营</h1></div>"
   ]
  },
  {
   "cell_type": "markdown",
   "metadata": {},
   "source": [
    "# 一、说明"
   ]
  },
  {
   "cell_type": "markdown",
   "metadata": {},
   "source": [
    "- 描述：本章源代码。\n",
    "- 作者：方伟（FangWei）\n",
    "- 程序开发环境：Windows DEV Channel , Build 22533.1001 64位\n",
    "- Python版本：64位 3.10.1"
   ]
  },
  {
   "cell_type": "markdown",
   "metadata": {},
   "source": [
    "# 二、程序"
   ]
  },
  {
   "cell_type": "markdown",
   "metadata": {},
   "source": [
    "## 9.1 批量合并数据文件"
   ]
  },
  {
   "cell_type": "code",
   "execution_count": 1,
   "metadata": {},
   "outputs": [],
   "source": [
    "import os,zipfile\n",
    "import pandas as pd"
   ]
  },
  {
   "cell_type": "code",
   "execution_count": 2,
   "metadata": {},
   "outputs": [],
   "source": [
    "# 解压压缩包\n",
    "zip_files = ['sales_data.zip','traffic_data.zip']\n",
    "for file in zip_files:\n",
    "    fz = zipfile.ZipFile(file)\n",
    "    fz.extractall()"
   ]
  },
  {
   "cell_type": "code",
   "execution_count": 3,
   "metadata": {},
   "outputs": [],
   "source": [
    "# 获取文件数据\n",
    "def read_data(file_name):\n",
    "    data = pd.read_csv(file_name)\n",
    "    data['日期']=os.path.splitext(file_name)[0][-8:]\n",
    "    return data"
   ]
  },
  {
   "cell_type": "code",
   "execution_count": 4,
   "metadata": {},
   "outputs": [],
   "source": [
    "# 读取两个文件夹所有的文件\n",
    "two_data_path = ['traffic_data','sales_data']\n",
    "two_df_list = []\n",
    "for each_path in two_data_path:\n",
    "    files = [os.path.join(each_path,i) for i in os.listdir(each_path)] # 获取每个文件路径    \n",
    "    df_list = [read_data(i) for i in files] # 获取每个文件数据\n",
    "    two_df_list.append(pd.concat(df_list))"
   ]
  },
  {
   "cell_type": "code",
   "execution_count": 5,
   "metadata": {},
   "outputs": [
    {
     "name": "stdout",
     "output_type": "stream",
     "text": [
      "   产品SKU  产品浏览量  产品加入购物车次数        日期  订单产品数量  订单产品收入\n",
      "0      1     98         11  20190626       1      38\n",
      "1      2    543         14  20190626       0       0\n",
      "2      3     69         14  20190626       8     239\n"
     ]
    }
   ],
   "source": [
    "# 合并两个df\n",
    "merge_df = pd.merge(two_df_list[0],two_df_list[1],on=['日期','产品SKU'],how='outer')\n",
    "print(merge_df.head(3))"
   ]
  },
  {
   "cell_type": "code",
   "execution_count": 6,
   "metadata": {},
   "outputs": [
    {
     "name": "stdout",
     "output_type": "stream",
     "text": [
      "          日期  产品SKU  产品浏览量  产品加入购物车次数  订单产品数量  订单产品收入\n",
      "0 2019-06-26      1     98         11       1      38\n",
      "1 2019-06-26      2    543         14       0       0\n",
      "2 2019-06-26      3     69         14       8     239\n"
     ]
    }
   ],
   "source": [
    "# 格式调整\n",
    "merge_df2  = merge_df[['日期','产品SKU', '产品浏览量', '产品加入购物车次数',  '订单产品数量', '订单产品收入']]\n",
    "merge_df2['日期']= [pd.datetime.strptime(i,'%Y%m%d') for i in merge_df2['日期']]\n",
    "print(merge_df2.head(3))"
   ]
  },
  {
   "cell_type": "code",
   "execution_count": 7,
   "metadata": {},
   "outputs": [],
   "source": [
    "# 输出数据到单独文件\n",
    "merge_df2.to_excel('merge_data.xlsx',index=False)"
   ]
  },
  {
   "cell_type": "markdown",
   "metadata": {},
   "source": [
    "## 9.2 从数据库中抽取数据并生成结果文件"
   ]
  },
  {
   "cell_type": "code",
   "execution_count": 8,
   "metadata": {},
   "outputs": [],
   "source": [
    "# 导入库\n",
    "import pymysql\n",
    "import pandas as pd"
   ]
  },
  {
   "cell_type": "code",
   "execution_count": 9,
   "metadata": {},
   "outputs": [],
   "source": [
    "# 定义数据库连接信息\n",
    "config = {'host': '127.0.0.1', 'user': 'root','password': '123456','port': 3306, 'database': 'python_data_basic'}\n",
    "cnn = pymysql.connect(**config)"
   ]
  },
  {
   "cell_type": "code",
   "execution_count": 10,
   "metadata": {},
   "outputs": [],
   "source": [
    "sql = 'SELECT * FROM `merge_data` where `日期` BETWEEN \"2019-06-26\" and \"2019-07-03\"'\n",
    "data = pd.read_sql(sql,cnn,columns=['日期', '产品SKU', '产品浏览量', '产品加入购物车次数', '订单产品数量', '订单产品收入'])"
   ]
  },
  {
   "cell_type": "code",
   "execution_count": 11,
   "metadata": {},
   "outputs": [
    {
     "name": "stdout",
     "output_type": "stream",
     "text": [
      "          日期  产品SKU  产品浏览量  产品加入购物车次数  订单产品数量  订单产品收入\n",
      "0 2019-06-26      1     98         11       1      38\n",
      "1 2019-06-26      2    543         14       0       0\n",
      "2 2019-06-26      3     69         14       8     239\n",
      "日期           datetime64[ns]\n",
      "产品SKU                 int64\n",
      "产品浏览量                 int64\n",
      "产品加入购物车次数             int64\n",
      "订单产品数量                int64\n",
      "订单产品收入                int64\n",
      "dtype: object\n"
     ]
    }
   ],
   "source": [
    "print(data.head(3))\n",
    "print(data.dtypes)"
   ]
  },
  {
   "cell_type": "code",
   "execution_count": 12,
   "metadata": {},
   "outputs": [],
   "source": [
    "# 按不同的产品保存到单个sheet\n",
    "pro_skus = data['产品SKU'].unique()\n",
    "with pd.ExcelWriter('data_from_mysql.xlsx') as writer:\n",
    "    for sku in pro_skus:\n",
    "        pro_data = data[data['产品SKU']==sku]\n",
    "        pro_data.to_excel(writer,index=False, sheet_name=str(sku))\n",
    "writer.save()"
   ]
  },
  {
   "cell_type": "markdown",
   "metadata": {},
   "source": [
    "## 9.3 发送普通Email并附带数据文件"
   ]
  },
  {
   "cell_type": "code",
   "execution_count": 13,
   "metadata": {},
   "outputs": [],
   "source": [
    "import mimetypes\n",
    "import smtplib\n",
    "from email import encoders\n",
    "from email.header import Header\n",
    "from email.mime.base import MIMEBase\n",
    "from email.mime.multipart import MIMEMultipart\n",
    "from email.mime.text import MIMEText\n",
    "from email.utils import formataddr"
   ]
  },
  {
   "cell_type": "code",
   "execution_count": 14,
   "metadata": {},
   "outputs": [],
   "source": [
    "# SMTP信息\n",
    "host = 'smtp.qq.com'\n",
    "port = 25\n",
    "user = '517699029'\n",
    "passwd = '请填写从QQ邮箱获得的真实授权码'"
   ]
  },
  {
   "cell_type": "code",
   "execution_count": 15,
   "metadata": {},
   "outputs": [],
   "source": [
    "# 邮件信息\n",
    "from_user_name = '宋天龙'\n",
    "from_user = '517699029@qq.com'\n",
    "receivers = '517699029@qq.com'\n",
    "mail_subject = 'Python发送普通Email并附带数据文件'\n",
    "message = '发送普通正文格式的Email，并附带2个ZIP格式的数据文件'"
   ]
  },
  {
   "cell_type": "code",
   "execution_count": 16,
   "metadata": {},
   "outputs": [],
   "source": [
    "# 构造附件的函数\n",
    "def _get_attach_msg(path):\n",
    "    ctype, encoding = mimetypes.guess_type(path)\n",
    "    if ctype is None or encoding is not None:\n",
    "        ctype = 'application/octet-stream'\n",
    "    maintype, subtype = ctype.split('/', 1)\n",
    "    with open(path, 'rb') as fp:\n",
    "        msg = MIMEBase(maintype, subtype)\n",
    "        msg.set_payload(fp.read())\n",
    "    encoders.encode_base64(msg)\n",
    "    msg.add_header('Content-Disposition', 'attachment',\n",
    "                   filename=path.split('/')[-1])\n",
    "    return msg"
   ]
  },
  {
   "cell_type": "code",
   "execution_count": 17,
   "metadata": {},
   "outputs": [],
   "source": [
    "# 构造邮件正文和附件\n",
    "files = ['sales_data.zip', 'traffic_data.zip']\n",
    "msg = MIMEMultipart()\n",
    "msg['From'] = formataddr((from_user_name, from_user))\n",
    "msg['To'] = receivers\n",
    "msg['Subject'] = Header(mail_subject, 'utf-8').encode()\n",
    "msg.attach(MIMEText(message, 'plain', 'utf-8'))\n",
    "for each_file in files:\n",
    "    msg.attach(_get_attach_msg(each_file))"
   ]
  },
  {
   "cell_type": "code",
   "execution_count": 18,
   "metadata": {},
   "outputs": [
    {
     "name": "stdout",
     "output_type": "stream",
     "text": [
      "send a mail to 517699029@qq.com with 2 attachments\n"
     ]
    }
   ],
   "source": [
    "# 发送邮件\n",
    "smtp = smtplib.SMTP()\n",
    "smtp.connect(host, port)\n",
    "smtp.login(user, passwd)\n",
    "smtp.sendmail(from_user, receivers, msg.as_string())\n",
    "strs = 'send a mail to {0} with {1} attachments'.format(receivers, len(files))\n",
    "print(strs)"
   ]
  },
  {
   "cell_type": "markdown",
   "metadata": {},
   "source": [
    "## 9.4 发送HTML富媒体样式的邮件"
   ]
  },
  {
   "cell_type": "code",
   "execution_count": 19,
   "metadata": {},
   "outputs": [],
   "source": [
    "import smtplib\n",
    "from email.header import Header\n",
    "from email.mime.multipart import MIMEMultipart\n",
    "from email.mime.text import MIMEText\n",
    "from email.utils import formataddr"
   ]
  },
  {
   "cell_type": "code",
   "execution_count": 20,
   "metadata": {},
   "outputs": [],
   "source": [
    "# SMTP信息\n",
    "host = 'smtp.qq.com'\n",
    "port = 25\n",
    "user = '517699029'\n",
    "passwd = '请填写从QQ邮箱获得的真实授权码'"
   ]
  },
  {
   "cell_type": "code",
   "execution_count": 21,
   "metadata": {},
   "outputs": [],
   "source": [
    "# 邮件信息\n",
    "from_user_name = '宋天龙'\n",
    "from_user = '517699029@qq.com'\n",
    "receivers = '517699029@qq.com'\n",
    "mail_subject = 'Python发送HTML富媒体样式的邮件'\n",
    "message = '发送HTML富媒体样式的邮件'"
   ]
  },
  {
   "cell_type": "code",
   "execution_count": 22,
   "metadata": {},
   "outputs": [],
   "source": [
    "# 构造邮件正文\n",
    "msg = MIMEMultipart()\n",
    "msg['From'] = formataddr((from_user_name, from_user))\n",
    "msg['To'] = receivers\n",
    "msg['Subject'] = Header(mail_subject, 'utf-8').encode()\n",
    "with open('html_content.txt',encoding='utf8') as fn:\n",
    "    message = fn.read()\n",
    "msg.attach(MIMEText(message, 'html', 'utf-8'))"
   ]
  },
  {
   "cell_type": "code",
   "execution_count": 23,
   "metadata": {},
   "outputs": [
    {
     "name": "stdout",
     "output_type": "stream",
     "text": [
      "send a mail to 517699029@qq.com with html content\n"
     ]
    }
   ],
   "source": [
    "# 发送邮件\n",
    "smtp = smtplib.SMTP()\n",
    "smtp.connect(host, port)\n",
    "smtp.login(user, passwd)\n",
    "smtp.sendmail(from_user, receivers, msg.as_string())\n",
    "strs = 'send a mail to {0} with html content'.format(receivers)\n",
    "print(strs)"
   ]
  },
  {
   "cell_type": "markdown",
   "metadata": {},
   "source": [
    "## 9.5 系统自动定时执行Python脚本和数据任务"
   ]
  },
  {
   "cell_type": "code",
   "execution_count": 24,
   "metadata": {},
   "outputs": [],
   "source": [
    "# 导入库\n",
    "import os\n",
    "import zipfile\n",
    "from datetime import datetime"
   ]
  },
  {
   "cell_type": "code",
   "execution_count": 25,
   "metadata": {},
   "outputs": [],
   "source": [
    "def zip_dir(scr_path, tar_path):\n",
    "    filelist = []\n",
    "    for root, dirs, files in os.walk(scr_path):\n",
    "        for name in files:\n",
    "            filelist.append(os.path.join(root, name))\n",
    "\n",
    "    zf = zipfile.ZipFile(tar_path, \"w\", zipfile.zlib.DEFLATED)\n",
    "    for tar in filelist:\n",
    "        arcname = tar[len(scr_path):]\n",
    "        zf.write(tar, arcname)\n",
    "    zf.close()"
   ]
  },
  {
   "cell_type": "code",
   "execution_count": 26,
   "metadata": {},
   "outputs": [],
   "source": [
    "# 源文件\n",
    "scr_paths = [r'D:\\[书籍]python数据分析\\3_附件\\chapter9\\sales_data',\n",
    "              r'D:\\[书籍]python数据分析\\3_附件\\chapter9\\traffic_data']\n",
    "# 目标文件\n",
    "tar_paths = [r'E:\\BK\\sales_data.zip',\n",
    "               r'E:\\BK\\traffic_data.zip']\n",
    "# 日期字符串\n",
    "dt = datetime.now().strftime(\"%Y%m%d%H%M%S\")"
   ]
  },
  {
   "cell_type": "code",
   "execution_count": 27,
   "metadata": {},
   "outputs": [],
   "source": [
    "# 删除历史备份\n",
    "for each_file in tar_paths:\n",
    "    if os.path.exists(each_file):\n",
    "        os.remove(each_file)"
   ]
  },
  {
   "cell_type": "code",
   "execution_count": 28,
   "metadata": {},
   "outputs": [],
   "source": [
    "# 执行单次备份\n",
    "with open(f'backup_{dt}.log','w+') as fn:\n",
    "    for scr_path, tar_path in zip(scr_paths, tar_paths):\n",
    "        target_path = os.path.split(tar_path)[0]\n",
    "        if not os.path.exists(target_path):\n",
    "            os.makedirs(target_path)\n",
    "        fn.write(f'source {scr_path} → target {tar_path} start...')\n",
    "        zip_dir(scr_path, tar_path)\n",
    "        fn.write(f'\\n')\n",
    "        fn.write(f'source {scr_path} → target {tar_path} success!!!')\n",
    "        fn.write(f'\\n')"
   ]
  },
  {
   "cell_type": "code",
   "execution_count": null,
   "metadata": {},
   "outputs": [],
   "source": []
  },
  {
   "cell_type": "code",
   "execution_count": null,
   "metadata": {},
   "outputs": [],
   "source": []
  }
 ],
 "metadata": {
  "kernelspec": {
   "display_name": "Python 3",
   "language": "python",
   "name": "python3"
  },
  "language_info": {
   "codemirror_mode": {
    "name": "ipython",
    "version": 3
   },
   "file_extension": ".py",
   "mimetype": "text/x-python",
   "name": "python",
   "nbconvert_exporter": "python",
   "pygments_lexer": "ipython3",
   "version": "3.7.3"
  }
 },
 "nbformat": 4,
 "nbformat_minor": 2
}